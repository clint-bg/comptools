{
 "cells": [
  {
   "attachments": {},
   "cell_type": "markdown",
   "metadata": {},
   "source": [
    "# 04b - Function and Class Basics\n",
    "Functions are used all the time and are a way to organize code. They are an efficient way to use the computer to repeat calculations with slight variations. Multiple examples are given here of functions you'll use in your educational and professional career."
   ]
  },
  {
   "cell_type": "markdown",
   "metadata": {},
   "source": [
    "Functions are defined with the `def` keyword. The function name is followed by parentheses and a colon. The code block that follows is indented. The function is called by its name followed by parentheses. The function can return a value with the `return` keyword. If no return value is specified, the function returns `None`."
   ]
  },
  {
   "cell_type": "markdown",
   "metadata": {},
   "source": [
    "## Simple Function Examples"
   ]
  },
  {
   "cell_type": "markdown",
   "metadata": {},
   "source": [
    "First, a simple function definition with a single parameter to return the sum of 2 plus some number"
   ]
  },
  {
   "cell_type": "code",
   "execution_count": 4,
   "metadata": {},
   "outputs": [],
   "source": [
    "def add_two(num):\n",
    "    return 2 + num"
   ]
  },
  {
   "cell_type": "code",
   "execution_count": 7,
   "metadata": {},
   "outputs": [
    {
     "name": "stdout",
     "output_type": "stream",
     "text": [
      "7\n",
      "The sum of 5 and two is 7\n"
     ]
    }
   ],
   "source": [
    "print(add_two(5))\n",
    "#or\n",
    "print(f'The sum of 5 and two is {add_two(5)}') # this is better than the first print statement as it is more readable"
   ]
  },
  {
   "cell_type": "markdown",
   "metadata": {},
   "source": [
    "How about a function that instead of returning a value, prints the result."
   ]
  },
  {
   "cell_type": "markdown",
   "metadata": {},
   "source": [
    "How about a function that has a default value for a parameter. Or can you rewrite the first example with a default value for the parameter?"
   ]
  },
  {
   "cell_type": "markdown",
   "metadata": {},
   "source": [
    "How about a function that takes in an argument that could be a list or tuple and returns the sum of the elements in the list or tuple? The function should use a loop to iterate over the elements in the list or tuple."
   ]
  },
  {
   "cell_type": "markdown",
   "metadata": {},
   "source": [
    "What about if the function is called with something other than a number in the list or tuple? How can you handle that?"
   ]
  },
  {
   "cell_type": "markdown",
   "metadata": {},
   "source": [
    "## Class Basics\n",
    "A class is a way to structure code. Object oriented code is very prevalent and it makes code easier to read and understand. A class is defined with the `class` keyword. The class name is followed by parentheses and a colon. The code block that follows is indented. The class is instantiated by calling the class name followed by parentheses. The class can have a constructor method that is called when the class is instantiated. The constructor method is defined with the `def` keyword and the method name `__init__`. The constructor method can take parameters. The class can have other methods that are called with the class instance followed by a period and the method name. The class can have attributes that are accessed with the class instance followed by a period and the attribute name. \n",
    "\n",
    "In this class we won't worry about the __init__ method, we'll use the params package to handle that. We'll just focus on the basics of a class."
   ]
  },
  {
   "cell_type": "markdown",
   "metadata": {},
   "source": [
    "## Simple Class Examples"
   ]
  },
  {
   "cell_type": "markdown",
   "metadata": {},
   "source": [
    "Lets make a jar class that has a single property of its size in liters."
   ]
  },
  {
   "cell_type": "markdown",
   "metadata": {},
   "source": [
    "First import the params package and then define the class."
   ]
  },
  {
   "cell_type": "code",
   "execution_count": 4,
   "metadata": {},
   "outputs": [],
   "source": [
    "import param \n",
    "class jar(param.Parameterized):\n",
    "    size = param.Number(5, bounds=(0, 100), doc='Size of the jar in liters') #default value is 5 liters and the bounds are between 0 and 100 liters"
   ]
  },
  {
   "cell_type": "markdown",
   "metadata": {},
   "source": [
    "Now lets instantiate the class and access the attribute. The instantiated item is called an instance or an object of that class. In this case, lets call the instance of the class a variable called blue_jar that has a size of 10 liters."
   ]
  },
  {
   "cell_type": "code",
   "execution_count": 42,
   "metadata": {},
   "outputs": [],
   "source": [
    "blue_jar = jar(size=10)"
   ]
  },
  {
   "cell_type": "code",
   "execution_count": 44,
   "metadata": {},
   "outputs": [
    {
     "name": "stdout",
     "output_type": "stream",
     "text": [
      "Help on jar in module __main__ object:\n",
      "\n",
      "class jar(param.parameterized.Parameterized)\n",
      " |  jar(**params)\n",
      " |  \n",
      " |  params(size=Number, name=String)\n",
      " |  \u001b[1;32mParameters of 'jar'\n",
      " |  ===================\n",
      " |  \u001b[0m\n",
      " |  \u001b[1;31mParameters changed from their default values are marked in red.\u001b[0m\n",
      " |  \u001b[1;36mSoft bound values are marked in cyan.\u001b[0m\n",
      " |  C/V= Constant/Variable, RO/RW = ReadOnly/ReadWrite, AN=Allow None\n",
      " |  \n",
      " |  \u001b[1;34mName  Value  Type    Bounds   Mode \u001b[0m\n",
      " |  \n",
      " |  size   5  Number  (0, 100)  V RW \n",
      " |  \n",
      " |  \u001b[1;32mParameter docstrings:\n",
      " |  =====================\u001b[0m\n",
      " |  \n",
      " |  \u001b[1;34msize: Size of the jar in liters\u001b[0m\n",
      " |  \n",
      " |  Method resolution order:\n",
      " |      jar\n",
      " |      param.parameterized.Parameterized\n",
      " |      builtins.object\n",
      " |  \n",
      " |  Data and other attributes defined here:\n",
      " |  \n",
      " |  name = 'jar'\n",
      " |  \n",
      " |  size = 5\n",
      " |  \n",
      " |  ----------------------------------------------------------------------\n",
      " |  Methods inherited from param.parameterized.Parameterized:\n",
      " |  \n",
      " |  __getstate__(self)\n",
      " |      Save the object's state: return a dictionary that is a shallow\n",
      " |      copy of the object's __dict__ and that also includes the\n",
      " |      object's __slots__ (if it has any).\n",
      " |  \n",
      " |  __init__(self, **params)\n",
      " |      Initialize self.  See help(type(self)) for accurate signature.\n",
      " |  \n",
      " |  __repr__ = wrapper(self, *args, **kwargs)\n",
      " |  \n",
      " |  __setstate__(self, state)\n",
      " |      Restore objects from the state dictionary to this object.\n",
      " |      \n",
      " |      During this process the object is considered uninitialized.\n",
      " |  \n",
      " |  __str__(self)\n",
      " |      Return a short representation of the name and class of this object.\n",
      " |  \n",
      " |  debug = inner(*args, **kwargs)\n",
      " |      Inspect .param.debug method for the full docstring\n",
      " |  \n",
      " |  defaults = inner(*args, **kwargs)\n",
      " |      Inspect .param.defaults method for the full docstring\n",
      " |  \n",
      " |  message = inner(*args, **kwargs)\n",
      " |      Inspect .param.message method for the full docstring\n",
      " |  \n",
      " |  pprint = wrapper(self, *args, **kwargs)\n",
      " |  \n",
      " |  print_param_values = inner(*args, **kwargs)\n",
      " |      Inspect .param.print_param_values method for the full docstring\n",
      " |  \n",
      " |  script_repr(self, imports=[], prefix='    ')\n",
      " |      Deprecated variant of __repr__ designed for generating a runnable script.\n",
      " |  \n",
      " |  state_pop(self)\n",
      " |      Restore the most recently saved state.\n",
      " |      \n",
      " |      See state_push() for more details.\n",
      " |  \n",
      " |  state_push(self)\n",
      " |      Save this instance's state.\n",
      " |      \n",
      " |      For Parameterized instances, this includes the state of\n",
      " |      dynamically generated values.\n",
      " |      \n",
      " |      Subclasses that maintain short-term state should additionally\n",
      " |      save and restore that state using state_push() and\n",
      " |      state_pop().\n",
      " |      \n",
      " |      Generally, this method is used by operations that need to test\n",
      " |      something without permanently altering the objects' state.\n",
      " |  \n",
      " |  verbose = inner(*args, **kwargs)\n",
      " |      Inspect .param.verbose method for the full docstring\n",
      " |  \n",
      " |  warning = inner(*args, **kwargs)\n",
      " |      Inspect .param.warning method for the full docstring\n",
      " |  \n",
      " |  ----------------------------------------------------------------------\n",
      " |  Class methods inherited from param.parameterized.Parameterized:\n",
      " |  \n",
      " |  print_param_defaults = inner(*args, **kwargs) from param.parameterized.ParameterizedMetaclass\n",
      " |      Inspect .param.print_param_defaults method for the full docstring\n",
      " |  \n",
      " |  set_default = inner(*args, **kwargs) from param.parameterized.ParameterizedMetaclass\n",
      " |      Inspect .param.set_default method for the full docstring\n",
      " |  \n",
      " |  ----------------------------------------------------------------------\n",
      " |  Readonly properties inherited from param.parameterized.Parameterized:\n",
      " |  \n",
      " |  param\n",
      " |  \n",
      " |  ----------------------------------------------------------------------\n",
      " |  Data descriptors inherited from param.parameterized.Parameterized:\n",
      " |  \n",
      " |  __dict__\n",
      " |      dictionary for instance variables (if defined)\n",
      " |  \n",
      " |  __weakref__\n",
      " |      list of weak references to the object (if defined)\n",
      " |  \n",
      " |  ----------------------------------------------------------------------\n",
      " |  Data and other attributes inherited from param.parameterized.Parameterized:\n",
      " |  \n",
      " |  force_new_dynamic_value = functools.partial(<function Parameters.depre...\n",
      " |      Inspect .param.force_new_dynamic_value method for the full docstring\n",
      " |  \n",
      " |  \n",
      " |  get_param_values = functools.partial(<function Parameters.deprecate......\n",
      " |      Inspect .param.get_param_values method for the full docstring\n",
      " |  \n",
      " |  \n",
      " |  get_value_generator = functools.partial(<function Parameters.deprecate...\n",
      " |      Inspect .param.get_value_generator method for the full docstring\n",
      " |  \n",
      " |  \n",
      " |  inspect_value = functools.partial(<function Parameters.deprecate...s>....\n",
      " |      Inspect .param.inspect_value method for the full docstring\n",
      " |  \n",
      " |  \n",
      " |  params = functools.partial(<function Parameters.deprecate...s>.inner a...\n",
      " |      Inspect .param.params method for the full docstring\n",
      " |  \n",
      " |  \n",
      " |  set_dynamic_time_fn = functools.partial(<function Parameters.deprecate...\n",
      " |      Inspect .param.set_dynamic_time_fn method for the full docstring\n",
      " |  \n",
      " |  \n",
      " |  set_param = functools.partial(<function Parameters.deprecate...s>.inne...\n",
      " |      Inspect .param.set_param method for the full docstring\n",
      "\n"
     ]
    }
   ],
   "source": [
    "help(blue_jar)"
   ]
  },
  {
   "cell_type": "markdown",
   "metadata": {},
   "source": [
    "Lets add another parameters to the jar class that is how much is in the jar. That parameter we will call \"amount\"."
   ]
  },
  {
   "cell_type": "markdown",
   "metadata": {},
   "source": [
    "Lets also add a method to the class that adds to the amount in the jar by any specific amount."
   ]
  },
  {
   "cell_type": "code",
   "execution_count": null,
   "metadata": {},
   "outputs": [],
   "source": []
  }
 ],
 "metadata": {
  "kernelspec": {
   "display_name": "Python 3",
   "language": "python",
   "name": "python3"
  },
  "language_info": {
   "codemirror_mode": {
    "name": "ipython",
    "version": 3
   },
   "file_extension": ".py",
   "mimetype": "text/x-python",
   "name": "python",
   "nbconvert_exporter": "python",
   "pygments_lexer": "ipython3",
   "version": "3.9.16"
  },
  "orig_nbformat": 4
 },
 "nbformat": 4,
 "nbformat_minor": 2
}
