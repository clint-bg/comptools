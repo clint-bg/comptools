{
 "cells": [
  {
   "attachments": {},
   "cell_type": "markdown",
   "metadata": {},
   "source": [
    "# 07-More Equation Solving\n",
    "Systems of equations, whether linear or non-linear, coupled or non-coupled come up in many different chemical engineering applications.  In this notebook, we will practice more solving systems of equations using Python and SymPy."
   ]
  },
  {
   "attachments": {},
   "cell_type": "markdown",
   "metadata": {},
   "source": [
    "## Definitions\n",
    "\n",
    "### Non-linear Equations\n",
    "Non-linear equations have terms with exponents other than 1 or functions of variables like $\\sin(x)$ or $\\exp(x)$. $y = 2x^2 + 3$ or $y=sin(x)$ are both non-linear equations. Most of the equations you'll encounter in chemical engineering are non-linear.\n",
    "\n",
    "#### Linear Equations\n",
    "Linear equations have variables that are not raised to a power and are not functions of variables.  For example, $y = 2x + 3$ is a linear equation.  \n",
    "\n",
    "### Coupled Equations\n",
    "Couple equations are equations that have variables in common.  For example, $y = 2x + 3$ and $y = 3x + 2$ are coupled equations because they both have $x$ and $y$ in common.\n",
    "\n",
    "### Non-coupled Equations\n",
    "Non-coupled equations do not have variables in common.  For example, $y = 2x + 3$ and $z = 3p + 2$ are non-coupled equations because they do not have any variables in common."
   ]
  },
  {
   "attachments": {},
   "cell_type": "markdown",
   "metadata": {},
   "source": [
    "## Review: Linear coupled equations\n",
    "Linear coupled equations are often seen in when solving material and energy balances during steady state conditions.\n",
    "\n",
    "Remember, using linear algebra, we can write a system of linear equations as a matrix equation Ax=b: \n",
    "- First define the matrix $A$ and the array $b$.\n",
    "- Use x = np.linalg.solve(A,b)"
   ]
  },
  {
   "attachments": {},
   "cell_type": "markdown",
   "metadata": {},
   "source": [
    "An example problem with multiple equations and variables is:\n",
    "\n",
    "$$\n",
    "\\begin{align}\n",
    "-2x_0 + x_1 = 1 \\\\\n",
    "x_0 - 2x_1 + x_2 = 2 \\\\\n",
    "x_1 - 2x_2 + x_3 = 3 \\\\\n",
    "x_2 - 2x_3 + x_4 = 4 \\\\\n",
    "x_3 - 2x_4 = 5\n",
    "\\end{align}\n",
    "$$"
   ]
  },
  {
   "attachments": {},
   "cell_type": "markdown",
   "metadata": {},
   "source": [
    "$$\n",
    "\\left[\n",
    "\\begin{array}{ccccc}\n",
    "  -2 & 1 & 0 & 0 & 0 \\\\\n",
    "  1 & -2 & 1 & 0 & 0 \\\\\n",
    "  0 & 1 & -2 & 1 & 0 \\\\\n",
    "  0 & 0 & 1 & -2 & 1 \\\\\n",
    "  0 & 0 & 0 & 1 & -2 \\\\\n",
    "\\end{array}\\right]\\cdot\n",
    "\n",
    "\\left[\n",
    "\\begin{array}{c}\n",
    "  x_0 \\\\\n",
    "  x_1 \\\\\n",
    "  x_2 \\\\\n",
    "  x_3 \\\\\n",
    "  x_4 \\\\\n",
    "\\end{array}\\right] =\n",
    "\n",
    "\\left[\n",
    "\\begin{array}{c}\n",
    "  1 \\\\\n",
    "  2 \\\\\n",
    "  3 \\\\\n",
    "  4 \\\\\n",
    "  5 \\\\\n",
    "\\end{array}\\right]\n",
    "$$"
   ]
  },
  {
   "cell_type": "code",
   "execution_count": 1,
   "metadata": {},
   "outputs": [
    {
     "name": "stdout",
     "output_type": "stream",
     "text": [
      "x = [ -5.83333333 -10.66666667 -13.5        -13.33333333  -9.16666667]\n"
     ]
    }
   ],
   "source": [
    "import numpy as np\n",
    "A = np.array([[-2,1,0,0,0],[1,-2,1,0,0],[0,1,-2,1,0],[0,0,1,-2,1],[0,0,0,1,-2]])\n",
    "b = [1,2,3,4,5]\n",
    "\n",
    "x = np.linalg.solve(A,b)\n",
    "print(\"x =\", x)"
   ]
  },
  {
   "attachments": {},
   "cell_type": "markdown",
   "metadata": {},
   "source": [
    "Here's a [link](http://docs.scipy.org/doc/numpy/reference/routines.linalg.html) to more linear algebra operations."
   ]
  },
  {
   "attachments": {},
   "cell_type": "markdown",
   "metadata": {},
   "source": [
    "## Nonlinear equations\n",
    "### 1-D equations (1 equation in 1 unknown)."
   ]
  },
  {
   "attachments": {},
   "cell_type": "markdown",
   "metadata": {},
   "source": [
    "Solving a nonlinear equation involves first putting it in the form $f(x)=0$. We know the function $f$ and we want to find the value of $x$ that gives $f(x)=0$.\n",
    "\n",
    "To solve this, do the following:\n",
    "* Define the function f(x)\n",
    "* Set an initial guess for x.\n",
    "* We need to import a library: ```from scipy.optimize import fsolve```\n",
    "* Call the ```fsolve``` function: ```x = fsolve(f, x0)```\n",
    "    * f is the name of the function you are solving, and x0 is your initial guess.\n",
    "    \n"
   ]
  },
  {
   "attachments": {},
   "cell_type": "markdown",
   "metadata": {},
   "source": [
    "### Exercise\n",
    "\n",
    "Solve for both roots of $$f(x) = x^2-5.$$"
   ]
  },
  {
   "cell_type": "code",
   "execution_count": 2,
   "metadata": {},
   "outputs": [
    {
     "name": "stdout",
     "output_type": "stream",
     "text": [
      "[2.23606798] [-2.23606798]\n"
     ]
    }
   ],
   "source": [
    "from scipy.optimize import fsolve\n",
    "def f(x):\n",
    "    return x**2 - 5\n",
    "\n",
    "xguess_1 = 1.0\n",
    "x1 = fsolve(f,xguess_1)\n",
    "\n",
    "xguess_2 = -1.0\n",
    "x2 = fsolve(f,xguess_2)\n",
    "\n",
    "print(x1, x2)"
   ]
  },
  {
   "attachments": {},
   "cell_type": "markdown",
   "metadata": {},
   "source": [
    "```{note}\n",
    "```fsolve``` returns an array of solutions:\n",
    "-This is because ```fsolve``` can be used to find the solution to multiple equations in multiple unknowns.\n",
    "- If you just have one equation in one unknown, they you can recover just the scalar answer instead of the array:\n",
    "    - ```{code}\n",
    "        x = fsolve(f, xguess)[0]\n",
    "        ```\n",
    "```"
   ]
  },
  {
   "attachments": {},
   "cell_type": "markdown",
   "metadata": {},
   "source": [
    "### Multiple equations in multiple unknowns\n",
    "* We call this a *multi-dimensional* problem.\n",
    "* Instead of $f(x)=0$, we solve\n",
    "* $\\vec{f}(\\vec{x})=\\vec{0}$.\n",
    "    * That is, $\\vec{x}$ is a vector of unknowns, and $\\vec{f}$ is a vector of functions.\n",
    "    * $\\vec{f}(\\vec{x})$ takes a vector $\\vec{x}$, and returns a vector $\\vec{f}$.\n"
   ]
  },
  {
   "attachments": {},
   "cell_type": "markdown",
   "metadata": {},
   "source": [
    "Consider solving the **two functions** for the **two unknowns**: $h(y,z) = 0 = y+2z$, and $g(y,z)=0=\\sin(y)/z$.\n",
    "We typically want all solvers to look like $f(x)=0$\n",
    "* We would write these as $$f_0(x_0,x_1) = x_0+2x_1,$$ $$f_1(x_0,x_1) = \\sin(x_0)/x_1,$$\n",
    "which becomes: $$\\left[\\begin{matrix} f_0(x_0,x_1) \\\\ f_1(x_0,x_1)\\end{matrix}\\right] = \\left[\\begin{matrix}x_0+2x_1 \\\\ \\sin(x_0)/x_1\\end{matrix}\\right] = \\left[\\begin{matrix}0 \\\\ 0\\end{matrix}\\right],$$\n",
    "or $$\\vec{f}(\\vec{x}) = \\left[\\begin{matrix}x_0+2x_1 \\\\ \\sin(x_0)/x_1\\end{matrix}\\right] = \\vec{0},$$\n",
    "that is, $$\\vec{f}(\\vec{x})=\\vec{0}.$$\n",
    "\n",
    "* We solve the system just like before:\n",
    "    * Just define the vector function. It takes an array of unknowns $\\vec{x}$, and returns an array of function values $\\vec{f}$.\n",
    "    * We use the same solver, but we give an array of initial guesses $\\vec{x}_0$ of [y=1 and z=2].\n"
   ]
  },
  {
   "attachments": {},
   "cell_type": "markdown",
   "metadata": {},
   "source": [
    "**Note** Here is a [link](http://docs.scipy.org/doc/scipy/reference/generated/scipy.optimize.fsolve.html) to more information about the fsolve function with extra arguments that can give more control over the solution process."
   ]
  },
  {
   "cell_type": "code",
   "execution_count": 22,
   "metadata": {},
   "outputs": [
    {
     "name": "stdout",
     "output_type": "stream",
     "text": [
      "y=3.0π, z=-1.5π\n"
     ]
    }
   ],
   "source": [
    "def hg(yz):  \n",
    "    y, z = yz                 # recover the vars for convenience \n",
    "    h = y + 2*z              # compute the function values\n",
    "    g = np.sin(y)/z\n",
    "    return (h,g)  # return array of function values\n",
    "\n",
    "yz = fsolve(hg, (1,2))\n",
    "print(f\"y={yz[0]/np.pi:.1f}\\u03C0, z={yz[1]/np.pi:.1f}\\u03C0\")"
   ]
  },
  {
   "attachments": {},
   "cell_type": "markdown",
   "metadata": {},
   "source": [
    "There can be multiple solutions to non-linear equations.  The solver will only find one of them.  In some cases you may need to find all of the solutions. For example, in the above scenario, if the guess is changed to 100,2 (see below), I git a completely different answer."
   ]
  },
  {
   "cell_type": "code",
   "execution_count": 23,
   "metadata": {},
   "outputs": [
    {
     "name": "stdout",
     "output_type": "stream",
     "text": [
      "y=38.0π, z=-19.0π\n"
     ]
    }
   ],
   "source": [
    "yz = fsolve(hg, (100,2))\n",
    "print(f\"y={yz[0]/np.pi:.1f}\\u03C0, z={yz[1]/np.pi:.1f}\\u03C0\")"
   ]
  },
  {
   "attachments": {},
   "cell_type": "markdown",
   "metadata": {},
   "source": [
    "One way to do find many of the solutions is to loop through multiple guesses and if the solution is different, you could collect that solution into a list or array. For example, see the below code where the solver is called for an array of guess values and combinations thereof."
   ]
  },
  {
   "cell_type": "code",
   "execution_count": 5,
   "metadata": {},
   "outputs": [],
   "source": [
    "solutions = {'y':[], 'z':[]} #initialize a dictionary to store solutions\n",
    "yguesses = np.linspace(-100,100,100)\n",
    "zguesses = np.linspace(-100,100,100)\n",
    "for yguess in yguesses:\n",
    "    for zguess in zguesses:\n",
    "        yz = fsolve(hg, (yguess,zguess))\n",
    "        solutions['y'].append(\"{:.2f}\".format(yz[0])) #number is converted to string to \n",
    "        solutions['z'].append(\"{:.2f}\".format(yz[1])) #help with removing duplicates"
   ]
  },
  {
   "cell_type": "code",
   "execution_count": 6,
   "metadata": {},
   "outputs": [
    {
     "name": "stdout",
     "output_type": "stream",
     "text": [
      "The number of unique solutions is at least 224\n"
     ]
    }
   ],
   "source": [
    "#now, using pandas, remove the duplicates\n",
    "import pandas as pd\n",
    "df = pd.DataFrame(solutions)\n",
    "df = df.drop_duplicates()\n",
    "print(f'The number of unique solutions is at least {len(df)}')"
   ]
  },
  {
   "cell_type": "code",
   "execution_count": 26,
   "metadata": {},
   "outputs": [
    {
     "data": {
      "image/png": "[encoded data removed]",
      "text/plain": [
       "<Figure size 640x480 with 1 Axes>"
      ]
     },
     "metadata": {},
     "output_type": "display_data"
    }
   ],
   "source": [
    "#now we can plot those solutions\n",
    "import matplotlib.pyplot as plt\n",
    "#convert the strings back to floats\n",
    "df['y'] = df['y'].astype(float)/np.pi\n",
    "df['z'] = df['z'].astype(float)/np.pi\n",
    "plt.plot(df['y'],df['z'])\n",
    "plt.xlabel('y/\\u03C0');plt.ylabel('z/\\u03C0')\n",
    "plt.show()"
   ]
  },
  {
   "cell_type": "code",
   "execution_count": 14,
   "metadata": {},
   "outputs": [
    {
     "data": {
      "text/plain": [
       "0      -0.005\n",
       "16     -0.005\n",
       "26      0.000\n",
       "27      0.000\n",
       "48      0.000\n",
       "        ...  \n",
       "9249    0.005\n",
       "9549    0.000\n",
       "9751    0.000\n",
       "9752    0.000\n",
       "9778   -0.005\n",
       "Length: 224, dtype: float64"
      ]
     },
     "execution_count": 14,
     "metadata": {},
     "output_type": "execute_result"
    }
   ],
   "source": [
    "-df['y']/2 - df['z']"
   ]
  },
  {
   "attachments": {},
   "cell_type": "markdown",
   "metadata": {},
   "source": [
    "It looks like the solutions lie in a line where $z = -1/2*y$."
   ]
  },
  {
   "attachments": {},
   "cell_type": "markdown",
   "metadata": {},
   "source": [
    "### Sympy Solution "
   ]
  },
  {
   "cell_type": "code",
   "execution_count": 15,
   "metadata": {},
   "outputs": [
    {
     "data": {
      "text/plain": [
       "[(-pi, pi/2)]"
      ]
     },
     "execution_count": 15,
     "metadata": {},
     "output_type": "execute_result"
    }
   ],
   "source": [
    "#solve the above using sympy\n",
    "import sympy as sym\n",
    "y,z = sym.symbols('y,z')\n",
    "sym.solve([y+2*z, sym.sin(y)/z], [y,z])\n"
   ]
  },
  {
   "attachments": {},
   "cell_type": "markdown",
   "metadata": {},
   "source": [
    "### Another Exercise\n",
    "\n",
    "Solve the following system of three equations in three unknowns:\n",
    "\n",
    "$$x^2 + y^2 = 1,$$\n",
    "$$xy + yz = -1.1,$$\n",
    "$$y^2 + z^2 = 2.$$"
   ]
  },
  {
   "cell_type": "code",
   "execution_count": 27,
   "metadata": {},
   "outputs": [
    {
     "name": "stdout",
     "output_type": "stream",
     "text": [
      "x=0.10056, y=-0.99493, z=1.00504\n"
     ]
    }
   ],
   "source": [
    "def funcs(xyz):\n",
    "    x,y,z = xyz\n",
    "    \n",
    "    eq0 = x**2 + y**2 - 1\n",
    "    eq1 = x*y + y*z   + 1.1\n",
    "    eq2 = y**2 + z**2 - 2\n",
    "    \n",
    "    return eq0, eq1, eq2\n",
    "\n",
    "xyzGuess = (2,2,2)\n",
    "xyz = fsolve(funcs, xyzGuess)\n",
    "x,y,z = xyz\n",
    "\n",
    "print(f'x={x:.5f}, y={y:.5f}, z={z:.5f}')"
   ]
  },
  {
   "cell_type": "code",
   "execution_count": 33,
   "metadata": {},
   "outputs": [
    {
     "name": "stderr",
     "output_type": "stream",
     "text": [
      "/Users/clintguymon/opt/anaconda3/envs/jupiterbook/lib/python3.9/site-packages/scipy/optimize/_minpack_py.py:177: RuntimeWarning: The iteration is not making good progress, as measured by the \n",
      "  improvement from the last ten iterations.\n",
      "  warnings.warn(msg, RuntimeWarning)\n"
     ]
    }
   ],
   "source": [
    "solns = {'x':[],'y':[],'z':[]} #initialize a dictionary to store solutions\n",
    "xguesses = np.linspace(-10,10,10)\n",
    "yguesses = np.linspace(-10,10,10)\n",
    "zguesses = np.linspace(-10,10,10)\n",
    "for xguess in xguesses:\n",
    "    for yguess in yguesses:\n",
    "        for zguess in zguesses:\n",
    "            try:\n",
    "                xyz = fsolve(funcs, (xguess,yguess,zguess))\n",
    "                solns['x'].append(\"{:.2f}\".format(xyz[0])) #number is converted to string to\n",
    "                solns['y'].append(\"{:.2f}\".format(xyz[1])) #number is converted to string to \n",
    "                solns['z'].append(\"{:.2f}\".format(xyz[2])) #help with removing duplicates\n",
    "            except:\n",
    "                pass"
   ]
  },
  {
   "cell_type": "code",
   "execution_count": 34,
   "metadata": {},
   "outputs": [
    {
     "name": "stdout",
     "output_type": "stream",
     "text": [
      "The number of unique solutions is at least 20\n"
     ]
    }
   ],
   "source": [
    "#now, using pandas, remove the duplicates\n",
    "import pandas as pd\n",
    "df2 = pd.DataFrame(solns)\n",
    "df2 = df2.drop_duplicates()\n",
    "print(f'The number of unique solutions is at least {len(df2)}')"
   ]
  },
  {
   "cell_type": "code",
   "execution_count": 35,
   "metadata": {},
   "outputs": [
    {
     "data": {
      "text/html": [
       "<div>\n",
       "<style scoped>\n",
       "    .dataframe tbody tr th:only-of-type {\n",
       "        vertical-align: middle;\n",
       "    }\n",
       "\n",
       "    .dataframe tbody tr th {\n",
       "        vertical-align: top;\n",
       "    }\n",
       "\n",
       "    .dataframe thead th {\n",
       "        text-align: right;\n",
       "    }\n",
       "</style>\n",
       "<table border=\"1\" class=\"dataframe\">\n",
       "  <thead>\n",
       "    <tr style=\"text-align: right;\">\n",
       "      <th></th>\n",
       "      <th>x</th>\n",
       "      <th>y</th>\n",
       "      <th>z</th>\n",
       "    </tr>\n",
       "  </thead>\n",
       "  <tbody>\n",
       "    <tr>\n",
       "      <th>0</th>\n",
       "      <td>0.10</td>\n",
       "      <td>-0.99</td>\n",
       "      <td>1.01</td>\n",
       "    </tr>\n",
       "    <tr>\n",
       "      <th>9</th>\n",
       "      <td>-0.10</td>\n",
       "      <td>0.99</td>\n",
       "      <td>-1.01</td>\n",
       "    </tr>\n",
       "    <tr>\n",
       "      <th>10</th>\n",
       "      <td>-0.86</td>\n",
       "      <td>0.50</td>\n",
       "      <td>-1.32</td>\n",
       "    </tr>\n",
       "    <tr>\n",
       "      <th>39</th>\n",
       "      <td>-10.00</td>\n",
       "      <td>-3.33</td>\n",
       "      <td>10.00</td>\n",
       "    </tr>\n",
       "    <tr>\n",
       "      <th>49</th>\n",
       "      <td>-10.00</td>\n",
       "      <td>-1.11</td>\n",
       "      <td>10.00</td>\n",
       "    </tr>\n",
       "    <tr>\n",
       "      <th>148</th>\n",
       "      <td>-7.78</td>\n",
       "      <td>-1.11</td>\n",
       "      <td>7.78</td>\n",
       "    </tr>\n",
       "    <tr>\n",
       "      <th>247</th>\n",
       "      <td>-5.56</td>\n",
       "      <td>-1.11</td>\n",
       "      <td>5.56</td>\n",
       "    </tr>\n",
       "    <tr>\n",
       "      <th>346</th>\n",
       "      <td>-3.33</td>\n",
       "      <td>-1.11</td>\n",
       "      <td>3.33</td>\n",
       "    </tr>\n",
       "    <tr>\n",
       "      <th>405</th>\n",
       "      <td>-1.11</td>\n",
       "      <td>-10.00</td>\n",
       "      <td>1.11</td>\n",
       "    </tr>\n",
       "    <tr>\n",
       "      <th>425</th>\n",
       "      <td>-1.11</td>\n",
       "      <td>-5.56</td>\n",
       "      <td>1.11</td>\n",
       "    </tr>\n",
       "    <tr>\n",
       "      <th>534</th>\n",
       "      <td>0.86</td>\n",
       "      <td>-0.50</td>\n",
       "      <td>1.32</td>\n",
       "    </tr>\n",
       "    <tr>\n",
       "      <th>653</th>\n",
       "      <td>3.33</td>\n",
       "      <td>1.11</td>\n",
       "      <td>-3.33</td>\n",
       "    </tr>\n",
       "    <tr>\n",
       "      <th>752</th>\n",
       "      <td>5.56</td>\n",
       "      <td>1.11</td>\n",
       "      <td>-5.56</td>\n",
       "    </tr>\n",
       "    <tr>\n",
       "      <th>762</th>\n",
       "      <td>5.56</td>\n",
       "      <td>3.33</td>\n",
       "      <td>-5.56</td>\n",
       "    </tr>\n",
       "    <tr>\n",
       "      <th>851</th>\n",
       "      <td>7.78</td>\n",
       "      <td>1.11</td>\n",
       "      <td>-7.78</td>\n",
       "    </tr>\n",
       "    <tr>\n",
       "      <th>861</th>\n",
       "      <td>7.78</td>\n",
       "      <td>3.33</td>\n",
       "      <td>-7.78</td>\n",
       "    </tr>\n",
       "    <tr>\n",
       "      <th>950</th>\n",
       "      <td>10.00</td>\n",
       "      <td>1.11</td>\n",
       "      <td>-10.00</td>\n",
       "    </tr>\n",
       "    <tr>\n",
       "      <th>960</th>\n",
       "      <td>10.00</td>\n",
       "      <td>3.33</td>\n",
       "      <td>-10.00</td>\n",
       "    </tr>\n",
       "    <tr>\n",
       "      <th>970</th>\n",
       "      <td>10.00</td>\n",
       "      <td>5.56</td>\n",
       "      <td>-10.00</td>\n",
       "    </tr>\n",
       "    <tr>\n",
       "      <th>980</th>\n",
       "      <td>10.00</td>\n",
       "      <td>7.78</td>\n",
       "      <td>-10.00</td>\n",
       "    </tr>\n",
       "  </tbody>\n",
       "</table>\n",
       "</div>"
      ],
      "text/plain": [
       "          x       y       z\n",
       "0      0.10   -0.99    1.01\n",
       "9     -0.10    0.99   -1.01\n",
       "10    -0.86    0.50   -1.32\n",
       "39   -10.00   -3.33   10.00\n",
       "49   -10.00   -1.11   10.00\n",
       "148   -7.78   -1.11    7.78\n",
       "247   -5.56   -1.11    5.56\n",
       "346   -3.33   -1.11    3.33\n",
       "405   -1.11  -10.00    1.11\n",
       "425   -1.11   -5.56    1.11\n",
       "534    0.86   -0.50    1.32\n",
       "653    3.33    1.11   -3.33\n",
       "752    5.56    1.11   -5.56\n",
       "762    5.56    3.33   -5.56\n",
       "851    7.78    1.11   -7.78\n",
       "861    7.78    3.33   -7.78\n",
       "950   10.00    1.11  -10.00\n",
       "960   10.00    3.33  -10.00\n",
       "970   10.00    5.56  -10.00\n",
       "980   10.00    7.78  -10.00"
      ]
     },
     "execution_count": 35,
     "metadata": {},
     "output_type": "execute_result"
    }
   ],
   "source": [
    "df2"
   ]
  },
  {
   "attachments": {},
   "cell_type": "markdown",
   "metadata": {
    "collapsed": true
   },
   "source": [
    "## ```args``` and tuple expansion\n",
    "\n",
    "* Functions like ```fsolve```, ```quad``` and others have an argument called ```args``` that you can set to have those functions pass extra arguments to the function provide.\n",
    "* But ```fsolve``` and ```quad``` (etc.) don't know how many arguments there are, and there could be an arbitrary number.\n",
    "* **Tuple expansion to the rescue!**"
   ]
  },
  {
   "attachments": {},
   "cell_type": "markdown",
   "metadata": {},
   "source": [
    "### Example 1\n",
    "* Below, function ```f``` can take any number of arguments.\n",
    "* ```args``` is a tuple, and the ```*``` part of ```*args``` can be thought of as **collapsing** the provided list of arguments into the tuple ```args```. \n",
    "    * The name ```args``` doesn't matter. It can be anything.\n",
    "* You can then loop over the elements of ```args```."
   ]
  },
  {
   "cell_type": "code",
   "execution_count": 11,
   "metadata": {},
   "outputs": [
    {
     "name": "stdout",
     "output_type": "stream",
     "text": [
      "(1.1, 2.2, 3.3)\n",
      "1.1\n",
      "2.2\n",
      "3.3\n"
     ]
    }
   ],
   "source": [
    "def f(*args):\n",
    "    print(args)        # args is a tuple\n",
    "    for arg in args:   # loop over elements of args\n",
    "        print(arg)\n",
    "    \n",
    "f(1.1, 2.2, 3.3)       # call the func with multiple arguments"
   ]
  },
  {
   "attachments": {},
   "cell_type": "markdown",
   "metadata": {},
   "source": [
    "### Example 2\n",
    "\n",
    "* Below, function ```f``` takes three arguments.\n",
    "* When calling the function, we first make a tuple with three elements,\n",
    "* Then we **expand** the tuple into values using ```*xyz```. \n",
    "    * The ```*``` part of ```*xyz``` acts to **expand** the tuple into elements that are then placed in the individual arguments that the function takes."
   ]
  },
  {
   "cell_type": "code",
   "execution_count": 12,
   "metadata": {},
   "outputs": [
    {
     "name": "stdout",
     "output_type": "stream",
     "text": [
      "1.1\n",
      "2.2\n",
      "3.3\n"
     ]
    }
   ],
   "source": [
    "def f(x,y,z):\n",
    "    print(x)\n",
    "    print(y)\n",
    "    print(z)\n",
    "    \n",
    "xyz = (1.1, 2.2, 3.3)\n",
    "f(*xyz)"
   ]
  },
  {
   "attachments": {},
   "cell_type": "markdown",
   "metadata": {},
   "source": [
    "### Example 3\n",
    "* Write my own version of ```quad``` that uses the trapazoid method, and passes in extra arguments that my function will need.\n",
    "* See the line ```fx = f(x, *args)``` where the tuple of ```args``` I pass in to ```myQuad``` is expanded into the coefficients ```c0```, ```c1```, and ```c2``` of my quadratic function, defined below."
   ]
  },
  {
   "cell_type": "code",
   "execution_count": 13,
   "metadata": {},
   "outputs": [
    {
     "name": "stdout",
     "output_type": "stream",
     "text": [
      "15.40044893378227\n"
     ]
    }
   ],
   "source": [
    "def myQuad(f, a, b, n=100, args=None):\n",
    "    x = np.linspace(a,b,n)\n",
    "    Δx = x[1]-x[0]\n",
    "    if args is None:\n",
    "        fx = f(x)\n",
    "    else:\n",
    "        fx = f(x, *args)\n",
    "    I = -Δx/2*(fx[0]+fx[-1]) + Δx*np.sum(fx)\n",
    "    return I\n",
    "    \n",
    "#---------------\n",
    "\n",
    "def f(x, c0, c1, c2):\n",
    "    return c2*x**2 + c1*x + c0\n",
    "\n",
    "#---------------\n",
    "\n",
    "I = myQuad(f, 0, 2, args=(1.1, 2.2, 3.3))\n",
    "print(I)"
   ]
  },
  {
   "cell_type": "code",
   "execution_count": null,
   "metadata": {},
   "outputs": [],
   "source": []
  }
 ],
 "metadata": {
  "hide_input": false,
  "kernelspec": {
   "display_name": "Python 3 (ipykernel)",
   "language": "python",
   "name": "python3"
  },
  "language_info": {
   "codemirror_mode": {
    "name": "ipython",
    "version": 3
   },
   "file_extension": ".py",
   "mimetype": "text/x-python",
   "name": "python",
   "nbconvert_exporter": "python",
   "pygments_lexer": "ipython3",
   "version": "3.9.16"
  },
  "latex_envs": {
   "LaTeX_envs_menu_present": true,
   "autoclose": false,
   "autocomplete": true,
   "bibliofile": "biblio.bib",
   "cite_by": "apalike",
   "current_citInitial": 1,
   "eqLabelWithNumbers": true,
   "eqNumInitial": 1,
   "hotkeys": {
    "equation": "Ctrl-E",
    "itemize": "Ctrl-I"
   },
   "labels_anchors": false,
   "latex_user_defs": false,
   "report_style_numbering": false,
   "user_envs_cfg": false
  },
  "toc": {
   "base_numbering": 1,
   "nav_menu": {},
   "number_sections": true,
   "sideBar": true,
   "skip_h1_title": false,
   "title_cell": "Table of Contents",
   "title_sidebar": "Contents",
   "toc_cell": false,
   "toc_position": {},
   "toc_section_display": true,
   "toc_window_display": false
  },
  "varInspector": {
   "cols": {
    "lenName": 16,
    "lenType": 16,
    "lenVar": 40
   },
   "kernels_config": {
    "python": {
     "delete_cmd_postfix": "",
     "delete_cmd_prefix": "del ",
     "library": "var_list.py",
     "varRefreshCmd": "print(var_dic_list())"
    },
    "r": {
     "delete_cmd_postfix": ") ",
     "delete_cmd_prefix": "rm(",
     "library": "var_list.r",
     "varRefreshCmd": "cat(var_dic_list()) "
    }
   },
   "types_to_exclude": [
    "module",
    "function",
    "builtin_function_or_method",
    "instance",
    "_Feature"
   ],
   "window_display": false
  }
 },
 "nbformat": 4,
 "nbformat_minor": 1
}
