{
 "cells": [
  {
   "cell_type": "markdown",
   "metadata": {},
   "source": [
    "# 18-Aspen Hysys\n",
    "In this exercise we'll discuss how simulators like Aspen Hysys can be used to estimate unit operation behavior, specifically a flash drum. This is an exercise to give you an introduction on vapor liquid equilibrium.\n",
    "\n",
    "## Aspen Hysys Software Access\n",
    "You'll log onto one of the computers in the UO lab and open Aspen Hysys. You can also access that software remotely using 'labconnect' for example.\n",
    "\n",
    "## Aspen Help Video\n",
    "Link to video that explains a simple flash point calculation or flash drum separation step: [Hysys flash drum video](https://www.youtube.com/watch?v=qijWOzm7irc)"
   ]
  },
  {
   "cell_type": "markdown",
   "metadata": {},
   "source": [
    "## Vapor Liquid Equilibrium Background\n",
    "The vapor-liquid equilibrium (VLE) of a component or mixture is important in chemical engineering. You'll take thermodynamics and there spend a significant amount of time on understanding VLE. Simply put, VLE is the ratio of the vapor mole fraction to the liquid mole fraction at a given temperature and pressure."
   ]
  },
  {
   "cell_type": "markdown",
   "metadata": {},
   "source": [
    "$$K_i = \\dfrac{y_i}{x_i} = \\gamma_i\\cdot P_i^{sat}/P $$\n",
    "or for ideal solutions\n",
    "$$ \\dfrac{y_i}{x_i} = P_i^{sat}/P$$\n",
    "\n",
    "where $K$ is the VLE ratio for a given component $i$, $y_i$ is the vapor mole fraction, $x_i$ is the liquid mole fraction, $P_i^{sat}$ is the saturation pressure of the component, and $P$ is the total pressure.  An ideal solution is one where the vapor and liquid phases are in equilibrium and the saturation pressure is independent of the composition of the liquid phase. Raoult's law is an example of an ideal solution."
   ]
  },
  {
   "cell_type": "markdown",
   "metadata": {},
   "source": [
    "## VLE Example Calculation with Python"
   ]
  },
  {
   "cell_type": "markdown",
   "metadata": {},
   "source": [
    "<img src=\"https://github.com/clint-bg/comptools/blob/main/lectures/supportfiles/flashingunitbasic.png?raw=true\" width=\"200\">"
   ]
  },
  {
   "cell_type": "markdown",
   "metadata": {},
   "source": [
    "The Feed is at the left and the liquid at the bottom and the vapor at the top. The vapor is richer in the more volatile component (methanol) and the liquid is richer in the less volatile component (ethanol). \n",
    "\n",
    "Given the feed compositions, the total feed, the feed vapor fraction, and the pressure there are five variables to solve for:\n",
    "- The vapor and liquid compositions\n",
    "- The temperature\n",
    "- The vapor and liquid flow rates"
   ]
  },
  {
   "cell_type": "markdown",
   "metadata": {},
   "source": [
    "The variables are found from solving the following equations assuming an ideal solution for binary system:\n",
    "$$\\begin{align*}\n",
    "F &= L + V \\text{ : Mass Balance} \\\\\n",
    "z_1\\cdot F &= x_1\\cdot L + y_1\\cdot V/L\\cdot L \\text{ : Component Balance} \\\\\n",
    "H_F &= H_l + H_v \\text{ : Energy Balance} \\\\\n",
    "P & = x_1\\cdot P_1^{sat} + (1-x_1)\\cdot P_2^{sat} \\text{ : }\\Sigma x = 1 \\text{, Ideal} \\\\\n",
    "y_1 + (1-x_1)\\cdot P_2^{sat}/P &= 1 \\text{ : } \\Sigma y = 1 \\text{, Ideal}\n",
    "\\end{align*}$$"
   ]
  },
  {
   "cell_type": "code",
   "execution_count": 1,
   "metadata": {},
   "outputs": [],
   "source": [
    "## Example VLE calculation\n",
    "# first import packages\n",
    "import numpy as np\n",
    "import param\n",
    "from scipy.optimize import fsolve #import fsolve from scipy.optimize\n",
    "import scipy.integrate as integrate #import integrate from scipy to get enthalpy\n",
    "\n",
    "# define constants\n",
    "TFlow = 30 #kg/hr, total flow\n",
    "VoverL = 0.1 # ratio of the vapor flow rate to the liquid flow rate in the feed\n",
    "P = 1.6e5 # Pa, pressure of the system\n",
    "z = np.array([0.95,0.05]) # feed composition \n",
    "#Tref = 298 # K, reference temperature for heat capacity\n",
    "\n",
    "#define the properties of the components\n",
    "class component(param.Parameterized):\n",
    "    Tref = param.Number(298,doc= \"K, reference temperature for heat capacity\")\n",
    "    VPcoef = param.List([1,1,1,1,1],doc=\"Vapor pressure coefficients to yield Psat in Pa, T in K\")\n",
    "    LHCcoef = param.List([1,1,1,1,1],doc=\"Liquid heat capacity coefficients to yield Cp in J/kmol/K, T in K\")\n",
    "    IGHCcoeff = param.List([1,1,1,1,1],doc=\"Ideal gas heat capacity coefficients to yield Cp in J/kmol/K, T in K\")\n",
    "    MW = param.Number(1,doc=\"Molecular weight in kg/kmol\")\n",
    "    Vap = param.Number(1,doc=\"Heat of Vaporization in J/kmol at 298K(Tref)\")\n",
    "\n",
    "    def Psat(self,T):\n",
    "        C = self.VPcoef\n",
    "        return np.exp(C[0]+C[1]/T+ C[2]*np.log(T)+C[3]*T**C[4])\n",
    "    def Cpig(self,T):\n",
    "        C = self.IGHCcoeff\n",
    "        return C[0]+C[1]*(C[2]/T/np.sinh(C[2]/T))**2+C[3]*(C[4]/T/np.cosh(C[4]/T))**2\n",
    "    def Cpl(self,T):\n",
    "        C = self.LHCcoef\n",
    "        return C[0]+C[1]*T+C[2]*T**2+C[3]*T**3+C[4]*T**4\n",
    "    def Hl(self,T):\n",
    "        return integrate.quad(self.Cpl,self.Tref,T)[0]\n",
    "    def Hv(self,T):\n",
    "        return self.Vap+integrate.quad(self.Cpl,self.Tref,T)[0]\n",
    "\n",
    "#vapor pressure coefficient estimates  \n",
    "methanol = component(VPcoef=[82.7,-6900,-8.86,7.46E-06,2],\\\n",
    "                LHCcoef=[256000, -2740, 14.8, -0.035, 3.27E-05],\\\n",
    "                    IGHCcoeff=[39250, 87900, 1916, 53650, 896],MW=32.04,Vap=3.75e7)\n",
    "ethanol = component(VPcoef=[73.3,-7122,-7.14,2.88E-06,2],\\\n",
    "               LHCcoef=[102640,-139.63,-0.030341,0.0020386,0.0],\\\n",
    "                IGHCcoeff=[49200,145770,1660,93900,744],MW=46.07,Vap=4.26e7)"
   ]
  },
  {
   "cell_type": "code",
   "execution_count": 3,
   "metadata": {},
   "outputs": [
    {
     "name": "stdout",
     "output_type": "stream",
     "text": [
      "The liquid and vapor compositions of methanol are  [0.94815887 0.96849078]\n",
      "The temperature is 77.16 C\n",
      "The vapor and liquid flow rates are 27.28 and 2.72 kg/hr\n",
      "The vapor to liquid ratio is 0.09957\n"
     ]
    }
   ],
   "source": [
    "# define the function to be solved\n",
    "def VLE(xvar):\n",
    "    x = xvar[0] # first element of xvar is the liquid composition of methanol\n",
    "    y = xvar[1] # next elements of xvar is the vapor composition of methanol\n",
    "    T = xvar[2] # third element of xvar is the temperature\n",
    "    L = xvar[3]\n",
    "    VoverLh = xvar[4]\n",
    "    V = TFlow*(1 - 1/(1+VoverLh))\n",
    "    eq = np.zeros(5) # initialize the array of equations\n",
    "    eq[0] = L*VoverLh + L - TFlow # mass balance\n",
    "    eq[1] = x*methanol.Psat(T) + (1-x)*ethanol.Psat(T) - P # Raoult's law\n",
    "    eq[2] = x*L + y*VoverLh*L - TFlow*z[0] # component balance\n",
    "    eq[3] = (1-x)*ethanol.Psat(T)/P + y - 1 # sum of mole fractions\n",
    "    #Ethalpy of the Feed\n",
    "    Vf = TFlow*(1 - 1/(1+VoverL)); Lf = TFlow/(1+VoverL)\n",
    "    HF = z[0]*(methanol.Hl(T)*Lf+methanol.Hv(T)*Vf)/methanol.MW + z[1]*(ethanol.Hl(T)*Lf+ethanol.Hv(T)*Vf)/ethanol.MW #kJ/hr\n",
    "    #Ethalpy of the Vapor\n",
    "    HV = y*methanol.Hv(T)*V/methanol.MW + (1-y)*ethanol.Hv(T)*V/ethanol.MW #kJ/hr\n",
    "    #Ethanlpy of the Liquid\n",
    "    HL = x*methanol.Hl(T)*L/methanol.MW + (1-x)*ethanol.Hl(T)*L/ethanol.MW #kJ/hr\n",
    "    eq[4] = HF - HV - HL\n",
    "    return eq\n",
    "\n",
    "# initial guess\n",
    "xvar0 = np.array([z[0],z[0],350,TFlow/(1+VoverL),VoverL])\n",
    "\n",
    "# solve the function\n",
    "out = fsolve(VLE,xvar0)\n",
    "\n",
    "# print the results\n",
    "print('The liquid and vapor compositions of methanol are ',out[0:2])\n",
    "print(f'The temperature is {out[2]-273:.2f} C')\n",
    "print(f'The vapor and liquid flow rates are {out[3]:.2f} and {TFlow - out[3]:.2f} kg/hr')\n",
    "print(f'The vapor to liquid ratio is {out[4]:.5f}')"
   ]
  },
  {
   "cell_type": "code",
   "execution_count": 5,
   "metadata": {},
   "outputs": [
    {
     "data": {
      "text/plain": [
       "array([ 1.06581410e-14,  4.04543243e-08, -1.24344979e-13,  8.59312621e-14,\n",
       "        3.16649675e-08])"
      ]
     },
     "execution_count": 5,
     "metadata": {},
     "output_type": "execute_result"
    }
   ],
   "source": [
    "#How well did the answer satisfy the equations?\n",
    "VLE(out)"
   ]
  },
  {
   "cell_type": "markdown",
   "metadata": {},
   "source": [
    "## VLE Example Calculation with Aspen Plus"
   ]
  },
  {
   "cell_type": "markdown",
   "metadata": {},
   "source": [
    "### Aspen Plus Steps\n",
    "1. Open Aspen Plus\n",
    "2. Add a component to the simulation (I added methanol and ethanol)\n",
    "3. Specify fluid properties (I used the an Ideal Solution)\n",
    "4. Add a separator to the simulation\n",
    "5. Specify the inlet feed composition, feed vapor fraction, and pressure (the same as specified above for the manual calculation)\n",
    "6. Name the liquid and vapor exit streams\n",
    "6. Press the play button to run the simulation"
   ]
  },
  {
   "cell_type": "markdown",
   "metadata": {},
   "source": [
    "<img src=\"https://raw.githubusercontent.com/clint-bg/comptools/main/lectures/supportfiles/AspenPlusImg.png\" width=\"800\">"
   ]
  },
  {
   "cell_type": "markdown",
   "metadata": {},
   "source": [
    "Compared to the above manual results, the ideal solutions agree fairly well despite differences in the vapor pressure and enthalpies. If you specify a different fluid package that includes non-idealities in the solution, you'll get a slightly different answer (hopefully a more accurate answer).\n",
    "\n",
    "You should look to do this in your future work as an engineer: Check your answer. Never use just one source. Or in other words, doubt that you got the right answer until you prove to yourself otherwise."
   ]
  },
  {
   "cell_type": "markdown",
   "metadata": {},
   "source": [
    "### Aspen HySyS Result for a Flash Drum\n",
    "The same simulation can be run in Aspen Hysys. The below image shows the results for an Antione Fluid package (ideal solution). The results are similar to Aspen Plus.\n",
    "\n",
    "Aspen Plus has more compounds."
   ]
  },
  {
   "cell_type": "markdown",
   "metadata": {},
   "source": [
    "<img src=\"https://raw.githubusercontent.com/clint-bg/comptools/main/lectures/supportfiles/AspenHysysImg.png\" width=\"800\">"
   ]
  },
  {
   "cell_type": "markdown",
   "metadata": {},
   "source": [
    "### Additional Simulation Options\n",
    "You can add complexity by adding a pressure drop through the flash drum (like when the feed may be forced through an orifice). You can also add a heat source to evaporate more material such that the vapor flow rate is increased."
   ]
  },
  {
   "cell_type": "code",
   "execution_count": null,
   "metadata": {},
   "outputs": [],
   "source": []
  }
 ],
 "metadata": {
  "kernelspec": {
   "display_name": "Python 3",
   "language": "python",
   "name": "python3"
  },
  "language_info": {
   "codemirror_mode": {
    "name": "ipython",
    "version": 3
   },
   "file_extension": ".py",
   "mimetype": "text/x-python",
   "name": "python",
   "nbconvert_exporter": "python",
   "pygments_lexer": "ipython3",
   "version": "3.9.16"
  },
  "orig_nbformat": 4
 },
 "nbformat": 4,
 "nbformat_minor": 2
}
