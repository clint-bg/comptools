{
 "cells": [
  {
   "cell_type": "markdown",
   "metadata": {},
   "source": [
    "# Aspen Plus\n",
    "In this exercise we'll discuss how simulators like Aspen Hysys (Aspen Plus) can be used to estimate unit operation behavior, specifically a flash drum. This is an exercise to give you an introduction to material balances and on vapor liquid equilibrium.\n",
    "\n",
    "## Aspen Plus Software Access\n",
    "You'll log onto one of the CAEDM computers and open Aspen Plus. You can also access that software remotely using 'labconnect' for example.\n",
    "\n",
    "## Aspen Help Video\n",
    "Link to video that explains a simple flash point calculation or flash drum separation step: [Hysys flash drum video](https://www.youtube.com/watch?v=qijWOzm7irc)"
   ]
  },
  {
   "cell_type": "markdown",
   "metadata": {},
   "source": [
    "## Material Balance Example\n",
    "\n",
    "A helpful video of this scenario can be found here: [Aspen Plus Flash Drum Example](https://youtu.be/EX_NTuqH3ck)"
   ]
  },
  {
   "cell_type": "markdown",
   "metadata": {},
   "source": [
    "<img src=\"https://github.com/clint-bg/comptools/blob/main/lectures/supportfiles/AspenPlusMatbal.png?raw=true\" width=\"600\">"
   ]
  },
  {
   "cell_type": "markdown",
   "metadata": {},
   "source": [
    "The conditions in the above equilibrium unit is 50C and 1 bar (see the above video)."
   ]
  },
  {
   "cell_type": "code",
   "execution_count": 1,
   "metadata": {},
   "outputs": [
    {
     "name": "stdout",
     "output_type": "stream",
     "text": [
      "The total liquid flow rate out is 65.06 kg/min\n",
      "The amount of water in the liquid phase flowing out is: 64.97 kg/min\n",
      "The mass fraction of air in the liquid out phase is: 0.00151\n"
     ]
    }
   ],
   "source": [
    "#For steady State scenario\n",
    "Waterin  = 100 # kg/min\n",
    "Dryairin = 400 # kg/min\n",
    "VaporOut = 434.936 # kg/min\n",
    "massFractionwaterVaporout = 1-0.91945 # kg/kg\n",
    "#First total balance:\n",
    "LiquidOut = Waterin + Dryairin - VaporOut #This is the liquid out flow rate\n",
    "#Now the component balance (water):\n",
    "LiquidOutWater = -massFractionwaterVaporout*VaporOut + Waterin #This is the water balance in the liquid phase flowing out in the LiquidOut stream\n",
    "print(f'The total liquid flow rate out is {LiquidOut:0.2f} kg/min')\n",
    "print(f'The amount of water in the liquid phase flowing out is: {LiquidOutWater:0.2f} kg/min')\n",
    "print (f'The mass fraction of air in the liquid out phase is: {1-LiquidOutWater/LiquidOut:0.5f}')\n"
   ]
  },
  {
   "cell_type": "code",
   "execution_count": 2,
   "metadata": {},
   "outputs": [
    {
     "data": {
      "text/plain": [
       "0.9208974894233956"
      ]
     },
     "execution_count": 2,
     "metadata": {},
     "output_type": "execute_result"
    }
   ],
   "source": [
    "#Using Raoult's law:\n",
    "y_water = (1-0.00446)*0.122/1 #y[i] = x[i]*Psat[i]/P, Psat of water at 50C = 0.122 bar approximately\n",
    "#mole fraction to mass fraction\n",
    "ywm = y_water*18/(y_water*18+(1-y_water)*28.97)\n",
    "1-ywm"
   ]
  },
  {
   "cell_type": "markdown",
   "metadata": {},
   "source": [
    "## Vapor Liquid Equilibrium Background\n",
    "The vapor-liquid equilibrium (VLE) of a component or mixture is important in chemical engineering. You'll take thermodynamics and there spend a significant amount of time on understanding VLE. Simply put, VLE is the ratio of the vapor mole fraction to the liquid mole fraction at a given temperature and pressure."
   ]
  },
  {
   "cell_type": "markdown",
   "metadata": {},
   "source": [
    "$$K_i = \\dfrac{y_i}{x_i} = \\gamma_i\\cdot P_i^{sat}/P $$\n",
    "or for ideal solutions\n",
    "\n",
    "$$ \\dfrac{y_i}{x_i} = P_i^{sat}/P$$\n",
    "\n",
    "where $K$ is the VLE ratio for a given component $i$, $y_i$ is the vapor mole fraction, $x_i$ is the liquid mole fraction, $P_i^{sat}$ is the saturation pressure of the component, and $P$ is the total pressure.  An ideal solution is one where the vapor and liquid phases are in equilibrium and the saturation pressure is independent of the composition of the liquid phase. Raoult's law is an example of an ideal solution."
   ]
  },
  {
   "cell_type": "markdown",
   "metadata": {},
   "source": [
    "## VLE Example Calculation with Python"
   ]
  },
  {
   "cell_type": "markdown",
   "metadata": {},
   "source": [
    "<img src=\"https://github.com/clint-bg/comptools/blob/main/lectures/supportfiles/flashingunitbasic.png?raw=true\" width=\"200\">"
   ]
  },
  {
   "cell_type": "markdown",
   "metadata": {},
   "source": [
    "The Feed is at the left and the liquid at the bottom and the vapor at the top. The vapor is richer in the more volatile component (methanol) and the liquid is richer in the less volatile component (ethanol). \n",
    "\n",
    "Given the feed compositions, the total feed, the feed vapor fraction, and the pressure there are five variables to solve for:\n",
    "- The vapor and liquid compositions\n",
    "- The temperature\n",
    "- The vapor and liquid flow rates"
   ]
  },
  {
   "cell_type": "markdown",
   "metadata": {},
   "source": [
    "The variables are found from solving the following equations assuming an ideal solution for binary system:\n",
    "\n",
    "$$\\begin{align*}\n",
    "F &= L + V \\text{ : Mass Balance} \\\\\n",
    "z_1\\cdot F &= x_1\\cdot L + y_1\\cdot V/L\\cdot L \\text{ : Component Balance} \\\\\n",
    "H_F &= H_l + H_v \\text{ : Energy Balance} \\\\\n",
    "P & = x_1\\cdot P_1^{sat} + (1-x_1)\\cdot P_2^{sat} \\text{ : }\\Sigma x = 1 \\text{, Ideal} \\\\\n",
    "y_1 + (1-x_1)\\cdot P_2^{sat}/P &= 1 \\text{ : } \\Sigma y = 1 \\text{, Ideal}\n",
    "\\end{align*}$$"
   ]
  },
  {
   "cell_type": "code",
   "execution_count": 3,
   "metadata": {},
   "outputs": [],
   "source": [
    "# first import packages\n",
    "import numpy as np\n",
    "import param\n",
    "from scipy.optimize import fsolve #import fsolve from scipy.optimize\n",
    "import scipy.integrate as integrate #import integrate from scipy to get enthalpy"
   ]
  },
  {
   "cell_type": "code",
   "execution_count": 4,
   "metadata": {},
   "outputs": [],
   "source": [
    "#Define the properties of the components\n",
    "class component(param.Parameterized):\n",
    "    Tref = param.Number(298,doc= \"K, reference temperature for heat capacity\")\n",
    "    VPcoef = param.List([1,1,1,1,1],doc=\"Vapor pressure coefficients to yield Psat in Pa, T in K\")\n",
    "    LHCcoef = param.List([1,1,1,1,1],doc=\"Liquid heat capacity coefficients to yield Cp in J/kmol/K, T in K\")\n",
    "    IGHCcoeff = param.List([1,1,1,1,1],doc=\"Ideal gas heat capacity coefficients to yield Cp in J/kmol/K, T in K\")\n",
    "    MW = param.Number(1,doc=\"Molecular weight in kg/kmol\")\n",
    "    Vap = param.Number(1,doc=\"Heat of Vaporization in J/kmol at 298K(Tref)\")\n",
    "\n",
    "    def Psat(self,T):\n",
    "        C = self.VPcoef\n",
    "        return np.exp(C[0]+C[1]/T+ C[2]*np.log(T)+C[3]*T**C[4])\n",
    "    def Cpig(self,T):\n",
    "        C = self.IGHCcoeff\n",
    "        return C[0]+C[1]*(C[2]/T/np.sinh(C[2]/T))**2+C[3]*(C[4]/T/np.cosh(C[4]/T))**2\n",
    "    def Cpl(self,T):\n",
    "        C = self.LHCcoef\n",
    "        return C[0]+C[1]*T+C[2]*T**2+C[3]*T**3+C[4]*T**4\n",
    "    def Hl(self,T):\n",
    "        return integrate.quad(self.Cpl,self.Tref,T)[0]\n",
    "    def Hv(self,T):\n",
    "        return self.Vap+integrate.quad(self.Cpl,self.Tref,T)[0]\n",
    "\n",
    "#vapor pressure coefficient estimates  \n",
    "methanol = component(VPcoef=[82.7,-6900,-8.86,7.46E-06,2],\\\n",
    "                LHCcoef=[256000, -2740, 14.8, -0.035, 3.27E-05],\\\n",
    "                    IGHCcoeff=[39250, 87900, 1916, 53650, 896],MW=32.04,Vap=3.75e7)\n",
    "ethanol = component(VPcoef=[73.3,-7122,-7.14,2.88E-06,2],\\\n",
    "               LHCcoef=[102640,-139.63,-0.030341,0.0020386,0.0],\\\n",
    "                IGHCcoeff=[49200,145770,1660,93900,744],MW=46.07,Vap=4.26e7)"
   ]
  },
  {
   "cell_type": "code",
   "execution_count": 5,
   "metadata": {},
   "outputs": [],
   "source": [
    "# Define constants\n",
    "TFlowM = 30 #kg/hr, total flow\n",
    "VoverL = 0.1 # ratio of the vapor flow rate to the liquid flow rate in the feed\n",
    "P = 1.6e5 # Pa, pressure of the system\n",
    "z = np.array([0.95,0.05]) # molar feed composition, methanol, ethanol\n",
    "#mass fractions\n",
    "zwm = [z[0]*methanol.MW/(z[0]*methanol.MW+z[1]*ethanol.MW),z[1]*ethanol.MW/(z[0]*methanol.MW+z[1]*ethanol.MW)]\n",
    "#Total molar flow rate\n",
    "TFlow = TFlowM*zwm[0]/methanol.MW + TFlowM*zwm[1]/ethanol.MW\n",
    "#Tref = 298 # K, reference temperature for heat capacity"
   ]
  },
  {
   "cell_type": "code",
   "execution_count": 14,
   "metadata": {},
   "outputs": [
    {
     "data": {
      "text/plain": [
       "29.999999999999996"
      ]
     },
     "execution_count": 14,
     "metadata": {},
     "output_type": "execute_result"
    }
   ],
   "source": [
    "TFlowM*zwm[0] + TFlowM*zwm[1]"
   ]
  },
  {
   "cell_type": "code",
   "execution_count": 6,
   "metadata": {},
   "outputs": [],
   "source": [
    "# define the function to be solved\n",
    "def VLE(xvar):\n",
    "    x = xvar[0] # first element of xvar is the liquid composition of methanol\n",
    "    y = xvar[1] # next elements of xvar is the vapor composition of methanol\n",
    "    T = xvar[2] # third element of xvar is the temperature\n",
    "    L = xvar[3]\n",
    "    VoverLh = xvar[4]\n",
    "    V = TFlow*(1 - 1/(1+VoverLh))\n",
    "    eq = np.zeros(5) # initialize the array of equations\n",
    "    eq[0] = L*VoverLh + L - TFlow # mass balance\n",
    "    eq[1] = x*methanol.Psat(T) + (1-x)*ethanol.Psat(T) - P # Raoult's law\n",
    "    eq[2] = x*L + y*VoverLh*L - TFlow*z[0] # component balance\n",
    "    eq[3] = (1-x)*ethanol.Psat(T)/P + y - 1 # sum of mole fractions\n",
    "    #Ethalpy of the Feed\n",
    "    Vf = TFlow*(1 - 1/(1+VoverL)); Lf = TFlow/(1+VoverL)\n",
    "    HF = z[0]*(methanol.Hl(T)*Lf+methanol.Hv(T)*Vf)/methanol.MW + z[1]*(ethanol.Hl(T)*Lf+ethanol.Hv(T)*Vf)/ethanol.MW #kJ/hr\n",
    "    #Ethalpy of the Vapor\n",
    "    HV = y*methanol.Hv(T)*V/methanol.MW + (1-y)*ethanol.Hv(T)*V/ethanol.MW #kJ/hr\n",
    "    #Ethanlpy of the Liquid\n",
    "    HL = x*methanol.Hl(T)*L/methanol.MW + (1-x)*ethanol.Hl(T)*L/ethanol.MW #kJ/hr\n",
    "    eq[4] = HF - HV - HL\n",
    "    return eq"
   ]
  },
  {
   "cell_type": "code",
   "execution_count": 7,
   "metadata": {},
   "outputs": [
    {
     "data": {
      "text/plain": [
       "array([ 9.16268344e-01, -8.17978938e+02,  8.70454927e-01, -1.98048970e-02,\n",
       "       -1.24141520e+05])"
      ]
     },
     "execution_count": 7,
     "metadata": {},
     "output_type": "execute_result"
    }
   ],
   "source": [
    "# initial guess\n",
    "xvar0 = np.array([z[0],z[0],350,TFlow/(1+VoverL)*2,VoverL])\n",
    "VLE(xvar0) # check the function"
   ]
  },
  {
   "cell_type": "code",
   "execution_count": 8,
   "metadata": {},
   "outputs": [],
   "source": [
    "# solve the function\n",
    "out = fsolve(VLE,xvar0)"
   ]
  },
  {
   "cell_type": "code",
   "execution_count": 13,
   "metadata": {},
   "outputs": [
    {
     "name": "stdout",
     "output_type": "stream",
     "text": [
      "Check of the mole balance: 1.1921019726912618e-13\n",
      "Check of the mass balance: 3.430771222667772e-10\n"
     ]
    }
   ],
   "source": [
    "Lout = out[3]; Vout = TFlow*(1 - 1/(1+out[4])) #molar basis\n",
    "Lcomps = [out[0],1-out[0]] #molar compositions\n",
    "Vcomps = [out[1],1-out[1]] #molar compositions\n",
    "# on a mass basis:\n",
    "Lout_M = Lout*Lcomps[0]*methanol.MW + Lout*Lcomps[1]*ethanol.MW\n",
    "Vout_M = Vout*Vcomps[0]*methanol.MW + Vout*Vcomps[1]*ethanol.MW\n",
    "print('Check of the mole balance:',TFlow - Lout - Vout) # check the mole balance\n",
    "print('Check of the mass balance:',TFlowM - Lout_M - Vout_M) # check the mass balance ')\n"
   ]
  },
  {
   "cell_type": "code",
   "execution_count": 10,
   "metadata": {},
   "outputs": [
    {
     "name": "stdout",
     "output_type": "stream",
     "text": [
      "The liquid and vapor compositions of methanol are  [0.94815887 0.96849078]\n",
      "The temperature is 77.16 C\n",
      "The liquid and vapor flow rates are 27.30 and 2.70 mol/hr\n",
      "The molar vapor to liquid ratio is 0.09957\n"
     ]
    }
   ],
   "source": [
    "# print the results\n",
    "print('The liquid and vapor compositions of methanol are ',out[0:2])\n",
    "print(f'The temperature is {out[2]-273:.2f} C')\n",
    "print(f'The liquid and vapor flow rates are {Lout_M:.2f} and {Vout_M:.2f} mol/hr')\n",
    "print(f'The molar vapor to liquid ratio is {out[4]:.5f}')"
   ]
  },
  {
   "cell_type": "code",
   "execution_count": 11,
   "metadata": {},
   "outputs": [
    {
     "data": {
      "text/plain": [
       "array([-1.31117339e-13, -3.60887498e-09,  2.40500952e-11,  1.22790667e-13,\n",
       "        5.90822310e-07])"
      ]
     },
     "execution_count": 11,
     "metadata": {},
     "output_type": "execute_result"
    }
   ],
   "source": [
    "#How well did the answer satisfy the equations?\n",
    "VLE(out)"
   ]
  },
  {
   "cell_type": "markdown",
   "metadata": {},
   "source": [
    "## VLE Example Calculation with Aspen Plus"
   ]
  },
  {
   "cell_type": "markdown",
   "metadata": {},
   "source": [
    "### Aspen Plus Steps\n",
    "1. Open Aspen Plus\n",
    "2. Add a component to the simulation (I added methanol and ethanol)\n",
    "3. Specify fluid properties (I used the an Ideal Solution)\n",
    "4. Add a separator (Flash2 unit) to the simulation\n",
    "5. Specify the inlet and outlet stream names by clicking on the Flowsheet tab and then Global and then the drop down on the Block ID for the unit.\n",
    "6. Specify the inlet feed composition, feed vapor fraction, and pressure (the same as specified above for the manual calculation) by  then clicking on the streams dropdown tab.\n",
    "7. Specify the operating condition of the flash drum by clicking on the Blocks tab and then name of the flash drum and then input. There specify the pressure of the unit and the desired vapor fraction (by mass) of the outlets.\n",
    "8. Press the play button to run the simulation"
   ]
  },
  {
   "cell_type": "markdown",
   "metadata": {},
   "source": [
    "<img src=\"https://raw.githubusercontent.com/clint-bg/comptools/main/lectures/supportfiles/AspenPlusImg.png\" width=\"800\">"
   ]
  },
  {
   "cell_type": "markdown",
   "metadata": {},
   "source": [
    "Compared to the above manual results, the ideal solutions agree fairly well despite differences in the vapor pressure and enthalpies. If you specify a different fluid package that includes non-idealities in the solution, you'll get a slightly different answer (hopefully a more accurate answer).\n",
    "\n",
    "You should look to do this in your future work as an engineer: Check your answer. Never use just one source. Or in other words, doubt that you got the right answer until you prove to yourself otherwise."
   ]
  },
  {
   "cell_type": "markdown",
   "metadata": {},
   "source": [
    "### Aspen HySyS Result for a Flash Drum\n",
    "The same simulation can be run in Aspen Hysys. The below image shows the results for an Antione Fluid package (ideal solution). The results are similar to Aspen Plus.\n",
    "\n",
    "Aspen Plus has more compounds."
   ]
  },
  {
   "cell_type": "markdown",
   "metadata": {},
   "source": [
    "<img src=\"https://raw.githubusercontent.com/clint-bg/comptools/main/lectures/supportfiles/AspenHysysImg.png\" width=\"800\">"
   ]
  },
  {
   "cell_type": "markdown",
   "metadata": {},
   "source": [
    "### Additional Simulation Options\n",
    "You can add complexity by adding a pressure drop through the flash drum (like when the feed may be forced through an orifice). You can also add a heat source to evaporate more material such that the vapor flow rate is increased."
   ]
  },
  {
   "cell_type": "code",
   "execution_count": null,
   "metadata": {},
   "outputs": [],
   "source": []
  }
 ],
 "metadata": {
  "kernelspec": {
   "display_name": "Python 3",
   "language": "python",
   "name": "python3"
  },
  "language_info": {
   "codemirror_mode": {
    "name": "ipython",
    "version": 3
   },
   "file_extension": ".py",
   "mimetype": "text/x-python",
   "name": "python",
   "nbconvert_exporter": "python",
   "pygments_lexer": "ipython3",
   "version": "3.9.16"
  },
  "orig_nbformat": 4
 },
 "nbformat": 4,
 "nbformat_minor": 2
}
