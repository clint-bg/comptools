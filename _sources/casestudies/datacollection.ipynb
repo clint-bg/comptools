{
 "cells": [
  {
   "cell_type": "markdown",
   "id": "a5649df8",
   "metadata": {},
   "source": [
    "# Data Collection"
   ]
  },
  {
   "cell_type": "markdown",
   "metadata": {},
   "source": [
    "For the case studies, specifically the thermo and heat transfer case studies, you will need to collect temperature data. There are a number of ways to do that. Using an ESP32 microcontroller with a MAX6675 thermocouple amplifier is one way that is very affordable and effective. Below is a short, and hopefully effective, tutorial on how to use the ESP32 and MAX6675 to collect temperature data."
   ]
  },
  {
   "cell_type": "markdown",
   "metadata": {},
   "source": [
    "## Data Collection Steps\n",
    "- Obtain a microcontroller that you can connect to your computer\n",
    "    - Obtain an ESP32 (we have used the wroom version)\n",
    "    - Obtain a MAX6675 thermocouple amplifier\n",
    "    - Obtain a K-type thermocouple\n",
    "- Connect the Hardware\n",
    "    - EXP32 to the MAX6675 (see the pinout details below)\n",
    "        - 3.3V to VCC\n",
    "        - GND to GND\n",
    "        - G5 to SCK\n",
    "        - G23 to CS\n",
    "        - G19 to SO\n",
    "    - Connect the MAX6675 to the thermocouple\n",
    "        - Yellow to + (positive)\n",
    "        - Red to - (negative)\n",
    "        - Remove the plastic coating from the thermocouple wires and twist the wires together for your bead\n",
    "- Setup the Arduino IDE to work with the ESP32\n",
    "    - Follow the video instructions outlined here: https://www.youtube.com/watch?v=3n8BkPTYzhU \n",
    "        - Download and install the Arduino IDE, etc... as described below\n",
    "        - See also the Random Nerd Tutorial: https://randomnerdtutorials.com/esp32-k-type-thermocouple-max6675/\n",
    "        - Copy the code snippet from the Random Nerd Tutorial into the Arduino IDE\n",
    "        - Make any modifications to the code as needed\n",
    "        - Example code for bluetooth can be found here:\n",
    "- Collect Data\n",
    "    - Upload the code to the ESP32\n",
    "    - Open the Serial Monitor in the Arduino IDE\n",
    "    - Observe the temperature readings\n",
    "    - Use puTTY to get data into a file: \n",
    "        - These videos may prove helpful: https://www.youtube.com/watch?v=p6S41Bt8-Pc and https://www.youtube.com/shorts/w0Z8k4Y83n4 \n",
    "    - Or Microsoft's Data Streamer: https://support.microsoft.com/en-us/office/enable-the-data-streamer-add-in-70052b28-3b00-41e7-8ab6-8a9f142dffeb \n"
   ]
  },
  {
   "cell_type": "code",
   "execution_count": null,
   "metadata": {},
   "outputs": [],
   "source": []
  }
 ],
 "metadata": {
  "kernelspec": {
   "display_name": "Python 3 (ipykernel)",
   "language": "python",
   "name": "python3"
  },
  "language_info": {
   "codemirror_mode": {
    "name": "ipython",
    "version": 3
   },
   "file_extension": ".py",
   "mimetype": "text/x-python",
   "name": "python",
   "nbconvert_exporter": "python",
   "pygments_lexer": "ipython3",
   "version": "3.9.16"
  }
 },
 "nbformat": 4,
 "nbformat_minor": 5
}
