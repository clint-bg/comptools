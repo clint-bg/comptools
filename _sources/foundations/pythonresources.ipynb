{
 "cells": [
  {
   "attachments": {},
   "cell_type": "markdown",
   "metadata": {},
   "source": [
    "# Python Resources"
   ]
  },
  {
   "attachments": {},
   "cell_type": "markdown",
   "metadata": {},
   "source": [
    "Here are a few resources for learning Python:"
   ]
  },
  {
   "attachments": {},
   "cell_type": "markdown",
   "metadata": {},
   "source": [
    "## Assignment operator vs. equality operator\n",
    "The assignment operator is `=`.  The equality operator is `==`.  So setting a value of 5 to a variable `x` is done with `x = 5`.  Checking if `x` is equal to 5 is done with `x == 5`. Below is example code:"
   ]
  },
  {
   "cell_type": "code",
   "execution_count": 2,
   "metadata": {},
   "outputs": [
    {
     "name": "stdout",
     "output_type": "stream",
     "text": [
      "The value of x is 5 and the result of x==5 is True\n"
     ]
    }
   ],
   "source": [
    "x=5 #set x equal to 5, variable to be assigned is on the left.\n",
    "print(f'The value of x is {x} and the result of x==5 is {x==5}')"
   ]
  },
  {
   "attachments": {},
   "cell_type": "markdown",
   "metadata": {},
   "source": [
    "## Tuple\n",
    "What's a tuple? How is it different from a list?\n",
    "A tuple is a sequence of immutable Python objects. Tuples are sequences, just like lists. The differences between tuples and lists are, the tuples cannot be changed (immutable) unlike lists and tuples use parentheses, whereas lists use square brackets. Tuples can be useful as in this example:"
   ]
  },
  {
   "cell_type": "code",
   "execution_count": 2,
   "metadata": {},
   "outputs": [
    {
     "name": "stdout",
     "output_type": "stream",
     "text": [
      "The data type of p is <class 'numpy.ndarray'>.\n",
      "The data type of p is <class 'numpy.ndarray'>.\n",
      "The data type of p is <class 'numpy.ndarray'>.\n",
      "The data type of p is <class 'numpy.ndarray'>.\n",
      "The data type of p is <class 'numpy.ndarray'>.\n",
      "The data type of p is <class 'numpy.ndarray'>.\n",
      "The data type of p is <class 'numpy.ndarray'>.\n",
      "The data type of p is <class 'numpy.ndarray'>.\n",
      "The solution is 57.14 for L and 42.86 for V\n",
      "<class 'tuple'> <class 'tuple'>\n"
     ]
    }
   ],
   "source": [
    "from scipy.optimize import fsolve\n",
    "def equations(p):\n",
    "    L,V = p\n",
    "    return (100 - (L+V), 0.4*100-0.1*L-0.8*V) #each equation is set so that it is equal to zero, also the returned value is also a tuple\n",
    "\n",
    "L,V =  fsolve(equations, (1,1))\n",
    "print(f'The solution is {L:0.2f} for L and {V:0.2f} for V')\n",
    "print(type((L,V)),type((1,1)))"
   ]
  },
  {
   "attachments": {},
   "cell_type": "markdown",
   "metadata": {},
   "source": [
    "Here p is a tuple as well as (L,V) and (1,1) as they're in parenthesis."
   ]
  },
  {
   "attachments": {},
   "cell_type": "markdown",
   "metadata": {},
   "source": [
    "## Loops\n",
    "For and while loops are powerful to complete repetitive tasks.  Here are some examples:\n"
   ]
  },
  {
   "cell_type": "code",
   "execution_count": 4,
   "metadata": {},
   "outputs": [
    {
     "name": "stdout",
     "output_type": "stream",
     "text": [
      "[0, 1, 4, 9, 16]\n"
     ]
    }
   ],
   "source": [
    "a = [] #create an empty list\n",
    "for i in range(5): #a simple loop\n",
    "    a.append(i**2) #append the square of i to the list\n",
    "print(a)"
   ]
  },
  {
   "cell_type": "code",
   "execution_count": 5,
   "metadata": {},
   "outputs": [
    {
     "name": "stdout",
     "output_type": "stream",
     "text": [
      "[0, 1, 4, 9, 16, 0, 0, 0, 0, 0]\n"
     ]
    }
   ],
   "source": [
    "# a simple while loop\n",
    "while len(a) < 10:\n",
    "    a.append(0) #append 0 to the list until the length of the list is 10\n",
    "print(a)"
   ]
  },
  {
   "attachments": {},
   "cell_type": "markdown",
   "metadata": {},
   "source": [
    "### Inline loop to generate a list"
   ]
  },
  {
   "cell_type": "code",
   "execution_count": 6,
   "metadata": {},
   "outputs": [
    {
     "name": "stdout",
     "output_type": "stream",
     "text": [
      "[1, 2, 3, 4, 5] [2, 4, 6, 8, 10]\n"
     ]
    }
   ],
   "source": [
    "alist = [1,2,3,4,5]\n",
    "anotherlist = [each*2 for each in alist] #an inline for loop\n",
    "print(alist,anotherlist)"
   ]
  },
  {
   "attachments": {},
   "cell_type": "markdown",
   "metadata": {},
   "source": [
    "## Objects\n",
    "What's an object? An object is similar to a variable in that it holds a value or series of values called properties.  It can also have functions associated with it.  For example, a list is an object and it has functions associated with it like `append` and `sort`.  You will use objects all the time when you're using Python. Objects are defined by a class operator."
   ]
  },
  {
   "cell_type": "code",
   "execution_count": 23,
   "metadata": {},
   "outputs": [
    {
     "name": "stdout",
     "output_type": "stream",
     "text": [
      "<class 'list'>\n",
      "6\n"
     ]
    }
   ],
   "source": [
    "#a list is an object (or instance) of its class\n",
    "print(type(alist))\n",
    "alist.append(6) #the append method is a function in the list class to append an element to the list\n",
    "print(alist[-1]) #access the last element of the list"
   ]
  },
  {
   "attachments": {},
   "cell_type": "markdown",
   "metadata": {},
   "source": [
    "## Lists and Arrays\n",
    "Lists and arrays are similar in that they are both a series of values.  However, lists can contain different types of values.  Arrays are typically all the same type of value.  Arrays are also more efficient to use for calculations. "
   ]
  },
  {
   "cell_type": "code",
   "execution_count": 8,
   "metadata": {},
   "outputs": [
    {
     "name": "stdout",
     "output_type": "stream",
     "text": [
      "['hello', 3, 5, [2, 4, 6, 8, 10]]\n"
     ]
    }
   ],
   "source": [
    "#Here is a list that has different items in it\n",
    "blist = ['hello',3,5,anotherlist]\n",
    "print(blist)"
   ]
  },
  {
   "cell_type": "code",
   "execution_count": 9,
   "metadata": {},
   "outputs": [
    {
     "name": "stdout",
     "output_type": "stream",
     "text": [
      "5\n"
     ]
    }
   ],
   "source": [
    "#Heres how to access the third item in the list\n",
    "print(blist[2]) #remember that python is zero indexed"
   ]
  },
  {
   "cell_type": "code",
   "execution_count": 12,
   "metadata": {},
   "outputs": [
    {
     "name": "stdout",
     "output_type": "stream",
     "text": [
      "[2, 4, 6, 8, 10]\n",
      "[2, 4, 6, 8, 10]\n"
     ]
    }
   ],
   "source": [
    "#Here are two ways to access the last item in the list\n",
    "print(blist[-1]) #index -1 is the last item in the list\n",
    "print(blist[len(blist)-1]) #len(blist) is the length of the list"
   ]
  },
  {
   "attachments": {},
   "cell_type": "markdown",
   "metadata": {},
   "source": [
    "## Dictionaries\n",
    "Dictionary is a collection of key:value pairs.  It is similar to a list, but you can access the values by the key instead of the index.  Here is an example:"
   ]
  },
  {
   "cell_type": "code",
   "execution_count": 18,
   "metadata": {},
   "outputs": [
    {
     "name": "stdout",
     "output_type": "stream",
     "text": [
      "1\n",
      "1\n"
     ]
    }
   ],
   "source": [
    "adictionary = {'a':1,'b':2,'c':3} #create a dictionary\n",
    "print(adictionary['a']) #access the value associated with the key 'a'\n",
    "#or \n",
    "print(adictionary.get('a')) #access the value associated with the key 'a'"
   ]
  },
  {
   "attachments": {},
   "cell_type": "markdown",
   "metadata": {},
   "source": [
    "Dictionaries can be very helpful when you have a lot of data and you want to access it by a key.  For example, if you have a list of students and you want to access their grades, you can use a dictionary with the student name as the key and the grade as the value."
   ]
  },
  {
   "attachments": {},
   "cell_type": "markdown",
   "metadata": {},
   "source": [
    "## Importing Data\n",
    "There are many ways to import data into Python.  Here are a few examples:"
   ]
  },
  {
   "attachments": {},
   "cell_type": "markdown",
   "metadata": {},
   "source": [
    "## Data Science with Pandas"
   ]
  },
  {
   "attachments": {},
   "cell_type": "markdown",
   "metadata": {},
   "source": [
    "## Bits\n",
    "Bits are collections of 1s and 0s (or on versus off in a transistor).  They are the basis of all computer operations.  Below is a code snippet to calculate the number of bits required to represent a number."
   ]
  },
  {
   "cell_type": "code",
   "execution_count": 2,
   "metadata": {},
   "outputs": [
    {
     "name": "stdout",
     "output_type": "stream",
     "text": [
      "6\n"
     ]
    }
   ],
   "source": [
    "# THis calculates the number of bits a variable holds\n",
    "def bits(n):\n",
    "    return len(bin(n))-2 #bin(n) returns the binary representation of n as a string\n",
    "print(bits(50))"
   ]
  },
  {
   "cell_type": "code",
   "execution_count": null,
   "metadata": {},
   "outputs": [],
   "source": []
  }
 ],
 "metadata": {
  "kernelspec": {
   "display_name": "Python 3",
   "language": "python",
   "name": "python3"
  },
  "language_info": {
   "codemirror_mode": {
    "name": "ipython",
    "version": 3
   },
   "file_extension": ".py",
   "mimetype": "text/x-python",
   "name": "python",
   "nbconvert_exporter": "python",
   "pygments_lexer": "ipython3",
   "version": "3.9.16"
  },
  "orig_nbformat": 4
 },
 "nbformat": 4,
 "nbformat_minor": 2
}
