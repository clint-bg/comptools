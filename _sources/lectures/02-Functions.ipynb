{
 "cells": [
  {
   "attachments": {},
   "cell_type": "markdown",
   "metadata": {},
   "source": [
    "# Functions\n",
    "Functions are used all the time and are a way to organize code. They are an efficient way to use the computer to repeat calculations with slight variations. Multiple examples are given here of functions you'll use in your educational and professional career."
   ]
  },
  {
   "attachments": {},
   "cell_type": "markdown",
   "metadata": {},
   "source": [
    "## Equations of State\n",
    "Equations of state relate the pressure, temperature, and molar volume of a fluid mathematically.  These are used in almost every discipline of engineering problems chemical engineers face.  The ideal gas law is the simplest equation of state: \n",
    "$$\n",
    "P = \\frac{RT}{\\tilde{V}}\n",
    "$$\n",
    "where $P$ is pressure, $R$ is the gas constant, $T$ is temperature, and $\\tilde{V}$ is the molar volume (volume of gas divided by the moles of gas).  The molar volume is the volume of one mole of a substance.  The ideal gas law is a good approximation for many gases at low pressures and high temperatures.  "
   ]
  },
  {
   "cell_type": "code",
   "execution_count": 5,
   "metadata": {},
   "outputs": [],
   "source": [
    "#define the function that returns the pressure depending on the temperature (Kelvin) and molar volume (m^3/mol)\n",
    "def pressure_IG(T,mV): #this function takes two inputs: temperature and molar volume\n",
    "    Rg = 8.314 #universal gas constant in J/mol/K\n",
    "    return Rg*T/mV #this is where the pressure is calculated and returned in units of Pa"
   ]
  },
  {
   "attachments": {},
   "cell_type": "markdown",
   "metadata": {},
   "source": [
    "Now we can use this function to calculate the pressure of 1 mole of an ideal gas at 300 K and 1 L.  We'll use the print function to print the result to the screen."
   ]
  },
  {
   "cell_type": "code",
   "execution_count": 16,
   "metadata": {},
   "outputs": [
    {
     "name": "stdout",
     "output_type": "stream",
     "text": [
      "The pressure in a 1 Liter vessel with 1 mole of gas inside is 2494200 Pa\n"
     ]
    }
   ],
   "source": [
    "#Making sure my units are consistent:\n",
    "Vol = 1*0.001 #1 Liter = 0.001 m^3\n",
    "nmol = 1 #1 mole of gas\n",
    "#call the function then print the result\n",
    "print(f'The pressure in a 1 Liter vessel with 1 mole of gas inside is {pressure_IG(300,Vol/nmol):.0f} Pa') "
   ]
  },
  {
   "attachments": {},
   "cell_type": "markdown",
   "metadata": {},
   "source": [
    "> What if we wanted to calculate how many moles of gas are in this classroom?\n",
    "> One way is to create another function with the ideal gas law rearranged to return the number of moles of gas.\n",
    "> Another way is to use the existing function and set the pressure to the room pressure and solve for the number of moles of gas."
   ]
  },
  {
   "attachments": {},
   "cell_type": "markdown",
   "metadata": {},
   "source": [
    "Using this function, we can calculate how many moles of gas are in the classroom."
   ]
  },
  {
   "attachments": {},
   "cell_type": "markdown",
   "metadata": {},
   "source": [
    "The van der Waals equation of state is a more complex equation of state that accounts for non-ideal behavior of gases.  The van der Waals equation of state is given by:\n",
    "$$\n",
    "\\left(P + \\frac{a}{V^2}\\right)(V - b) = RT\n",
    "$$\n",
    "where $a$ and $b$ are constants that depend on the gas.  The constants for some common gases are given in the table below."
   ]
  },
  {
   "cell_type": "code",
   "execution_count": null,
   "metadata": {},
   "outputs": [],
   "source": []
  },
  {
   "cell_type": "code",
   "execution_count": null,
   "metadata": {},
   "outputs": [],
   "source": []
  }
 ],
 "metadata": {
  "kernelspec": {
   "display_name": "Python 3",
   "language": "python",
   "name": "python3"
  },
  "language_info": {
   "codemirror_mode": {
    "name": "ipython",
    "version": 3
   },
   "file_extension": ".py",
   "mimetype": "text/x-python",
   "name": "python",
   "nbconvert_exporter": "python",
   "pygments_lexer": "ipython3",
   "version": "3.9.16"
  },
  "orig_nbformat": 4
 },
 "nbformat": 4,
 "nbformat_minor": 2
}
