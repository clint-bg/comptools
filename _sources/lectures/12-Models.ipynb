{
 "cells": [
  {
   "cell_type": "markdown",
   "metadata": {},
   "source": [
    "# 12-Files, Interpolation, and Models"
   ]
  },
  {
   "cell_type": "markdown",
   "metadata": {},
   "source": [
    "## Reading and Writing Files with the Pandas Package\n",
    "Pandas is a python package that is very helpful in processing data including reading and writing csv files (or other text based files). \n",
    "\n",
    "A CSV file is a file that has comma separated values. It is a text file that can be opened in a text editor. For example, the following data in a text file would be a CSV file:\n",
    "\n",
    "```\n",
    "Time (s), Concentration (M), Temperature (K)\n",
    "0, 0.0, 300\n",
    "1, 0.1, 310\n",
    "2, 0.2, 320\n",
    "3, 0.3, 330\n",
    "```\n",
    "\n",
    "You could also have a CSV file that has multiple header rows:\n",
    "\n",
    "```\n",
    "This is a description of the data in the file that could be multirowed\n",
    "Time (s), Concentration (M), Temperature (K)\n",
    "0, 0.0, 300\n",
    "1, 0.1, 310\n",
    "2, 0.2, 320\n",
    "3, 0.3, 330\n",
    "```\n",
    "\n",
    "or you could have a text file that has a tab character is used instead of a comma separating the values.\n"
   ]
  },
  {
   "cell_type": "code",
   "execution_count": 1,
   "metadata": {},
   "outputs": [],
   "source": [
    "#First import the Pandas Package:\n",
    "import pandas as pd\n",
    "import matplotlib.pyplot as plt\n",
    "import numpy as np"
   ]
  },
  {
   "cell_type": "code",
   "execution_count": 2,
   "metadata": {},
   "outputs": [
    {
     "ename": "FileNotFoundError",
     "evalue": "[Errno 2] No such file or directory: './supportfiles/testdata.csv'",
     "output_type": "error",
     "traceback": [
      "\u001b[0;31m---------------------------------------------------------------------------\u001b[0m",
      "\u001b[0;31mFileNotFoundError\u001b[0m                         Traceback (most recent call last)",
      "Cell \u001b[0;32mIn[2], line 3\u001b[0m\n\u001b[1;32m      1\u001b[0m \u001b[38;5;66;03m# Open a file and add the above data (the one with multiple headers) to it and save it as testdata.csv\u001b[39;00m\n\u001b[1;32m      2\u001b[0m \u001b[38;5;66;03m# Open the file and read it into a dataframe\u001b[39;00m\n\u001b[0;32m----> 3\u001b[0m df \u001b[38;5;241m=\u001b[39m \u001b[43mpd\u001b[49m\u001b[38;5;241;43m.\u001b[39;49m\u001b[43mread_csv\u001b[49m\u001b[43m(\u001b[49m\u001b[38;5;124;43m'\u001b[39;49m\u001b[38;5;124;43m./supportfiles/testdata.csv\u001b[39;49m\u001b[38;5;124;43m'\u001b[39;49m\u001b[43m,\u001b[49m\u001b[43m \u001b[49m\u001b[43msep\u001b[49m\u001b[38;5;241;43m=\u001b[39;49m\u001b[38;5;124;43m'\u001b[39;49m\u001b[38;5;124;43m,\u001b[39;49m\u001b[38;5;124;43m'\u001b[39;49m\u001b[43m,\u001b[49m\u001b[43m \u001b[49m\u001b[43mheader\u001b[49m\u001b[38;5;241;43m=\u001b[39;49m\u001b[38;5;241;43m1\u001b[39;49m\u001b[43m)\u001b[49m \u001b[38;5;66;03m# header=1 means that the second row is the header\u001b[39;00m\n\u001b[1;32m      4\u001b[0m \u001b[38;5;66;03m# a tab separated file would be sep='\\t'\u001b[39;00m\n",
      "File \u001b[0;32m~/opt/anaconda3/envs/jupiterbook/lib/python3.9/site-packages/pandas/io/parsers/readers.py:912\u001b[0m, in \u001b[0;36mread_csv\u001b[0;34m(filepath_or_buffer, sep, delimiter, header, names, index_col, usecols, dtype, engine, converters, true_values, false_values, skipinitialspace, skiprows, skipfooter, nrows, na_values, keep_default_na, na_filter, verbose, skip_blank_lines, parse_dates, infer_datetime_format, keep_date_col, date_parser, date_format, dayfirst, cache_dates, iterator, chunksize, compression, thousands, decimal, lineterminator, quotechar, quoting, doublequote, escapechar, comment, encoding, encoding_errors, dialect, on_bad_lines, delim_whitespace, low_memory, memory_map, float_precision, storage_options, dtype_backend)\u001b[0m\n\u001b[1;32m    899\u001b[0m kwds_defaults \u001b[38;5;241m=\u001b[39m _refine_defaults_read(\n\u001b[1;32m    900\u001b[0m     dialect,\n\u001b[1;32m    901\u001b[0m     delimiter,\n\u001b[0;32m   (...)\u001b[0m\n\u001b[1;32m    908\u001b[0m     dtype_backend\u001b[38;5;241m=\u001b[39mdtype_backend,\n\u001b[1;32m    909\u001b[0m )\n\u001b[1;32m    910\u001b[0m kwds\u001b[38;5;241m.\u001b[39mupdate(kwds_defaults)\n\u001b[0;32m--> 912\u001b[0m \u001b[38;5;28;01mreturn\u001b[39;00m \u001b[43m_read\u001b[49m\u001b[43m(\u001b[49m\u001b[43mfilepath_or_buffer\u001b[49m\u001b[43m,\u001b[49m\u001b[43m \u001b[49m\u001b[43mkwds\u001b[49m\u001b[43m)\u001b[49m\n",
      "File \u001b[0;32m~/opt/anaconda3/envs/jupiterbook/lib/python3.9/site-packages/pandas/io/parsers/readers.py:577\u001b[0m, in \u001b[0;36m_read\u001b[0;34m(filepath_or_buffer, kwds)\u001b[0m\n\u001b[1;32m    574\u001b[0m _validate_names(kwds\u001b[38;5;241m.\u001b[39mget(\u001b[38;5;124m\"\u001b[39m\u001b[38;5;124mnames\u001b[39m\u001b[38;5;124m\"\u001b[39m, \u001b[38;5;28;01mNone\u001b[39;00m))\n\u001b[1;32m    576\u001b[0m \u001b[38;5;66;03m# Create the parser.\u001b[39;00m\n\u001b[0;32m--> 577\u001b[0m parser \u001b[38;5;241m=\u001b[39m \u001b[43mTextFileReader\u001b[49m\u001b[43m(\u001b[49m\u001b[43mfilepath_or_buffer\u001b[49m\u001b[43m,\u001b[49m\u001b[43m \u001b[49m\u001b[38;5;241;43m*\u001b[39;49m\u001b[38;5;241;43m*\u001b[39;49m\u001b[43mkwds\u001b[49m\u001b[43m)\u001b[49m\n\u001b[1;32m    579\u001b[0m \u001b[38;5;28;01mif\u001b[39;00m chunksize \u001b[38;5;129;01mor\u001b[39;00m iterator:\n\u001b[1;32m    580\u001b[0m     \u001b[38;5;28;01mreturn\u001b[39;00m parser\n",
      "File \u001b[0;32m~/opt/anaconda3/envs/jupiterbook/lib/python3.9/site-packages/pandas/io/parsers/readers.py:1407\u001b[0m, in \u001b[0;36mTextFileReader.__init__\u001b[0;34m(self, f, engine, **kwds)\u001b[0m\n\u001b[1;32m   1404\u001b[0m     \u001b[38;5;28mself\u001b[39m\u001b[38;5;241m.\u001b[39moptions[\u001b[38;5;124m\"\u001b[39m\u001b[38;5;124mhas_index_names\u001b[39m\u001b[38;5;124m\"\u001b[39m] \u001b[38;5;241m=\u001b[39m kwds[\u001b[38;5;124m\"\u001b[39m\u001b[38;5;124mhas_index_names\u001b[39m\u001b[38;5;124m\"\u001b[39m]\n\u001b[1;32m   1406\u001b[0m \u001b[38;5;28mself\u001b[39m\u001b[38;5;241m.\u001b[39mhandles: IOHandles \u001b[38;5;241m|\u001b[39m \u001b[38;5;28;01mNone\u001b[39;00m \u001b[38;5;241m=\u001b[39m \u001b[38;5;28;01mNone\u001b[39;00m\n\u001b[0;32m-> 1407\u001b[0m \u001b[38;5;28mself\u001b[39m\u001b[38;5;241m.\u001b[39m_engine \u001b[38;5;241m=\u001b[39m \u001b[38;5;28;43mself\u001b[39;49m\u001b[38;5;241;43m.\u001b[39;49m\u001b[43m_make_engine\u001b[49m\u001b[43m(\u001b[49m\u001b[43mf\u001b[49m\u001b[43m,\u001b[49m\u001b[43m \u001b[49m\u001b[38;5;28;43mself\u001b[39;49m\u001b[38;5;241;43m.\u001b[39;49m\u001b[43mengine\u001b[49m\u001b[43m)\u001b[49m\n",
      "File \u001b[0;32m~/opt/anaconda3/envs/jupiterbook/lib/python3.9/site-packages/pandas/io/parsers/readers.py:1661\u001b[0m, in \u001b[0;36mTextFileReader._make_engine\u001b[0;34m(self, f, engine)\u001b[0m\n\u001b[1;32m   1659\u001b[0m     \u001b[38;5;28;01mif\u001b[39;00m \u001b[38;5;124m\"\u001b[39m\u001b[38;5;124mb\u001b[39m\u001b[38;5;124m\"\u001b[39m \u001b[38;5;129;01mnot\u001b[39;00m \u001b[38;5;129;01min\u001b[39;00m mode:\n\u001b[1;32m   1660\u001b[0m         mode \u001b[38;5;241m+\u001b[39m\u001b[38;5;241m=\u001b[39m \u001b[38;5;124m\"\u001b[39m\u001b[38;5;124mb\u001b[39m\u001b[38;5;124m\"\u001b[39m\n\u001b[0;32m-> 1661\u001b[0m \u001b[38;5;28mself\u001b[39m\u001b[38;5;241m.\u001b[39mhandles \u001b[38;5;241m=\u001b[39m \u001b[43mget_handle\u001b[49m\u001b[43m(\u001b[49m\n\u001b[1;32m   1662\u001b[0m \u001b[43m    \u001b[49m\u001b[43mf\u001b[49m\u001b[43m,\u001b[49m\n\u001b[1;32m   1663\u001b[0m \u001b[43m    \u001b[49m\u001b[43mmode\u001b[49m\u001b[43m,\u001b[49m\n\u001b[1;32m   1664\u001b[0m \u001b[43m    \u001b[49m\u001b[43mencoding\u001b[49m\u001b[38;5;241;43m=\u001b[39;49m\u001b[38;5;28;43mself\u001b[39;49m\u001b[38;5;241;43m.\u001b[39;49m\u001b[43moptions\u001b[49m\u001b[38;5;241;43m.\u001b[39;49m\u001b[43mget\u001b[49m\u001b[43m(\u001b[49m\u001b[38;5;124;43m\"\u001b[39;49m\u001b[38;5;124;43mencoding\u001b[39;49m\u001b[38;5;124;43m\"\u001b[39;49m\u001b[43m,\u001b[49m\u001b[43m \u001b[49m\u001b[38;5;28;43;01mNone\u001b[39;49;00m\u001b[43m)\u001b[49m\u001b[43m,\u001b[49m\n\u001b[1;32m   1665\u001b[0m \u001b[43m    \u001b[49m\u001b[43mcompression\u001b[49m\u001b[38;5;241;43m=\u001b[39;49m\u001b[38;5;28;43mself\u001b[39;49m\u001b[38;5;241;43m.\u001b[39;49m\u001b[43moptions\u001b[49m\u001b[38;5;241;43m.\u001b[39;49m\u001b[43mget\u001b[49m\u001b[43m(\u001b[49m\u001b[38;5;124;43m\"\u001b[39;49m\u001b[38;5;124;43mcompression\u001b[39;49m\u001b[38;5;124;43m\"\u001b[39;49m\u001b[43m,\u001b[49m\u001b[43m \u001b[49m\u001b[38;5;28;43;01mNone\u001b[39;49;00m\u001b[43m)\u001b[49m\u001b[43m,\u001b[49m\n\u001b[1;32m   1666\u001b[0m \u001b[43m    \u001b[49m\u001b[43mmemory_map\u001b[49m\u001b[38;5;241;43m=\u001b[39;49m\u001b[38;5;28;43mself\u001b[39;49m\u001b[38;5;241;43m.\u001b[39;49m\u001b[43moptions\u001b[49m\u001b[38;5;241;43m.\u001b[39;49m\u001b[43mget\u001b[49m\u001b[43m(\u001b[49m\u001b[38;5;124;43m\"\u001b[39;49m\u001b[38;5;124;43mmemory_map\u001b[39;49m\u001b[38;5;124;43m\"\u001b[39;49m\u001b[43m,\u001b[49m\u001b[43m \u001b[49m\u001b[38;5;28;43;01mFalse\u001b[39;49;00m\u001b[43m)\u001b[49m\u001b[43m,\u001b[49m\n\u001b[1;32m   1667\u001b[0m \u001b[43m    \u001b[49m\u001b[43mis_text\u001b[49m\u001b[38;5;241;43m=\u001b[39;49m\u001b[43mis_text\u001b[49m\u001b[43m,\u001b[49m\n\u001b[1;32m   1668\u001b[0m \u001b[43m    \u001b[49m\u001b[43merrors\u001b[49m\u001b[38;5;241;43m=\u001b[39;49m\u001b[38;5;28;43mself\u001b[39;49m\u001b[38;5;241;43m.\u001b[39;49m\u001b[43moptions\u001b[49m\u001b[38;5;241;43m.\u001b[39;49m\u001b[43mget\u001b[49m\u001b[43m(\u001b[49m\u001b[38;5;124;43m\"\u001b[39;49m\u001b[38;5;124;43mencoding_errors\u001b[39;49m\u001b[38;5;124;43m\"\u001b[39;49m\u001b[43m,\u001b[49m\u001b[43m \u001b[49m\u001b[38;5;124;43m\"\u001b[39;49m\u001b[38;5;124;43mstrict\u001b[39;49m\u001b[38;5;124;43m\"\u001b[39;49m\u001b[43m)\u001b[49m\u001b[43m,\u001b[49m\n\u001b[1;32m   1669\u001b[0m \u001b[43m    \u001b[49m\u001b[43mstorage_options\u001b[49m\u001b[38;5;241;43m=\u001b[39;49m\u001b[38;5;28;43mself\u001b[39;49m\u001b[38;5;241;43m.\u001b[39;49m\u001b[43moptions\u001b[49m\u001b[38;5;241;43m.\u001b[39;49m\u001b[43mget\u001b[49m\u001b[43m(\u001b[49m\u001b[38;5;124;43m\"\u001b[39;49m\u001b[38;5;124;43mstorage_options\u001b[39;49m\u001b[38;5;124;43m\"\u001b[39;49m\u001b[43m,\u001b[49m\u001b[43m \u001b[49m\u001b[38;5;28;43;01mNone\u001b[39;49;00m\u001b[43m)\u001b[49m\u001b[43m,\u001b[49m\n\u001b[1;32m   1670\u001b[0m \u001b[43m\u001b[49m\u001b[43m)\u001b[49m\n\u001b[1;32m   1671\u001b[0m \u001b[38;5;28;01massert\u001b[39;00m \u001b[38;5;28mself\u001b[39m\u001b[38;5;241m.\u001b[39mhandles \u001b[38;5;129;01mis\u001b[39;00m \u001b[38;5;129;01mnot\u001b[39;00m \u001b[38;5;28;01mNone\u001b[39;00m\n\u001b[1;32m   1672\u001b[0m f \u001b[38;5;241m=\u001b[39m \u001b[38;5;28mself\u001b[39m\u001b[38;5;241m.\u001b[39mhandles\u001b[38;5;241m.\u001b[39mhandle\n",
      "File \u001b[0;32m~/opt/anaconda3/envs/jupiterbook/lib/python3.9/site-packages/pandas/io/common.py:859\u001b[0m, in \u001b[0;36mget_handle\u001b[0;34m(path_or_buf, mode, encoding, compression, memory_map, is_text, errors, storage_options)\u001b[0m\n\u001b[1;32m    854\u001b[0m \u001b[38;5;28;01melif\u001b[39;00m \u001b[38;5;28misinstance\u001b[39m(handle, \u001b[38;5;28mstr\u001b[39m):\n\u001b[1;32m    855\u001b[0m     \u001b[38;5;66;03m# Check whether the filename is to be opened in binary mode.\u001b[39;00m\n\u001b[1;32m    856\u001b[0m     \u001b[38;5;66;03m# Binary mode does not support 'encoding' and 'newline'.\u001b[39;00m\n\u001b[1;32m    857\u001b[0m     \u001b[38;5;28;01mif\u001b[39;00m ioargs\u001b[38;5;241m.\u001b[39mencoding \u001b[38;5;129;01mand\u001b[39;00m \u001b[38;5;124m\"\u001b[39m\u001b[38;5;124mb\u001b[39m\u001b[38;5;124m\"\u001b[39m \u001b[38;5;129;01mnot\u001b[39;00m \u001b[38;5;129;01min\u001b[39;00m ioargs\u001b[38;5;241m.\u001b[39mmode:\n\u001b[1;32m    858\u001b[0m         \u001b[38;5;66;03m# Encoding\u001b[39;00m\n\u001b[0;32m--> 859\u001b[0m         handle \u001b[38;5;241m=\u001b[39m \u001b[38;5;28;43mopen\u001b[39;49m\u001b[43m(\u001b[49m\n\u001b[1;32m    860\u001b[0m \u001b[43m            \u001b[49m\u001b[43mhandle\u001b[49m\u001b[43m,\u001b[49m\n\u001b[1;32m    861\u001b[0m \u001b[43m            \u001b[49m\u001b[43mioargs\u001b[49m\u001b[38;5;241;43m.\u001b[39;49m\u001b[43mmode\u001b[49m\u001b[43m,\u001b[49m\n\u001b[1;32m    862\u001b[0m \u001b[43m            \u001b[49m\u001b[43mencoding\u001b[49m\u001b[38;5;241;43m=\u001b[39;49m\u001b[43mioargs\u001b[49m\u001b[38;5;241;43m.\u001b[39;49m\u001b[43mencoding\u001b[49m\u001b[43m,\u001b[49m\n\u001b[1;32m    863\u001b[0m \u001b[43m            \u001b[49m\u001b[43merrors\u001b[49m\u001b[38;5;241;43m=\u001b[39;49m\u001b[43merrors\u001b[49m\u001b[43m,\u001b[49m\n\u001b[1;32m    864\u001b[0m \u001b[43m            \u001b[49m\u001b[43mnewline\u001b[49m\u001b[38;5;241;43m=\u001b[39;49m\u001b[38;5;124;43m\"\u001b[39;49m\u001b[38;5;124;43m\"\u001b[39;49m\u001b[43m,\u001b[49m\n\u001b[1;32m    865\u001b[0m \u001b[43m        \u001b[49m\u001b[43m)\u001b[49m\n\u001b[1;32m    866\u001b[0m     \u001b[38;5;28;01melse\u001b[39;00m:\n\u001b[1;32m    867\u001b[0m         \u001b[38;5;66;03m# Binary mode\u001b[39;00m\n\u001b[1;32m    868\u001b[0m         handle \u001b[38;5;241m=\u001b[39m \u001b[38;5;28mopen\u001b[39m(handle, ioargs\u001b[38;5;241m.\u001b[39mmode)\n",
      "\u001b[0;31mFileNotFoundError\u001b[0m: [Errno 2] No such file or directory: './supportfiles/testdata.csv'"
     ]
    }
   ],
   "source": [
    "# Open a file and add the above data (the one with multiple headers) to it and save it as testdata.csv\n",
    "# Open the file and read it into a dataframe\n",
    "df = pd.read_csv('./supportfiles/testdata.csv', sep=',', header=1) # header=1 means that the second row is the header\n",
    "# a tab separated file would be sep='\\t'"
   ]
  },
  {
   "cell_type": "code",
   "execution_count": null,
   "metadata": {},
   "outputs": [],
   "source": [
    "# print the first 5 rows of the dataframe\n",
    "df.head()"
   ]
  },
  {
   "cell_type": "markdown",
   "metadata": {},
   "source": [
    "Note that the first column is the index column. The index column is the column that is used to label the rows. You can change the index column to be the time for example as follows:"
   ]
  },
  {
   "cell_type": "code",
   "execution_count": null,
   "metadata": {},
   "outputs": [],
   "source": [
    "#return or print the columns of the dataframe\n",
    "df.columns"
   ]
  },
  {
   "cell_type": "markdown",
   "metadata": {},
   "source": [
    "Note that the column header's have spaces in them. You can remove that space so it's easier to reference them as follows:"
   ]
  },
  {
   "cell_type": "code",
   "execution_count": null,
   "metadata": {},
   "outputs": [],
   "source": [
    "#remove spaces from the front of the column headers\n",
    "df.columns = df.columns.str.strip() # strip the spaces from the front of the column headers"
   ]
  },
  {
   "cell_type": "code",
   "execution_count": null,
   "metadata": {},
   "outputs": [],
   "source": [
    "df.columns #notice now the spaces are gone in front of the column headers"
   ]
  },
  {
   "cell_type": "markdown",
   "metadata": {},
   "source": [
    "Referencing a column is done by using the column header name. For example, to get the concentration column, you would use the following:"
   ]
  },
  {
   "cell_type": "code",
   "execution_count": null,
   "metadata": {},
   "outputs": [],
   "source": [
    "print(df['Time (s)']) #print the column named Time (s)"
   ]
  },
  {
   "cell_type": "code",
   "execution_count": null,
   "metadata": {},
   "outputs": [],
   "source": [
    "#To get the first value of that column I'd use the following:\n",
    "print(df['Time (s)'][0],'or', df['Time (s)'].iloc[0], 'or', df.iloc[0]['Time (s)'])"
   ]
  },
  {
   "cell_type": "markdown",
   "metadata": {},
   "source": [
    "I can add a new column by simply typing the name of the new column and assigning it some values:"
   ]
  },
  {
   "cell_type": "code",
   "execution_count": null,
   "metadata": {},
   "outputs": [],
   "source": [
    "df['Location'] = 'Lab' #add a column called Location and set all the values to Lab\n",
    "df.head()"
   ]
  },
  {
   "cell_type": "markdown",
   "metadata": {},
   "source": [
    "You can also write to a csv file as follows:"
   ]
  },
  {
   "cell_type": "code",
   "execution_count": null,
   "metadata": {},
   "outputs": [],
   "source": [
    "df.to_csv('./supportfiles/testdataupdated.csv')"
   ]
  },
  {
   "cell_type": "markdown",
   "metadata": {},
   "source": [
    "Similiar to Numpy having many powerful functions and methods, there are many powerful features of the pandas package. You can read more about it here: https://pandas.pydata.org/. "
   ]
  },
  {
   "cell_type": "markdown",
   "metadata": {},
   "source": [
    "### Pandas Example with Vehicle Data\n",
    "Your vehicle monitors many different variables including the revolutions per minute, gas mileage, oxygen sensors, and catalytic converter temperature (unless you have an electric car) to name a few. You have access to that data as there's an OBD II port likely below your steering wheel. I've collected some data from my 2019 Kia Forte that we'll look at."
   ]
  },
  {
   "cell_type": "code",
   "execution_count": 3,
   "metadata": {},
   "outputs": [],
   "source": [
    "# read in the data from the csv file about weather in Ogden Utah\n",
    "data = pd.read_csv('https://github.com/clint-bg/comptools/blob/main/lectures/supportfiles/kiadata.csv?raw=True')\n"
   ]
  },
  {
   "cell_type": "code",
   "execution_count": 4,
   "metadata": {},
   "outputs": [
    {
     "name": "stderr",
     "output_type": "stream",
     "text": [
      "/var/folders/6d/1jr2w1qx1rnd2nkndlq4hc700000gn/T/ipykernel_50789/834267956.py:2: UserWarning: Could not infer format, so each element will be parsed individually, falling back to `dateutil`. To ensure parsing is consistent and as-expected, please specify a format.\n",
      "  data['time'] = pd.to_datetime(data['time']) # set time to datetime to help with plotting\n"
     ]
    }
   ],
   "source": [
    "# prepare data\n",
    "data['time'] = pd.to_datetime(data['time']) # set time to datetime to help with plotting\n",
    "data = data.set_index('time') #set index to time\n",
    "\n",
    "# fill in NaNs as the data for each variable is collected at different times (and so places NaNs in the other columns)\n",
    "# fill in NaNs - forward fill - fill in missing values with the previous value\n",
    "data.fillna(method='ffill',inplace=True)\n",
    "# fill in NaNs - backward fill\n",
    "data.fillna(method='bfill',inplace=True)\n",
    "\n",
    "# remove columns that match keywords\n",
    "for dc in data.columns:\n",
    "    if (\"Average\" in dc) or (\"(total)\" in dc) \\\n",
    "       or (\"$\" in dc) or (\"(mA)\" in dc) or ('Unnamed' in dc):\n",
    "        del data[dc]"
   ]
  },
  {
   "cell_type": "code",
   "execution_count": 5,
   "metadata": {},
   "outputs": [
    {
     "name": "stdout",
     "output_type": "stream",
     "text": [
      "# warm-ups since codes cleared ()\n",
      "Absolute load value (%)\n",
      "Absolute pedal position D (%)\n",
      "Absolute pedal position E (%)\n",
      "Absolute throttle position B (%)\n",
      "Actual engine - percent torque (%)\n",
      "Altitude (GPS) (feet)\n",
      "Ambient air temperature (℉)\n",
      "Barometric pressure (kPa)\n",
      "Calculated boost (bar)\n",
      "Calculated engine load value (%)\n",
      "Calculated instant fuel consumption (MPG)\n",
      "Calculated instant fuel rate (gal./h)\n",
      "Catalyst temperature Bank 1 Sensor 1 (℉)\n",
      "Catalyst temperature Bank 1 Sensor 2 (℉)\n",
      "Commanded EGR duty (%)\n",
      "Commanded evaporative purge (%)\n",
      "Commanded throttle actuator (%)\n",
      "Control module voltage (V)\n",
      "Distance to empty (miles)\n",
      "Distance traveled since codes cleared (miles)\n",
      "Distance traveled with MIL on (miles)\n",
      "Distance travelled (miles)\n",
      "EGR error (%)\n",
      "Engine coolant temperature (℉)\n",
      "Engine Exhaust Flow Rate (g/sec)\n",
      "Engine Friction - Percent Torque (%)\n",
      "Engine Fuel Rate (g/sec)\n",
      "Engine reference torque (N⋅m)\n",
      "Engine RPM (rpm)\n",
      "Engine RPM x1000 (rpm)\n",
      "Evap. system vapor pressure (Pa)\n",
      "Fuel economizer (based on fuel system status and throttle position) ()\n",
      "Fuel level input (%) (%)\n",
      "Fuel level input (V) (gallon)\n",
      "Fuel used (gallon)\n",
      "Fuel/Air commanded equivalence ratio ()\n",
      "Instant engine power (based on fuel consumption) (hp)\n",
      "Instant engine torque (based on fuel consumption) (N⋅m)\n",
      "Intake air temperature (℉)\n",
      "Intake manifold absolute pressure (kPa)\n",
      "Long term fuel % trim - Bank 1 (%)\n",
      "Long term secondary oxygen sensor trim Bank 1 (%)\n",
      "MAF air flow rate (g/sec)\n",
      "OBD Module Voltage (V)\n",
      "Oxygen sensor 1 Wide Range Equivalence ratio ()\n",
      "Oxygen sensor 2 Bank 1 Voltage (V)\n",
      "Power from MAF (hp)\n",
      "Relative throttle position (%)\n",
      "Short term fuel % trim - Bank 1 (%)\n",
      "Short term secondary oxygen sensor trim Bank 1 (%)\n",
      "Speed (GPS) (mph)\n",
      "Throttle position (%)\n",
      "Timing advance (°)\n",
      "Vehicle acceleration (g)\n",
      "Vehicle Fuel Rate (g/sec)\n",
      "Vehicle Odometer Reading (miles)\n",
      "Vehicle speed (mph)\n"
     ]
    }
   ],
   "source": [
    "# print data columns\n",
    "for x in data.columns:\n",
    "    print(x)"
   ]
  },
  {
   "cell_type": "code",
   "execution_count": 6,
   "metadata": {},
   "outputs": [],
   "source": [
    "#rename columns\n",
    "data.rename(columns={'Calculated instant fuel consumption (MPG)':'Calculated MPG'}, inplace=True)"
   ]
  },
  {
   "cell_type": "code",
   "execution_count": 7,
   "metadata": {},
   "outputs": [],
   "source": [
    "#also reset the data for the calculated MPG to be at most 100 mpg with a lambda function\n",
    "data['Calculated MPG'] = data['Calculated MPG'].apply(lambda x: 100 if x>100 else x)"
   ]
  },
  {
   "cell_type": "code",
   "execution_count": 8,
   "metadata": {},
   "outputs": [
    {
     "data": {
      "image/png": "[encoded data removed]",
      "text/plain": [
       "<Figure size 1200x300 with 5 Axes>"
      ]
     },
     "metadata": {},
     "output_type": "display_data"
    }
   ],
   "source": [
    "select = ['Vehicle speed (mph)','Throttle position (%)',\\\n",
    "          'Engine RPM (rpm)', 'Vehicle acceleration (g)','Calculated MPG']\n",
    "data[select].plot(kind='box', subplots=True, figsize=(12,3))\n",
    "plt.show()"
   ]
  },
  {
   "cell_type": "markdown",
   "metadata": {},
   "source": [
    "### Pair plot\n",
    "A pair plot can be helpful to see if any of the variables appear related"
   ]
  },
  {
   "cell_type": "code",
   "execution_count": null,
   "metadata": {},
   "outputs": [],
   "source": [
    "import seaborn as sns\n",
    "sns.pairplot(data[select])\n",
    "plt.show()"
   ]
  },
  {
   "cell_type": "markdown",
   "metadata": {},
   "source": [
    "## Additional Interpolation Examples"
   ]
  },
  {
   "cell_type": "markdown",
   "metadata": {},
   "source": [
    "Suppose we have a set of data points generted from the Runge function:"
   ]
  },
  {
   "cell_type": "code",
   "execution_count": null,
   "metadata": {},
   "outputs": [],
   "source": [
    "def Runge(x):\n",
    "    return 1/(1+15*x**2)"
   ]
  },
  {
   "cell_type": "code",
   "execution_count": null,
   "metadata": {},
   "outputs": [],
   "source": [
    "xvals = np.linspace(-1,1,10)\n",
    "data_runge = Runge(xvals)"
   ]
  },
  {
   "cell_type": "code",
   "execution_count": null,
   "metadata": {},
   "outputs": [],
   "source": [
    "plt.scatter(xvals, data_runge,alpha=0.5)\n",
    "plt.xlabel('x'); plt.ylabel('y')\n",
    "plt.show()"
   ]
  },
  {
   "cell_type": "code",
   "execution_count": null,
   "metadata": {},
   "outputs": [],
   "source": [
    "data_runge"
   ]
  },
  {
   "cell_type": "markdown",
   "metadata": {},
   "source": [
    "Let's use different splining methods to interpolate the data. First, let's use linear interpolation:"
   ]
  },
  {
   "cell_type": "code",
   "execution_count": null,
   "metadata": {},
   "outputs": [],
   "source": [
    "#Add a linear interpolation to the data\n",
    "from scipy.interpolate import interp1d, CubicSpline, BarycentricInterpolator\n",
    "flin = interp1d(xvals, data_runge)\n",
    "xis = np.linspace(-1,1,100)"
   ]
  },
  {
   "cell_type": "code",
   "execution_count": null,
   "metadata": {},
   "outputs": [],
   "source": [
    "plt.plot(xis, flin(xis))\n",
    "plt.scatter(xvals, data_runge,alpha=0.5)\n",
    "plt.xlabel('x'); plt.ylabel('y')\n",
    "plt.show()"
   ]
  },
  {
   "cell_type": "markdown",
   "metadata": {},
   "source": [
    "Now lets use cubic interpolation (3 or more points are needed for cubic interpolation as it's a 3rd order or higher polynomial). Barycentric interpolation is a type of cubic interpolation. "
   ]
  },
  {
   "cell_type": "code",
   "execution_count": null,
   "metadata": {},
   "outputs": [],
   "source": [
    "#add cubic interpolation\n",
    "cs = CubicSpline(xvals, data_runge)\n",
    "bc = BarycentricInterpolator(xvals, data_runge)"
   ]
  },
  {
   "cell_type": "code",
   "execution_count": null,
   "metadata": {},
   "outputs": [],
   "source": [
    "plt.plot(xis, cs(xis), label='cubic')\n",
    "plt.plot(xis, bc(xis), label='barycentric')\n",
    "plt.plot(xis, flin(xis),label='linear')\n",
    "plt.scatter(xvals, data_runge,alpha=0.5)\n",
    "plt.xlabel('x'); plt.ylabel('y')\n",
    "plt.legend(); plt.show()"
   ]
  },
  {
   "cell_type": "markdown",
   "metadata": {},
   "source": [
    "Note that the higher order cubic interpolation can have wide oscillations at the end points. This is called Runge's phenomenon (https://en.wikipedia.org/wiki/Runge%27s_phenomenon)."
   ]
  },
  {
   "cell_type": "markdown",
   "metadata": {},
   "source": [
    "You can also complete multi-variable interpolation. For example, suppose we have the following data:"
   ]
  },
  {
   "cell_type": "code",
   "execution_count": null,
   "metadata": {},
   "outputs": [],
   "source": [
    "#multivariate interpolation\n",
    "from scipy.interpolate import griddata\n",
    "x = np.linspace(-1,1,10)\n",
    "y = np.linspace(-1,1,20)\n",
    "xx, yy = np.meshgrid(x,y)\n",
    "zz = Runge(xx) * Runge(yy)**2\n",
    "\n",
    "plt.imshow(zz, extent=[-1,1,-1,1], origin='lower')\n",
    "plt.colorbar()\n",
    "plt.show()"
   ]
  },
  {
   "cell_type": "code",
   "execution_count": null,
   "metadata": {},
   "outputs": [],
   "source": [
    "#interpolate the data\n",
    "xi = np.linspace(-1,1,500)\n",
    "yi = np.linspace(-1,1,500)\n",
    "xxi, yyi = np.meshgrid(xi,yi)\n",
    "zzi = griddata((xx.flatten(), yy.flatten()), zz.flatten(), (xxi, yyi), method='cubic')\n",
    "\n",
    "plt.imshow(zzi, extent=[-1,1,-1,1], origin='lower')\n",
    "plt.colorbar()\n",
    "plt.show()"
   ]
  },
  {
   "cell_type": "markdown",
   "metadata": {},
   "source": [
    "## Models"
   ]
  },
  {
   "cell_type": "markdown",
   "metadata": {},
   "source": [
    "Anytime you create a function, you've just created a model. A model relates one thing to another. The variable(s) that you can control is/are the independent variable(s) and the output from the function (or model) is/are the dependent variable(s). There are model's all around us including:\n",
    "- in your phone, there is a model that relates the voltage of the battery to the percentage of battery life left\n",
    "- in your car, there is a model that relates the vehicle speed to the amount of fuel used \n",
    "- in your refrigerator, there is a model that relates the temperature setting to the temperature inside the refrigerator\n",
    "- in your phone that relates the destination to the route and time predicted to get there"
   ]
  },
  {
   "cell_type": "markdown",
   "metadata": {},
   "source": [
    "### Empirical or Theoretical Models"
   ]
  },
  {
   "cell_type": "markdown",
   "metadata": {},
   "source": [
    "Models can be empirical which is what is typically meant when you complete regression: you fit data collected to an empirical relationship. For example, you might have a set of data that you fit to a linear model. The linear model is an empirical model."
   ]
  },
  {
   "cell_type": "markdown",
   "metadata": {},
   "source": [
    "Theoretical models are models that are based on theory. For example, the ideal gas law is a theoretical model. Or for ODE's that we've talked about where we use the balance equations (accum = in - out + gen - cons), the relationship between the independent variables and dependent variables can be based on theory."
   ]
  },
  {
   "cell_type": "markdown",
   "metadata": {},
   "source": [
    "From the above description, there are many variables that could be related to each other. For example, the revolutions per minute (RPM) could be related to the gas mileage. The catalytic converter temperature could be related to the oxygen sensor. We'll look at the relationship between the RPM and gas mileage."
   ]
  },
  {
   "cell_type": "markdown",
   "metadata": {},
   "source": [
    "### Regression with Statsmodels"
   ]
  },
  {
   "cell_type": "markdown",
   "metadata": {},
   "source": [
    "#### First Generate Data"
   ]
  },
  {
   "cell_type": "code",
   "execution_count": 9,
   "metadata": {},
   "outputs": [],
   "source": [
    "def tree_height(w,f):\n",
    "    return 5*w**2 + (8*f) + np.random.rand(50)*0.1+5"
   ]
  },
  {
   "cell_type": "code",
   "execution_count": 10,
   "metadata": {},
   "outputs": [
    {
     "data": {
      "text/html": [
       "<div>\n",
       "<style scoped>\n",
       "    .dataframe tbody tr th:only-of-type {\n",
       "        vertical-align: middle;\n",
       "    }\n",
       "\n",
       "    .dataframe tbody tr th {\n",
       "        vertical-align: top;\n",
       "    }\n",
       "\n",
       "    .dataframe thead th {\n",
       "        text-align: right;\n",
       "    }\n",
       "</style>\n",
       "<table border=\"1\" class=\"dataframe\">\n",
       "  <thead>\n",
       "    <tr style=\"text-align: right;\">\n",
       "      <th></th>\n",
       "      <th>water</th>\n",
       "      <th>fertilizer</th>\n",
       "      <th>height</th>\n",
       "    </tr>\n",
       "  </thead>\n",
       "  <tbody>\n",
       "    <tr>\n",
       "      <th>0</th>\n",
       "      <td>0.000000</td>\n",
       "      <td>0.000000</td>\n",
       "      <td>5.067532</td>\n",
       "    </tr>\n",
       "    <tr>\n",
       "      <th>1</th>\n",
       "      <td>0.020408</td>\n",
       "      <td>0.010204</td>\n",
       "      <td>5.109235</td>\n",
       "    </tr>\n",
       "    <tr>\n",
       "      <th>2</th>\n",
       "      <td>0.040816</td>\n",
       "      <td>0.020408</td>\n",
       "      <td>5.193282</td>\n",
       "    </tr>\n",
       "    <tr>\n",
       "      <th>3</th>\n",
       "      <td>0.061224</td>\n",
       "      <td>0.030612</td>\n",
       "      <td>5.276644</td>\n",
       "    </tr>\n",
       "    <tr>\n",
       "      <th>4</th>\n",
       "      <td>0.081633</td>\n",
       "      <td>0.040816</td>\n",
       "      <td>5.382885</td>\n",
       "    </tr>\n",
       "  </tbody>\n",
       "</table>\n",
       "</div>"
      ],
      "text/plain": [
       "      water  fertilizer    height\n",
       "0  0.000000    0.000000  5.067532\n",
       "1  0.020408    0.010204  5.109235\n",
       "2  0.040816    0.020408  5.193282\n",
       "3  0.061224    0.030612  5.276644\n",
       "4  0.081633    0.040816  5.382885"
      ]
     },
     "execution_count": 10,
     "metadata": {},
     "output_type": "execute_result"
    }
   ],
   "source": [
    "#generate data\n",
    "tree = dict(water=np.linspace(0,1,50),fertilizer=np.linspace(0,0.5,50))\n",
    "tree['height'] = tree_height(tree['water'], tree['fertilizer'])\n",
    "tree = pd.DataFrame(tree)\n",
    "tree.head()"
   ]
  },
  {
   "cell_type": "code",
   "execution_count": 11,
   "metadata": {},
   "outputs": [
    {
     "data": {
      "text/html": [
       "<div>\n",
       "<style scoped>\n",
       "    .dataframe tbody tr th:only-of-type {\n",
       "        vertical-align: middle;\n",
       "    }\n",
       "\n",
       "    .dataframe tbody tr th {\n",
       "        vertical-align: top;\n",
       "    }\n",
       "\n",
       "    .dataframe thead th {\n",
       "        text-align: right;\n",
       "    }\n",
       "</style>\n",
       "<table border=\"1\" class=\"dataframe\">\n",
       "  <thead>\n",
       "    <tr style=\"text-align: right;\">\n",
       "      <th></th>\n",
       "      <th>water</th>\n",
       "      <th>fertilizer</th>\n",
       "      <th>height</th>\n",
       "    </tr>\n",
       "  </thead>\n",
       "  <tbody>\n",
       "    <tr>\n",
       "      <th>count</th>\n",
       "      <td>50.000000</td>\n",
       "      <td>50.000000</td>\n",
       "      <td>50.000000</td>\n",
       "    </tr>\n",
       "    <tr>\n",
       "      <th>mean</th>\n",
       "      <td>0.500000</td>\n",
       "      <td>0.250000</td>\n",
       "      <td>8.727362</td>\n",
       "    </tr>\n",
       "    <tr>\n",
       "      <th>std</th>\n",
       "      <td>0.297498</td>\n",
       "      <td>0.148749</td>\n",
       "      <td>2.707310</td>\n",
       "    </tr>\n",
       "    <tr>\n",
       "      <th>min</th>\n",
       "      <td>0.000000</td>\n",
       "      <td>0.000000</td>\n",
       "      <td>5.067532</td>\n",
       "    </tr>\n",
       "    <tr>\n",
       "      <th>25%</th>\n",
       "      <td>0.250000</td>\n",
       "      <td>0.125000</td>\n",
       "      <td>6.369687</td>\n",
       "    </tr>\n",
       "    <tr>\n",
       "      <th>50%</th>\n",
       "      <td>0.500000</td>\n",
       "      <td>0.250000</td>\n",
       "      <td>8.271918</td>\n",
       "    </tr>\n",
       "    <tr>\n",
       "      <th>75%</th>\n",
       "      <td>0.750000</td>\n",
       "      <td>0.375000</td>\n",
       "      <td>10.838586</td>\n",
       "    </tr>\n",
       "    <tr>\n",
       "      <th>max</th>\n",
       "      <td>1.000000</td>\n",
       "      <td>0.500000</td>\n",
       "      <td>14.004931</td>\n",
       "    </tr>\n",
       "  </tbody>\n",
       "</table>\n",
       "</div>"
      ],
      "text/plain": [
       "           water  fertilizer     height\n",
       "count  50.000000   50.000000  50.000000\n",
       "mean    0.500000    0.250000   8.727362\n",
       "std     0.297498    0.148749   2.707310\n",
       "min     0.000000    0.000000   5.067532\n",
       "25%     0.250000    0.125000   6.369687\n",
       "50%     0.500000    0.250000   8.271918\n",
       "75%     0.750000    0.375000  10.838586\n",
       "max     1.000000    0.500000  14.004931"
      ]
     },
     "execution_count": 11,
     "metadata": {},
     "output_type": "execute_result"
    }
   ],
   "source": [
    "tree.describe()"
   ]
  },
  {
   "cell_type": "code",
   "execution_count": 13,
   "metadata": {},
   "outputs": [],
   "source": [
    "#meshplot the dataa\n",
    "W, F = np.meshgrid(tree['water'],tree['fertilizer'])\n",
    "H = tree_height(W,F)\n",
    "\n",
    "nr, nc = H.shape"
   ]
  },
  {
   "cell_type": "code",
   "execution_count": 14,
   "metadata": {},
   "outputs": [
    {
     "data": {
      "image/png": "[encoded data removed]",
      "text/plain": [
       "<Figure size 640x480 with 2 Axes>"
      ]
     },
     "metadata": {},
     "output_type": "display_data"
    }
   ],
   "source": [
    "fig1, ax2 = plt.subplots(layout='constrained')\n",
    "CS = ax2.contourf(W, F, H, 10, cmap=plt.cm.bone)\n",
    "\n",
    "# Note that in the following, we explicitly pass in a subset of the contour\n",
    "# levels used for the filled contours.  Alternatively, we could pass in\n",
    "# additional levels to provide extra resolution, or leave out the *levels*\n",
    "# keyword argument to use all of the original levels.\n",
    "\n",
    "CS2 = ax2.contour(CS, levels=CS.levels[::2], colors='gray')\n",
    "\n",
    "ax2.set_title('Tree Height')\n",
    "ax2.set_xlabel('water')\n",
    "ax2.set_ylabel('fertilizer')\n",
    "\n",
    "# Make a colorbar for the ContourSet returned by the contourf call.\n",
    "cbar = fig1.colorbar(CS)\n",
    "cbar.ax.set_ylabel('height')\n",
    "# Add the contour line levels to the colorbar\n",
    "cbar.add_lines(CS2)"
   ]
  },
  {
   "cell_type": "markdown",
   "metadata": {},
   "source": [
    "#### Now complete the regression, first with one variable: fertilizer"
   ]
  },
  {
   "cell_type": "code",
   "execution_count": 15,
   "metadata": {},
   "outputs": [
    {
     "name": "stdout",
     "output_type": "stream",
     "text": [
      "                            OLS Regression Results                            \n",
      "==============================================================================\n",
      "Dep. Variable:                 height   R-squared:                       0.979\n",
      "Model:                            OLS   Adj. R-squared:                  0.979\n",
      "Method:                 Least Squares   F-statistic:                     2291.\n",
      "Date:                Thu, 12 Oct 2023   Prob (F-statistic):           3.60e-42\n",
      "Time:                        09:43:22   Log-Likelihood:                -23.081\n",
      "No. Observations:                  50   AIC:                             50.16\n",
      "Df Residuals:                      48   BIC:                             53.99\n",
      "Df Model:                           1                                         \n",
      "Covariance Type:            nonrobust                                         \n",
      "==============================================================================\n",
      "                 coef    std err          t      P>|t|      [0.025      0.975]\n",
      "------------------------------------------------------------------------------\n",
      "const          4.2242      0.109     38.687      0.000       4.005       4.444\n",
      "fertilizer    18.0128      0.376     47.866      0.000      17.256      18.769\n",
      "==============================================================================\n",
      "Omnibus:                        6.334   Durbin-Watson:                   0.032\n",
      "Prob(Omnibus):                  0.042   Jarque-Bera (JB):                4.766\n",
      "Skew:                           0.628   Prob(JB):                       0.0923\n",
      "Kurtosis:                       2.158   Cond. No.                         7.22\n",
      "==============================================================================\n",
      "\n",
      "Notes:\n",
      "[1] Standard Errors assume that the covariance matrix of the errors is correctly specified.\n"
     ]
    }
   ],
   "source": [
    "#Complete the same above task with the statsmodels package\n",
    "import statsmodels.api as sm\n",
    "X = tree['fertilizer']\n",
    "X = sm.add_constant(X)\n",
    "y = tree['height']\n",
    "#X = sm.add_constant(X) include this if you want to fit a line with an intercept\n",
    "model1 = sm.OLS(y, X)\n",
    "results1 = model1.fit()\n",
    "print(results1.summary())"
   ]
  },
  {
   "cell_type": "code",
   "execution_count": 16,
   "metadata": {},
   "outputs": [],
   "source": [
    "Zp = []; Wf = W.flatten(); Ff = F.flatten()\n",
    "for i,each in enumerate(Wf):\n",
    "    Zp.append(results1.params[0] + results1.params[1]*Ff[i])\n",
    "Zp = np.array(Zp).reshape(50,50)"
   ]
  },
  {
   "cell_type": "code",
   "execution_count": 17,
   "metadata": {},
   "outputs": [
    {
     "data": {
      "text/plain": [
       "19.718262199086002"
      ]
     },
     "execution_count": 17,
     "metadata": {},
     "output_type": "execute_result"
    }
   ],
   "source": [
    "#Calculate the MAPE\n",
    "np.mean((np.abs(H.flatten() - Zp.flatten()))/H.flatten())*100"
   ]
  },
  {
   "cell_type": "code",
   "execution_count": 18,
   "metadata": {},
   "outputs": [
    {
     "data": {
      "image/png": "[encoded data removed]",
      "text/plain": [
       "<Figure size 640x480 with 2 Axes>"
      ]
     },
     "metadata": {},
     "output_type": "display_data"
    }
   ],
   "source": [
    "fig1, ax2 = plt.subplots(layout='constrained')\n",
    "CS = ax2.contourf(W, F, Zp, 10, cmap=plt.cm.bone)\n",
    "\n",
    "# Note that in the following, we explicitly pass in a subset of the contour\n",
    "# levels used for the filled contours.  Alternatively, we could pass in\n",
    "# additional levels to provide extra resolution, or leave out the *levels*\n",
    "# keyword argument to use all of the original levels.\n",
    "\n",
    "CS2 = ax2.contour(CS, levels=CS.levels[::2], colors='gray')\n",
    "\n",
    "ax2.set_title('Tree Height')\n",
    "ax2.set_xlabel('water')\n",
    "ax2.set_ylabel('fertilizer')\n",
    "\n",
    "# Make a colorbar for the ContourSet returned by the contourf call.\n",
    "cbar = fig1.colorbar(CS)\n",
    "cbar.ax.set_ylabel('height')\n",
    "# Add the contour line levels to the colorbar\n",
    "cbar.add_lines(CS2)"
   ]
  },
  {
   "cell_type": "markdown",
   "metadata": {},
   "source": [
    "#### Now complete the regression with two variables: fertilizer and water"
   ]
  },
  {
   "cell_type": "code",
   "execution_count": 19,
   "metadata": {},
   "outputs": [
    {
     "name": "stdout",
     "output_type": "stream",
     "text": [
      "                            OLS Regression Results                            \n",
      "==============================================================================\n",
      "Dep. Variable:                 height   R-squared:                       0.979\n",
      "Model:                            OLS   Adj. R-squared:                  0.979\n",
      "Method:                 Least Squares   F-statistic:                     2291.\n",
      "Date:                Thu, 12 Oct 2023   Prob (F-statistic):           3.60e-42\n",
      "Time:                        09:44:57   Log-Likelihood:                -23.081\n",
      "No. Observations:                  50   AIC:                             50.16\n",
      "Df Residuals:                      48   BIC:                             53.99\n",
      "Df Model:                           1                                         \n",
      "Covariance Type:            nonrobust                                         \n",
      "==============================================================================\n",
      "                 coef    std err          t      P>|t|      [0.025      0.975]\n",
      "------------------------------------------------------------------------------\n",
      "const          4.2242      0.109     38.687      0.000       4.005       4.444\n",
      "water          7.2051      0.151     47.866      0.000       6.902       7.508\n",
      "fertilizer     3.6026      0.075     47.866      0.000       3.451       3.754\n",
      "==============================================================================\n",
      "Omnibus:                        6.334   Durbin-Watson:                   0.032\n",
      "Prob(Omnibus):                  0.042   Jarque-Bera (JB):                4.766\n",
      "Skew:                           0.628   Prob(JB):                       0.0923\n",
      "Kurtosis:                       2.158   Cond. No.                     1.11e+16\n",
      "==============================================================================\n",
      "\n",
      "Notes:\n",
      "[1] Standard Errors assume that the covariance matrix of the errors is correctly specified.\n",
      "[2] The smallest eigenvalue is 5.45e-31. This might indicate that there are\n",
      "strong multicollinearity problems or that the design matrix is singular.\n"
     ]
    }
   ],
   "source": [
    "#Complete the same above task with the statsmodels package\n",
    "import statsmodels.api as sm\n",
    "X = tree[['water','fertilizer']]\n",
    "X = sm.add_constant(X)\n",
    "y = tree['height']\n",
    "model2 = sm.OLS(y, X)\n",
    "results2 = model2.fit()\n",
    "print(results2.summary())"
   ]
  },
  {
   "cell_type": "code",
   "execution_count": 20,
   "metadata": {},
   "outputs": [],
   "source": [
    "Zp2 = []\n",
    "for i,each in enumerate(Wf):\n",
    "    Zp2.append(results2.params[0]+results2.params[1]*Wf[i]+results2.params[2]*Ff[i])\n",
    "Zp2 = np.array(Zp2).reshape(50,50)"
   ]
  },
  {
   "cell_type": "code",
   "execution_count": 21,
   "metadata": {},
   "outputs": [
    {
     "data": {
      "image/png": "[encoded data removed]",
      "text/plain": [
       "<Figure size 640x480 with 2 Axes>"
      ]
     },
     "metadata": {},
     "output_type": "display_data"
    }
   ],
   "source": [
    "fig1, ax2 = plt.subplots(layout='constrained')\n",
    "CS = ax2.contourf(W, F, Zp2, 10, cmap=plt.cm.bone)\n",
    "\n",
    "# Note that in the following, we explicitly pass in a subset of the contour\n",
    "# levels used for the filled contours.  Alternatively, we could pass in\n",
    "# additional levels to provide extra resolution, or leave out the *levels*\n",
    "# keyword argument to use all of the original levels.\n",
    "\n",
    "CS2 = ax2.contour(CS, levels=CS.levels[::2], colors='gray')\n",
    "\n",
    "ax2.set_title('Tree Height')\n",
    "ax2.set_xlabel('water')\n",
    "ax2.set_ylabel('fertilizer')\n",
    "\n",
    "# Make a colorbar for the ContourSet returned by the contourf call.\n",
    "cbar = fig1.colorbar(CS)\n",
    "cbar.ax.set_ylabel('height')\n",
    "# Add the contour line levels to the colorbar\n",
    "cbar.add_lines(CS2)"
   ]
  },
  {
   "cell_type": "code",
   "execution_count": 22,
   "metadata": {},
   "outputs": [
    {
     "data": {
      "text/plain": [
       "9.923294466701206"
      ]
     },
     "execution_count": 22,
     "metadata": {},
     "output_type": "execute_result"
    }
   ],
   "source": [
    "#Calculate the MAPE\n",
    "np.mean((np.abs(H.flatten() - Zp2.flatten()))/H.flatten())*100"
   ]
  },
  {
   "cell_type": "code",
   "execution_count": null,
   "metadata": {},
   "outputs": [],
   "source": []
  }
 ],
 "metadata": {
  "kernelspec": {
   "display_name": "Python 3 (ipykernel)",
   "language": "python",
   "name": "python3"
  },
  "language_info": {
   "codemirror_mode": {
    "name": "ipython",
    "version": 3
   },
   "file_extension": ".py",
   "mimetype": "text/x-python",
   "name": "python",
   "nbconvert_exporter": "python",
   "pygments_lexer": "ipython3",
   "version": "3.9.16"
  }
 },
 "nbformat": 4,
 "nbformat_minor": 2
}
