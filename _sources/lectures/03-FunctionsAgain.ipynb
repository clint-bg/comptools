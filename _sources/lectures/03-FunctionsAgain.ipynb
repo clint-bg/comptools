{
 "cells": [
  {
   "attachments": {},
   "cell_type": "markdown",
   "metadata": {},
   "source": [
    "# 03-Functions of Heat Transfer\n",
    "A common equation used in heat transfer is the empirical relation relating the convective heat transfer coefficient to the temperature difference between the object and the fluid to yield the amount of heat transferred. This equation is called Newton's Law of Cooling and is given by:\n",
    "\n",
    "\\begin{equation}\n",
    "\\dot{Q} = h A_s (T_s - T_\\infty)\n",
    "\\end{equation}\n",
    "\n",
    "where $\\dot{Q}$ is the heat transfer rate, $h$ is the convective heat transfer coefficient, $A_s$ is the surface area of the object, $T_s$ is the surface temperature of the object, and $T_\\infty$ is the temperature of the fluid."
   ]
  },
  {
   "cell_type": "code",
   "execution_count": null,
   "metadata": {},
   "outputs": [],
   "source": []
  }
 ],
 "metadata": {
  "kernelspec": {
   "display_name": "Python 3",
   "language": "python",
   "name": "python3"
  },
  "language_info": {
   "codemirror_mode": {
    "name": "ipython",
    "version": 3
   },
   "file_extension": ".py",
   "mimetype": "text/x-python",
   "name": "python",
   "nbconvert_exporter": "python",
   "pygments_lexer": "ipython3",
   "version": "3.9.16"
  },
  "orig_nbformat": 4
 },
 "nbformat": 4,
 "nbformat_minor": 2
}
