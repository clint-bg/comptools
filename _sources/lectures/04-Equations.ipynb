{
 "cells": [
  {
   "attachments": {},
   "cell_type": "markdown",
   "metadata": {},
   "source": [
    "# 04-Equations to Solve Problems\n",
    "Solving systems of equations is a common task in engineering.  In this section, we'll review how to solve systems of equations using Python with multiple different approaches. The exampels will come from evaluating mass balances on a processing system."
   ]
  },
  {
   "attachments": {},
   "cell_type": "markdown",
   "metadata": {},
   "source": [
    "## Solving Linear Systems of Equations\n",
    "Separation process principles are critical to many industries. Lets say you have a flashing unit that is separating a mixture of benzene and toluene.  The feed to the unit is 40 mol% benzene and 60 mol% toluene.  The vapor leaving the unit is 80 mol% benzene and 20 mol% toluene.  The liquid leaving the unit is 10 mol% benzene and 90 mol% toluene.  The feed rate is 100 mol/hr.  The vapor and liquid leaving the unit are in equilibrium.  What are the flow rates of the vapor and liquid leaving the unit?\n",
    "\n",
    "This problem can be solved by writing a system of equations and solving for the unknowns.  In this case, we have two unknowns, the vapor and liquid flow rates.  We can write two equations, one for the benzene balance and one for the total flows. One of the equations would be a species balance and the other equation a total mass balance. A picture of the system is shown below.\n"
   ]
  },
  {
   "attachments": {},
   "cell_type": "markdown",
   "metadata": {},
   "source": [
    "<img src=supportfiles/flashingunitbasic.png width=\"200\">"
   ]
  },
  {
   "attachments": {},
   "cell_type": "markdown",
   "metadata": {},
   "source": [
    "The inlet enters at the left and the vapor exists the top and the liquid exists the bottom. This is equivalent to a single stage of a distillation column.  The equations are:\n",
    "\n",
    "$$\n",
    "\\begin{align}\n",
    "F &= L + V \\\\\n",
    "z_i F &= x_i L + y_i V\n",
    "\\end{align}\n",
    "$$\n",
    "\n",
    "which for this case $z_i$ = 0.4, $F$ = 100 mol/hr, $x_i$ = 0.1, $y_i$ = 0.8. We can solve this in many different ways. We'll solve this system of equations multiple ways:\n",
    "- first we'll do it using SymPy,\n",
    "- then we'll do it using NumPy,\n",
    "- then we'll do it using SciPy,\n",
    "- then we'll do it using Gauss Elimination,\n",
    "- and with Gekko (a software package for dynamic optimization).\n",
    "\n",
    "Of course this simple set could be rearranged and solved algebraically.\n"
   ]
  },
  {
   "attachments": {},
   "cell_type": "markdown",
   "metadata": {},
   "source": [
    "### Solve Linear System with Sympy\n",
    "The above equations can be solved symbolically as shown below using the sympy package. "
   ]
  },
  {
   "cell_type": "code",
   "execution_count": 1,
   "metadata": {},
   "outputs": [
    {
     "data": {
      "text/latex": [
       "$\\displaystyle \\left\\{ L : 57.1428571428571, \\  V : 42.8571428571429\\right\\}$"
      ],
      "text/plain": [
       "<IPython.core.display.Math object>"
      ]
     },
     "metadata": {},
     "output_type": "display_data"
    }
   ],
   "source": [
    "import sympy as sym\n",
    "from IPython.display import display, Math\n",
    "L = sym.symbols('L')\n",
    "V = sym.symbols('V')\n",
    "ans = sym.solve([100 - (L+V), 0.4*100-0.1*L-0.8*V], [L,V])\n",
    "#or equiavlently you can use \n",
    "#ans = sym.linsolve([100 - (L+V), 0.4*100-0.1*L-0.8*V],[L,V])\n",
    "display(Math(sym.latex(ans)))"
   ]
  },
  {
   "attachments": {},
   "cell_type": "markdown",
   "metadata": {},
   "source": [
    "### Solve Linear System with Numpy\n",
    "The above equations can be solved numerically as shown below using the numpy package. First you'll adjust the equations algebraically to be in the form Ax = b.  Then you'll use the numpy.linalg.solve function to solve the system of equations."
   ]
  },
  {
   "attachments": {},
   "cell_type": "markdown",
   "metadata": {},
   "source": [
    "The above equation rearranged into the form Ax = b is:\n",
    "\n",
    "$$\n",
    "\\begin{align}\n",
    "L + V &= 100 \\\\\n",
    "0.1 L + 0.8 V &= 40\n",
    "\\end{align}\n",
    "$$\n",
    "\n",
    "The A matrix is:\n",
    "\n",
    "$$\n",
    "\\begin{bmatrix}\n",
    "1 & 1 \\\\\n",
    "0.1 & 0.8\n",
    "\\end{bmatrix}\n",
    "$$\n",
    "\n",
    "and the b vector is:\n",
    "\n",
    "$$\n",
    "\\begin{bmatrix}\n",
    "100 \\\\\n",
    "40\n",
    "\\end{bmatrix}\n",
    "$$"
   ]
  },
  {
   "cell_type": "code",
   "execution_count": 2,
   "metadata": {},
   "outputs": [
    {
     "name": "stdout",
     "output_type": "stream",
     "text": [
      "The solution is [57.14285714 42.85714286] for the system of equations with the first value equal to L and the second value equal to V\n"
     ]
    }
   ],
   "source": [
    "import numpy as np\n",
    "A = np.array([[1,1],[0.1,0.8]])\n",
    "b = np.array([100,40])\n",
    "\n",
    "x = np.linalg.solve(A,b)\n",
    "print(f'The solution is {x} for the system of equations with the first value equal to L and the second value equal to V')"
   ]
  },
  {
   "attachments": {},
   "cell_type": "markdown",
   "metadata": {},
   "source": [
    "### Solve Linear System with Scipy\n",
    "The above equations can be solved numerically as shown below using the scipy package. Fsolve can be used to solve for multiple variables in both a non-linear and linear scenario given there are continuous functions and the number of equations = number of unknowns."
   ]
  },
  {
   "cell_type": "code",
   "execution_count": 3,
   "metadata": {},
   "outputs": [
    {
     "name": "stdout",
     "output_type": "stream",
     "text": [
      "The solution is 57.14 for L and 42.86 for V\n"
     ]
    }
   ],
   "source": [
    "from scipy.optimize import fsolve\n",
    "def equations(p):\n",
    "    L,V = p\n",
    "    return (100 - (L+V), 0.4*100-0.1*L-0.8*V) #each equation is set so that it is equal to zero, also the returned value is also a tuple\n",
    "\n",
    "L,V =  fsolve(equations, (1,1))\n",
    "print(f'The solution is {L:0.2f} for L and {V:0.2f} for V')"
   ]
  },
  {
   "attachments": {},
   "cell_type": "markdown",
   "metadata": {},
   "source": [
    "### Solve Linear System with Gaussian Elimination\n",
    "Linear algebra techniques can be used to take the inverse of the A matrix and multiply it by the b vector to solve for the unknowns.  One way to get the inverse of the A matrix is to use the Gauss Elimination method.  This method is shown below. Similar to the linalg solution above, the system of equations are arranged in the form Ax = b."
   ]
  },
  {
   "cell_type": "code",
   "execution_count": 4,
   "metadata": {},
   "outputs": [
    {
     "name": "stdout",
     "output_type": "stream",
     "text": [
      "Solution:\n",
      "[57.14285714 42.85714286]\n"
     ]
    }
   ],
   "source": [
    "import numpy as np\n",
    "\n",
    "# Define the augmented matrix [A|b]\n",
    "A = np.array([[1, 1],\n",
    "                [0.1, 0.8]])\n",
    "\n",
    "b = np.array([100, 40])\n",
    "\n",
    "# Augmented matrix dimensions\n",
    "n_rows, n_cols = A.shape\n",
    "\n",
    "# Forward elimination\n",
    "for k in range(n_rows - 1):\n",
    "    for i in range(k + 1, n_rows):\n",
    "        factor = A[i, k] / A[k, k]\n",
    "        A[i, k:] -= factor * A[k, k:]\n",
    "        b[i] -= factor * b[k]\n",
    "\n",
    "# Back substitution\n",
    "x = np.zeros(n_rows)\n",
    "for i in range(n_rows - 1, -1, -1):\n",
    "    x[i] = (b[i] - np.dot(A[i, i+1:], x[i+1:])) / A[i, i]\n",
    "\n",
    "print(\"Solution:\")\n",
    "print(x)"
   ]
  },
  {
   "cell_type": "code",
   "execution_count": 5,
   "metadata": {},
   "outputs": [
    {
     "name": "stdout",
     "output_type": "stream",
     "text": [
      "The solution is 57.14 for L and 42.86 for V\n"
     ]
    }
   ],
   "source": [
    "#Solve equation with Gekko\n",
    "from gekko import GEKKO\n",
    "m = GEKKO() # Initialize gekko\n",
    "L = m.Var(value=1) # Initialize variables\n",
    "V = m.Var(value=1)\n",
    "m.Equations([L+V==100,0.1*L+0.8*V==40]) # Equations\n",
    "m.solve(disp=False) # Solve\n",
    "print(f'The solution is {L.value[0]:0.2f} for L and {V.value[0]:0.2f} for V')"
   ]
  },
  {
   "attachments": {},
   "cell_type": "markdown",
   "metadata": {},
   "source": [
    "The above answers are consistent with the answers from the other methods."
   ]
  },
  {
   "attachments": {},
   "cell_type": "markdown",
   "metadata": {},
   "source": [
    "## Solving Non-Linear Systems of Equations\n",
    "Similar tools can be used to solve non-linear systems of equations. Scipy's fsolve is commonly used. There are other tools including Gekko, and Newton's method."
   ]
  },
  {
   "attachments": {},
   "cell_type": "markdown",
   "metadata": {},
   "source": [
    "One application of solving a non-linear equatoin in chemical engineering is calculating the pressure loss from flow down a pipe using the Colbrook equation to determine the Darcy friction factor.  The Darcy friction factor is used to calculate the pressure drop in a pipe.  The Darcy friction factor is a function of the Reynolds number and the relative roughness of the pipe.  The Reynolds number is a function of the fluid velocity, density, viscosity, and pipe diameter.  "
   ]
  },
  {
   "cell_type": "code",
   "execution_count": 6,
   "metadata": {},
   "outputs": [],
   "source": [
    "#Colebrook equation, Re is Reynolds number, D is pipe diameter, epsilon is the pipe roughness\n",
    "def Colbrook(f,Re,D,epsil):\n",
    "    return 1/np.sqrt(f) + 2*np.log10(2.51/(Re*np.sqrt(f))+epsil/(3.71*D)) "
   ]
  },
  {
   "attachments": {},
   "cell_type": "markdown",
   "metadata": {},
   "source": [
    "The Colbrook equation is:\n",
    "\n",
    "$$\n",
    "\\begin{equation}\n",
    "\\frac{1}{\\sqrt{f}} = -2.0 \\log_{10} \\left( \\frac{\\epsilon/D}{3.71} + \\frac{2.51}{\\text{Re} \\sqrt{f}} \\right)\n",
    "\\end{equation}\n",
    "$$\n",
    "\n",
    "where $f$ is the darcy friction factor, $\\epsilon$ is the pipe roughness, $D$ is the pipe diameter, and Re is the Reynolds number equal to the product of the fluid density, velocity, and diameter divided by the fluid viscosity. This is valid with a relative roughness of $\\epsilon/D < 0.05$ and $10^4 < \\text{Re} < 10^8$."
   ]
  },
  {
   "attachments": {},
   "cell_type": "markdown",
   "metadata": {},
   "source": [
    "The pressure loss down the length of pipe is calculated by:\n",
    "\n",
    "$$\n",
    "\\begin{equation}\n",
    "\\Delta P = f \\frac{L}{D} \\frac{\\rho v^2}{2}\n",
    "\\end{equation}\n",
    "$$\n",
    "\n",
    "where $\\Delta P$ is the pressure drop, $f$ is the Darcy friction factor, $L$ is the length of the pipe, $D$ is the pipe diameter, $\\rho$ is the fluid density, and $v$ is the fluid velocity."
   ]
  },
  {
   "cell_type": "code",
   "execution_count": 7,
   "metadata": {},
   "outputs": [],
   "source": [
    "#pressure loss down a length of pipe in terms of the friction factor\n",
    "def pressure_loss(f,L,D,rho,v):\n",
    "    return f*L/D*rho*v**2/2"
   ]
  },
  {
   "attachments": {},
   "cell_type": "markdown",
   "metadata": {},
   "source": [
    "Example problem: calculate the pressure drop down a 100 m long pipe with a 2 inch diameter with a fluid velocity of 1 m/s.  The fluid has a density of 1000 kg/m$^3$ and a viscosity of 0.001 kg/m-s.  The pipe roughness is 0.0001 m.  What is the pressure drop?"
   ]
  },
  {
   "attachments": {},
   "cell_type": "markdown",
   "metadata": {},
   "source": [
    "### Non-linear solution with scipy fsolve"
   ]
  },
  {
   "cell_type": "code",
   "execution_count": 8,
   "metadata": {},
   "outputs": [
    {
     "name": "stdout",
     "output_type": "stream",
     "text": [
      "The Reynolds number is 50800\n",
      "The friction factor is 0.0264\n",
      "The pressure drop is 25.97 Pa (or 3.76 psi)\n"
     ]
    }
   ],
   "source": [
    "#first calculate the Reynolds number\n",
    "def Reynolds(rho,v,D,mu):\n",
    "    return rho*v*D/mu\n",
    "#specify pressure losses\n",
    "def pressure_loss(f,L,D,rho,v):\n",
    "    return f*L/D*rho*v**2/2\n",
    "#set constants\n",
    "rho = 1000 #kg/m^3\n",
    "vel = 1 #m/s\n",
    "pipeDia = 2*0.0254 #inch to m\n",
    "mu = 0.001 #Pa*s\n",
    "epsil = 0.0001 #m\n",
    "pipeLen = 100 #m\n",
    "#solve for the friction factor\n",
    "from scipy.optimize import fsolve\n",
    "f =  fsolve(lambda f: Colbrook(f,Reynolds(rho,vel,pipeDia,mu),pipeDia,epsil), 0.01)[0]\n",
    "#calculate the pressure drop\n",
    "ploss = pressure_loss(f,pipeLen,pipeDia,rho,vel) #Pa\n",
    "print(f'The Reynolds number is {Reynolds(rho,vel,pipeDia,mu):.0f}')\n",
    "print(f'The friction factor is {f:.4f}')\n",
    "print(f'The pressure drop is {ploss/1000:.2f} Pa (or {ploss/1000*0.145:.2f} psi)')\n",
    "\n"
   ]
  },
  {
   "attachments": {},
   "cell_type": "markdown",
   "metadata": {},
   "source": [
    "### Non-linear solution with Gekko\n",
    "Solve for the friction factor using the GEKKO package."
   ]
  },
  {
   "cell_type": "code",
   "execution_count": 9,
   "metadata": {},
   "outputs": [
    {
     "name": "stdout",
     "output_type": "stream",
     "text": [
      "The friction factor is 0.0264\n"
     ]
    }
   ],
   "source": [
    "#Solve for the friction factor using Gekko\n",
    "m = GEKKO() # Initialize the gekko model\n",
    "f = m.Var(value=0.01) # Initialize variables\n",
    "m.Equation(1/m.sqrt(f) + 2*m.log10(2.51/(Reynolds(rho,vel,pipeDia,mu)*m.sqrt(f))+epsil/(3.71*pipeDia))==0) # Equations\n",
    "m.solve(disp=False) # Solve\n",
    "print(f'The friction factor is {f.value[0]:.4f}')"
   ]
  },
  {
   "attachments": {},
   "cell_type": "markdown",
   "metadata": {},
   "source": [
    "### Non-linear solution with Newton's method\n",
    "Newton's method is a numerical method for solving non-linear equations.  It is an iterative method that uses the derivative of the function to find the root.  The derivative of the function is used to find the tangent line to the function at the current point.  The tangent line is then used to find the next point where the tangent line crosses the x-axis.  This process is repeated until the solution is found."
   ]
  },
  {
   "cell_type": "code",
   "execution_count": 10,
   "metadata": {},
   "outputs": [
    {
     "name": "stdout",
     "output_type": "stream",
     "text": [
      "The friction factor is 0.0264\n"
     ]
    }
   ],
   "source": [
    "#Solve the Colbrook equation with Newton's method\n",
    "def Colbrook_prime(f,Re,D,epsil):\n",
    "    return -1/(2*f**(3/2)) - 2.51/(np.log(10)*Re*f**(3/2)*(0.2695*epsil/D+2.51/(Re*np.sqrt(f))))\n",
    "def Newton(f,Re,D,epsil):\n",
    "    return f - Colbrook(f,Re,D,epsil)/Colbrook_prime(f,Re,D,epsil)\n",
    "def Newton_solve(f,Re,D,epsil):\n",
    "    fnew = Newton(f,Re,D,epsil)\n",
    "    while abs(fnew-f)>1e-5:\n",
    "        f = fnew\n",
    "        fnew = Newton(f,Re,D,epsil)\n",
    "    return fnew\n",
    "fN = Newton_solve(0.001,Reynolds(rho,vel,pipeDia,mu),pipeDia,epsil)\n",
    "print(f'The friction factor is {fN:.4f}')"
   ]
  },
  {
   "attachments": {},
   "cell_type": "markdown",
   "metadata": {},
   "source": [
    "There are several ways to get that Colbrook_prime function in the above code snippet. It's the derivative with respect to the friction factor of the Colbrook equation. You can do it by hand and then type in the equation. You could also use the symbolic derivative function in sympy to get the derivative. Or you can use the derivative function in scipy.  The scipy derivative function is shown below."
   ]
  },
  {
   "cell_type": "code",
   "execution_count": 14,
   "metadata": {},
   "outputs": [],
   "source": [
    "#using scipy to get the derivative of the Colbrook equation\n",
    "from scipy.misc import derivative\n",
    "def Colbrook_prime2(f,Re,D,epsil):\n",
    "    return derivative(Colbrook,f,dx=1e-6,args=(Re,D,epsil))"
   ]
  },
  {
   "attachments": {},
   "cell_type": "markdown",
   "metadata": {},
   "source": [
    "Below is a way to get the derivative of a function symbolically using sympy."
   ]
  },
  {
   "cell_type": "code",
   "execution_count": 15,
   "metadata": {},
   "outputs": [
    {
     "data": {
      "image/png": "[encoded data removed]",
      "text/latex": [
       "$\\displaystyle - \\frac{1}{2 f^{\\frac{3}{2}}} - \\frac{2.51}{Re f^{\\frac{3}{2}} \\cdot \\left(\\frac{2.51}{Re \\sqrt{f}} + \\frac{0.269541778975741 epsil}{D}\\right) \\log{\\left(10 \\right)}}$"
      ],
      "text/plain": [
       "    1                             2.51                      \n",
       "- ────── - ─────────────────────────────────────────────────\n",
       "     3/2       3/2 ⎛ 2.51   0.269541778975741⋅epsil⎞        \n",
       "  2⋅f      Re⋅f   ⋅⎜───── + ───────────────────────⎟⋅log(10)\n",
       "                   ⎝Re⋅√f              D           ⎠        "
      ]
     },
     "execution_count": 15,
     "metadata": {},
     "output_type": "execute_result"
    }
   ],
   "source": [
    "#Find the derivative of the Colbrook equation with SymPy\n",
    "ff= sym.symbols('f')\n",
    "Re = sym.symbols('Re')\n",
    "D = sym.symbols('D')\n",
    "epsil = sym.symbols('epsil')\n",
    "#display the symbolic equation\n",
    "sym.init_printing()\n",
    "sym.diff(1/sym.sqrt(ff) + 2*sym.log(2.51/(Re*sym.sqrt(ff))+epsil/(3.71*D),10),ff) #the 10 is the base of the log\n"
   ]
  },
  {
   "attachments": {},
   "cell_type": "markdown",
   "metadata": {},
   "source": [
    "Below is another example of using Newton's method to solve a non-linear system of equations where the derivatives of each equation with respect to each variable are known and defined in the Jacobian matrix.  A more in-depth class on numerical mehods would explain more."
   ]
  },
  {
   "cell_type": "code",
   "execution_count": 13,
   "metadata": {},
   "outputs": [
    {
     "name": "stdout",
     "output_type": "stream",
     "text": [
      "Solution:\n",
      "[1.76746906 0.87605312]\n"
     ]
    }
   ],
   "source": [
    "# Define the system of equations\n",
    "def equations(x):\n",
    "    eq1 = x[0]**2 + x[1] - 4\n",
    "    eq2 = x[0] - x[1]**2 - 1\n",
    "    return [eq1, eq2]\n",
    "\n",
    "# Define the Jacobian matrix (partial derivatives with respect to x1 and x2)\n",
    "def jacobian(x):\n",
    "    jac = np.array([[2*x[0], 1],\n",
    "                    [1, -2*x[1]]])\n",
    "    return jac\n",
    "\n",
    "# Solve the system of equations using Newton's method\n",
    "def newton_method(equations, jacobian, x0, tolerance=1e-6, max_iterations=100):\n",
    "    x = x0\n",
    "    for i in range(max_iterations):\n",
    "        f = equations(x)\n",
    "        J = jacobian(x)\n",
    "        delta_x = np.linalg.solve(J, -np.array(f))\n",
    "        x += delta_x\n",
    "        if np.linalg.norm(delta_x) < tolerance:\n",
    "            break\n",
    "    return x\n",
    "\n",
    "# Initial guess\n",
    "x0 = np.array([1.0, 1.0])\n",
    "\n",
    "# Solve the system of equations\n",
    "solution = newton_method(equations, jacobian, x0)\n",
    "\n",
    "print(\"Solution:\")\n",
    "print(solution)"
   ]
  },
  {
   "cell_type": "code",
   "execution_count": null,
   "metadata": {},
   "outputs": [],
   "source": []
  }
 ],
 "metadata": {
  "kernelspec": {
   "display_name": "Python 3",
   "language": "python",
   "name": "python3"
  },
  "language_info": {
   "codemirror_mode": {
    "name": "ipython",
    "version": 3
   },
   "file_extension": ".py",
   "mimetype": "text/x-python",
   "name": "python",
   "nbconvert_exporter": "python",
   "pygments_lexer": "ipython3",
   "version": "3.9.16"
  },
  "orig_nbformat": 4
 },
 "nbformat": 4,
 "nbformat_minor": 2
}
