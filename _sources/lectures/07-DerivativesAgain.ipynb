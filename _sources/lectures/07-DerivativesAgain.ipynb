{
 "cells": [
  {
   "attachments": {},
   "cell_type": "markdown",
   "metadata": {},
   "source": [
    "# 07-More Derivatives\n",
    "Non-steady state scenarios occur all around us: heating up your cold hands, warming up your food, filling your washing machine, among a myriad of other examples. There's also many non-steady state scenarios in chemical engineering: filling a tank, heating up a reactor, cooling down a reactor, etc. In this lecture, we will get more practice setting up the problem and estimating a solution."
   ]
  },
  {
   "attachments": {},
   "cell_type": "markdown",
   "metadata": {},
   "source": [
    "You should further understand at the end of this discussion that if you have an expression for the derivative, you can integrate that numerically to determine the system parameters as a function of time. "
   ]
  },
  {
   "attachments": {},
   "cell_type": "markdown",
   "metadata": {},
   "source": [
    "## First Example: Carbon Dioxide Concentration"
   ]
  },
  {
   "attachments": {},
   "cell_type": "markdown",
   "metadata": {},
   "source": [
    "<img src='https://github.com/clint-bg/comptools/blob/main/lectures/supportfiles/terrarium.jpg?raw=true' size='200'>"
   ]
  },
  {
   "attachments": {},
   "cell_type": "markdown",
   "metadata": {},
   "source": [
    "Now we'll compare the result to a real scenario of carbon dioxide concentration inside a small terrarium. The terrarium is completely closed."
   ]
  },
  {
   "cell_type": "code",
   "execution_count": 2,
   "metadata": {},
   "outputs": [],
   "source": [
    "#import needed packages\n",
    "import pandas as pd\n",
    "#read in the data\n",
    "df = pd.read_csv('supportfiles/co2concterr.txt', sep='\\t', header=9)\n"
   ]
  },
  {
   "cell_type": "code",
   "execution_count": 3,
   "metadata": {},
   "outputs": [
    {
     "data": {
      "text/html": [
       "<div>\n",
       "<style scoped>\n",
       "    .dataframe tbody tr th:only-of-type {\n",
       "        vertical-align: middle;\n",
       "    }\n",
       "\n",
       "    .dataframe tbody tr th {\n",
       "        vertical-align: top;\n",
       "    }\n",
       "\n",
       "    .dataframe thead th {\n",
       "        text-align: right;\n",
       "    }\n",
       "</style>\n",
       "<table border=\"1\" class=\"dataframe\">\n",
       "  <thead>\n",
       "    <tr style=\"text-align: right;\">\n",
       "      <th></th>\n",
       "      <th>Epoch_UTC</th>\n",
       "      <th>Local_Date_Time</th>\n",
       "      <th>T</th>\n",
       "      <th>RH</th>\n",
       "      <th>CO₂</th>\n",
       "      <th>DP</th>\n",
       "      <th>AH</th>\n",
       "      <th>HI</th>\n",
       "      <th>MR</th>\n",
       "    </tr>\n",
       "  </thead>\n",
       "  <tbody>\n",
       "    <tr>\n",
       "      <th>61459</th>\n",
       "      <td>1.687909e+09</td>\n",
       "      <td>2023-06-27T17:42:19.779569</td>\n",
       "      <td>27.572</td>\n",
       "      <td>90.44</td>\n",
       "      <td>15974.0</td>\n",
       "      <td>25.864</td>\n",
       "      <td>23.97</td>\n",
       "      <td>32.807</td>\n",
       "      <td>21.402</td>\n",
       "    </tr>\n",
       "    <tr>\n",
       "      <th>61460</th>\n",
       "      <td>1.687909e+09</td>\n",
       "      <td>2023-06-27T17:42:19.861700</td>\n",
       "      <td>27.572</td>\n",
       "      <td>90.44</td>\n",
       "      <td>15974.0</td>\n",
       "      <td>25.864</td>\n",
       "      <td>23.97</td>\n",
       "      <td>32.807</td>\n",
       "      <td>21.402</td>\n",
       "    </tr>\n",
       "    <tr>\n",
       "      <th>61461</th>\n",
       "      <td>1.687909e+09</td>\n",
       "      <td>2023-06-27T17:42:19.865171</td>\n",
       "      <td>27.572</td>\n",
       "      <td>90.44</td>\n",
       "      <td>15974.0</td>\n",
       "      <td>25.864</td>\n",
       "      <td>23.97</td>\n",
       "      <td>32.807</td>\n",
       "      <td>21.402</td>\n",
       "    </tr>\n",
       "    <tr>\n",
       "      <th>61462</th>\n",
       "      <td>1.687909e+09</td>\n",
       "      <td>2023-06-27T17:42:19.943573</td>\n",
       "      <td>27.572</td>\n",
       "      <td>90.44</td>\n",
       "      <td>15974.0</td>\n",
       "      <td>25.864</td>\n",
       "      <td>23.97</td>\n",
       "      <td>32.807</td>\n",
       "      <td>21.402</td>\n",
       "    </tr>\n",
       "    <tr>\n",
       "      <th>61463</th>\n",
       "      <td>1.687909e+09</td>\n",
       "      <td>2023-06-27T17:42:19.947163</td>\n",
       "      <td>27.572</td>\n",
       "      <td>90.44</td>\n",
       "      <td>15974.0</td>\n",
       "      <td>25.864</td>\n",
       "      <td>23.97</td>\n",
       "      <td>32.807</td>\n",
       "      <td>21.402</td>\n",
       "    </tr>\n",
       "  </tbody>\n",
       "</table>\n",
       "</div>"
      ],
      "text/plain": [
       "          Epoch_UTC             Local_Date_Time       T     RH      CO₂  \\\n",
       "61459  1.687909e+09  2023-06-27T17:42:19.779569  27.572  90.44  15974.0   \n",
       "61460  1.687909e+09  2023-06-27T17:42:19.861700  27.572  90.44  15974.0   \n",
       "61461  1.687909e+09  2023-06-27T17:42:19.865171  27.572  90.44  15974.0   \n",
       "61462  1.687909e+09  2023-06-27T17:42:19.943573  27.572  90.44  15974.0   \n",
       "61463  1.687909e+09  2023-06-27T17:42:19.947163  27.572  90.44  15974.0   \n",
       "\n",
       "           DP     AH      HI      MR  \n",
       "61459  25.864  23.97  32.807  21.402  \n",
       "61460  25.864  23.97  32.807  21.402  \n",
       "61461  25.864  23.97  32.807  21.402  \n",
       "61462  25.864  23.97  32.807  21.402  \n",
       "61463  25.864  23.97  32.807  21.402  "
      ]
     },
     "execution_count": 3,
     "metadata": {},
     "output_type": "execute_result"
    }
   ],
   "source": [
    "df.tail()"
   ]
  },
  {
   "cell_type": "code",
   "execution_count": 4,
   "metadata": {},
   "outputs": [],
   "source": [
    "#add an extra column to the dataframe that is the seconds from the start of the data from the \n",
    "# Epoch_UTC column\n",
    "df['min'] = df.index*10 #min\n",
    "#now reference from the start of the data\n",
    "df['min'] = df['min'] - df['min'].iloc[-594]"
   ]
  },
  {
   "cell_type": "code",
   "execution_count": 5,
   "metadata": {},
   "outputs": [
    {
     "data": {
      "text/plain": [
       "Epoch_UTC                        1687880366.8\n",
       "Local_Date_Time    2023-06-27T09:39:26.827185\n",
       "T                                      25.801\n",
       "RH                                      92.05\n",
       "CO₂                                    2627.0\n",
       "DP                                      24.41\n",
       "AH                                     22.113\n",
       "HI                                      26.84\n",
       "MR                                     19.572\n",
       "min                                         0\n",
       "Name: 60870, dtype: object"
      ]
     },
     "execution_count": 5,
     "metadata": {},
     "output_type": "execute_result"
    }
   ],
   "source": [
    "df.iloc[-594]"
   ]
  },
  {
   "cell_type": "code",
   "execution_count": 6,
   "metadata": {},
   "outputs": [
    {
     "data": {
      "image/png": "[encoded data removed]",
      "text/plain": [
       "<Figure size 640x480 with 1 Axes>"
      ]
     },
     "metadata": {},
     "output_type": "display_data"
    }
   ],
   "source": [
    "#plot the last custom amount of rows in the dataframe for the CO2 column\n",
    "import matplotlib.pyplot as plt\n",
    "#df['CO₂'].iloc[-594:-550].plot()\n",
    "plt.plot(df['min'].iloc[-594:-550],df['CO₂'].iloc[-594:-550])\n",
    "plt.xlabel('Time, min'), plt.ylabel('CO₂ Concentration,ppm')\n",
    "plt.show()"
   ]
  },
  {
   "attachments": {},
   "cell_type": "markdown",
   "metadata": {},
   "source": [
    "## Second Example: Cooling a Reactor"
   ]
  },
  {
   "attachments": {},
   "cell_type": "markdown",
   "metadata": {},
   "source": []
  }
 ],
 "metadata": {
  "kernelspec": {
   "display_name": "Python 3",
   "language": "python",
   "name": "python3"
  },
  "language_info": {
   "codemirror_mode": {
    "name": "ipython",
    "version": 3
   },
   "file_extension": ".py",
   "mimetype": "text/x-python",
   "name": "python",
   "nbconvert_exporter": "python",
   "pygments_lexer": "ipython3",
   "version": "3.9.16"
  },
  "orig_nbformat": 4
 },
 "nbformat": 4,
 "nbformat_minor": 2
}
