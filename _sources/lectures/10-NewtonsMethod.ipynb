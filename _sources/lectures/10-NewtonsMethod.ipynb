{
  "cells": [
    {
      "cell_type": "markdown",
      "metadata": {},
      "source": [
        "# 10 - Newton's Method Example Exercise"
      ]
    },
    {
      "cell_type": "markdown",
      "metadata": {},
      "source": [
        "### Non-linear solution with Newton's method\n",
        "Newton's method is a numerical method for solving non-linear equations.  It is an iterative method that uses the derivative of the function to find the root.  The derivative of the function is used to find the tangent line to the function at the current point.  The tangent line is then used to find the next point where the tangent line crosses the x-axis.  This process is repeated until the solution is found."
      ]
    },
    {
      "cell_type": "markdown",
      "metadata": {},
      "source": [
        "#### Derivation of Newton's method\n",
        "First use the Taylor series expansion of the function $f(x)$ about the point $x_0$:\n",
        "\n",
        "$$\n",
        "\\begin{equation}\n",
        "f(x) = f(x_0) + f'(x_0)(x-x_0) + \\frac{f''(x_0)}{2!}(x-x_0)^2 + \\frac{f'''(x_0)}{3!}(x-x_0)^3 + \\cdots\n",
        "\\end{equation}\n",
        "$$\n",
        "\n",
        "where $f'$ is the 1st derivative of x and $f''$ is the second derivative and so on. If we neglect the higher order terms, we can write:\n",
        "\n",
        "$$\n",
        "\\begin{equation}\n",
        "f(x) \\approx f(x_0) + f'(x_0)(x-x_0)\n",
        "\\end{equation}\n",
        "$$\n",
        "\n",
        "If we set $f(x) = 0$ and solve for $x$, we get:\n",
        "\n",
        "$$\n",
        "\\begin{equation}\n",
        "x = x_0 - \\frac{f(x_0)}{f'(x_0)}\n",
        "\\end{equation}\n",
        "$$\n",
        "\n",
        "This is the Newton's method equation for finding the root of a function. $x_0$ is the initial guess and $x$ is the new guess. Iterations are completed until the value of x is close enough to zero. The derivative of the function is used as an estimate for the next guess according to the above. This is a first order approximation as a the first derivative is used. There are other numerical methods for root finding."
      ]
    },
    {
      "cell_type": "code",
      "execution_count": 52,
      "metadata": {
        "id": "oGrMEHb7FeIz"
      },
      "outputs": [],
      "source": [
        "import numpy as np\n",
        "import matplotlib.pyplot as plt"
      ]
    },
    {
      "cell_type": "code",
      "execution_count": 53,
      "metadata": {
        "id": "dzdlgogoFpOH"
      },
      "outputs": [
        {
          "data": {
            "image/png": "[encoded data removed]",
            "text/plain": [
              "<Figure size 640x480 with 1 Axes>"
            ]
          },
          "metadata": {},
          "output_type": "display_data"
        }
      ],
      "source": [
        "f = lambda x: x**2 -5\n",
        "x = np.linspace(-10,10,1000)\n",
        "plt.plot(x, f(x))\n",
        "plt.plot(x,np.zeros(len(x)))\n",
        "plt.xlabel('x'); plt.ylabel('f(x)')\n",
        "plt.show()"
      ]
    },
    {
      "cell_type": "markdown",
      "metadata": {
        "id": "HltuRsHU09o9"
      },
      "source": [
        "We need to find the roots of the above equation."
      ]
    },
    {
      "cell_type": "code",
      "execution_count": 54,
      "metadata": {
        "id": "iBTafa5TGyor"
      },
      "outputs": [],
      "source": [
        "def newton(x):\n",
        "   fprime = 2*x\n",
        "   return x - f(x)/fprime"
      ]
    },
    {
      "cell_type": "code",
      "execution_count": 55,
      "metadata": {
        "colab": {
          "base_uri": "https://localhost:8080/",
          "height": 0
        },
        "id": "gs4Sun-O5_ti",
        "outputId": "1350425e-6472-40b2-a163-02416449e142"
      },
      "outputs": [
        {
          "data": {
            "text/plain": [
              "-5.25"
            ]
          },
          "execution_count": 55,
          "metadata": {},
          "output_type": "execute_result"
        }
      ],
      "source": [
        "newton(-10)"
      ]
    },
    {
      "cell_type": "code",
      "execution_count": 56,
      "metadata": {
        "colab": {
          "base_uri": "https://localhost:8080/",
          "height": 0
        },
        "id": "ZhUltH9SRhM5",
        "outputId": "43844dbc-2ad9-40ad-e97c-fe6e129a7a4c"
      },
      "outputs": [
        {
          "data": {
            "text/plain": [
              "-3.1011904761904763"
            ]
          },
          "execution_count": 56,
          "metadata": {},
          "output_type": "execute_result"
        }
      ],
      "source": [
        "newton(-5.25)"
      ]
    },
    {
      "cell_type": "code",
      "execution_count": 57,
      "metadata": {
        "colab": {
          "base_uri": "https://localhost:8080/",
          "height": 0
        },
        "id": "-RyVGvqM6D8I",
        "outputId": "bbc3e7f6-dfcf-42c8-9d80-e92fe3256cae"
      },
      "outputs": [
        {
          "data": {
            "text/plain": [
              "-2.356691551112544"
            ]
          },
          "execution_count": 57,
          "metadata": {},
          "output_type": "execute_result"
        }
      ],
      "source": [
        "newton(-3.101)"
      ]
    },
    {
      "cell_type": "code",
      "execution_count": 58,
      "metadata": {
        "colab": {
          "base_uri": "https://localhost:8080/",
          "height": 0
        },
        "id": "GXI3q09F6Hvd",
        "outputId": "cd94ebef-01ce-4340-9399-ca2ca45ac689"
      },
      "outputs": [
        {
          "data": {
            "text/plain": [
              "-2.2391703436571913"
            ]
          },
          "execution_count": 58,
          "metadata": {},
          "output_type": "execute_result"
        }
      ],
      "source": [
        "newton(-2.357)"
      ]
    },
    {
      "cell_type": "code",
      "execution_count": 59,
      "metadata": {
        "colab": {
          "base_uri": "https://localhost:8080/",
          "height": 0
        },
        "id": "pqhRxmA76TvL",
        "outputId": "48ff1258-f93c-4c65-b421-cf9bf45642d4"
      },
      "outputs": [
        {
          "data": {
            "text/plain": [
              "-2.2360698972755695"
            ]
          },
          "execution_count": 59,
          "metadata": {},
          "output_type": "execute_result"
        }
      ],
      "source": [
        "newton(-2.239)"
      ]
    },
    {
      "cell_type": "code",
      "execution_count": 60,
      "metadata": {
        "colab": {
          "base_uri": "https://localhost:8080/",
          "height": 0
        },
        "id": "pw6o3AzF6VwB",
        "outputId": "58f70ace-7afa-4b9b-c6b8-ab3903f70517"
      },
      "outputs": [
        {
          "data": {
            "text/plain": [
              "-2.236067978533095"
            ]
          },
          "execution_count": 60,
          "metadata": {},
          "output_type": "execute_result"
        }
      ],
      "source": [
        "newton(-2.236)"
      ]
    },
    {
      "cell_type": "code",
      "execution_count": 61,
      "metadata": {
        "colab": {
          "base_uri": "https://localhost:8080/",
          "height": 0
        },
        "id": "OoP63Cq_6YjG",
        "outputId": "6cc268f9-a00b-4112-a060-c64fba88abdb"
      },
      "outputs": [
        {
          "data": {
            "text/plain": [
              "-2.23606797749979"
            ]
          },
          "execution_count": 61,
          "metadata": {},
          "output_type": "execute_result"
        }
      ],
      "source": [
        "-np.sqrt(5)"
      ]
    },
    {
      "cell_type": "markdown",
      "metadata": {
        "id": "h9ZM1NgO6gpi"
      },
      "source": [
        "Lets plot our progression from our initial guess of $x_0=-10$"
      ]
    },
    {
      "cell_type": "code",
      "execution_count": 62,
      "metadata": {
        "id": "UjIjUJXl6bT9"
      },
      "outputs": [],
      "source": [
        "#first make an array of our point progression\n",
        "xvals = np.array([-10,-5.25,-3.101,-2.357,-2.239,-2.236]) #convert list to array\n",
        "yvals = f(xvals)"
      ]
    },
    {
      "cell_type": "code",
      "execution_count": 63,
      "metadata": {
        "colab": {
          "base_uri": "https://localhost:8080/",
          "height": 430
        },
        "id": "yVZ_hlHF7NHl",
        "outputId": "2a328404-bb6b-4a02-9e4b-7a5d995d0002"
      },
      "outputs": [
        {
          "data": {
            "image/png": "[encoded data removed]",
            "text/plain": [
              "<Figure size 640x480 with 1 Axes>"
            ]
          },
          "metadata": {},
          "output_type": "display_data"
        }
      ],
      "source": [
        "plt.plot(x, f(x))\n",
        "plt.plot(x,np.zeros(len(x)))\n",
        "plt.scatter(xvals,yvals)\n",
        "plt.xlabel('x'); plt.ylabel('f(x)')\n",
        "plt.show()"
      ]
    },
    {
      "cell_type": "markdown",
      "metadata": {
        "id": "Eo5geKn28u65"
      },
      "source": [
        "Now lets try a more complex equation (still everywhere differentiable)"
      ]
    },
    {
      "cell_type": "code",
      "execution_count": 64,
      "metadata": {
        "id": "BPUvNMcg8fv2"
      },
      "outputs": [],
      "source": [
        "f2 = lambda x: x**5 - 5*x**4 + x**3 + x**2 + x + 190"
      ]
    },
    {
      "cell_type": "code",
      "execution_count": 65,
      "metadata": {
        "colab": {
          "base_uri": "https://localhost:8080/",
          "height": 453
        },
        "id": "gUNufi_j8UG0",
        "outputId": "f4d1009e-4b9c-4e3e-d989-06fe690c40c1"
      },
      "outputs": [
        {
          "data": {
            "text/plain": [
              "(-100.0, 300.0)"
            ]
          },
          "execution_count": 65,
          "metadata": {},
          "output_type": "execute_result"
        },
        {
          "data": {
            "image/png": "[encoded data removed]",
            "text/plain": [
              "<Figure size 640x480 with 1 Axes>"
            ]
          },
          "metadata": {},
          "output_type": "display_data"
        }
      ],
      "source": [
        "plt.plot(x,f2(x))\n",
        "plt.plot(x,np.zeros(len(x)))\n",
        "plt.xlabel('x'); plt.ylabel('f(x)')\n",
        "plt.ylim(-100,300)"
      ]
    },
    {
      "cell_type": "code",
      "execution_count": 66,
      "metadata": {
        "id": "co37ZOs48_J1"
      },
      "outputs": [],
      "source": [
        "#define our new newton's method with the derivative\n",
        "def newton2(x):\n",
        "  fprime = 5*x**4 - 20*x**3 + 3*x**2 + 2*x + 1\n",
        "  return x - f2(x)/fprime"
      ]
    },
    {
      "cell_type": "code",
      "execution_count": 67,
      "metadata": {
        "colab": {
          "base_uri": "https://localhost:8080/",
          "height": 0
        },
        "id": "BcxcYhLm-Pse",
        "outputId": "18735e2b-efb1-451c-c5b5-2577322aa800"
      },
      "outputs": [
        {
          "data": {
            "text/plain": [
              "4.870887130362349"
            ]
          },
          "execution_count": 67,
          "metadata": {},
          "output_type": "execute_result"
        }
      ],
      "source": [
        "#Our initial guess\n",
        "newton2(5.5)"
      ]
    },
    {
      "cell_type": "code",
      "execution_count": 68,
      "metadata": {
        "colab": {
          "base_uri": "https://localhost:8080/",
          "height": 0
        },
        "id": "Su5Jdr5F-ZmE",
        "outputId": "5618e2b1-2c17-4f1b-8009-6aa57deeeb0f"
      },
      "outputs": [
        {
          "data": {
            "text/plain": [
              "4.424011563368115"
            ]
          },
          "execution_count": 68,
          "metadata": {},
          "output_type": "execute_result"
        }
      ],
      "source": [
        "newton2(4.870887)"
      ]
    },
    {
      "cell_type": "code",
      "execution_count": 69,
      "metadata": {
        "colab": {
          "base_uri": "https://localhost:8080/",
          "height": 0
        },
        "id": "ArY5ku7H-c1Q",
        "outputId": "7d3c7086-1e4a-4bba-9aaf-25faba4b67e3"
      },
      "outputs": [
        {
          "data": {
            "text/plain": [
              "4.106934926714884"
            ]
          },
          "execution_count": 69,
          "metadata": {},
          "output_type": "execute_result"
        }
      ],
      "source": [
        "newton2(4.424011)"
      ]
    },
    {
      "cell_type": "code",
      "execution_count": 70,
      "metadata": {
        "colab": {
          "base_uri": "https://localhost:8080/",
          "height": 0
        },
        "id": "dVIiCxt1-jIB",
        "outputId": "59491948-ace9-48bc-8b21-a0c026b2e3a2"
      },
      "outputs": [
        {
          "data": {
            "text/plain": [
              "3.836682141049953"
            ]
          },
          "execution_count": 70,
          "metadata": {},
          "output_type": "execute_result"
        }
      ],
      "source": [
        "newton2(4.1069349)"
      ]
    },
    {
      "cell_type": "code",
      "execution_count": 71,
      "metadata": {
        "colab": {
          "base_uri": "https://localhost:8080/",
          "height": 0
        },
        "id": "cdoplLrS-lQE",
        "outputId": "611b95b0-ba46-464a-f1b5-eb224046bc4b"
      },
      "outputs": [
        {
          "data": {
            "text/plain": [
              "1.9062611179657791"
            ]
          },
          "execution_count": 71,
          "metadata": {},
          "output_type": "execute_result"
        }
      ],
      "source": [
        "newton2(3.83668)"
      ]
    },
    {
      "cell_type": "code",
      "execution_count": 72,
      "metadata": {},
      "outputs": [
        {
          "data": {
            "text/plain": [
              "4.752313888527454"
            ]
          },
          "execution_count": 72,
          "metadata": {},
          "output_type": "execute_result"
        }
      ],
      "source": [
        "newton2(1.906)"
      ]
    },
    {
      "cell_type": "code",
      "execution_count": 73,
      "metadata": {},
      "outputs": [
        {
          "data": {
            "text/plain": [
              "4.339199843776698"
            ]
          },
          "execution_count": 73,
          "metadata": {},
          "output_type": "execute_result"
        }
      ],
      "source": [
        "newton2(4.75)"
      ]
    },
    {
      "cell_type": "markdown",
      "metadata": {
        "id": "g-WQB3up_izz"
      },
      "source": [
        "Let's plot our points again:"
      ]
    },
    {
      "cell_type": "code",
      "execution_count": 74,
      "metadata": {
        "id": "8Fwpfm21_lBD"
      },
      "outputs": [],
      "source": [
        "xvals = np.array([5.5,4.87,4.42,4.106,3.83,1.906,4.75,4.34])\n",
        "yvals = f2(xvals)"
      ]
    },
    {
      "cell_type": "code",
      "execution_count": 75,
      "metadata": {
        "colab": {
          "base_uri": "https://localhost:8080/",
          "height": 453
        },
        "id": "-b8DDVJH_tF_",
        "outputId": "5ec33a9b-f154-48d7-d605-5f997e82b24e"
      },
      "outputs": [
        {
          "data": {
            "text/plain": [
              "(-100.0, 300.0)"
            ]
          },
          "execution_count": 75,
          "metadata": {},
          "output_type": "execute_result"
        },
        {
          "data": {
            "image/png": "[encoded data removed]",
            "text/plain": [
              "<Figure size 640x480 with 1 Axes>"
            ]
          },
          "metadata": {},
          "output_type": "display_data"
        }
      ],
      "source": [
        "plt.plot(x,f2(x))\n",
        "plt.plot(x,np.zeros(len(x)))\n",
        "plt.scatter(xvals,yvals)\n",
        "plt.xlabel('x'); plt.ylabel('f(x)')\n",
        "plt.ylim(-100,300)"
      ]
    },
    {
      "cell_type": "markdown",
      "metadata": {
        "id": "iGVWAqz5BgEt"
      },
      "source": [
        "You can see that a proper guess value is important in finding the root with derivative based root finding methods."
      ]
    },
    {
      "cell_type": "markdown",
      "metadata": {
        "id": "kVIoep9iB592"
      },
      "source": [
        "Instead of x's and y's, lets us an application example: the Colbrook equation."
      ]
    },
    {
      "cell_type": "code",
      "execution_count": 76,
      "metadata": {
        "id": "3xKLbjxX_0sW"
      },
      "outputs": [],
      "source": [
        "def Colbrook(f,Rey,Dia,ep):\n",
        "    return 1/np.sqrt(f) + 2*np.log10(2.51/(Rey*np.sqrt(f))+ep/(3.71*Dia))"
      ]
    },
    {
      "cell_type": "code",
      "execution_count": 77,
      "metadata": {
        "colab": {
          "base_uri": "https://localhost:8080/",
          "height": 453
        },
        "id": "uq8Dgk2iCdUb",
        "outputId": "21b39e81-fa9a-49ae-d7c3-283add5da5e7"
      },
      "outputs": [
        {
          "data": {
            "text/plain": [
              "(-10.0, 10.0)"
            ]
          },
          "execution_count": 77,
          "metadata": {},
          "output_type": "execute_result"
        },
        {
          "data": {
            "image/png": "[encoded data removed]",
            "text/plain": [
              "<Figure size 640x480 with 1 Axes>"
            ]
          },
          "metadata": {},
          "output_type": "display_data"
        }
      ],
      "source": [
        "#now lets plot the function\n",
        "Re = 5000; epsil = 0.004; D = 0.11\n",
        "xs = np.linspace(0.0001,0.30,1000)\n",
        "plt.plot(xs,Colbrook(xs,Re,D,epsil))\n",
        "plt.plot(xs,np.zeros(len(xs)))\n",
        "plt.xlabel('f'); plt.ylabel('Colebrook(f)')\n",
        "plt.ylim(-10,10)"
      ]
    },
    {
      "cell_type": "markdown",
      "metadata": {
        "id": "PZl5PpIzDvOH"
      },
      "source": [
        "Now lets setup our Newton's method to find the friction factor at those conditions."
      ]
    },
    {
      "cell_type": "markdown",
      "metadata": {},
      "source": [
        "There are several ways to get that Colbrook_prime function in the above code snippet. It's the derivative with respect to the friction factor of the Colbrook equation. You can do it by hand and then type in the equation. You could also use the symbolic derivative function in sympy to get the derivative. Or you can use the derivative function in scipy.  Several methods are shown below."
      ]
    },
    {
      "cell_type": "code",
      "execution_count": 78,
      "metadata": {},
      "outputs": [],
      "source": [
        "#using scipy to get the derivative of the Colbrook equation\n",
        "from scipy.misc import derivative\n",
        "def Colbrook_prime2(f,Re,D,epsil):\n",
        "    return derivative(Colbrook,f,dx=1e-6,args=(Re,D,epsil))"
      ]
    },
    {
      "cell_type": "code",
      "execution_count": 79,
      "metadata": {},
      "outputs": [
        {
          "data": {
            "text/latex": [
              "$\\displaystyle - \\frac{1}{2 ff^{\\frac{3}{2}}} - \\frac{2.51}{Reyn ff^{\\frac{3}{2}} \\cdot \\left(\\frac{2.51}{Reyn \\sqrt{ff}} + \\frac{0.269541778975741 eps}{Diam}\\right) \\log{\\left(10 \\right)}}$"
            ],
            "text/plain": [
              "-1/(2*ff**(3/2)) - 2.51/(Reyn*ff**(3/2)*(2.51/(Reyn*sqrt(ff)) + 0.269541778975741*eps/Diam)*log(10))"
            ]
          },
          "execution_count": 79,
          "metadata": {},
          "output_type": "execute_result"
        }
      ],
      "source": [
        "#Find the derivative of the Colbrook equation with SymPy\n",
        "import sympy as sym\n",
        "ff,Reyn,Diam,eps = sym.symbols('ff,Reyn,Diam,eps')\n",
        "#display the symbolic equation\n",
        "#sym.init_printing()\n",
        "sym.diff(1/sym.sqrt(ff) + 2*sym.log(2.51/(Reyn*sym.sqrt(ff))+eps/(3.71*Diam),10),ff) #the 10 is the base of the log\n"
      ]
    },
    {
      "cell_type": "code",
      "execution_count": 80,
      "metadata": {},
      "outputs": [],
      "source": [
        "def Colbrook_prime(f,Re,D,epsil):\n",
        "    return -1/(2*f**(3/2)) - 2.51/(np.log(10)*Re*f**(3/2)*(0.2695*epsil/D+2.51/(Re*np.sqrt(f))))"
      ]
    },
    {
      "cell_type": "code",
      "execution_count": 81,
      "metadata": {},
      "outputs": [],
      "source": [
        "def newt(f):\n",
        "    return f - Colbrook(f,Re,D,epsil)/Colbrook_prime(f,Re,D,epsil)"
      ]
    },
    {
      "cell_type": "code",
      "execution_count": 82,
      "metadata": {},
      "outputs": [
        {
          "data": {
            "text/plain": [
              "-0.09022367308759105"
            ]
          },
          "execution_count": 82,
          "metadata": {},
          "output_type": "execute_result"
        }
      ],
      "source": [
        "newt(0.2)"
      ]
    },
    {
      "cell_type": "code",
      "execution_count": 83,
      "metadata": {},
      "outputs": [
        {
          "name": "stderr",
          "output_type": "stream",
          "text": [
            "/var/folders/6d/1jr2w1qx1rnd2nkndlq4hc700000gn/T/ipykernel_57416/3040087786.py:2: RuntimeWarning: invalid value encountered in sqrt\n",
            "  return 1/np.sqrt(f) + 2*np.log10(2.51/(Rey*np.sqrt(f))+ep/(3.71*Dia))\n",
            "/var/folders/6d/1jr2w1qx1rnd2nkndlq4hc700000gn/T/ipykernel_57416/837614916.py:2: RuntimeWarning: invalid value encountered in scalar divide\n",
            "  return -1/(2*f**(3/2)) - 2.51/(np.log(10)*Re*f**(3/2)*(0.2695*epsil/D+2.51/(Re*np.sqrt(f))))\n"
          ]
        },
        {
          "data": {
            "text/plain": [
              "(nan+nanj)"
            ]
          },
          "execution_count": 83,
          "metadata": {},
          "output_type": "execute_result"
        }
      ],
      "source": [
        "newt(-0.090)"
      ]
    },
    {
      "cell_type": "code",
      "execution_count": 84,
      "metadata": {
        "colab": {
          "base_uri": "https://localhost:8080/",
          "height": 0
        },
        "id": "aNH_l2tlETQg",
        "outputId": "0ba55e72-5879-43fe-a03b-e25f0f3a25af"
      },
      "outputs": [
        {
          "data": {
            "text/plain": [
              "0.05585303773902183"
            ]
          },
          "execution_count": 84,
          "metadata": {},
          "output_type": "execute_result"
        }
      ],
      "source": [
        "newt(0.1)"
      ]
    },
    {
      "cell_type": "code",
      "execution_count": 85,
      "metadata": {
        "colab": {
          "base_uri": "https://localhost:8080/",
          "height": 0
        },
        "id": "nW0N-bVbEe5F",
        "outputId": "2c5760d1-1375-4945-fc27-d6797292aee2"
      },
      "outputs": [
        {
          "data": {
            "text/plain": [
              "0.06563953943684912"
            ]
          },
          "execution_count": 85,
          "metadata": {},
          "output_type": "execute_result"
        }
      ],
      "source": [
        "newt(0.05585)"
      ]
    },
    {
      "cell_type": "code",
      "execution_count": 86,
      "metadata": {
        "colab": {
          "base_uri": "https://localhost:8080/",
          "height": 0
        },
        "id": "YoZnGi0vEg1T",
        "outputId": "aa035962-45cc-47af-d5c5-6e38f38bb386"
      },
      "outputs": [
        {
          "data": {
            "text/plain": [
              "0.0670681189201254"
            ]
          },
          "execution_count": 86,
          "metadata": {},
          "output_type": "execute_result"
        }
      ],
      "source": [
        "newt(0.065639)"
      ]
    },
    {
      "cell_type": "code",
      "execution_count": 87,
      "metadata": {
        "colab": {
          "base_uri": "https://localhost:8080/",
          "height": 0
        },
        "id": "3RYo6kf5F7YV",
        "outputId": "c0d0442a-3514-4cb0-9868-fbfb4a35c197"
      },
      "outputs": [
        {
          "data": {
            "text/plain": [
              "0.06709175234208192"
            ]
          },
          "execution_count": 87,
          "metadata": {},
          "output_type": "execute_result"
        }
      ],
      "source": [
        "newt(0.06707)"
      ]
    },
    {
      "cell_type": "code",
      "execution_count": 88,
      "metadata": {
        "colab": {
          "base_uri": "https://localhost:8080/",
          "height": 0
        },
        "id": "uG2Xt0A4F8jb",
        "outputId": "bc591745-2650-4796-a7d3-73ad253b60be"
      },
      "outputs": [
        {
          "data": {
            "text/plain": [
              "0.06709175772521607"
            ]
          },
          "execution_count": 88,
          "metadata": {},
          "output_type": "execute_result"
        }
      ],
      "source": [
        "newt(0.067092)"
      ]
    },
    {
      "cell_type": "markdown",
      "metadata": {
        "id": "qBO8c0n-GIX9"
      },
      "source": [
        "Isn't there a better way of doing this than having to type this in over and over. Let's modify the Newton function to do the interation for us."
      ]
    },
    {
      "cell_type": "code",
      "execution_count": 89,
      "metadata": {
        "id": "dU_OraoLGCzi"
      },
      "outputs": [],
      "source": [
        "Re = 5000; epsil = 0.004; D = 0.11\n",
        "def NewtonC(x):\n",
        "  values = []\n",
        "  for i in range(0,50):\n",
        "    values.append(x)\n",
        "    xnew = x - Colbrook(x,Re,D,epsil)/Colbrook_prime(x,Re,D,epsil)*0.25\n",
        "    x = xnew\n",
        "  return values"
      ]
    },
    {
      "cell_type": "code",
      "execution_count": 90,
      "metadata": {
        "colab": {
          "base_uri": "https://localhost:8080/",
          "height": 0
        },
        "id": "l4cUaGq1HjwL",
        "outputId": "ec956ecb-da89-4580-d186-a114217b22ea"
      },
      "outputs": [
        {
          "data": {
            "image/png": "[encoded data removed]",
            "text/plain": [
              "<Figure size 640x480 with 1 Axes>"
            ]
          },
          "metadata": {},
          "output_type": "display_data"
        }
      ],
      "source": [
        "plt.plot(NewtonC(0.2))\n",
        "plt.xlabel('Iterations'); plt.ylabel('f')\n",
        "plt.show()"
      ]
    },
    {
      "cell_type": "code",
      "execution_count": 91,
      "metadata": {
        "colab": {
          "base_uri": "https://localhost:8080/",
          "height": 0
        },
        "id": "Ixc8FEzkHo09",
        "outputId": "8b073ae7-70df-4cde-af3c-40b452950aaa"
      },
      "outputs": [
        {
          "data": {
            "text/plain": [
              "-9.349525358359756e-07"
            ]
          },
          "execution_count": 91,
          "metadata": {},
          "output_type": "execute_result"
        }
      ],
      "source": [
        "#check if near zero\n",
        "Colbrook(NewtonC(0.2)[-1],Re,D,epsil)"
      ]
    },
    {
      "cell_type": "code",
      "execution_count": 92,
      "metadata": {
        "id": "ZSXhG9L6Pdv_"
      },
      "outputs": [],
      "source": [
        "def xnext(x):\n",
        "  return x - Colbrook(x,Re,D,epsil)/Colbrook_prime(x,Re,D,epsil)*0.25\n",
        "\n",
        "def Newton(x):\n",
        "  xnew = xnext(x)\n",
        "  while abs(xnew - x)>1e-6:\n",
        "    x = xnew\n",
        "    xnew = xnext(x)\n",
        "  return xnew"
      ]
    },
    {
      "cell_type": "code",
      "execution_count": 93,
      "metadata": {
        "colab": {
          "base_uri": "https://localhost:8080/",
          "height": 0
        },
        "id": "ucgcsus2PtII",
        "outputId": "c22b1646-139c-487e-f477-03fd94d94d31"
      },
      "outputs": [
        {
          "data": {
            "text/plain": [
              "0.06709410233779416"
            ]
          },
          "execution_count": 93,
          "metadata": {},
          "output_type": "execute_result"
        }
      ],
      "source": [
        "Newton(0.2)"
      ]
    },
    {
      "cell_type": "markdown",
      "metadata": {
        "id": "nXilypbkMJHi"
      },
      "source": [
        "Check answer against fsolve"
      ]
    },
    {
      "cell_type": "code",
      "execution_count": 94,
      "metadata": {
        "id": "wfDadw-ZMISj"
      },
      "outputs": [
        {
          "data": {
            "text/plain": [
              "array([0.06709176])"
            ]
          },
          "execution_count": 94,
          "metadata": {},
          "output_type": "execute_result"
        }
      ],
      "source": [
        "from scipy.optimize import fsolve\n",
        "fsolve(Colbrook,0.05,args=(Re,D,epsil))"
      ]
    },
    {
      "cell_type": "markdown",
      "metadata": {},
      "source": [
        "Below is another example of using Newton's method to solve a non-linear system of equations where the derivatives of each equation with respect to each variable are known and defined in the Jacobian matrix.  A more in-depth class on numerical mehods would explain more."
      ]
    },
    {
      "cell_type": "code",
      "execution_count": 95,
      "metadata": {},
      "outputs": [
        {
          "name": "stdout",
          "output_type": "stream",
          "text": [
            "Solution:[1.76746906 0.87605312]\n"
          ]
        }
      ],
      "source": [
        "# Define the system of equations\n",
        "def equations(x):\n",
        "    eq1 = x[0]**2 + x[1] - 4\n",
        "    eq2 = x[0] - x[1]**2 - 1\n",
        "    return [eq1, eq2]\n",
        "\n",
        "# Define the Jacobian matrix (partial derivatives with respect to x1 and x2)\n",
        "def jacobian(x):\n",
        "    jac = np.array([[2*x[0], 1],\n",
        "                    [1, -2*x[1]]])\n",
        "    return jac\n",
        "\n",
        "# Solve the system of equations using Newton's method\n",
        "def newton_method(equations, jacobian, x0, tolerance=1e-6, max_iterations=100):\n",
        "    x = x0\n",
        "    for i in range(max_iterations):\n",
        "        f = equations(x)\n",
        "        J = jacobian(x)\n",
        "        delta_x = np.linalg.solve(J, -np.array(f))\n",
        "        x += delta_x\n",
        "        if np.linalg.norm(delta_x) < tolerance:\n",
        "            break\n",
        "    return x\n",
        "\n",
        "# Initial guess\n",
        "x0 = np.array([1.0, 1.0])\n",
        "\n",
        "# Solve the system of equations\n",
        "solution = newton_method(equations, jacobian, x0)\n",
        "\n",
        "print(f\"Solution:{solution}\")"
      ]
    },
    {
      "cell_type": "code",
      "execution_count": null,
      "metadata": {},
      "outputs": [],
      "source": []
    }
  ],
  "metadata": {
    "colab": {
      "provenance": []
    },
    "kernelspec": {
      "display_name": "Python 3",
      "name": "python3"
    },
    "language_info": {
      "codemirror_mode": {
        "name": "ipython",
        "version": 3
      },
      "file_extension": ".py",
      "mimetype": "text/x-python",
      "name": "python",
      "nbconvert_exporter": "python",
      "pygments_lexer": "ipython3",
      "version": "3.9.16"
    }
  },
  "nbformat": 4,
  "nbformat_minor": 0
}
