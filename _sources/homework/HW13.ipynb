{
 "cells": [
  {
   "cell_type": "markdown",
   "metadata": {},
   "source": [
    "# HW13-Excel Introduction"
   ]
  },
  {
   "cell_type": "markdown",
   "metadata": {},
   "source": [
    "Complete the exercises outlined on the excel sheet found here: https://github.com/clint-bg/comptools/blob/main/homework/supportfiles/hw_13.xlsx. Click on the button that says \"Download Raw File\" to download the file. Credit to Dr. David Lignell for these practice problems."
   ]
  },
  {
   "cell_type": "markdown",
   "metadata": {},
   "source": []
  }
 ],
 "metadata": {
  "language_info": {
   "name": "python"
  },
  "orig_nbformat": 4
 },
 "nbformat": 4,
 "nbformat_minor": 2
}
