{
 "cells": [
  {
   "cell_type": "markdown",
   "metadata": {},
   "source": [
    "# HW12: More Solving of Ordinary Differential Equations (ODEs)"
   ]
  },
  {
   "cell_type": "markdown",
   "metadata": {},
   "source": [
    "## Problem 1: Solve the following differential equation using odeint\n",
    "\n",
    "If you are living on the International Space Station and accidentally get ejected into space without a space suit, you would need to get air within a few minutes to prevent death. Even if you have air, if you aren't kept warm, your body would be hypothermic in a relatively short period. Let find out how long you have to get back to the space station before becoming hypothermic. There are likely other more deadly conditions of being exposed to a vacuum than running out of oxygen or freezing, but we will ignore those for now.\n",
    "\n",
    "Assuming your are on the shadowed side of Earth, the following is a simple model that describes how your body's average temperature $T$ could change in time. The term on the left is the accumulation term; the first term on the right is a generation term (from your metabolism); the second term on the right is emission by radiation into space (space does not return any radiation to you). \n",
    "\n",
    "$$ m c_p\\frac{dT}{dt} = \\dot{Q}- \\sigma A T^4$$\n",
    "\n",
    "where $m$ is total body mass, $c_p$ is heat capacity, $\\dot{Q}$ is heat generation by your body, $A$ is effective surface area of your body that emits radiation, and $\\sigma$ is the Stefan-Boltzmann radiation constant (look it up online). \n",
    "\n",
    "Your code should be well-documented and all constants should be specified with units. You should use SI units generally in this problem, though will need to switch between $\\mathrm{K}$ and $^\\circ\\mathrm{C}$. A couple notes on that: Temperature in the radiation term must be absolute (i.e. units $\\mathrm{K}$). Recall from ChEn 170 that for heat capacity the denominator contains a change in temperature (i.e. either $\\Delta\\mathrm{K}$ or $\\Delta^\\circ\\mathrm{C}$ which are perfectly the same). Once you get an answer in $\\mathrm{K}$ you will need to convert to $^\\circ\\mathrm{C}$ in the final plot. \n",
    "\n",
    "To solve this problem you need to do the following. \n",
    "1. Reasonably estimate the values of $m$ and $A$ for your body (or for 'a friend'). The area that emits radiation could be estimated, for instance, by treating your body as if it were a cylinder of water.\n",
    "2. Assume $c_p$ for your body is the value for water\n",
    "3. Reasonably estimate what your $\\dot{Q}$ would be in this scenario: a person while resting generates about $100~\\mathrm{W}$ heat and while vigorously exercising generates around $300~\\mathrm{W}$.\n",
    "4. Rearrange the above equation and determine what is needed to implement into `odeint`\n",
    "5. Make a smooth well-formatted plot of body temperature ($^\\circ\\mathrm{C}$) over time ($\\mathrm{s}$). Adjust the timescale so that the plot readily shows the most relevant region of interest.\n",
    "6. Based on the **plot** of the model result, **estimate** the time when you would get to hypothermia. Normal body temperature is $37^\\circ\\mathrm{C}$; hypothermia begins at $35^\\circ\\mathrm{C}$.\n"
   ]
  },
  {
   "cell_type": "code",
   "execution_count": 1,
   "metadata": {},
   "outputs": [],
   "source": [
    "#Your answer here"
   ]
  },
  {
   "cell_type": "markdown",
   "metadata": {},
   "source": [
    "## Problem 2: TBA\n",
    " "
   ]
  },
  {
   "cell_type": "markdown",
   "metadata": {},
   "source": [
    "## Problem 3: TBA"
   ]
  },
  {
   "cell_type": "markdown",
   "metadata": {},
   "source": []
  }
 ],
 "metadata": {
  "kernelspec": {
   "display_name": "Python 3",
   "language": "python",
   "name": "python3"
  },
  "language_info": {
   "codemirror_mode": {
    "name": "ipython",
    "version": 3
   },
   "file_extension": ".py",
   "mimetype": "text/x-python",
   "name": "python",
   "nbconvert_exporter": "python",
   "pygments_lexer": "ipython3",
   "version": "3.9.16"
  },
  "orig_nbformat": 4
 },
 "nbformat": 4,
 "nbformat_minor": 2
}
