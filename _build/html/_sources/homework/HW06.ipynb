{
  "cells": [
    {
      "attachments": {},
      "cell_type": "markdown",
      "metadata": {
        "id": "LHdNQZox7398"
      },
      "source": [
        "# HW06: Solve Equations\n",
        "\n",
        "Systems of equations are solved by finding variable values that satisfy all of the equations. With linear systems of equations, there is typically a unique solution that is easy to solve, even for large-scale systems. Nonlinear equations can be more challenging to solve and may have multiple solutions. Variable bounds and a good initial guess are sometimes required for nonlinear systems of equations. This section is to solve systems of:\n",
        "\n",
        "* Linear systems of equations\n",
        "* Nonlinear systems of equations"
      ]
    },
    {
      "attachments": {},
      "cell_type": "markdown",
      "metadata": {
        "id": "0yqJXbBT739_"
      },
      "source": [
        "## Problem #1\n",
        "\n",
        "Solve the following systems of linear algebraic equations $\\left(A\\,x = b\\right)$ using matrix calculations such as:\n",
        "\n",
        "$\\left[ {\\begin{array}{cc} 1 & 2 \\\\ 1.5 & -1 \\\\ \\end{array} } \\right] \\left[ {\\begin{array}{c} x_0 \\\\ x_1 \\end{array} } \\right] = \\left[ {\\begin{array}{c} 0 \\\\ 0.5 \\end{array} } \\right]$\n",
        "\n",
        "An array is defined with square brackets as a list or numpy array.\n",
        "\n",
        "***Vector:*** A vector (1D array) is:\n",
        "\n",
        "$b = \\left[ {\\begin{array}{c} 0 \\\\ 0.5 \\end{array} } \\right]$\n",
        "\n",
        "and is defined as a list:\n",
        "\n",
        "```python\n",
        "b = [0,0.5]\n",
        "```\n",
        "\n",
        "or as a numpy array:\n",
        "\n",
        "```python\n",
        "b = np.array([0,0.5])\n",
        "```\n",
        "\n",
        "***Matrix:*** A matrix (2D array) is:\n",
        "\n",
        "$A = \\left[ {\\begin{array}{cc} 1 & 2 \\\\ 1.5 & -1 \\\\ \\end{array} } \\right]$\n",
        "\n",
        "and is defined as a list:\n",
        "\n",
        "```python\n",
        "A = [[1.0, 2.0],[1.5,-1.0]]\n",
        "```\n",
        "\n",
        "or as a numpy array:\n",
        "\n",
        "```python\n",
        "A = np.array([[1.0, 2.0],[1.5,-1.0]])\n",
        "```"
      ]
    },
    {
      "attachments": {},
      "cell_type": "markdown",
      "metadata": {
        "id": "d3pACSpX739_"
      },
      "source": [
        "***Solution Method #1:*** The solution to this set of equations can be found by inverting the matrix $A$ and multiplying by $b$ as $x=A^{-1}\\,b$.\n",
        "\n",
        "$\\left[ {\\begin{array}{c} x_0 \\\\ x_1 \\end{array} } \\right] = \\left[ {\\begin{array}{cc} 1 & 2 \\\\ 1.5 & -1 \\\\ \\end{array} } \\right]^{-1} \\left[ {\\begin{array}{c} 0 \\\\ 0.5 \\end{array} } \\right]$\n",
        "\n",
        "The inverse of a matrix can be found with the function ```np.linalg.inv```. Two matrices are multiplied together with the dot product with function ```np.dot```."
      ]
    },
    {
      "cell_type": "code",
      "execution_count": null,
      "metadata": {
        "id": "Z0sxaPfa73-A",
        "outputId": "f2a381b5-752b-4bbb-840d-9454af3aa468"
      },
      "outputs": [
        {
          "name": "stdout",
          "output_type": "stream",
          "text": [
            "[ 0.25  -0.125]\n"
          ]
        }
      ],
      "source": [
        "# practice problem\n",
        "import numpy as np\n",
        "A = [[1.0, 2.0],[1.5,-1.0]]\n",
        "b = [0,0.5]\n",
        "invA = np.linalg.inv(A)\n",
        "x = np.dot(invA,b)\n",
        "print(x)"
      ]
    },
    {
      "attachments": {},
      "cell_type": "markdown",
      "metadata": {
        "id": "UVJYd9gT73-B"
      },
      "source": [
        "***Solution Method #2:*** The function ```np.linalg.solve``` can also be used to find ```x``` for linear systems of equations."
      ]
    },
    {
      "cell_type": "code",
      "execution_count": null,
      "metadata": {
        "id": "b26sSllV73-B",
        "outputId": "68c15872-6515-4bd8-a3ff-df1c21f748b4"
      },
      "outputs": [
        {
          "name": "stdout",
          "output_type": "stream",
          "text": [
            "[ 0.25  -0.125]\n"
          ]
        }
      ],
      "source": [
        "x = np.linalg.solve(A,b)\n",
        "print(x)"
      ]
    },
    {
      "attachments": {},
      "cell_type": "markdown",
      "metadata": {
        "id": "NV4MOqfp73-B"
      },
      "source": [
        "***Parse Solution:*** Individual values can be accessed by referencing the specific location in the array. An array index starts with 0."
      ]
    },
    {
      "cell_type": "code",
      "execution_count": null,
      "metadata": {
        "id": "su7cwIrJ73-B",
        "outputId": "f72ec562-52ed-4c92-9cee-c9ce4f199947"
      },
      "outputs": [
        {
          "name": "stdout",
          "output_type": "stream",
          "text": [
            "0.25\n"
          ]
        }
      ],
      "source": [
        "print(x[0])"
      ]
    },
    {
      "attachments": {},
      "cell_type": "markdown",
      "metadata": {
        "id": "AcF8_nG173-C"
      },
      "source": [
        "***Last Value in Array:*** The last value of this array can be accessed with ```x[1]``` or with ```x[-1]```."
      ]
    },
    {
      "cell_type": "code",
      "execution_count": null,
      "metadata": {
        "id": "6ByxcYRO73-C",
        "outputId": "3a7d5cca-591a-43dc-d060-9c080e9ce1d4"
      },
      "outputs": [
        {
          "name": "stdout",
          "output_type": "stream",
          "text": [
            "-0.125\n",
            "-0.125\n"
          ]
        }
      ],
      "source": [
        "print(x[1])\n",
        "print(x[-1])"
      ]
    },
    {
      "attachments": {},
      "cell_type": "markdown",
      "metadata": {
        "id": "o1DoHqT573-C"
      },
      "source": [
        "***Array References:*** The second to last value of any array can be accessed with ```x[-2]```."
      ]
    },
    {
      "cell_type": "code",
      "execution_count": null,
      "metadata": {
        "id": "-o_KMEp573-C",
        "outputId": "1322ca70-8bd3-4044-f9b1-f92005b2248e"
      },
      "outputs": [
        {
          "name": "stdout",
          "output_type": "stream",
          "text": [
            "0.25\n"
          ]
        }
      ],
      "source": [
        "print(x[-2])"
      ]
    },
    {
      "attachments": {},
      "cell_type": "markdown",
      "metadata": {
        "id": "Y-nrg4qD73-D"
      },
      "source": [
        "***Action:*** Find the values of ```x``` that satisfy the following system of linear equations ($A \\, x = b$):\n",
        "\n",
        "$\\left[ {\\begin{array}{ccccc} 11 & 7 & 0 & 1 & 2 \\\\ 0 & 5 & 2 & 0 & 1 \\\\ 3 & 2 & 7 & 1 & 0 \\\\ 4 & 0 & 4 & 10 & 1 \\\\ 2 & 5& 1 & 3 & 14 \\end{array} } \\right] \\left[ {\\begin{array}{c} x_0 \\\\ x_1 \\\\ x_2 \\\\ x_3 \\\\ x_4 \\end{array} } \\right] = \\left[ {\\begin{array}{c} 45 \\\\ 30 \\\\ 15 \\\\ 20 \\\\ 92 \\end{array} } \\right]$"
      ]
    },
    {
      "cell_type": "code",
      "execution_count": null,
      "metadata": {
        "id": "-n5jjHKM73-D"
      },
      "outputs": [],
      "source": [
        "A = [[11.0, 7.0, 0.0,  1.0,  2.0],\\\n",
        "     [ 0.0, 5.0, 2.0,  0.0,  1.0],\\\n",
        "     [ 3.0, 2.0, 7.0,  1.0,  0.0],\\\n",
        "     [ 4.0, 0.0, 4.0, 10.0,  1.0],\\\n",
        "     [ 2.0, 5.0, 1.0,  3.0, 14.0]]\n",
        "b = [45.0, 30.0, 15.0, 20.0, 92.0]"
      ]
    },
    {
      "attachments": {},
      "cell_type": "markdown",
      "metadata": {
        "id": "U7oiybpk73-D"
      },
      "source": [
        "***Action:*** Solve the equations with a different method and compare the solution to the one above."
      ]
    },
    {
      "cell_type": "code",
      "execution_count": null,
      "metadata": {
        "id": "ToOCIU6573-D"
      },
      "outputs": [],
      "source": []
    },
    {
      "attachments": {},
      "cell_type": "markdown",
      "metadata": {
        "id": "NECCyoP973-D"
      },
      "source": [
        "***Action:*** Print the last value of ```x```."
      ]
    },
    {
      "cell_type": "code",
      "execution_count": null,
      "metadata": {
        "id": "jWy9hukx73-D"
      },
      "outputs": [],
      "source": []
    },
    {
      "attachments": {},
      "cell_type": "markdown",
      "metadata": {
        "id": "7D3puAAO73-D"
      },
      "source": [
        "## Problem #2\n",
        "\n",
        "A nonlinear equation solver such as ```scipy.optimize.fsolve``` can also solve linear equations. Returning to the introductory example:\n",
        "\n",
        "$\\left[ {\\begin{array}{cc} 1 & 2 \\\\ 1.5 & -1 \\\\ \\end{array} } \\right] \\left[ {\\begin{array}{c} x_0 \\\\ x_1 \\end{array} } \\right] = \\left[ {\\begin{array}{c} 0 \\\\ 0.5 \\end{array} } \\right]$\n",
        "\n",
        "This is solved with ```fsolve``` by placing all of the equations to one side as:\n",
        "\n",
        "$\\left[ {\\begin{array}{cc} 1 & 2 \\\\ 1.5 & -1 \\\\ \\end{array} } \\right] \\left[ {\\begin{array}{c} x_0 \\\\ x_1 \\end{array} } \\right] - \\left[ {\\begin{array}{c} 0 \\\\ 0.5 \\end{array} } \\right] = \\left[ {\\begin{array}{c} f_0 \\\\ f_1 \\end{array} } \\right]$\n",
        "\n",
        "The equation is solved when $f_0$ and $f_1$ are equal to zero. The ```fsolve``` function requires a function that returns the residuals ($f_1$ and $f_2$)."
      ]
    },
    {
      "cell_type": "code",
      "execution_count": null,
      "metadata": {
        "id": "9BITQPXo73-D"
      },
      "outputs": [],
      "source": [
        "def f(x):\n",
        "    f1 = x[0]+2*x[1]\n",
        "    f2 = 1.5*x[0]-x[1]-0.5\n",
        "    return [f1,f2]"
      ]
    },
    {
      "attachments": {},
      "cell_type": "markdown",
      "metadata": {
        "id": "iTGSbYil73-D"
      },
      "source": [
        "The function solver ```fsolve``` also  an initial guess. A few guess values are evaluated below."
      ]
    },
    {
      "cell_type": "code",
      "execution_count": null,
      "metadata": {
        "id": "w9mV4mFG73-D",
        "outputId": "73d11a36-9c56-4dd3-821d-5834dcab91bc"
      },
      "outputs": [
        {
          "name": "stdout",
          "output_type": "stream",
          "text": [
            "[0.0, -0.5]\n",
            "[1.5, -0.25]\n",
            "[1.0, 1.0]\n"
          ]
        }
      ],
      "source": [
        "# guess solutions\n",
        "print(f([0.0,0.0]))\n",
        "print(f([0.5,0.5]))\n",
        "print(f([1.0,0.0]))"
      ]
    },
    {
      "attachments": {},
      "cell_type": "markdown",
      "metadata": {
        "id": "81D0c16b73-D"
      },
      "source": [
        "Guess values for $x_0$ and $x_1$ are selected as ```[1,1]``` and ```fsolve``` finds the solution."
      ]
    },
    {
      "cell_type": "code",
      "execution_count": null,
      "metadata": {
        "id": "VJ7nFUL573-E",
        "outputId": "adee1fca-2277-4c17-d9ae-757cf417ac03"
      },
      "outputs": [
        {
          "name": "stdout",
          "output_type": "stream",
          "text": [
            "[ 0.25  -0.125]\n"
          ]
        }
      ],
      "source": [
        "from scipy.optimize import fsolve\n",
        "x = fsolve(f,[1,1])\n",
        "print(x)"
      ]
    },
    {
      "attachments": {},
      "cell_type": "markdown",
      "metadata": {
        "id": "QUCpSo9u73-E"
      },
      "source": [
        "***Action:*** Determine one solution for $x$ and $y$ to the following equations (there are 4 possible solutions).\n",
        "\n",
        "$2 x^2 + y^2 = 1$\n",
        "\n",
        "$(0.5x-0.5)^2+2(y-0.25)^2=1$\n",
        "\n",
        "The initial guess can be adjusted to find a different solution."
      ]
    },
    {
      "cell_type": "code",
      "execution_count": null,
      "metadata": {
        "id": "mIZTd0dg73-E"
      },
      "outputs": [],
      "source": []
    },
    {
      "attachments": {},
      "cell_type": "markdown",
      "metadata": {
        "id": "bMleY0i673-E"
      },
      "source": [
        "## Problem #3\n",
        "\n",
        "The Redlich/Kwong Equation of State is\n",
        "\n",
        "$P = \\frac{R_g \\, T}{V-b} - \\frac{a}{T^{1/2} \\, V \\, \\left(V+b\\right)}$\n",
        "\n",
        "where $T$ is the temperature, $V$ is the molar volume, $R_g$ is the universal gas constant, and $a$ and $b$ are compound-specific constants.  Find the molar volume of ethane for each phase that is present at $T = 77 \\, °C$ and $P = 1 \\, bar$.  For ethane, $a = 2.877×10^8 \\, \\frac{cm^6 bar K^{0.5}}{mol^2}$ and $b = 60.211 \\, \\frac{cm^3}{mol}$.\n",
        "\n",
        "* Use the ideal gas law to obtain the guess of the vapor volume and 1.1*b to obtain the guess for the liquid volume.  (Graphing helps find good guesses for solver)\n",
        "* You may need to include some constraints.\n",
        "* IF YOU ARE STUCK ask a friend, the TA OR the instructor!  Don’t spent so much time feeling lost that you become discouraged.\n",
        "* You should obtain something around 28637 $cm^3/mol$ for the vapor volume and 82.477 $cm^3/mol$ for the liquid volume.  The middle root (not required but for your information) is in between."
      ]
    },
    {
      "cell_type": "code",
      "execution_count": null,
      "metadata": {
        "id": "wU9tLODM73-E"
      },
      "outputs": [],
      "source": [
        "import numpy as np\n",
        "from scipy.optimize import fsolve\n",
        "\n",
        "# constants\n",
        "TC = 77 # degC\n",
        "P = 1.0 # bar\n",
        "a = 2.877e8 # cm^6 bar K^0.5 / mol^2\n",
        "b = 60.211  # cm^3 / mol\n",
        "Rg = 83.144598 # cm^3 bar / K-mol\n",
        "# derived quantities\n",
        "TK = TC+273.15 # K\n",
        "\n",
        "# define function for fsolve\n",
        "def f(V):\n",
        "    return # fill-in"
      ]
    },
    {
      "attachments": {},
      "cell_type": "markdown",
      "metadata": {
        "id": "Kh3Ll4g173-E"
      },
      "source": [
        "## Problem #4\n",
        "\n",
        "Imagine mixing liquid benzene (species 1) and toluene (species 2) together in an initially empty container. At equilibrium, some of the liquid from both species evaporates into the vapor phase and some is left liquid phase for certain temperatures and pressures. In thermodynamics, you learn that Raoult’s law may be used to describe the distribution of species in each phase. For the specific example mentioned above, Raoult’s law gives the following two expressions describing the equilibrium state\n",
        "\n",
        "$$\n",
        "\\begin{align}\n",
        "y_1 P = x_1 P_1^{sat}(T) \\\\\n",
        "y_2 P = x_2 P_2^{sat}(T)\n",
        "\\end{align}\n",
        "$$\n",
        "\n",
        "where $y_i$ is the mole fraction of species $i$ (either 1 or 2) in the vapor phase, $x_i$ is the mole fraction of species $i$ in the liquid phase, $P_i^{sat}(T)$ is the vapor pressure of species $i$ at the system temperature $T$, and $P$ is the system pressure.\n",
        "\n",
        "The vapor pressures of benzene and toluene can be found using the Antione Equation given below:\n",
        "\n",
        "$$\n",
        "\\begin{equation}\n",
        "\\ln{\\left(P_i^{sat}(T) \\right)} = A_i - \\frac{B_i}{T+ C_i}\n",
        "\\end{equation}\n",
        "$$\n",
        "\n",
        "Note that $P_i^{sat}(T)$ is not $P_i^{sat}$ times $T$, but is simply showing that $P_i^{sat}$ is a function of $T$ in kPa.  The constants, $A$, $B$, and $C$, are compound specific and are found in the table below. $T$ is in $°C$.\n",
        "\n",
        "***Antoine Constants for Benzene and Toluene:***\n",
        "\n",
        "| Compound | A | B | C |\n",
        "| --- | --- | --- | --- |\n",
        "| Benzene | 13.7819 | 2726.81 | 217.572 |\n",
        "| Toluene | 13.9320 | 3056.96 | 217.625 |\n",
        "\n",
        "If a mixture of benzene (species 1) and toluene (species 2) has $y_1 = 0.33$ and $P = 120 \\, kPa$, find $x_1$ and $T$. Remember that the mole fractions of each phase must sum to 1.\n",
        "\n",
        "* First figure out what you are solving for.  Then figure out how many equations you have.\n",
        "* You might want to set up a function for $P_1^{sat}$ and $P_2^{sat}$ that are a function of $T$.\n",
        "* You should get about 0.17 for $x_1$ and $109 °C$ for $T$."
      ]
    },
    {
      "cell_type": "code",
      "execution_count": null,
      "metadata": {
        "id": "rDq_5jPz73-E"
      },
      "outputs": [],
      "source": []
    },
    {
      "attachments": {},
      "cell_type": "markdown",
      "metadata": {},
      "source": [
        "Credit to Dr. John Hedengren for these problems."
      ]
    },
    {
      "attachments": {},
      "cell_type": "markdown",
      "metadata": {},
      "source": []
    }
  ],
  "metadata": {
    "colab": {
      "provenance": []
    },
    "kernelspec": {
      "display_name": "Python 3",
      "language": "python",
      "name": "python3"
    },
    "language_info": {
      "codemirror_mode": {
        "name": "ipython",
        "version": 3
      },
      "file_extension": ".py",
      "mimetype": "text/x-python",
      "name": "python",
      "nbconvert_exporter": "python",
      "pygments_lexer": "ipython3",
      "version": "3.9.16"
    }
  },
  "nbformat": 4,
  "nbformat_minor": 0
}
