{
 "cells": [
  {
   "cell_type": "markdown",
   "metadata": {},
   "source": [
    "# HW08: Solving Ordinary Differential Equations (ODEs)"
   ]
  },
  {
   "cell_type": "markdown",
   "metadata": {},
   "source": [
    "Ordinary Differential Equations are equation that deal with changes with respect to one variable. For example, the equation for the velocity of a falling object is a differential equation because it describes how the velocity changes with respect to time. In this homework, we will practice solving differential equations using the Euler method and Scipy's ODEINT."
   ]
  },
  {
   "cell_type": "markdown",
   "metadata": {},
   "source": [
    "A simple version of an ODE is:\n",
    "$$\n",
    "\\frac{dy}{dt} = C\n",
    "$$\n",
    "where C is a constant. Here, y is changing at a constant rate with respect to time. The analytical solution is simply \n",
    "$$\n",
    "\\int dy = \\int C dt \\\\\n",
    "y = Ct + y0, \n",
    "$$\n",
    "where y0 is the initial value of y = 0.\n",
    "\n",
    "Some ODE's can be solved analytically, but many cannot. We'll use this simple example to also integrate it numerically and compare the results."
   ]
  },
  {
   "cell_type": "code",
   "execution_count": 31,
   "metadata": {},
   "outputs": [],
   "source": [
    "#Numerically solution with Euler's method\n",
    "import numpy as np\n",
    "import matplotlib.pyplot as plt\n",
    "from scipy.integrate import odeint"
   ]
  },
  {
   "cell_type": "code",
   "execution_count": 44,
   "metadata": {},
   "outputs": [
    {
     "data": {
      "image/png": "[encoded data removed]",
      "text/plain": [
       "<Figure size 640x480 with 1 Axes>"
      ]
     },
     "metadata": {},
     "output_type": "display_data"
    }
   ],
   "source": [
    "#Specify the constant \n",
    "constant = 42.1 # in dy/dt = constant\n",
    "\n",
    "# Define the equation\n",
    "def derivative(y,t): #y is the dependent variable, t is the independent variable return is dydt\n",
    "    return constant # return the right side of dy/dt which in this case is constant\n",
    "\n",
    "#create some arrays\n",
    "t = np.linspace(0, 10, 100)\n",
    "y = np.zeros(len(t))\n",
    "\n",
    "#initial condition\n",
    "y[0] = 0\n",
    "\n",
    "#Now use Euler's method to solve the equation to get y as a function of t\n",
    "for i in range(1, len(t)):\n",
    "    y[i] = y[i-1] + derivative(y[i-1],t[i-1])*(t[i] - t[i-1])\n",
    "\n",
    "#Now use scipy odeint to solve the equation\n",
    "yode = odeint(derivative, y[0],t)\n",
    "\n",
    "#now plot the solution\n",
    "plt.plot(t, y,label='Euler')\n",
    "plt.plot(t, constant*t, 'r--',label='analytical') #also plot the analytical solution\n",
    "plt.plot(t, yode, 'g-.',label='odeint') #also plot the solution from odeint\n",
    "plt.xlabel('t'); plt.ylabel('y(t)')\n",
    "plt.legend(); plt.show()\n"
   ]
  },
  {
   "cell_type": "markdown",
   "metadata": {},
   "source": [
    "The three versions of the solution (analytical, Euler, and ODEINT) are the same (or visually indistinguishable) as seen in the above plot."
   ]
  },
  {
   "cell_type": "markdown",
   "metadata": {},
   "source": [
    "-----\n",
    "## Problem 1\n",
    "Please solve the below equation using the Euler method. Plot the solution and compare it to the analytical solution.:\n",
    "$$\n",
    "\\frac{dy}{dt} = -y + C\n",
    "$$\n",
    "where C is a constant. Here, y is changing at a constant rate with respect to time. \n"
   ]
  },
  {
   "cell_type": "markdown",
   "metadata": {},
   "source": [
    "**Action 1**: Solve for the analytical solution and specify a function called Analytical1 that takes values of time and returns the value of y given the C value of 3.2 and an initial vallue of 2.3."
   ]
  },
  {
   "cell_type": "code",
   "execution_count": 45,
   "metadata": {},
   "outputs": [
    {
     "data": {
      "text/latex": [
       "$\\displaystyle y{\\left(t \\right)} = C_{1} e^{- t} + 3.2$"
      ],
      "text/plain": [
       "Eq(y(t), C1*exp(-t) + 3.2)"
      ]
     },
     "execution_count": 45,
     "metadata": {},
     "output_type": "execute_result"
    }
   ],
   "source": [
    "# A hint, you can use sympy to solve the equation analytically\n",
    "import sympy as sp\n",
    "t = sp.Symbol('t')\n",
    "y = sp.Function('y')\n",
    "eq = sp.Eq(y(t).diff(t),-y(t)+3.2)\n",
    "sp.dsolve(eq, y(t))"
   ]
  },
  {
   "cell_type": "markdown",
   "metadata": {},
   "source": [
    "**Action 2:** Setup a derivative function as in the example above and fill in arrays with the value of y as a function of time using the Euler method. Use a step size of 0.1 and a total time of 10.0 starting from 0."
   ]
  },
  {
   "cell_type": "code",
   "execution_count": null,
   "metadata": {},
   "outputs": [],
   "source": []
  },
  {
   "cell_type": "markdown",
   "metadata": {},
   "source": [
    "**Action 3:** Use the ODEINT function to solve the same equation."
   ]
  },
  {
   "cell_type": "code",
   "execution_count": null,
   "metadata": {},
   "outputs": [],
   "source": []
  },
  {
   "cell_type": "markdown",
   "metadata": {},
   "source": [
    "**Action 4:** Plot the analytical solution and the numerical solutions (Euler and ODEINT) on the same plot. Make sure to label the axes and include a legend."
   ]
  },
  {
   "cell_type": "code",
   "execution_count": null,
   "metadata": {},
   "outputs": [],
   "source": []
  },
  {
   "cell_type": "markdown",
   "metadata": {},
   "source": [
    "## Problem 2: Radioactive decay. \n",
    "\n",
    "$$\\frac{dC}{dt} = -\\frac{C}{\\tau}.$$  \n",
    "The exact solution is \n",
    "$$C(t) = C_0e^{-t/\\tau},$$ \n",
    "where $C_0$ is the initial concentration."
   ]
  },
  {
   "cell_type": "markdown",
   "metadata": {},
   "source": [
    "**Action 1**: Use sympy dsolve to solve the above equation. You should get the same answer as given above."
   ]
  },
  {
   "cell_type": "code",
   "execution_count": null,
   "metadata": {},
   "outputs": [],
   "source": []
  },
  {
   "cell_type": "markdown",
   "metadata": {},
   "source": [
    "**Action 2**: Use the Euler method to solve the above equation. Plot the solution and compare it to the analytical solution. Use an initial concentration of 1 and a decay constant of 1. Use a step size of 1 and a total time of 10.0 starting from 0. Thus you'll have 11 points for time for each trace: analytical, euler, and odeint."
   ]
  },
  {
   "cell_type": "code",
   "execution_count": null,
   "metadata": {},
   "outputs": [],
   "source": []
  },
  {
   "cell_type": "markdown",
   "metadata": {},
   "source": [
    "**Action 3:** Solve the same with odeint"
   ]
  },
  {
   "cell_type": "code",
   "execution_count": null,
   "metadata": {},
   "outputs": [],
   "source": []
  },
  {
   "cell_type": "markdown",
   "metadata": {},
   "source": [
    "**Action 4**: Plot the analytical solution and the numerical solutions (Euler and ODEINT) on the same plot. Make sure to label the axes and include a legend."
   ]
  },
  {
   "cell_type": "code",
   "execution_count": null,
   "metadata": {},
   "outputs": [],
   "source": []
  },
  {
   "cell_type": "markdown",
   "metadata": {},
   "source": [
    "**Action 5**: Comment on what you observe about the plot. Perhaps you want to change the time step size (1 to 0.1) and see what happens."
   ]
  },
  {
   "cell_type": "markdown",
   "metadata": {},
   "source": [
    "`Your answer here`"
   ]
  },
  {
   "cell_type": "markdown",
   "metadata": {},
   "source": [
    "## Problem 3: Falling Raindrop"
   ]
  },
  {
   "cell_type": "markdown",
   "metadata": {},
   "source": [
    "A $d_p$ = 1 mm diameter raindrop falls in still air at 300 K, 1 atm. The drop's falling velocity\n",
    "and position evolve according to the following 2 rate equations:\n",
    "$$\n",
    "\\frac{dv}{dt} = -g + \\frac{18\\mu}{\\rho_p d_p^2}|v| \\\\\n",
    "\\frac{dx}{dt} = v\n",
    "$$\n",
    "\n",
    "Here, $\\mu$ = 1.85 • 10- 5 kg/(m • s) is the viscosity of air, $\\rho_p$ is the density of water at 1000 kg/m3, and g =\n",
    "9.81 m/s^2 . The initial position and velocity of the drop are both 0.\n",
    "(a) Numerically solve for velocity and position, each of which should be plotted on their own labeled plot for sufficient time to show initial and asymptotal behavior. Use odeint to generate smooth curves.\n",
    "(b) Find the infinite-time velocity ( called the terminal velocity) of the droplet (approximated at a long time value)."
   ]
  },
  {
   "cell_type": "markdown",
   "metadata": {},
   "source": [
    "**Hint** : setup your derivative function (`def derivative(vx,t):`) to take in both velocity and position (in a single array or tuple) and return both dvdt and dxdt in an array or tuple. "
   ]
  },
  {
   "cell_type": "code",
   "execution_count": null,
   "metadata": {},
   "outputs": [],
   "source": []
  }
 ],
 "metadata": {
  "kernelspec": {
   "display_name": "Python 3 (ipykernel)",
   "language": "python",
   "name": "python3"
  },
  "language_info": {
   "codemirror_mode": {
    "name": "ipython",
    "version": 3
   },
   "file_extension": ".py",
   "mimetype": "text/x-python",
   "name": "python",
   "nbconvert_exporter": "python",
   "pygments_lexer": "ipython3",
   "version": "3.9.16"
  }
 },
 "nbformat": 4,
 "nbformat_minor": 2
}
