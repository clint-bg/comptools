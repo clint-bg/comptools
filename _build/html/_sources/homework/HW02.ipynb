{
  "cells": [
    {
      "attachments": {},
      "cell_type": "markdown",
      "metadata": {
        "id": "gjtUm43q8Zaf"
      },
      "source": [
        "# HW02: Arrays"
      ]
    },
    {
      "cell_type": "markdown",
      "metadata": {},
      "source": [
        "Purposes of this assignment is to get practice with the following:\n",
        "- Arrays"
      ]
    },
    {
      "cell_type": "markdown",
      "metadata": {},
      "source": [
        "## Problem 1\n",
        "You are given an array of numbers. Write a Python program to calculate the sum of all the elements in the array and print the result. Use the following arrays to test your program.\n",
        "\n",
        "1. [1, 2, 3, 4, 5]\n",
        "2. [10, 20, 30, 40, 50]\n",
        "3. [3, 6, 9, 12, 15, 18, 21, 24, 27, 30]\n",
        "4. [1+2i, 2+3i, 3+4i, 4+5i, 5+6i]"
      ]
    },
    {
      "cell_type": "code",
      "execution_count": null,
      "metadata": {
        "vscode": {
          "languageId": "plaintext"
        }
      },
      "outputs": [],
      "source": []
    },
    {
      "attachments": {},
      "cell_type": "markdown",
      "metadata": {},
      "source": [
        "## Problem 2\n",
        "You are given an array of numbers. Write a Python program to find the largest element in the array and print it. Use the following arrays to test your program:\n",
        "1. [1, 2.2, 6.3, 4, 5]\n",
        "2. [104, 410, 302, 840, 50]\n",
        "3. [3, 36, 9, 12, 415, 18, 21, 24, 27, 30]"
      ]
    },
    {
      "cell_type": "code",
      "execution_count": null,
      "metadata": {
        "vscode": {
          "languageId": "plaintext"
        }
      },
      "outputs": [],
      "source": []
    },
    {
      "cell_type": "markdown",
      "metadata": {},
      "source": [
        "## Problem 3\n",
        "You are given an array. Write a Python program to reverse the order of the elements in the array (in-place, without creating a new array) and print the modified array. Use the same arrays as in Problem 1 to test your program."
      ]
    },
    {
      "cell_type": "code",
      "execution_count": null,
      "metadata": {
        "vscode": {
          "languageId": "plaintext"
        }
      },
      "outputs": [],
      "source": []
    },
    {
      "cell_type": "markdown",
      "metadata": {},
      "source": [
        "## Problem 4\n",
        "Write a Python program to rotate the array to the right by k steps. Use the same arrays as in Problem 1 to test your program with k=2, and k = 6."
      ]
    },
    {
      "cell_type": "code",
      "execution_count": null,
      "metadata": {
        "vscode": {
          "languageId": "plaintext"
        }
      },
      "outputs": [],
      "source": []
    },
    {
      "cell_type": "markdown",
      "metadata": {},
      "source": []
    }
  ],
  "metadata": {
    "colab": {
      "provenance": []
    },
    "kernelspec": {
      "display_name": "Python 3",
      "language": "python",
      "name": "python3"
    },
    "language_info": {
      "codemirror_mode": {
        "name": "ipython",
        "version": 3
      },
      "file_extension": ".py",
      "mimetype": "text/x-python",
      "name": "python",
      "nbconvert_exporter": "python",
      "pygments_lexer": "ipython3",
      "version": "3.9.16"
    }
  },
  "nbformat": 4,
  "nbformat_minor": 0
}
