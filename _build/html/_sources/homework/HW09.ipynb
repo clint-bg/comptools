{
 "cells": [
  {
   "cell_type": "markdown",
   "metadata": {},
   "source": [
    "# HW09: More Solving of Ordinary Differential Equations (ODEs)"
   ]
  },
  {
   "cell_type": "markdown",
   "metadata": {},
   "source": [
    "## Problem 1: Solve the following differential equation using odeint\n",
    "\n",
    "If you are living on the International Space Station and accidentally get ejected into space without a space suit, you would need to get air within a few minutes to prevent death. Even if you have air, if you aren't kept warm, your body would be hypothermic in a relatively short period. Let find out how long you have to get back to the space station before becoming hypothermic. There are likely other more deadly conditions of being exposed to a vacuum than running out of oxygen or freezing, but we will ignore those for now.\n",
    "\n",
    "Assuming your are on the shadowed side of Earth, the following is a simple model that describes how your body's average temperature $T$ could change in time. The term on the left is the accumulation term; the first term on the right is a generation term (from your metabolism); the second term on the right is emission by radiation into space (space does not return any radiation to you). \n",
    "\n",
    "$$ m c_p\\frac{dT}{dt} = \\dot{Q}- \\sigma A T^4$$\n",
    "\n",
    "where $m$ is total body mass, $c_p$ is heat capacity, $\\dot{Q}$ is heat generation by your body, $A$ is effective surface area of your body that emits radiation, and $\\sigma$ is the Stefan-Boltzmann radiation constant (look it up online). \n",
    "\n",
    "Your code should be well-documented and all constants should be specified with units. You should use SI units generally in this problem, though will need to switch between $\\mathrm{K}$ and $^\\circ\\mathrm{C}$. A couple notes on that: Temperature in the radiation term must be absolute (i.e. units $\\mathrm{K}$). Recall from ChEn 170 that for heat capacity the denominator contains a change in temperature (i.e. either $\\Delta\\mathrm{K}$ or $\\Delta^\\circ\\mathrm{C}$ which are perfectly the same). Once you get an answer in $\\mathrm{K}$ you will need to convert to $^\\circ\\mathrm{C}$ in the final plot. \n",
    "\n",
    "To solve this problem you need to do the following. \n",
    "1. Reasonably estimate the values of $m$ and $A$ for your body (or for 'a friend'). The area that emits radiation could be estimated, for instance, by treating your body as if it were a cylinder of water.\n",
    "2. Assume $c_p$ for your body is the value for water\n",
    "3. Reasonably estimate what your $\\dot{Q}$ would be in this scenario: a person while resting generates about $100~\\mathrm{W}$ heat and while vigorously exercising generates around $300~\\mathrm{W}$.\n",
    "4. Rearrange the above equation and determine what is needed to implement into `odeint`\n",
    "5. Make a smooth well-formatted plot of body temperature ($^\\circ\\mathrm{C}$) over time ($\\mathrm{s}$). Adjust the timescale so that the plot readily shows the most relevant region of interest.\n",
    "6. Based on the **plot** of the model result, **estimate** the time when you would get to hypothermia. Normal body temperature is $37^\\circ\\mathrm{C}$; hypothermia begins at $35^\\circ\\mathrm{C}$.\n"
   ]
  },
  {
   "cell_type": "code",
   "execution_count": 1,
   "metadata": {},
   "outputs": [],
   "source": [
    "#Your answer here"
   ]
  },
  {
   "cell_type": "markdown",
   "metadata": {},
   "source": [
    "## Problem 2: Relatively Simple Climate Model\n",
    "The earth's climate is very complex. \"A butterfly flaps its wings in China and it rains in New York\" is a popular saying that illustrates the complexity of the climate system. Climate models are very complex. In this homework, we will use a simple climate model to explore the effect of the greenhouse effect on the earth's temperature. "
   ]
  },
  {
   "cell_type": "markdown",
   "metadata": {},
   "source": [
    "We'll simulate a layer of dry air on top of a layer of humid air that is above a layer of solid iron. Our model will be significantly smaller than the Earth. Oxygen and nitrogen are transparent to both visible and infrared light, but water vapor and carbon dioxide are not. The greenhouse effect is the process by which the atmosphere traps infrared radiation and warms the earth. We need this effect to survive otherwise the earth would be too cold to support life. "
   ]
  },
  {
   "cell_type": "markdown",
   "metadata": {},
   "source": [
    "Incoming solar radiation ($I_0$) is absorbed by the different layers, heating them, and some of that energy strikes the Earth's surface. The surface then radiates infrared radiation (I1) back into the atmosphere. Some of this radiation is absorbed by the atmosphere, and some escapes into space. "
   ]
  },
  {
   "cell_type": "markdown",
   "metadata": {},
   "source": [
    "Table of Parameters \n",
    "|Number|Label|$C_p$, J/mol/K|Reflectivity|Temp, K|Absorption coef., m-1|Emissivity|Thickness, m|Heat transfer coef., kW/m2/K|\n",
    "|------|-----|-----|----------|----|----------|--------|---------|-------------------|\n",
    "|1|Dry Air|29|0.02|256|<mark>0.01</mark>|0.3|90|100|\n",
    "|2|Humid Air|36|<mark>0.2</mark>|263|0.7|0.8|30|100|\n",
    "|3|Iron|25|0|285|100|0.5|1|1|\n",
    "\n",
    "The highlighted values are the parameters that will be changing depending on the composition of the dry and humid air."
   ]
  },
  {
   "cell_type": "markdown",
   "metadata": {},
   "source": [
    "Energy balance equations that define the behavior and interactions between the layers:\n",
    "\n",
    "$$\n",
    "\\begin{align}\n",
    "acc &= in - out \\\\\n",
    "\\frac{dE_i}{dt} &= n_iC_p^i\\frac{dT_i}{dt}= I_{i-1}A_i[(1-r_i)-(1-r_i)^2 e^{-\\kappa_i d_i}] -\\sigma \\epsilon_i A_i(T_i^4-T_{surr}^4) -\\sum h_{ij}B_{ij}(T_i-T_j)\n",
    "\\end{align}\n",
    "$$\n",
    "\n",
    "where $E$ is the energy stored in each layer, $n$ is the number of moles of each layer, $C_p$ is the heat capacity of each layer, $T$ is the temperature of each layer, $I_0$ is the incoming solar radiation, $A$ is the surface area of the earth, $r$ is the reflectivity of each layer, $\\kappa$ is the absorption coefficient of each layer, $d$ is the thickness of each layer, $\\sigma$ is the Stefan-Boltzmann constant, $\\epsilon$ is the emissivity of each layer, $B$ is the interfacial area, and $h$ is the heat transfer coefficient of each layer."
   ]
  },
  {
   "cell_type": "markdown",
   "metadata": {},
   "source": [
    "For example, for the second layer, the above derivative equation is\n",
    "\n",
    "$$\n",
    "\\frac{dE_2}{dt} = n_2C_p^2\\frac{dT_2}{dt}= I_1A_2[(1-r_2)-(1-r_2)^2 e^{-\\kappa_2 d_2}] - \\sigma \\epsilon_2 A_2(T_2^4 - T_{surr}^4) - h_{23}B_{23}(T_2-T_3) - h_{21}B_{21}(T_2-T_1)\n",
    "$$"
   ]
  },
  {
   "cell_type": "markdown",
   "metadata": {},
   "source": [
    "The outlet radiation after it passes through a layer is:\n",
    "\n",
    "$$\n",
    "I_i = I_{i-1}(1-r_i)^2 e^{-\\kappa_i d_i}\n",
    "$$"
   ]
  },
  {
   "cell_type": "markdown",
   "metadata": {},
   "source": [
    "An image of the different layers for this model is shown below with the different layers labeled and the incoming radiation through Layer 1. Now we can set up our model in Python."
   ]
  },
  {
   "cell_type": "markdown",
   "metadata": {},
   "source": [
    "<img src=\"https://github.com/clint-bg/comptools/blob/main/homework/supportfiles/sphere-climate.png?raw=true\" width='350'>"
   ]
  },
  {
   "cell_type": "code",
   "execution_count": 4,
   "metadata": {},
   "outputs": [],
   "source": [
    "#import dependencies\n",
    "import param\n",
    "import numpy as np\n",
    "from scipy.integrate import odeint\n",
    "from matplotlib import pyplot as plt"
   ]
  },
  {
   "cell_type": "code",
   "execution_count": 5,
   "metadata": {},
   "outputs": [],
   "source": [
    "class layer(param.Parameterized):\n",
    "    th = param.Number(default=1000, doc=\"Thickness of the layer, m\")\n",
    "    k = param.Number(default=0, doc=\"absorbtion coefficient of the layer, m^-1\")\n",
    "    T = param.Number(default=288, doc=\"Temperature of the layer, K\")\n",
    "    Cp = param.Number(default=1, doc=\"Heat capacity of the layer, J/(mol K)\")\n",
    "    em = param.Number(default=0.9, doc=\"Emissivity of the layer\")\n",
    "    sigma = param.Number(default=5.67e-8, doc=\"Stefan-Boltzmann constant, W/(m^2 K^4)\")\n",
    "    ref = param.Number(default=0.5, doc=\"Reflectivity of the layer\")\n",
    "    rad = param.Number(default=1, doc=\"Radius to edge of layer closest to center, m\")\n",
    "    Rg = param.Number(default=8.314, doc=\"Ideal gas constant, J/(mol K)\", constant = True)\n",
    "    hconv = param.Number(default=10, doc=\"Convection coefficient, W/(m^2 K)\")\n",
    "    solid = param.Boolean(default=False, doc=\"Is the layer solid?\")\n",
    "    solidensity  = param.Number(default=1500, doc=\"Density of the solid, kg/m^3\")\n",
    "    MW = param.Number(default=0.0558, doc=\"Molecular weight of the component, kg/mol\")\n",
    "\n",
    "    def area(self): #area for the emission to the surroundings taken to be the outside surface area\n",
    "        return 4*np.pi*(self.rad+self.th)**2\n",
    "\n",
    "    def moles(self,pressure):\n",
    "        volume = 4/3*np.pi*((self.rad+self.th)**3 - (self.rad)**3)\n",
    "        if self.solid:\n",
    "            return self.solidensity*volume/self.MW\n",
    "        else:\n",
    "            return pressure*volume/(self.Rg*self.T)\n",
    "    \n",
    "    def adsorbed(self,Ii): # energy adsorbed by the layer\n",
    "        return Ii*((1-self.ref)-(1-self.ref)**2*np.exp(-self.k*self.th))*self.area() #Ii is the intensity of the incoming radiation\n",
    "    \n",
    "    def emitted(self,Tsurr): # energy radiated by the layer to the surroundings\n",
    "        return self.em*self.sigma*self.area()*(self.T**4 - Tsurr**4)\n",
    "    \n",
    "    def convection(self,upperlayer, lowerlayer): # energy convected by the layer to the other layers\n",
    "        hc_u = (self.hconv + upperlayer.hconv)/2\n",
    "        hc_l = (self.hconv + lowerlayer.hconv)/2\n",
    "        area_u = self.area(); area_l = 4*np.pi*(self.rad)**2\n",
    "        if upperlayer == self:\n",
    "            heat_u = hc_u*(self.T - 250)*area_u #heat lost to space from the top layer\n",
    "        elif lowerlayer == self:\n",
    "            heat_u = hc_u*(self.T - 290)*area_u #mimicking heat from the earth's core to the bottom layer\n",
    "        else:\n",
    "            heat_u = hc_u*(self.T - upperlayer.T)*area_u\n",
    "        heat_l = hc_l*(self.T - lowerlayer.T)*area_l\n",
    "        return heat_u + heat_l\n",
    "    \n",
    "    def dTdt(self,Ii,Tsurr,pressure,upperlayer,lowerlayer): # change in temperature with time of the layer\n",
    "        conv = self.convection(upperlayer, lowerlayer)\n",
    "        return (self.adsorbed(Ii) - self.emitted(Tsurr) - conv)/(self.moles(pressure)*self.Cp)    "
   ]
  },
  {
   "cell_type": "markdown",
   "metadata": {},
   "source": [
    "**Task 1:** Please describe what the above code is doing. Also please explain what is meant by upperlayer and lowerlayer.\n",
    "\n",
    "\n"
   ]
  },
  {
   "cell_type": "markdown",
   "metadata": {},
   "source": [
    "When rerunning the code, make sure to rerun from here (where the objects are defined at their initial values.)"
   ]
  },
  {
   "cell_type": "code",
   "execution_count": 18,
   "metadata": {},
   "outputs": [],
   "source": [
    "#Now simulate the layers with a given intensity of incoming radiation and \n",
    "# a given temperature of the surroundings\n",
    "years = 10\n",
    "time = np.linspace(0,365*years,3650*years) #days \n",
    "Tsurr = 0 #K\n",
    "pressure = 1e5 #Pa\n",
    "hc = 100 #W/(m^2 K) #convection coefficient for all layers\n",
    "radius = 100 #m, radius of the planet\n",
    "dryair = layer(th=90, k = 0.01, T = 256, Cp = 29, em = 0.3, ref = 0.02, rad = radius+30+1, hconv = hc)\n",
    "wetair = layer(th=30, k = 0.7, T = 263, Cp = 36, em = 0.8, ref = 0.2, rad = radius+1, hconv = hc)\n",
    "iron = layer(th=1, k = 100, T = 285, Cp = 25, em = 0.5, ref = 0, rad = radius, hconv = 1, solid=True)"
   ]
  },
  {
   "cell_type": "code",
   "execution_count": 19,
   "metadata": {},
   "outputs": [],
   "source": [
    "#set radiation intensity\n",
    "Io = 1.5e3 #W/m^2\n",
    "def Ii(day):\n",
    "    return (np.sin(2*np.pi*day)+1)*Io/2 #W/m^2  \n",
    "\n",
    "#set absorption coefficient of dryair mimicking increase in CO2 concentration step change\n",
    "def ad(day):\n",
    "    if day>1000:\n",
    "        dryair.k = 10\n",
    "\n",
    "#set reflectivity of wetair mimicking increase in cloud cover step change\n",
    "def refl(day):\n",
    "    if day>1000:\n",
    "        wetair.ref = 1"
   ]
  },
  {
   "cell_type": "markdown",
   "metadata": {},
   "source": [
    "**Task 2** Please describe what the ad() and refl() functions are doing. What is being set in each case? How would you expect the temperature to change in response? How long will that setting last?"
   ]
  },
  {
   "cell_type": "code",
   "execution_count": 20,
   "metadata": {},
   "outputs": [
    {
     "data": {
      "text/plain": [
       "(1000.0, 1035.0)"
      ]
     },
     "execution_count": 20,
     "metadata": {},
     "output_type": "execute_result"
    },
    {
     "data": {
      "image/png": "[encoded data removed]",
      "text/plain": [
       "<Figure size 432x288 with 1 Axes>"
      ]
     },
     "metadata": {
      "needs_background": "light"
     },
     "output_type": "display_data"
    }
   ],
   "source": [
    "plt.plot(time,Ii(time))\n",
    "plt.xlabel(\"Time (days)\"); plt.ylabel(\"Intensity of incoming radiation (W/m^2)\")\n",
    "plt.xlim([1000,1035])"
   ]
  },
  {
   "cell_type": "markdown",
   "metadata": {},
   "source": [
    "**Task 3**: You will make changes to the \"atmosphere\" by either increasing the cloud cover with the refl() function, or increasing the absorption coefficient of the atmosphere. You will either uncomment the ad(t) or refl(t) function in the below derivative to see how the atmosphere (dryair temperature) responds. Remember to rerun the code from the beginning (at Task 1) to reset the initial values."
   ]
  },
  {
   "cell_type": "code",
   "execution_count": 21,
   "metadata": {},
   "outputs": [],
   "source": [
    "#Integrate the differential equations using ODEINT\n",
    "def derivs(T,t,Ii,ad):\n",
    "    [dryair.T,wetair.T,iron.T] = T #set the temperatures of the layers from the odeint results\n",
    "    #ad(t) #change the absorption coefficient of dryair\n",
    "    #refl(t) #change the reflectivity of wetair\n",
    "    I0 = Ii(t)\n",
    "    I1 = Ii(t)*(1-dryair.ref)**2*np.exp(-dryair.k*dryair.th)\n",
    "    I2 = I1*(1-wetair.ref)**2*np.exp(-wetair.k*wetair.th)\n",
    "    return [dryair.dTdt(I0,Tsurr,pressure,dryair,wetair), \\\n",
    "        wetair.dTdt(I1,Tsurr,pressure,dryair,iron), \\\n",
    "            iron.dTdt(I2,Tsurr,pressure,wetair,iron)]\n",
    "T0 = [dryair.T,wetair.T,iron.T]\n",
    "args = (Ii,ad)\n",
    "results = odeint(derivs,T0,time,args)\n",
    "first = np.array([each[0] for each in results])\n",
    "second = np.array([each[1] for each in results])\n",
    "third = np.array([each[2] for each in results])"
   ]
  },
  {
   "cell_type": "code",
   "execution_count": 22,
   "metadata": {},
   "outputs": [
    {
     "data": {
      "image/png": "[encoded data removed]",
      "text/plain": [
       "<Figure size 432x288 with 1 Axes>"
      ]
     },
     "metadata": {
      "needs_background": "light"
     },
     "output_type": "display_data"
    }
   ],
   "source": [
    "#Plot the results\n",
    "plt.plot(time/365,first-273,label = \"Dry air\")\n",
    "plt.plot(time/365,second-273,label = \"Wet air\")\n",
    "plt.plot(time/365,third-273,label = \"Iron\")\n",
    "plt.xlabel(\"Time (years)\")\n",
    "plt.ylabel(\"Temperature (C)\")\n",
    "plt.legend()\n",
    "plt.show()"
   ]
  },
  {
   "cell_type": "markdown",
   "metadata": {},
   "source": [
    "**Task 4:** Please comment on your observations: How does increasing the cloud cover affect the temperature of the different layers. How does increasing the absorption coefficient of the dryair layer affect the temperature of the different layers?\n",
    "\n",
    "\n",
    "\n",
    "\n"
   ]
  },
  {
   "cell_type": "code",
   "execution_count": 23,
   "metadata": {},
   "outputs": [
    {
     "data": {
      "text/plain": [
       "(0.09828641514332048, -0.030317701606008995, 0.31149164540840957)"
      ]
     },
     "execution_count": 23,
     "metadata": {},
     "output_type": "execute_result"
    }
   ],
   "source": [
    "#changes in temperature\n",
    "(dryair.T-256,wetair.T-263,iron.T-285)"
   ]
  },
  {
   "cell_type": "markdown",
   "metadata": {},
   "source": [
    "## Problem 3: Earth's Climate and CO2\n",
    "Billions of dollars is being spent to reduce the CO2 concentration in our atmosphere. There are multiple pieces of evidence, as presented by the US Government in the below links, that may show that these expenses are justified. Please quickly review the below links."
   ]
  },
  {
   "cell_type": "markdown",
   "metadata": {},
   "source": [
    "Gasonline and diesel consumption for US vehicles\n",
    "https://www.statista.com/statistics/189410/us-gasoline-and-diesel-consumption-for-highway-vehicles-since-1992/"
   ]
  },
  {
   "cell_type": "markdown",
   "metadata": {},
   "source": [
    "Greenhouse Gas Index\n",
    "https://www.climate.gov/news-features/understanding-climate/climate-change-annual-greenhouse-gas-index"
   ]
  },
  {
   "cell_type": "markdown",
   "metadata": {},
   "source": [
    "Atmospheric CO2 Concentration\n",
    "https://www.climate.gov/news-features/understanding-climate/climate-change-atmospheric-carbon-dioxide"
   ]
  },
  {
   "cell_type": "markdown",
   "metadata": {},
   "source": [
    "Global Surface Temperatures\n",
    "https://www.climate.gov/news-features/understanding-climate/climate-change-global-temperature"
   ]
  },
  {
   "cell_type": "markdown",
   "metadata": {},
   "source": [
    "What other data would you like to see to corroborate the above data? For example, CxHy + O2 -> CO2 + H2O. Would you expect the concentration of oxygen to increase or decrease?  If the CO2 concentration is increasing, would you expect the density of the atmosphere to increase or decrease?\n",
    "\n",
    "It's been put forward that the CO2 concentration increase is not only correlated to the apparent rise in the atmospheric temperature but that it is the cause. This cause and effect relationship is not necessarily true, but it may be. How would you go about proving or disproving this?\n",
    "\n",
    "It has also been put forward that water content in the atmosphere shouldn't be a part of the discussion even though the greenhouse effect of water vapor is much more significant that other gases. What are your thoughts on this?\n",
    "\n"
   ]
  },
  {
   "cell_type": "markdown",
   "metadata": {},
   "source": [
    "`Your answers here`"
   ]
  },
  {
   "cell_type": "markdown",
   "metadata": {},
   "source": []
  }
 ],
 "metadata": {
  "kernelspec": {
   "display_name": "Python 3",
   "language": "python",
   "name": "python3"
  },
  "language_info": {
   "codemirror_mode": {
    "name": "ipython",
    "version": 3
   },
   "file_extension": ".py",
   "mimetype": "text/x-python",
   "name": "python",
   "nbconvert_exporter": "python",
   "pygments_lexer": "ipython3",
   "version": "3.9.12"
  },
  "orig_nbformat": 4
 },
 "nbformat": 4,
 "nbformat_minor": 2
}
