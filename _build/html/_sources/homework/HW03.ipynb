{
  "cells": [
    {
      "attachments": {},
      "cell_type": "markdown",
      "metadata": {
        "id": "gjtUm43q8Zaf"
      },
      "source": [
        "# HW03 More Functions and Objects"
      ]
    },
    {
      "cell_type": "markdown",
      "metadata": {},
      "source": [
        "Purposes of this assignment is to get more practice with the following:\n",
        "- Defining and calling functions\n",
        "- Using functions to solve problems with fsolve\n",
        "- Using objects (class instance) and make a calculation using the objects attributes"
      ]
    },
    {
      "cell_type": "markdown",
      "metadata": {},
      "source": [
        "## Problem 1\n",
        "Define a function to calculate the heat adsorbed by the atmosphere given the suns radiation and the albedo of the earth.  To get full credit please also specify defaults for the functions parameters. The function should have the following inputs:\n",
        "- solar radiation (W/m^2)\n",
        "- albedo (unitless)\n",
        "\n",
        "Some hints:\n",
        "- The heat adsorbed is the difference between the solar radiation and the reflected radiation.\n",
        "- The reflected radiation is the solar radiation times the albedo.\n",
        "- The function should return the heat adsorbed in units of W/m^2.\n",
        "\n",
        "Some equations:\n",
        "- $Q_{adsorbed} = Q_{solar} - Q_{reflected}$\n",
        "- $Q_{reflected} = Q_{solar} \\times \\alpha$\n",
        "\n",
        "where $\\alpha$ is the albedo. Calculate the heat adsorbed for an albedo of 0.3 and solar radiation of 2000 W/m^2."
      ]
    },
    {
      "cell_type": "code",
      "execution_count": null,
      "metadata": {},
      "outputs": [],
      "source": []
    },
    {
      "cell_type": "markdown",
      "metadata": {},
      "source": [
        "## Problem 2\n",
        "Create a plot that shows the heat adsorbed as a function of albedo for albedos ranging from 0 to 1.  Use the function you defined in Problem 1 to calculate the heat adsorbed.  Make sure to label your axes and title your plot. Also give a small description of what the plot is showing."
      ]
    },
    {
      "cell_type": "code",
      "execution_count": null,
      "metadata": {},
      "outputs": [],
      "source": []
    },
    {
      "cell_type": "markdown",
      "metadata": {},
      "source": []
    },
    {
      "cell_type": "markdown",
      "metadata": {},
      "source": [
        "## Problem 3\n",
        "In the last homework assignment, you made a class to calculate the properties of a gas. Specifically, the class had the critical parameters and you generated a function to determine the pressure from the Peng Robinson equation of state. In this problem, you will use that class to first create an instance (object) with the critical properties defined for CO2 and you'll calculate the pressure of CO2 gas given the following properties by referencing the object's attributes.\n",
        "- temperature = 298 K\n",
        "- volume = 1 L\n",
        "- number of moles = 1 mol"
      ]
    },
    {
      "cell_type": "code",
      "execution_count": null,
      "metadata": {},
      "outputs": [],
      "source": []
    },
    {
      "cell_type": "markdown",
      "metadata": {},
      "source": [
        "## Problem 4\n",
        "Use the same class you used in Problem 3 to find the pressure of CO2 gas with various molar volume for a temperature of 2/3 times the critical temperature.  Plot the pressure as a function of molar volume beginning at the critical molar volume and out to very large molar volumes (1e6 L/mol).  Make sure to label your axes and title your plot. Also give a small description of what the plot is showing. Also plot the ideal gas law on the same plot.  You can use the following equation for the ideal gas law: P = RT/V.  Use the same temperature as you used for the Peng Robinson equation of state."
      ]
    },
    {
      "cell_type": "code",
      "execution_count": null,
      "metadata": {},
      "outputs": [],
      "source": []
    },
    {
      "attachments": {},
      "cell_type": "markdown",
      "metadata": {},
      "source": []
    }
  ],
  "metadata": {
    "colab": {
      "provenance": []
    },
    "kernelspec": {
      "display_name": "Python 3",
      "language": "python",
      "name": "python3"
    },
    "language_info": {
      "codemirror_mode": {
        "name": "ipython",
        "version": 3
      },
      "file_extension": ".py",
      "mimetype": "text/x-python",
      "name": "python",
      "nbconvert_exporter": "python",
      "pygments_lexer": "ipython3",
      "version": "3.9.16"
    }
  },
  "nbformat": 4,
  "nbformat_minor": 0
}
