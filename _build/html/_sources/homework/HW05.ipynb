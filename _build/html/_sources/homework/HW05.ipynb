{
 "cells": [
  {
   "cell_type": "markdown",
   "metadata": {},
   "source": [
    "# HW05: Units"
   ]
  },
  {
   "cell_type": "markdown",
   "metadata": {},
   "source": [
    "Purposes of this assignment is to get more practice with the following:\n",
    "- For loops\n",
    "- Units\n",
    "- Function Calls"
   ]
  },
  {
   "cell_type": "markdown",
   "metadata": {},
   "source": [
    "## Problem 1\n",
    "Write a function to calculate the time required to fall to the ground for an object given its initial height.  The function should take the initial height as a parameter and return the time it takes to fall to the ground.  The function should use the following formula that assumes an initial velocity of 0:\n",
    "\n",
    "$$\n",
    "t = \\sqrt{\\frac{2h}{g}}\n",
    "$$\n",
    "\n",
    "where $h$ is the initial height, $g$ is the acceleration due to gravity, and $t$ is the time.\n",
    "\n",
    "First write the function and then use it to calculate the time (seconds) it takes to fall from the following heights:\n",
    "- 1000 meters\n",
    "- 100 meters\n",
    "- 10 meters\n",
    "- 3281 feet\n",
    "- 328.1 feet\n",
    "- 32.81 feet\n",
    "\n",
    "Write the two version of the code to preform the above task: once in SI units and once in English units.  The function must take the inputs as given above and return the time in seconds."
   ]
  },
  {
   "cell_type": "markdown",
   "metadata": {},
   "source": [
    "## Problem 2\n",
    "Write a function to calculate the work performed when moving an object of mass m up an incline of a given angle for a given distance.  The function should take the mass, angle, and distance as parameters and return the work (ignoring friction).  The function should use the following formula:\n",
    "\n",
    "$$\n",
    "W = mgd\\sin\\theta\n",
    "$$\n",
    "\n",
    "where $m$ is the mass of the object (assume 10 kilograms or 22 pounds), $g$ is the acceleration due to gravity, $d$ is the distance, $\\theta$ is the angle, and $W$ is the work.\n",
    "\n",
    "\n",
    "\n",
    "First write the function and then use it to calculate the work required for the following conditions:\n",
    "- 1.1 radians and a distance of 3 meters\n",
    "- 1.4 radians and a distance of 10 meters\n",
    "- 1.45 radians and a distance of 20 meters\n",
    "- 63 degrees and a distance of 9.8 feet\n",
    "- 80.2 degrees and a distance of 32.81 feet\n",
    "- 83.1 degrees and a distance of 65.62 feet\n",
    "\n",
    "Write the two version of the code to preform the above task: once in SI units and once in English units. The function must take the inputs as given above and return the work in Joules or foot-pounds. For the English unit conditions, include a conversion back to Joules after the function call.  "
   ]
  },
  {
   "cell_type": "markdown",
   "metadata": {},
   "source": [
    "## Problem 3\n",
    "Write a function to calculate the volume of a cylinder given the diameter and length that **includes** round off error where the height is truncated to one digit. Determine the error from the trucation by comparing the volume calculated with the truncated height to the volume calculated with the untruncated height.  The function should take the diameter and length as parameters and return the volume.  "
   ]
  },
  {
   "cell_type": "markdown",
   "metadata": {},
   "source": []
  }
 ],
 "metadata": {
  "kernelspec": {
   "display_name": "Python 3",
   "language": "python",
   "name": "python3"
  },
  "language_info": {
   "codemirror_mode": {
    "name": "ipython",
    "version": 3
   },
   "file_extension": ".py",
   "mimetype": "text/x-python",
   "name": "python",
   "nbconvert_exporter": "python",
   "pygments_lexer": "ipython3",
   "version": "3.9.16"
  },
  "orig_nbformat": 4
 },
 "nbformat": 4,
 "nbformat_minor": 2
}
