{
 "cells": [
  {
   "attachments": {},
   "cell_type": "markdown",
   "metadata": {},
   "source": [
    "# 05 - Functions: Heat Transfer\n",
    "A common equation used in heat transfer is the empirical relation relating the convective heat transfer coefficient to the temperature difference between the object and the fluid to yield the amount of heat transferred. This equation is called Newton's Law of Cooling and is given by:\n",
    "\n",
    "$$\n",
    "\\begin{equation}\n",
    "\\dot{Q} = h A_s (T_s - T_\\infty)\n",
    "\\end{equation}\n",
    "$$\n",
    "\n",
    "where $\\dot{Q}$ is the heat transfer rate, $h$ is the convective heat transfer coefficient, $A_s$ is the surface area of the object, $T_s$ is the surface temperature of the object, and $T_\\infty$ is the temperature of the fluid."
   ]
  },
  {
   "cell_type": "markdown",
   "metadata": {},
   "source": [
    "### Function Properties First"
   ]
  },
  {
   "cell_type": "markdown",
   "metadata": {},
   "source": [
    "Prior to getting to our example, lets first show how variables within a function are not shared outside of the function. This is a key concept in programming and is known as variable scope."
   ]
  },
  {
   "cell_type": "code",
   "execution_count": 10,
   "metadata": {},
   "outputs": [
    {
     "ename": "UnboundLocalError",
     "evalue": "local variable 'x' referenced before assignment",
     "output_type": "error",
     "traceback": [
      "\u001b[0;31m---------------------------------------------------------------------------\u001b[0m",
      "\u001b[0;31mUnboundLocalError\u001b[0m                         Traceback (most recent call last)",
      "Cell \u001b[0;32mIn[10], line 9\u001b[0m\n\u001b[1;32m      6\u001b[0m     x \u001b[38;5;241m=\u001b[39m \u001b[38;5;241m10\u001b[39m \u001b[38;5;66;03m#setting a new value for x. This will yield an error.\u001b[39;00m\n\u001b[1;32m      7\u001b[0m     \u001b[38;5;28;01mreturn\u001b[39;00m newval\n\u001b[0;32m----> 9\u001b[0m \u001b[38;5;28mprint\u001b[39m(\u001b[38;5;124mf\u001b[39m\u001b[38;5;124m'\u001b[39m\u001b[38;5;124mThe afunction value with an input of 43 is \u001b[39m\u001b[38;5;132;01m{\u001b[39;00m\u001b[43mafunction\u001b[49m\u001b[43m(\u001b[49m\u001b[38;5;241;43m43\u001b[39;49m\u001b[43m)\u001b[49m\u001b[38;5;132;01m}\u001b[39;00m\u001b[38;5;124m. The global x value is still \u001b[39m\u001b[38;5;132;01m{\u001b[39;00mx\u001b[38;5;132;01m}\u001b[39;00m\u001b[38;5;124m.\u001b[39m\u001b[38;5;124m'\u001b[39m)\n",
      "Cell \u001b[0;32mIn[10], line 5\u001b[0m, in \u001b[0;36mafunction\u001b[0;34m(input)\u001b[0m\n\u001b[1;32m      4\u001b[0m \u001b[38;5;28;01mdef\u001b[39;00m \u001b[38;5;21mafunction\u001b[39m(\u001b[38;5;28minput\u001b[39m):\n\u001b[0;32m----> 5\u001b[0m     newval \u001b[38;5;241m=\u001b[39m \u001b[38;5;28minput\u001b[39m \u001b[38;5;241m+\u001b[39m \u001b[43mx\u001b[49m \u001b[38;5;66;03m#using the x global variable inside the function.\u001b[39;00m\n\u001b[1;32m      6\u001b[0m     x \u001b[38;5;241m=\u001b[39m \u001b[38;5;241m10\u001b[39m \u001b[38;5;66;03m#setting a new value for x. This will yield an error.\u001b[39;00m\n\u001b[1;32m      7\u001b[0m     \u001b[38;5;28;01mreturn\u001b[39;00m newval\n",
      "\u001b[0;31mUnboundLocalError\u001b[0m: local variable 'x' referenced before assignment"
     ]
    }
   ],
   "source": [
    "x = 5 #setting a variable x = 5. This is a global variable as it is outside of any function or class. \n",
    "# I can use this variable anywhere in the code, including inside a function or class.\n",
    "\n",
    "def afunction(input):\n",
    "    newval = input + x #using the x global variable inside the function.\n",
    "    x = 10 #setting a new value for x. This will yield an error.\n",
    "    return newval\n",
    "\n",
    "print(f'The afunction value with an input of 43 is {afunction(43)}. The global x value is still {x}.')"
   ]
  },
  {
   "cell_type": "code",
   "execution_count": 11,
   "metadata": {},
   "outputs": [
    {
     "ename": "NameError",
     "evalue": "name 'avariable' is not defined",
     "output_type": "error",
     "traceback": [
      "\u001b[0;31m---------------------------------------------------------------------------\u001b[0m",
      "\u001b[0;31mNameError\u001b[0m                                 Traceback (most recent call last)",
      "Cell \u001b[0;32mIn[11], line 8\u001b[0m\n\u001b[1;32m      5\u001b[0m     newval \u001b[38;5;241m=\u001b[39m \u001b[38;5;28minput\u001b[39m \u001b[38;5;241m+\u001b[39m avariable\n\u001b[1;32m      6\u001b[0m     \u001b[38;5;28;01mreturn\u001b[39;00m newval\n\u001b[0;32m----> 8\u001b[0m \u001b[38;5;28mprint\u001b[39m(\u001b[38;5;124mf\u001b[39m\u001b[38;5;124m'\u001b[39m\u001b[38;5;124mThe anotherfunction value with an input of 43 is \u001b[39m\u001b[38;5;132;01m{\u001b[39;00manotherfunction(\u001b[38;5;241m43\u001b[39m)\u001b[38;5;132;01m}\u001b[39;00m\u001b[38;5;124m. The avariable value is \u001b[39m\u001b[38;5;132;01m{\u001b[39;00m\u001b[43mavariable\u001b[49m\u001b[38;5;132;01m}\u001b[39;00m\u001b[38;5;124m not available outside of the function.\u001b[39m\u001b[38;5;124m'\u001b[39m)\n",
      "\u001b[0;31mNameError\u001b[0m: name 'avariable' is not defined"
     ]
    }
   ],
   "source": [
    "#Similarly, a function value can't be used outside of the function.\n",
    "\n",
    "def anotherfunction(input):\n",
    "    avariable = 10\n",
    "    newval = input + avariable\n",
    "    return newval\n",
    "\n",
    "print(f'The anotherfunction value with an input of 43 is {anotherfunction(43)}. The avariable value is {avariable} not available outside of the function.')"
   ]
  },
  {
   "attachments": {},
   "cell_type": "markdown",
   "metadata": {},
   "source": [
    "## Example: External flow across a cylinder in crossflow\n",
    "Suppose we have a heated rod with a fan blowing air across it. We'll first estimate the heat transfer coefficient and then the total heat lost given some details about the scenario."
   ]
  },
  {
   "attachments": {},
   "cell_type": "markdown",
   "metadata": {},
   "source": [
    "<img src=\"https://github.com/clint-bg/comptools/blob/main/lectures/supportfiles/crossflowcyl.png?raw=true\" width='350'>"
   ]
  },
  {
   "attachments": {},
   "cell_type": "markdown",
   "metadata": {},
   "source": [
    "The heat transfer coefficient is often put in terms of the Nusselt number, $Nu$, which is defined as:\n",
    "\n",
    "$$\n",
    "\\begin{equation}\n",
    "Nu = \\frac{h D}{k} \n",
    "\\end{equation}\n",
    "$$\n",
    "\n",
    "where $D$ is a characteristic length, $k$ is the thermal conductivity of the fluid, and $h$ is the convective heat transfer coefficient. The Nusselt number is a dimensionless number that is often correlated with the Reynolds number, $Re$, and the Prandtl number, $Pr$, to yield the following equation for a rod in crossflow as reported on Page 210 of the NCEES FE Handbook:\n",
    "\n",
    "$$\n",
    "Nu = C Re^n Pr^{1/3}\n",
    "$$\n",
    "    \n",
    "where $C$, and $n$ are constants (given below for external flow of a cylinder in crossflow per Page 210 of the NCEES FE Handbook), $Re$ is the Reynolds number, and $Pr$ is the Prandtl number.\n"
   ]
  },
  {
   "attachments": {},
   "cell_type": "markdown",
   "metadata": {},
   "source": [
    "|Re| $C$ | $n$ |\n",
    "|---|---|---|\n",
    "|1 – 4| 0.989 |0.330|\n",
    "|4 – 40 |0.911| 0.385|\n",
    "|40 – 4,000| 0.683| 0.466|\n",
    "|4,000 – 40,000| 0.193| 0.618|\n",
    "|40,000 – 250,000| 0.0266 |0.805|"
   ]
  },
  {
   "attachments": {},
   "cell_type": "markdown",
   "metadata": {},
   "source": [
    "### Method 1: Using Objects and Functions\n",
    "Plot the heat lost from a rod as a function of the air velocity."
   ]
  },
  {
   "cell_type": "code",
   "execution_count": 1,
   "metadata": {},
   "outputs": [],
   "source": [
    "#first define our medium properties (or air that is impinging on the cylinder)\n",
    "import param #import our param module\n",
    "class medium(param.Parameterized): #set default values for air at 20C\n",
    "    k = param.Number(default=0.026, doc=\"Thermal conductivity of the medium (W/mK)\")\n",
    "    rho = param.Number(default=1.204, doc=\"Density of the medium (kg/m^3)\")\n",
    "    cp = param.Number(default=1006.0, doc=\"Specific heat of the medium (J/kgK)\")\n",
    "    mu = param.Number(default=1.82e-5, doc=\"Dynamic viscosity of the medium (kg/ms)\")\n",
    "\n",
    "    #Define function for the Reynolds number and Prandtl numbers\n",
    "    # see pages 209 and 210 in the NCESS FE Handbook\n",
    "    def Re(self, v, D):\n",
    "        return self.rho*v*D/self.mu\n",
    "    def Pr(self):\n",
    "        return self.mu*self.cp/self.k\n",
    "    def Nu_crossflowCyl(self, v, D):\n",
    "        ReN = self.Re(v,D)\n",
    "        if ReN<4:\n",
    "            C = 0.989; n = 0.330\n",
    "        elif ReN<40:\n",
    "            C = 0.911; n = 0.385\n",
    "        elif ReN<4000:\n",
    "            C = 0.683; n = 0.466\n",
    "        elif ReN<40000:\n",
    "            C = 0.193; n = 0.618\n",
    "        else:\n",
    "            C = 0.0266; n = 0.805\n",
    "        return C*ReN**n*self.Pr()**(1/3)\n",
    "# set air object\n",
    "air = medium()"
   ]
  },
  {
   "attachments": {},
   "cell_type": "markdown",
   "metadata": {},
   "source": [
    "```{note}\n",
    "The above code doesn't have any global variables other than the air object. If you don't call the medium class, you can't access k, rho or any of the other variables or the Re or Pr methods. \n",
    "```"
   ]
  },
  {
   "cell_type": "code",
   "execution_count": 2,
   "metadata": {},
   "outputs": [],
   "source": [
    "#we'll define a function to calculate the heat transfer from a hot surface in a forced \n",
    "#convection environment.  \n",
    "def Qconv(vel=1,Dia=1,As=0.1, T_s=300, T_inf=298): #set defaults in SI units\n",
    "    # calculate the heat transfer coefficient\n",
    "    h = air.Nu_crossflowCyl(vel,Dia)/Dia*air.k #1/m * W/m/K = W/m^2/K\n",
    "    return h*As*(T_s - T_inf) #convected heat transfer, W = W/m^2/K * m^2 * K"
   ]
  },
  {
   "attachments": {},
   "cell_type": "markdown",
   "metadata": {},
   "source": [
    "Now that we have our object and functions defined, lets plot the heat loss as a function of the air velocity assuming 20C air and a 100C surface temperature of }the 0.1m diameter and 1 foot long rod."
   ]
  },
  {
   "cell_type": "code",
   "execution_count": 3,
   "metadata": {},
   "outputs": [
    {
     "data": {
      "image/png": "[encoded data removed]",
      "text/plain": [
       "<Figure size 640x480 with 1 Axes>"
      ]
     },
     "metadata": {},
     "output_type": "display_data"
    }
   ],
   "source": [
    "import numpy as np #import numpy for array operations\n",
    "import matplotlib.pyplot as plt #import matplotlib for plotting\n",
    "#set up a range of velocities\n",
    "vel = np.linspace(0,10,100) #m/s\n",
    "#set up the rod properties\n",
    "rodDia = 0.1 #m\n",
    "rodLength = 1/3.281 #foot to meter\n",
    "rodArea = np.pi*rodDia*rodLength #m^2\n",
    "#calculate the heat transfer for each velocity\n",
    "Q = [Qconv(each,rodDia,rodArea, 393, 293) for each in vel]\n",
    "#plot the results\n",
    "plt.plot(vel,Q)\n",
    "plt.xlabel('Air Velocity (m/s)'); plt.ylabel('Heat Transfer (W)')\n",
    "plt.show()"
   ]
  },
  {
   "attachments": {},
   "cell_type": "markdown",
   "metadata": {},
   "source": [
    "### Method 2: Not using Objects\n",
    "Some may say \n",
    "> \"I don't want to use objects. I also don't want to use a lot of functions. I know I need one for the Nusselt number correlation so I'll start with that first. Otherwise I'll just type everything in.\""
   ]
  },
  {
   "cell_type": "code",
   "execution_count": 4,
   "metadata": {},
   "outputs": [],
   "source": [
    "def Nu(Re, Pr):\n",
    "    if Re<4:\n",
    "        C = 0.989; n = 0.330\n",
    "    elif Re<40:\n",
    "        C = 0.911; n = 0.385\n",
    "    elif Re<4000:\n",
    "        C = 0.683; n = 0.466\n",
    "    elif Re<40000:\n",
    "        C = 0.193; n = 0.618\n",
    "    else:\n",
    "        C = 0.0266; n = 0.805\n",
    "    return C*Re**n*Pr**(1/3)"
   ]
  },
  {
   "cell_type": "code",
   "execution_count": 5,
   "metadata": {},
   "outputs": [
    {
     "data": {
      "image/png": "[encoded data removed]",
      "text/plain": [
       "<Figure size 640x480 with 1 Axes>"
      ]
     },
     "metadata": {},
     "output_type": "display_data"
    }
   ],
   "source": [
    "#setup up the air properties\n",
    "air_k = 0.026 #W/mK\n",
    "air_rho = 1.204 #kg/m^3\n",
    "air_cp = 1006.0 #J/kgK\n",
    "air_mu = 1.82e-5 #kg/ms\n",
    "#setup the rod properties\n",
    "rodDia = 0.1 #m\n",
    "rodLength = 1/3.281 #foot to meter\n",
    "rodArea = np.pi*rodDia*rodLength #m^2\n",
    "#now calculate the heat transfer for each velocity\n",
    "Q = []\n",
    "vel = np.linspace(0,10,100) #m/s\n",
    "for each in vel:\n",
    "    Re = air_rho*each*rodDia/air_mu\n",
    "    Pr = air_mu*air_cp/air_k\n",
    "    h = Nu(Re,Pr)*air_k/rodDia\n",
    "    Q.append(h*rodArea*(393-293))\n",
    "#plot the results\n",
    "plt.plot(vel,Q)\n",
    "plt.xlabel('Air Velocity (m/s)'); plt.ylabel('Heat Transfer (W)')\n",
    "plt.show()"
   ]
  },
  {
   "attachments": {},
   "cell_type": "markdown",
   "metadata": {},
   "source": [
    "Method 2 appears to be simpler and more straight forward. However, there are advantages for using objects and embedded functions:\n",
    "- One common mistake is to use the wrong property data when calculating the Prandtl or Reynolds numbers. For example, using the thermal conductivity of the rod instead of the air when calculating the heat transfer coefficient. Including the Reynolds number and Prandtl number in the air object ensures that the correct property data is used.\n",
    "- If you were to do this for a more complicated problem, you would have to type in the same equations over and over again. This is where objects and functions can be very useful.\n",
    "- As the lines of code increase, it becomes more difficult to keep track of all the variables. Objects and functions make that easier and more succinct.\n",
    "- Professional programs are written using objects and functions. It is good practice to learn how to use them."
   ]
  },
  {
   "cell_type": "code",
   "execution_count": null,
   "metadata": {},
   "outputs": [],
   "source": []
  }
 ],
 "metadata": {
  "kernelspec": {
   "display_name": "Python 3",
   "language": "python",
   "name": "python3"
  },
  "language_info": {
   "codemirror_mode": {
    "name": "ipython",
    "version": 3
   },
   "file_extension": ".py",
   "mimetype": "text/x-python",
   "name": "python",
   "nbconvert_exporter": "python",
   "pygments_lexer": "ipython3",
   "version": "3.9.16"
  },
  "orig_nbformat": 4
 },
 "nbformat": 4,
 "nbformat_minor": 2
}
