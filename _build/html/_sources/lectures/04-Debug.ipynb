{
 "cells": [
  {
   "attachments": {},
   "cell_type": "markdown",
   "metadata": {},
   "source": [
    "# 04-Debug\n",
    "When you code, you debug. It's inevitable. You will make mistakes, and you will have to fix them. This lecture will cover the approach to writing code that makes debugging easier and some of the tools that you can use to debug your code."
   ]
  },
  {
   "attachments": {},
   "cell_type": "markdown",
   "metadata": {},
   "source": [
    "## Debugging Principles\n",
    "\n",
    "1. Write code in small pieces\n",
    "    - Start with a simple task and test it\n",
    "    - Add complexity and test it\n",
    "    - Comment your code so it's easy to understand for you and others\n",
    "    -Time spend being careful and avoiding bugs saves you time debugging!\n",
    "2. Test often\n",
    "    - Test every time you add a new feature\n",
    "    - Test every time you change something\n",
    "3. Use print statements to check the values of variables\n",
    "    - Print the value of a variable before and after a line of code\n",
    "    - Print the value of a variable inside a loop\n",
    "    - Print the value of a variable inside a function\n",
    "4. Use assert statements\n",
    "    - Assert statements are logical checks that you can use\n",
    "4. Check errors and warnings\n",
    "    - Read the warning/error message\n",
    "    - Google the warning/error message\n",
    "5. Simplify your code\n",
    "    - Comment out code that may not be needed\n",
    "    - Break up code into functions that can be tested separately\n",
    "6. Use the debugger to step through your code\n",
    "    - Set a breakpoint\n",
    "    - Step through your code\n",
    "    - Check the value of variables\n",
    "    - Check the value of variables inside a loop\n",
    "    - Check the value of variables inside a function\n"
   ]
  },
  {
   "attachments": {},
   "cell_type": "markdown",
   "metadata": {},
   "source": [
    "## Bug Types\n",
    "\n",
    "1. Syntax Errors (code won't run)\n",
    "    - Errors that occur when you violate the rules of Python\n",
    "    - Usually easy to fix\n",
    "    - Python will tell you where the error is and what the error is\n",
    "2. Run-time or Execution errors (code won't run or gives an overflow error)\n",
    "    - Divide by zero, Bad array call (array index out of bounds), bad variable call/assignment (variable not defined)\n",
    "    - Easy to locate, sometimes harder to fix than syntax errors\n",
    "3. Logic errors (code runs, but doesn't do what you want or gives the wrong answer)\n",
    "    - Hard to locate, hard to fix\n",
    "    - The code will do exactly what you told it to do, but not what you want it to do\n",
    "    - Sometimes the error persists for a while before it's noticed\n",
    "    - Use print statements to locate logic errors\n",
    "    - Use the debugger to locate logic errors"
   ]
  },
  {
   "attachments": {},
   "cell_type": "markdown",
   "metadata": {},
   "source": [
    "## Examples\n"
   ]
  },
  {
   "cell_type": "code",
   "execution_count": 1,
   "metadata": {},
   "outputs": [],
   "source": [
    "import numpy as np\n",
    "import matplotlib.pyplot as plt"
   ]
  },
  {
   "attachments": {},
   "cell_type": "markdown",
   "metadata": {},
   "source": [
    "### Example 1: Syntax, Execution, and Logic Errors\n",
    "Take the transpose of a matrix"
   ]
  },
  {
   "cell_type": "code",
   "execution_count": 10,
   "metadata": {},
   "outputs": [
    {
     "name": "stdout",
     "output_type": "stream",
     "text": [
      "(4, 4)\n"
     ]
    },
    {
     "ename": "ValueError",
     "evalue": "setting an array element with a sequence.",
     "output_type": "error",
     "traceback": [
      "\u001b[0;31m---------------------------------------------------------------------------\u001b[0m",
      "\u001b[0;31mTypeError\u001b[0m                                 Traceback (most recent call last)",
      "\u001b[0;31mTypeError\u001b[0m: only length-1 arrays can be converted to Python scalars",
      "\nThe above exception was the direct cause of the following exception:\n",
      "\u001b[0;31mValueError\u001b[0m                                Traceback (most recent call last)",
      "Cell \u001b[0;32mIn[10], line 16\u001b[0m\n\u001b[1;32m     14\u001b[0m \u001b[39mfor\u001b[39;00m i \u001b[39min\u001b[39;00m \u001b[39mrange\u001b[39m(\u001b[39m2\u001b[39m):\n\u001b[1;32m     15\u001b[0m     \u001b[39mfor\u001b[39;00m j \u001b[39min\u001b[39;00m \u001b[39mrange\u001b[39m(\u001b[39m4\u001b[39m):\n\u001b[0;32m---> 16\u001b[0m         A_transpose[j] \u001b[39m=\u001b[39m A[i]\n\u001b[1;32m     18\u001b[0m \u001b[39mprint\u001b[39m(A_transpose\u001b[39m-\u001b[39mA\u001b[39m.\u001b[39mT) \u001b[39m#check if the transpose is correct, should be array of zeros\u001b[39;00m\n\u001b[1;32m     19\u001b[0m \u001b[39m#A.T is the transpose of A\u001b[39;00m\n",
      "\u001b[0;31mValueError\u001b[0m: setting an array element with a sequence."
     ]
    }
   ],
   "source": [
    "\n",
    "# Debug the following code which is supposed to find \n",
    "# the transpose of the matrix\n",
    "\n",
    "A = np.array([[ 5,  8,  4,  2],\n",
    "              [ 1, -6,  5, -7],\n",
    "              [-2,  2, -9,  1],\n",
    "              [-3,  5, -8,  7]])\n",
    "\n",
    "#Print the size of the matrix\n",
    "print(A.shape)\n",
    "\n",
    "A_transpose = np.zeros(4) #initialize a transpose matrix with zeroes (to fill out manually)\n",
    "\n",
    "for i in range(2):\n",
    "    for j in range(4):\n",
    "        A_transpose[j] = A[i]\n",
    "\n",
    "print(A_transpose-A.T) #check if the transpose is correct, should be array of zeros\n",
    "#A.T is the transpose of A\n"
   ]
  },
  {
   "attachments": {},
   "cell_type": "markdown",
   "metadata": {},
   "source": [
    "### Example 2: More errors\n",
    "This calculates the next value of a function by multiplying the derivative by the step size.\n",
    "Specifically we want: \n",
    "$$\n",
    "\\begin{align}\n",
    "t_{n+1} &= t_n + dt \\\\\n",
    "A_{n+1} &= A_n + dt\\cdot\\left[ (A_{in} - A_n)/\\tau - k A_n^2 \\right]\n",
    "\\end{align}\n",
    "$$\n",
    "\n",
    "Debug the following code:"
   ]
  },
  {
   "cell_type": "code",
   "execution_count": 3,
   "metadata": {},
   "outputs": [
    {
     "ename": "SyntaxError",
     "evalue": "cannot assign to function call (741448357.py, line 13)",
     "output_type": "error",
     "traceback": [
      "\u001b[0;36m  Input \u001b[0;32mIn [3]\u001b[0;36m\u001b[0m\n\u001b[0;31m    A(n+1) = A(n) + dt * ( Ain-A(n)/tau  - A(n)**(1/2) )\u001b[0m\n\u001b[0m    ^\u001b[0m\n\u001b[0;31mSyntaxError\u001b[0m\u001b[0;31m:\u001b[0m cannot assign to function call\n"
     ]
    }
   ],
   "source": [
    "#use these constants\n",
    "Ain = 1\n",
    "tau = 2\n",
    "k = 0.1\n",
    "dt = 0.1\n",
    "t_final = 10\n",
    "\n",
    "Nsteps = int(t_final/dt)+1\n",
    "A = np.zeros(Nsteps)\n",
    "t = np.zeros(Nsteps)\n",
    "\n",
    "for n in range(Nsteps):\n",
    "    A(n+1) = A(n) + dt * ( Ain-A(n)/tau  - A(n)**(1/2) )\n",
    "    t(n+1) = t(n) + dt\n",
    "\n",
    "plt.plot(t, A, 'k-')\n",
    "plt.xlabel('t')\n",
    "plt.ylabel('A')\n",
    "plt.show()"
   ]
  },
  {
   "attachments": {},
   "cell_type": "markdown",
   "metadata": {},
   "source": [
    "### Example 3: Sympy equation solver"
   ]
  },
  {
   "attachments": {},
   "cell_type": "markdown",
   "metadata": {},
   "source": [
    "The below code is attempting to solve for the roots for:\n",
    "$$\n",
    "x^3 + 15x^2 + 3x - 10 = 0\n",
    "$$"
   ]
  },
  {
   "cell_type": "code",
   "execution_count": 22,
   "metadata": {},
   "outputs": [
    {
     "data": {
      "image/png": "[encoded data removed]",
      "text/latex": [
       "$\\displaystyle \\left[ -5 - \\frac{78}{\\left(- \\frac{1}{2} - \\frac{\\sqrt{3} i}{2}\\right) \\sqrt[3]{\\frac{27 \\sqrt{5321}}{2} + \\frac{7425}{2}}} - \\frac{\\left(- \\frac{1}{2} - \\frac{\\sqrt{3} i}{2}\\right) \\sqrt[3]{\\frac{27 \\sqrt{5321}}{2} + \\frac{7425}{2}}}{3}, \\  -5 - \\frac{\\left(- \\frac{1}{2} + \\frac{\\sqrt{3} i}{2}\\right) \\sqrt[3]{\\frac{27 \\sqrt{5321}}{2} + \\frac{7425}{2}}}{3} - \\frac{78}{\\left(- \\frac{1}{2} + \\frac{\\sqrt{3} i}{2}\\right) \\sqrt[3]{\\frac{27 \\sqrt{5321}}{2} + \\frac{7425}{2}}}, \\  - \\frac{\\sqrt[3]{\\frac{27 \\sqrt{5321}}{2} + \\frac{7425}{2}}}{3} - 5 - \\frac{78}{\\sqrt[3]{\\frac{27 \\sqrt{5321}}{2} + \\frac{7425}{2}}}\\right]$"
      ],
      "text/plain": [
       "⎡                                                           _________________ \n",
       "⎢                                          ⎛  1   √3⋅ⅈ⎞    ╱ 27⋅√5321   7425  \n",
       "⎢                                          ⎜- ─ - ────⎟⋅3 ╱  ──────── + ────  \n",
       "⎢                     78                   ⎝  2    2  ⎠ ╲╱      2        2    \n",
       "⎢-5 - ────────────────────────────────── - ──────────────────────────────────,\n",
       "⎢                      _________________                   3                  \n",
       "⎢     ⎛  1   √3⋅ⅈ⎞    ╱ 27⋅√5321   7425                                       \n",
       "⎢     ⎜- ─ - ────⎟⋅3 ╱  ──────── + ────                                       \n",
       "⎣     ⎝  2    2  ⎠ ╲╱      2        2                                         \n",
       "\n",
       "                       _________________                                      \n",
       "      ⎛  1   √3⋅ⅈ⎞    ╱ 27⋅√5321   7425                                       \n",
       "      ⎜- ─ + ────⎟⋅3 ╱  ──────── + ────                                       \n",
       "      ⎝  2    2  ⎠ ╲╱      2        2                      78                 \n",
       " -5 - ────────────────────────────────── - ──────────────────────────────────,\n",
       "                      3                                     _________________ \n",
       "                                           ⎛  1   √3⋅ⅈ⎞    ╱ 27⋅√5321   7425  \n",
       "                                           ⎜- ─ + ────⎟⋅3 ╱  ──────── + ────  \n",
       "                                           ⎝  2    2  ⎠ ╲╱      2        2    \n",
       "\n",
       "       _________________                            ⎤\n",
       "      ╱ 27⋅√5321   7425                             ⎥\n",
       "   3 ╱  ──────── + ────                             ⎥\n",
       "   ╲╱      2        2                    78         ⎥\n",
       " - ───────────────────── - 5 - ─────────────────────⎥\n",
       "             3                     _________________⎥\n",
       "                                  ╱ 27⋅√5321   7425 ⎥\n",
       "                               3 ╱  ──────── + ──── ⎥\n",
       "                               ╲╱      2        2   ⎦"
      ]
     },
     "metadata": {},
     "output_type": "display_data"
    },
    {
     "ename": "AttributeError",
     "evalue": "'list' object has no attribute 'evalf'",
     "output_type": "error",
     "traceback": [
      "\u001b[0;31m---------------------------------------------------------------------------\u001b[0m",
      "\u001b[0;31mAttributeError\u001b[0m                            Traceback (most recent call last)",
      "Cell \u001b[0;32mIn[22], line 8\u001b[0m\n\u001b[1;32m      6\u001b[0m roots \u001b[39m=\u001b[39m sp\u001b[39m.\u001b[39msolve(ex,x)\n\u001b[1;32m      7\u001b[0m display(roots)\n\u001b[0;32m----> 8\u001b[0m roots\u001b[39m.\u001b[39;49mevalf()\n",
      "\u001b[0;31mAttributeError\u001b[0m: 'list' object has no attribute 'evalf'"
     ]
    }
   ],
   "source": [
    "import sympy as sp\n",
    "sp.init_printing() #for pretty printing\n",
    "\n",
    "x = sp.symbols('x')\n",
    "ex = sp.Eq(x**3 + 15*x*x, 3*x - 10)\n",
    "roots = sp.solve(ex,x)\n",
    "display(roots)\n",
    "roots.evalf()"
   ]
  },
  {
   "attachments": {},
   "cell_type": "markdown",
   "metadata": {},
   "source": [
    "### Example 4: Assert statements\n",
    "Assert statements are logical checks that you can use to check that your code is doing what you expect it to do. If the assert statement is true, then nothing happens. If the assert statement is false, then an error is raised. An example is shown below:"
   ]
  },
  {
   "cell_type": "code",
   "execution_count": 27,
   "metadata": {},
   "outputs": [],
   "source": [
    "# we'll define a function to calculate the the log of the factorial of n\n",
    "def factorial(n):\n",
    "    assert type(n) == int and n>0, \"n must be an integer and greater than zero\"\n",
    "    factorial = n\n",
    "    while n>1:\n",
    "        factorial = factorial*(n-1); n = n-1\n",
    "    return factorial\n",
    "def log_factorial(n):\n",
    "    return np.log(float(factorial(n)))"
   ]
  },
  {
   "cell_type": "code",
   "execution_count": 28,
   "metadata": {},
   "outputs": [
    {
     "data": {
      "text/plain": [
       "58.00360522298052"
      ]
     },
     "execution_count": 28,
     "metadata": {},
     "output_type": "execute_result"
    }
   ],
   "source": [
    "log_factorial(25)"
   ]
  },
  {
   "attachments": {},
   "cell_type": "markdown",
   "metadata": {},
   "source": [
    "### Example 5: Using the debugger\n",
    "There is a debugger that's associated with most IDEs (Integrated Development Environments) that allows you to step through your code and check the value of variables. "
   ]
  },
  {
   "attachments": {},
   "cell_type": "markdown",
   "metadata": {},
   "source": []
  }
 ],
 "metadata": {
  "kernelspec": {
   "display_name": "Python 3",
   "language": "python",
   "name": "python3"
  },
  "language_info": {
   "codemirror_mode": {
    "name": "ipython",
    "version": 3
   },
   "file_extension": ".py",
   "mimetype": "text/x-python",
   "name": "python",
   "nbconvert_exporter": "python",
   "pygments_lexer": "ipython3",
   "version": "3.9.16"
  },
  "orig_nbformat": 4
 },
 "nbformat": 4,
 "nbformat_minor": 2
}
