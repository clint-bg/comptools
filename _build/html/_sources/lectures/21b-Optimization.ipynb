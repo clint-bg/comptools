{
 "cells": [
  {
   "cell_type": "code",
   "execution_count": null,
   "metadata": {},
   "outputs": [],
   "source": [
    "import numpy as np\n",
    "from scipy.optimize import minimize\n",
    "import matplotlib.pyplot as plt"
   ]
  },
  {
   "cell_type": "code",
   "execution_count": null,
   "metadata": {},
   "outputs": [],
   "source": [
    "# Define the cities and their coordinates (x, y)\n",
    "cities = {\n",
    "    'A': (0, 0),\n",
    "    'B': (2, 4),\n",
    "    'C': (4, 2),\n",
    "    'D': (6, 5)\n",
    "}\n",
    "num_cities = len(cities)"
   ]
  },
  {
   "cell_type": "code",
   "execution_count": null,
   "metadata": {},
   "outputs": [],
   "source": [
    "#now plot the city locations\n",
    "fig,ax = plt.subplots(1,1)\n",
    "plt.scatter([x for x, y in cities.values()], [y for x, y in cities.values()])\n",
    "ax.text(0, 0.25, 'A');ax.text(2, 4.25, 'B');ax.text(4, 2.25, 'C');ax.text(6, 4.75, 'D');ax.text(7, 2.75, 'E')\n",
    "plt.xlabel('x');plt.ylabel('y')\n",
    "plt.show()"
   ]
  },
  {
   "cell_type": "code",
   "execution_count": null,
   "metadata": {},
   "outputs": [],
   "source": [
    "# Function to calculate the Euclidean distance between two cities\n",
    "def calculate_distance(city1, city2):\n",
    "    x1, y1 = cities[city1]\n",
    "    x2, y2 = cities[city2]\n",
    "    return ((x1 - x2) ** 2 + (y1 - y2) ** 2) ** 0.5\n",
    "\n",
    "# Objective function for minimization\n",
    "def objective_function(tour_order):\n",
    "    tour_order = tour_order.astype(int)\n",
    "    total_distance = 0\n",
    "    startcity = list(cities.keys())[tour_order[0]]\n",
    "    for i in range(num_cities - 1):\n",
    "        city1 = list(cities.keys())[tour_order[i]]\n",
    "        city2 = list(cities.keys())[tour_order[i + 1]]\n",
    "        total_distance += calculate_distance(city1, city2)\n",
    "    total_distance += calculate_distance(city2, startcity)  # Return to the starting city"
   ]
  },
  {
   "cell_type": "code",
   "execution_count": null,
   "metadata": {},
   "outputs": [],
   "source": [
    "def constraint_fun(solution):\n",
    "    constrain= []\n",
    "    # Check that each city is visited only once.\n",
    "    for i in range(len(solution)):\n",
    "        for j in range(i + 1, len(solution)):\n",
    "            if solution[i] == solution[j]:\n",
    "                constrain.append(1)\n",
    "            else:\n",
    "                constrain.append(0)\n",
    "\n",
    "    return (sum(constrain), sum(solution) - 6)"
   ]
  },
  {
   "cell_type": "code",
   "execution_count": null,
   "metadata": {},
   "outputs": [],
   "source": [
    "# Define the bounds for the decision variables\n",
    "bounds = [(0, num_cities - 1) for _ in range(num_cities)]\n",
    "\n",
    "# Create a constraints dictionary for use in minimize\n",
    "cons = {'type': 'eq', 'fun': constraint_fun}\n",
    "\n",
    "# Initial guess (starting tour order)\n",
    "initial_tour_order = np.array([1,2,0,3])"
   ]
  },
  {
   "cell_type": "code",
   "execution_count": null,
   "metadata": {},
   "outputs": [],
   "source": [
    "# Solve the TSP using scipy.optimize.minimize\n",
    "minimize(objective_function, initial_tour_order, bounds=bounds, method='SLSQP')"
   ]
  },
  {
   "cell_type": "code",
   "execution_count": null,
   "metadata": {},
   "outputs": [],
   "source": [
    "# Get the optimal tour order\n",
    "optimal_tour_order = result.x.astype(int)\n",
    "\n",
    "# Calculate the optimal tour distance\n",
    "optimal_distance = result.fun\n",
    "\n",
    "# Reorder the cities based on the optimal tour order\n",
    "optimal_tour = [list(cities.keys())[i] for i in optimal_tour_order]\n",
    "\n",
    "# Output the optimal tour and distance\n",
    "print(\"Optimal Tour:\", \" -> \".join(optimal_tour))\n",
    "print(\"Optimal Distance:\", optimal_distance)"
   ]
  }
 ],
 "metadata": {
  "language_info": {
   "name": "python"
  },
  "orig_nbformat": 4
 },
 "nbformat": 4,
 "nbformat_minor": 2
}
