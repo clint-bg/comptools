{
 "cells": [
  {
   "cell_type": "markdown",
   "metadata": {},
   "source": [
    "# 22b - Cantera"
   ]
  },
  {
   "cell_type": "markdown",
   "metadata": {},
   "source": [
    "Per Cantera's website (https://cantera.org/):\n",
    "> Cantera is an open-source suite of tools for problems involving chemical kinetics, thermodynamics, and transport processes."
   ]
  },
  {
   "cell_type": "markdown",
   "metadata": {},
   "source": [
    "First import Cantera or install then import if needed:"
   ]
  },
  {
   "cell_type": "code",
   "execution_count": 1,
   "metadata": {},
   "outputs": [],
   "source": [
    "try: \n",
    "    import cantera as ct\n",
    "except:\n",
    "    !pip install cantera\n",
    "    import cantera as ct"
   ]
  },
  {
   "cell_type": "code",
   "execution_count": 2,
   "metadata": {},
   "outputs": [],
   "source": [
    "from matplotlib import pyplot as plt\n",
    "import numpy as np\n",
    "import pandas as pd"
   ]
  },
  {
   "cell_type": "markdown",
   "metadata": {},
   "source": [
    "## Thermodynamics: Water\n",
    "Lets first use the thermodynamics portion of Cantera with water. Cantera has all of the steam tables internally. For example, if you open the steam table at thermopedia for example, you'll see that the enthalpy of saturated water at 100C is 419.06 kJ/kg. We can use Cantera to verify this."
   ]
  },
  {
   "cell_type": "code",
   "execution_count": 3,
   "metadata": {},
   "outputs": [
    {
     "name": "stdout",
     "output_type": "stream",
     "text": [
      "The liquid enthalpy at 277.15 is 16770.34 J/kg relative to saturated water at 273.16\n",
      "The liquid entropy at 277.15 is 60.95 J/kg/K relative to saturated water at 273.16\n"
     ]
    }
   ],
   "source": [
    "w = ct.Water() #units are in SI and kmol\n",
    "wz = ct.Water() #water at 273.15 K and saturated liquid\n",
    "wz.TQ = 273.16, 0\n",
    "w.TQ = 277.15, 0 # Q is quality, 0 is saturated liquid, 1 is saturated vapor\n",
    "print(f'The liquid enthalpy at {w.T:1.2f} is {w.h-wz.h:1.2f} J/kg relative to saturated water at 273.16')\n",
    "print(f'The liquid entropy at {w.T} is {w.s-wz.s:1.2f} J/kg/K relative to saturated water at 273.16')"
   ]
  },
  {
   "cell_type": "markdown",
   "metadata": {},
   "source": [
    "By comparison, the steam tables yield a very similar value of 16820 J/kg and 61.12 J/kg/K for the specific enthalpy and entropy of the liquid."
   ]
  },
  {
   "cell_type": "markdown",
   "metadata": {},
   "source": [
    "### Normal boiling point "
   ]
  },
  {
   "cell_type": "markdown",
   "metadata": {},
   "source": [
    "What is the temperature at the normal boiling point of water:"
   ]
  },
  {
   "cell_type": "code",
   "execution_count": 4,
   "metadata": {},
   "outputs": [],
   "source": [
    "#what is the temperature and other properties at 1 atm and saturated vapor?\n",
    "w.PQ = 101325, 1 # 1 atm (101325 Pa), saturated vapor"
   ]
  },
  {
   "cell_type": "code",
   "execution_count": 5,
   "metadata": {},
   "outputs": [
    {
     "name": "stdout",
     "output_type": "stream",
     "text": [
      "373.17723294438696 -13294694.765606625 10875.07020588383 1.0 0.5975729001239033 all in SI units for the saturated vapor K, J/kg, J/kg/K, dimensionless, kg/m^3, respectively\n"
     ]
    }
   ],
   "source": [
    "print(w.T,w.h,w.s,w.Q,w.density, 'all in SI units for the saturated vapor K, J/kg, J/kg/K, dimensionless, kg/m^3, respectively')"
   ]
  },
  {
   "cell_type": "markdown",
   "metadata": {},
   "source": [
    "### Water properties at a temperature of 200 C and a pressure of 1 bar"
   ]
  },
  {
   "cell_type": "code",
   "execution_count": 6,
   "metadata": {},
   "outputs": [],
   "source": [
    "w.TP = 200+273.15, 101325 # 200C and 1 atm (101325 Pa), saturated vapor"
   ]
  },
  {
   "cell_type": "code",
   "execution_count": 7,
   "metadata": {},
   "outputs": [
    {
     "name": "stdout",
     "output_type": "stream",
     "text": [
      "-13312798.53361443 -13095587.489951547 11348.05267575229 1.0 0.46648180633544784 all in SI units per mass\n"
     ]
    }
   ],
   "source": [
    "print(w.u,w.h,w.s,w.Q,w.density, 'all in SI units per mass')"
   ]
  },
  {
   "cell_type": "markdown",
   "metadata": {},
   "source": [
    "### Vapor Pressure"
   ]
  },
  {
   "cell_type": "code",
   "execution_count": 8,
   "metadata": {},
   "outputs": [
    {
     "data": {
      "text/plain": [
       "225.0912159739916"
      ]
     },
     "execution_count": 8,
     "metadata": {},
     "output_type": "execute_result"
    }
   ],
   "source": [
    "w.P_sat/1e5*14.5 # Pa to bar to psi, at the last used conditions of T and P"
   ]
  },
  {
   "cell_type": "code",
   "execution_count": 9,
   "metadata": {},
   "outputs": [
    {
     "data": {
      "text/plain": [
       "['CK_mode',\n",
       " 'DP',\n",
       " 'DPQ',\n",
       " 'DPX',\n",
       " 'DPY',\n",
       " 'HP',\n",
       " 'HPQ',\n",
       " 'HPX',\n",
       " 'HPY',\n",
       " 'P',\n",
       " 'PQ',\n",
       " 'PV',\n",
       " 'P_sat',\n",
       " 'Q',\n",
       " 'SH',\n",
       " 'SP',\n",
       " 'SPQ',\n",
       " 'SPX',\n",
       " 'SPY',\n",
       " 'ST',\n",
       " 'SV',\n",
       " 'SVQ',\n",
       " 'SVX',\n",
       " 'SVY',\n",
       " 'T',\n",
       " 'TD',\n",
       " 'TDQ',\n",
       " 'TDX',\n",
       " 'TDY',\n",
       " 'TH',\n",
       " 'TP',\n",
       " 'TPQ',\n",
       " 'TPX',\n",
       " 'TPY',\n",
       " 'TQ',\n",
       " 'TV',\n",
       " 'T_sat',\n",
       " 'Te',\n",
       " 'UP',\n",
       " 'UV',\n",
       " 'UVQ',\n",
       " 'UVX',\n",
       " 'UVY',\n",
       " 'VH',\n",
       " 'X',\n",
       " 'Y',\n",
       " '__call__',\n",
       " '__class__',\n",
       " '__composition_to_array',\n",
       " '__copy__',\n",
       " '__delattr__',\n",
       " '__dir__',\n",
       " '__doc__',\n",
       " '__eq__',\n",
       " '__format__',\n",
       " '__ge__',\n",
       " '__getattribute__',\n",
       " '__getitem__',\n",
       " '__getstate__',\n",
       " '__gt__',\n",
       " '__hash__',\n",
       " '__init__',\n",
       " '__init_subclass__',\n",
       " '__le__',\n",
       " '__lt__',\n",
       " '__module__',\n",
       " '__ne__',\n",
       " '__new__',\n",
       " '__pyx_vtable__',\n",
       " '__reduce__',\n",
       " '__reduce_cython__',\n",
       " '__reduce_ex__',\n",
       " '__repr__',\n",
       " '__setattr__',\n",
       " '__setstate__',\n",
       " '__setstate_cython__',\n",
       " '__sizeof__',\n",
       " '__slots__',\n",
       " '__str__',\n",
       " '__subclasshook__',\n",
       " '_cinit',\n",
       " '_enable_plasma',\n",
       " '_full_states',\n",
       " '_init_cti_xml',\n",
       " '_init_parts',\n",
       " '_init_yaml',\n",
       " '_native_state',\n",
       " '_partial_states',\n",
       " '_references',\n",
       " 'activities',\n",
       " 'activity_coefficients',\n",
       " 'add_species',\n",
       " 'add_species_alias',\n",
       " 'atomic_weight',\n",
       " 'atomic_weights',\n",
       " 'basis',\n",
       " 'binary_diff_coeffs',\n",
       " 'case_sensitive_species_names',\n",
       " 'charges',\n",
       " 'chemical_potentials',\n",
       " 'clear_user_data',\n",
       " 'clear_user_header',\n",
       " 'composite',\n",
       " 'concentrations',\n",
       " 'cp',\n",
       " 'cp_mass',\n",
       " 'cp_mole',\n",
       " 'critical_density',\n",
       " 'critical_pressure',\n",
       " 'critical_temperature',\n",
       " 'cv',\n",
       " 'cv_mass',\n",
       " 'cv_mole',\n",
       " 'density',\n",
       " 'density_mass',\n",
       " 'density_mole',\n",
       " 'electric_potential',\n",
       " 'electrical_conductivity',\n",
       " 'electrochemical_potentials',\n",
       " 'electron_energy_distribution',\n",
       " 'electron_energy_distribution_type',\n",
       " 'electron_energy_levels',\n",
       " 'element_index',\n",
       " 'element_name',\n",
       " 'element_names',\n",
       " 'elemental_mass_fraction',\n",
       " 'elemental_mole_fraction',\n",
       " 'enthalpy_mass',\n",
       " 'enthalpy_mole',\n",
       " 'entropy_mass',\n",
       " 'entropy_mole',\n",
       " 'equilibrate',\n",
       " 'equivalence_ratio',\n",
       " 'find_isomers',\n",
       " 'g',\n",
       " 'get_binary_diff_coeffs_polynomial',\n",
       " 'get_collision_integral_polynomials',\n",
       " 'get_thermal_conductivity_polynomial',\n",
       " 'get_viscosity_polynomial',\n",
       " 'gibbs_mass',\n",
       " 'gibbs_mole',\n",
       " 'h',\n",
       " 'has_phase_transition',\n",
       " 'input_data',\n",
       " 'input_header',\n",
       " 'int_energy_mass',\n",
       " 'int_energy_mole',\n",
       " 'is_compressible',\n",
       " 'is_pure',\n",
       " 'isothermal_compressibility',\n",
       " 'isotropic_shape_factor',\n",
       " 'mass_fraction_dict',\n",
       " 'max_temp',\n",
       " 'mean_electron_energy',\n",
       " 'mean_molecular_weight',\n",
       " 'min_temp',\n",
       " 'mix_diff_coeffs',\n",
       " 'mix_diff_coeffs_mass',\n",
       " 'mix_diff_coeffs_mole',\n",
       " 'mixture_fraction',\n",
       " 'mobilities',\n",
       " 'modify_species',\n",
       " 'mole_fraction_dict',\n",
       " 'molecular_weights',\n",
       " 'multi_diff_coeffs',\n",
       " 'n_atoms',\n",
       " 'n_electron_energy_levels',\n",
       " 'n_elements',\n",
       " 'n_selected_species',\n",
       " 'n_species',\n",
       " 'name',\n",
       " 'normalize_electron_energy_distribution_enabled',\n",
       " 'partial_molar_cp',\n",
       " 'partial_molar_enthalpies',\n",
       " 'partial_molar_entropies',\n",
       " 'partial_molar_int_energies',\n",
       " 'partial_molar_volumes',\n",
       " 'phase_of_matter',\n",
       " 'quadrature_method',\n",
       " 'reference_pressure',\n",
       " 'report',\n",
       " 's',\n",
       " 'selected_species',\n",
       " 'set_binary_diff_coeffs_polynomial',\n",
       " 'set_collision_integral_polynomial',\n",
       " 'set_discretized_electron_energy_distribution',\n",
       " 'set_equivalence_ratio',\n",
       " 'set_mixture_fraction',\n",
       " 'set_thermal_conductivity_polynomial',\n",
       " 'set_unnormalized_mass_fractions',\n",
       " 'set_unnormalized_mole_fractions',\n",
       " 'set_viscosity_polynomial',\n",
       " 'source',\n",
       " 'species',\n",
       " 'species_index',\n",
       " 'species_name',\n",
       " 'species_names',\n",
       " 'species_viscosities',\n",
       " 'standard_concentration_units',\n",
       " 'standard_cp_R',\n",
       " 'standard_enthalpies_RT',\n",
       " 'standard_entropies_R',\n",
       " 'standard_gibbs_RT',\n",
       " 'standard_int_energies_RT',\n",
       " 'state',\n",
       " 'state_size',\n",
       " 'stoich_air_fuel_ratio',\n",
       " 'thermal_conductivity',\n",
       " 'thermal_diff_coeffs',\n",
       " 'thermal_expansion_coeff',\n",
       " 'thermo_model',\n",
       " 'transport_model',\n",
       " 'u',\n",
       " 'update_user_data',\n",
       " 'update_user_header',\n",
       " 'v',\n",
       " 'viscosity',\n",
       " 'volume_mass',\n",
       " 'volume_mole',\n",
       " 'write_yaml']"
      ]
     },
     "execution_count": 9,
     "metadata": {},
     "output_type": "execute_result"
    }
   ],
   "source": [
    "dir(w)"
   ]
  },
  {
   "cell_type": "markdown",
   "metadata": {},
   "source": [
    "### Lets plot the vapor dome for water P vs density"
   ]
  },
  {
   "cell_type": "code",
   "execution_count": 10,
   "metadata": {},
   "outputs": [],
   "source": [
    "#setup the temperatures we'll use (from the Cantera example online here: https://cantera.org/examples/python/thermo/vapordome.py.html)\n",
    "degc = np.hstack([np.array([w.min_temp - 273.15, 4, 5, 6, 8]),\n",
    "                  np.arange(10, 37), np.array([38]),\n",
    "                  np.arange(40, 100, 5), np.arange(100, 300, 10),\n",
    "                  np.arange(300, 380, 20), np.arange(370, 374),\n",
    "                  np.array([w.critical_temperature - 273.15])])"
   ]
  },
  {
   "cell_type": "code",
   "execution_count": 11,
   "metadata": {},
   "outputs": [],
   "source": [
    "degc = np.linspace(w.min_temp, w.critical_temperature, 1000) - 273.15"
   ]
  },
  {
   "cell_type": "code",
   "execution_count": 12,
   "metadata": {},
   "outputs": [],
   "source": [
    "#setup dataframe\n",
    "df = pd.DataFrame({'T':degc})\n",
    "#setup up solution array\n",
    "arr = ct.SolutionArray(w, len(degc))"
   ]
  },
  {
   "cell_type": "code",
   "execution_count": 13,
   "metadata": {},
   "outputs": [],
   "source": [
    "#get relative to min temp\n",
    "w.TQ = w.min_temp, 0\n",
    "sf0 = w.entropy_mass / 1.e3\n",
    "hf0 = w.enthalpy_mass / 1.e3 \n",
    "arr.TQ = degc + 273.15, 1\n",
    "df['P'] = arr.P_sat/1e5*14.5 # Pa to bar to psi\n",
    "df['r'] = arr.density*1000/1e6 # kg/m^3 to g/cm^3\n",
    "df['hv'] = arr.h/1000 - hf0 # kJ/kg\n",
    "#saturated liquid data\n",
    "arr.TQ = degc + 273.15, 0\n",
    "df['Pl'] = arr.P/1e5*14.5 # Pa to bar to psi\n",
    "df['rl'] = arr.density*1000/1e6 # kg/m^3 to g/cm^3\n",
    "df['hl'] = arr.h/1000 - hf0 # kJ/kg"
   ]
  },
  {
   "cell_type": "code",
   "execution_count": 14,
   "metadata": {},
   "outputs": [],
   "source": [
    "#lets add an isotherm\n",
    "density = np.linspace(0.01, 1.0, 1000)*1e6/1000 # kg/m^3\n",
    "arr2 = ct.SolutionArray(w, len(density))\n",
    "arr2.TD = 600, density"
   ]
  },
  {
   "cell_type": "code",
   "execution_count": 15,
   "metadata": {},
   "outputs": [
    {
     "data": {
      "image/png": "[encoded data removed]",
      "text/plain": [
       "<Figure size 640x480 with 1 Axes>"
      ]
     },
     "metadata": {},
     "output_type": "display_data"
    }
   ],
   "source": [
    "plt.plot(df.r,df.P,label='saturated vapor')\n",
    "plt.plot(df.rl,df.Pl,label='saturated liquid')\n",
    "plt.plot(density*1000/1e6,arr2.P/1e5*14.5, label='isotherm at 600K')\n",
    "plt.xlabel('Density (g/cm$^3$)'); plt.ylabel('Pressure (psi)')\n",
    "plt.ylim([0,4000])\n",
    "plt.title('Water Vapor Dome')\n",
    "plt.legend(); plt.show()"
   ]
  },
  {
   "cell_type": "markdown",
   "metadata": {},
   "source": [
    "You could also create a similar plot for the temperature versus enthalpy."
   ]
  },
  {
   "cell_type": "code",
   "execution_count": 16,
   "metadata": {},
   "outputs": [],
   "source": [
    "#lets add an isobar\n",
    "enthalpy = (np.linspace(10, 3200, 1000) + hf0)*1e3 # J/kg\n",
    "arr3 = ct.SolutionArray(w, len(enthalpy))\n",
    "arr3.HP = enthalpy, 101325*4"
   ]
  },
  {
   "cell_type": "code",
   "execution_count": 17,
   "metadata": {},
   "outputs": [
    {
     "data": {
      "image/png": "[encoded data removed]",
      "text/plain": [
       "<Figure size 640x480 with 1 Axes>"
      ]
     },
     "metadata": {},
     "output_type": "display_data"
    }
   ],
   "source": [
    "plt.plot(df.hv,df['T'],label='saturated vapor')\n",
    "plt.plot(df.hl,df['T'],label='saturated liquid')\n",
    "plt.plot(enthalpy/1e3-hf0,arr3.T-273.15, label='isobar at 4 bar')\n",
    "plt.xlabel('Enthalpy, J/kg)'); plt.ylabel('Temperature (C)')\n",
    "plt.title('Water Vapor Dome')\n",
    "plt.legend(); plt.show()"
   ]
  },
  {
   "cell_type": "markdown",
   "metadata": {},
   "source": [
    "### Application Example: Pumping"
   ]
  },
  {
   "cell_type": "markdown",
   "metadata": {},
   "source": [
    "Typically pumping of a fluid can be assumed to increase the pressure to a given value assuming isentropic conditions (constant entropy). Typically, a pumps isentropic efficiency is 60%. As such, the enthalpyt and temperature rise through the pump can be found.\n",
    "\n",
    "See futher examples here: https://nbviewer.org/url/ignite.byu.edu/che433/lectures/lecture_07_steam/rankine_.ipynb"
   ]
  },
  {
   "cell_type": "code",
   "execution_count": 18,
   "metadata": {},
   "outputs": [
    {
     "name": "stdout",
     "output_type": "stream",
     "text": [
      "The isentropic work is 0.30 kJ/kg\n",
      "The actual work is 0.5083018274853627 kJ/kg\n",
      "The associated rise in temperature is 0.01 K\n"
     ]
    }
   ],
   "source": [
    "p_initial, p_final = 101325*1, 101325*4 #Pa\n",
    "T_initial = 300 #K\n",
    "w.TPQ = T_initial, p_initial, 0\n",
    "h0 = w.h; s0 = w.s\n",
    "w.SP = s0, p_final\n",
    "h1 = w.h; T1 = w.T\n",
    "isentropic_work = h1-h0\n",
    "actual_work = isentropic_work / 0.6\n",
    "print(f'The isentropic work is {isentropic_work/1000:1.2f} kJ/kg')\n",
    "print('The actual work is',actual_work/1000,'kJ/kg')\n",
    "print(f'The associated rise in temperature is {T1-T_initial:1.2f} K')"
   ]
  },
  {
   "cell_type": "code",
   "execution_count": 19,
   "metadata": {},
   "outputs": [
    {
     "name": "stdout",
     "output_type": "stream",
     "text": [
      "\n",
      "  water:\n",
      "\n",
      "       temperature   300.01 K\n",
      "          pressure   4.053e+05 Pa\n",
      "           density   996.77 kg/m^3\n",
      "  mean mol. weight   18.016 kg/kmol\n",
      "    vapor fraction   0\n",
      "   phase of matter   liquid\n",
      "\n",
      "                          1 kg             1 kmol     \n",
      "                     ---------------   ---------------\n",
      "          enthalpy       -1.5858e+07       -2.8569e+08  J\n",
      "   internal energy       -1.5858e+07        -2.857e+08  J\n",
      "           entropy            3913.2             70500  J/K\n",
      "    Gibbs function       -1.7032e+07       -3.0684e+08  J\n",
      " heat capacity c_p            4179.9             75305  J/K\n",
      " heat capacity c_v            4129.9             74404  J/K\n",
      "\n"
     ]
    }
   ],
   "source": [
    "print(w.report())"
   ]
  },
  {
   "cell_type": "markdown",
   "metadata": {},
   "source": [
    "### Other Compounds?"
   ]
  },
  {
   "cell_type": "code",
   "execution_count": 20,
   "metadata": {},
   "outputs": [
    {
     "data": {
      "text/plain": [
       "(-5047996.588604324, 111.63302142097555)"
      ]
     },
     "execution_count": 20,
     "metadata": {},
     "output_type": "execute_result"
    }
   ],
   "source": [
    "methane = ct.Methane()\n",
    "methane.PQ =  101325, 1 # 1 atm (101325 Pa), saturated vapor\n",
    "methane.h, methane.T"
   ]
  },
  {
   "cell_type": "code",
   "execution_count": 21,
   "metadata": {},
   "outputs": [
    {
     "data": {
      "text/plain": [
       "['Arrhenius',\n",
       " 'ArrheniusRate',\n",
       " 'ArrheniusRateBase',\n",
       " 'AxisymmetricStagnationFlow',\n",
       " 'BlowersMaselRate',\n",
       " 'Boundary1D',\n",
       " 'BurnerFlame',\n",
       " 'CanteraError',\n",
       " 'CarbonDioxide',\n",
       " 'ChebyshevRate',\n",
       " 'ChebyshevReaction',\n",
       " 'ChemicallyActivatedReaction',\n",
       " 'ConstPressureReactor',\n",
       " 'ConstantCp',\n",
       " 'CounterflowDiffusionFlame',\n",
       " 'CounterflowPremixedFlame',\n",
       " 'CounterflowTwinPremixedFlame',\n",
       " 'CustomRate',\n",
       " 'CustomReaction',\n",
       " 'Domain1D',\n",
       " 'DustyGas',\n",
       " 'DustyGasTransport',\n",
       " 'Element',\n",
       " 'ElementaryReaction',\n",
       " 'ExtensibleConstPressureReactor',\n",
       " 'ExtensibleIdealGasConstPressureReactor',\n",
       " 'ExtensibleIdealGasReactor',\n",
       " 'ExtensibleReactor',\n",
       " 'Falloff',\n",
       " 'FalloffRate',\n",
       " 'FalloffReaction',\n",
       " 'FlameBase',\n",
       " 'FlowDevice',\n",
       " 'FlowReactor',\n",
       " 'FreeFlame',\n",
       " 'FreeFlow',\n",
       " 'Func1',\n",
       " 'GasTransportData',\n",
       " 'Heptane',\n",
       " 'Hfc134a',\n",
       " 'Hydrogen',\n",
       " 'IdealGasConstPressureReactor',\n",
       " 'IdealGasFlow',\n",
       " 'IdealGasReactor',\n",
       " 'ImpingingJet',\n",
       " 'Inlet1D',\n",
       " 'Interface',\n",
       " 'InterfaceArrheniusRate',\n",
       " 'InterfaceBlowersMaselRate',\n",
       " 'InterfaceKinetics',\n",
       " 'InterfacePhase',\n",
       " 'InterfaceRateBase',\n",
       " 'InterfaceReaction',\n",
       " 'IonBurnerFlame',\n",
       " 'IonFlameBase',\n",
       " 'IonFlow',\n",
       " 'IonFreeFlame',\n",
       " 'Kinetics',\n",
       " 'LindemannRate',\n",
       " 'MassFlowController',\n",
       " 'Methane',\n",
       " 'Mixture',\n",
       " 'Mu0Poly',\n",
       " 'Nasa9PolyMultiTempRegion',\n",
       " 'NasaPoly2',\n",
       " 'Nitrogen',\n",
       " 'OrderedDict',\n",
       " 'Outlet1D',\n",
       " 'OutletReservoir1D',\n",
       " 'Oxygen',\n",
       " 'Path',\n",
       " 'PlogRate',\n",
       " 'PlogReaction',\n",
       " 'PressureController',\n",
       " 'PureFluid',\n",
       " 'PurePath',\n",
       " 'Quantity',\n",
       " 'ReactingSurface1D',\n",
       " 'Reaction',\n",
       " 'ReactionPathDiagram',\n",
       " 'ReactionRate',\n",
       " 'Reactor',\n",
       " 'ReactorBase',\n",
       " 'ReactorNet',\n",
       " 'ReactorSurface',\n",
       " 'Reservoir',\n",
       " 'ShomatePoly2',\n",
       " 'Sim1D',\n",
       " 'Solution',\n",
       " 'SolutionArray',\n",
       " 'Species',\n",
       " 'SpeciesThermo',\n",
       " 'SriFalloff',\n",
       " 'SriRate',\n",
       " 'StickRateBase',\n",
       " 'StickingArrheniusRate',\n",
       " 'StickingBlowersMaselRate',\n",
       " 'Surface1D',\n",
       " 'SymmetryPlane1D',\n",
       " 'TabulatedFunction',\n",
       " 'ThermoModelMethodError',\n",
       " 'ThermoPhase',\n",
       " 'ThreeBodyReaction',\n",
       " 'Transport',\n",
       " 'TroeFalloff',\n",
       " 'TroeRate',\n",
       " 'TsangRate',\n",
       " 'TwoTempPlasmaRate',\n",
       " 'UnitSystem',\n",
       " 'Units',\n",
       " 'Valve',\n",
       " 'Wall',\n",
       " 'WallBase',\n",
       " 'Water',\n",
       " 'YamlWriter',\n",
       " '__builtins__',\n",
       " '__cached__',\n",
       " '__doc__',\n",
       " '__file__',\n",
       " '__git_commit__',\n",
       " '__loader__',\n",
       " '__name__',\n",
       " '__package__',\n",
       " '__path__',\n",
       " '__spec__',\n",
       " '__sundials_version__',\n",
       " '__version__',\n",
       " '_cantera',\n",
       " 'add_directory',\n",
       " 'add_module_directory',\n",
       " 'appdelete',\n",
       " 'avogadro',\n",
       " 'boltzmann',\n",
       " 'c_int',\n",
       " 'cantera',\n",
       " 'composite',\n",
       " 'debug_mode_enabled',\n",
       " 'electron_charge',\n",
       " 'electron_mass',\n",
       " 'epsilon_0',\n",
       " 'erf',\n",
       " 'faraday',\n",
       " 'formatdate',\n",
       " 'gas_constant',\n",
       " 'get_data_directories',\n",
       " 'import_phases',\n",
       " 'inspect',\n",
       " 'interrupts',\n",
       " 'light_speed',\n",
       " 'liquidvapor',\n",
       " 'make_deprecation_warnings_fatal',\n",
       " 'math',\n",
       " 'no_op',\n",
       " 'np',\n",
       " 'numbers',\n",
       " 'one_atm',\n",
       " 'onedim',\n",
       " 'os',\n",
       " 'permeability_0',\n",
       " 'pkg_resources',\n",
       " 'planck',\n",
       " 'stefan_boltzmann',\n",
       " 'suppress_deprecation_warnings',\n",
       " 'suppress_thermo_warnings',\n",
       " 'sys',\n",
       " 'use_legacy_rate_constants',\n",
       " 'use_sparse',\n",
       " 'utils',\n",
       " 'warnings',\n",
       " 'weakref']"
      ]
     },
     "execution_count": 21,
     "metadata": {},
     "output_type": "execute_result"
    }
   ],
   "source": [
    "dir(ct)"
   ]
  },
  {
   "cell_type": "markdown",
   "metadata": {},
   "source": [
    "## Chemical Kinetics: Methane"
   ]
  },
  {
   "cell_type": "code",
   "execution_count": 22,
   "metadata": {},
   "outputs": [],
   "source": [
    "gas = ct.Solution('gri30.yaml') #methane with air"
   ]
  },
  {
   "cell_type": "code",
   "execution_count": 23,
   "metadata": {},
   "outputs": [],
   "source": [
    "# Can define the initial conditions\n",
    "gas.TPX = 300, 101325, 'CH4:1, O2:2, N2:0' # temperature in K, pressure in Pa, and stoichiometric mole fractions with pure oxygen\n",
    "# otherwise it would be 02:2, and N2:7.52."
   ]
  },
  {
   "cell_type": "markdown",
   "metadata": {},
   "source": [
    "### Adiabatic Flame Temperature: Methane"
   ]
  },
  {
   "cell_type": "code",
   "execution_count": 24,
   "metadata": {},
   "outputs": [
    {
     "name": "stdout",
     "output_type": "stream",
     "text": [
      "Adiabatic flame temperature of methane is 3052.22 K.\n",
      "The fraction of CO in the flame is [0.20300664]\n",
      "\n",
      "  gri30:\n",
      "\n",
      "       temperature   3052.2 K\n",
      "          pressure   1.0133e+05 Pa\n",
      "           density   0.085831 kg/m^3\n",
      "  mean mol. weight   21.497 kg/kmol\n",
      "   phase of matter   gas\n",
      "\n",
      "                          1 kg             1 kmol     \n",
      "                     ---------------   ---------------\n",
      "          enthalpy       -9.2986e+05       -1.9989e+07  J\n",
      "   internal energy       -2.1104e+06       -4.5367e+07  J\n",
      "           entropy             13382        2.8768e+05  J/K\n",
      "    Gibbs function       -4.1776e+07       -8.9805e+08  J\n",
      " heat capacity c_p            2166.9             46583  J/K\n",
      " heat capacity c_v            1780.2             38268  J/K\n",
      "\n",
      "                      mass frac. Y      mole frac. X     chem. pot. / RT\n",
      "                     ---------------   ---------------   ---------------\n",
      "                H2         0.0067891          0.072394           -23.533\n",
      "                 H         0.0023341          0.049779           -11.767\n",
      "                 O          0.029048           0.03903           -16.417\n",
      "                O2           0.12455          0.083676           -32.835\n",
      "                OH          0.073788          0.093269           -28.184\n",
      "               H2O           0.32953           0.39322           -39.951\n",
      "               HO2        7.1165e-05         4.635e-05           -44.601\n",
      "              H2O2        3.3907e-06        2.1429e-06           -56.368\n",
      "                 C        1.0685e-11        1.9125e-11           -19.021\n",
      "                CH        1.2854e-12        2.1224e-12           -30.788\n",
      "               CH2        8.0073e-13        1.2272e-12           -42.554\n",
      "            CH2(S)        8.3263e-14         1.276e-13           -42.554\n",
      "               CH3        6.7716e-13         9.682e-13           -54.321\n",
      "               CH4        6.7666e-14         9.067e-14           -66.087\n",
      "                CO           0.20301            0.1558           -35.438\n",
      "               CO2           0.23088           0.11278           -51.856\n",
      "               HCO        7.6872e-07        5.6948e-07           -47.205\n",
      "              CH2O         6.479e-09        4.6386e-09           -58.972\n",
      "             CH2OH        3.7639e-13        2.6072e-13           -70.738\n",
      "     [  +34 minor]        3.5503e-14        2.1656e-14  \n",
      "\n"
     ]
    }
   ],
   "source": [
    "gas.equilibrate('HP') #equilibrate at constant enthalpy and pressure\n",
    "print(f'Adiabatic flame temperature of methane is {gas.T:1.2f} K.')\n",
    "print(f'The fraction of CO in the flame is', gas['CO'].Y)\n",
    "gas()"
   ]
  },
  {
   "cell_type": "markdown",
   "metadata": {},
   "source": [
    "### Heat of Combustion: Methane"
   ]
  },
  {
   "cell_type": "markdown",
   "metadata": {},
   "source": [
    "Lets calculate the heat of combustion of methane."
   ]
  },
  {
   "cell_type": "code",
   "execution_count": 25,
   "metadata": {},
   "outputs": [],
   "source": [
    "#reinitialize to STP in pure oxygen\n",
    "gas.TPX = 300, 101325, 'CH4:1, O2:2, N2:0'"
   ]
  },
  {
   "cell_type": "code",
   "execution_count": 26,
   "metadata": {},
   "outputs": [],
   "source": [
    "#calculate the heat of combustion\n",
    "h1= gas.enthalpy_mass\n",
    "Y_CH4 = gas[\"CH4\"].Y[0]\n",
    "gas.equilibrate('HP')"
   ]
  },
  {
   "cell_type": "code",
   "execution_count": 27,
   "metadata": {},
   "outputs": [],
   "source": [
    "#equilibrate the product gases at room temperature\n",
    "gas.TP = 300,101325\n",
    "gas.equilibrate('TP')"
   ]
  },
  {
   "cell_type": "code",
   "execution_count": 28,
   "metadata": {},
   "outputs": [
    {
     "data": {
      "text/plain": [
       "50024.25791465254"
      ]
     },
     "execution_count": 28,
     "metadata": {},
     "output_type": "execute_result"
    }
   ],
   "source": [
    "(h1 - gas.enthalpy_mass)/1000/Y_CH4 #kJ/kg"
   ]
  },
  {
   "cell_type": "code",
   "execution_count": 29,
   "metadata": {},
   "outputs": [
    {
     "data": {
      "text/plain": [
       "array([5.8688253e-36])"
      ]
     },
     "execution_count": 29,
     "metadata": {},
     "output_type": "execute_result"
    }
   ],
   "source": [
    "gas['CO'].Y"
   ]
  },
  {
   "cell_type": "markdown",
   "metadata": {},
   "source": [
    "### Product Composition (CO) versus Temperature"
   ]
  },
  {
   "cell_type": "code",
   "execution_count": 30,
   "metadata": {},
   "outputs": [],
   "source": [
    "#lets add the composition of CO as a function of the equilibration temperature\n",
    "ptemps = np.linspace(3100, 300, 100)  # K, product temperatures\n",
    "COcomp = []\n",
    "for each in ptemps:\n",
    "    gas.TP = each, 101325\n",
    "    gas.equilibrate('TP')\n",
    "    COcomp.append(gas['CO'].Y[0])"
   ]
  },
  {
   "cell_type": "code",
   "execution_count": 31,
   "metadata": {},
   "outputs": [
    {
     "data": {
      "image/png": "[encoded data removed]",
      "text/plain": [
       "<Figure size 640x480 with 1 Axes>"
      ]
     },
     "metadata": {},
     "output_type": "display_data"
    }
   ],
   "source": [
    "plt.plot(ptemps,COcomp)\n",
    "plt.xlabel('Temperature (K)'); plt.ylabel('CO mass fraction')\n",
    "plt.show()"
   ]
  },
  {
   "cell_type": "code",
   "execution_count": null,
   "metadata": {},
   "outputs": [],
   "source": []
  }
 ],
 "metadata": {
  "kernelspec": {
   "display_name": "Python 3",
   "language": "python",
   "name": "python3"
  },
  "language_info": {
   "codemirror_mode": {
    "name": "ipython",
    "version": 3
   },
   "file_extension": ".py",
   "mimetype": "text/x-python",
   "name": "python",
   "nbconvert_exporter": "python",
   "pygments_lexer": "ipython3",
   "version": "3.9.16"
  },
  "orig_nbformat": 4
 },
 "nbformat": 4,
 "nbformat_minor": 2
}
