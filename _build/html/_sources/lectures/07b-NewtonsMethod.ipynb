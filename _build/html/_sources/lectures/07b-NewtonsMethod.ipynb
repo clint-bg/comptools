{
  "cells": [
    {
      "cell_type": "markdown",
      "metadata": {},
      "source": [
        "# 07b - Newton's Method Example Exercise"
      ]
    },
    {
      "cell_type": "code",
      "execution_count": 1,
      "metadata": {
        "id": "oGrMEHb7FeIz"
      },
      "outputs": [],
      "source": [
        "import numpy as np\n",
        "import matplotlib.pyplot as plt"
      ]
    },
    {
      "cell_type": "code",
      "execution_count": 2,
      "metadata": {
        "id": "dzdlgogoFpOH"
      },
      "outputs": [],
      "source": [
        "f = lambda x: x**2 -5"
      ]
    },
    {
      "cell_type": "code",
      "execution_count": 3,
      "metadata": {
        "id": "aPuD8RDjFzxR"
      },
      "outputs": [],
      "source": [
        "x = np.linspace(-10,10,100)"
      ]
    },
    {
      "cell_type": "code",
      "execution_count": 4,
      "metadata": {
        "colab": {
          "base_uri": "https://localhost:8080/",
          "height": 430
        },
        "id": "bWM5oKf4F9yn",
        "outputId": "1fd53c71-dfa0-464b-c668-697f852dc45d"
      },
      "outputs": [
        {
          "data": {
            "image/png": "[encoded data removed]",
            "text/plain": [
              "<Figure size 640x480 with 1 Axes>"
            ]
          },
          "metadata": {},
          "output_type": "display_data"
        }
      ],
      "source": [
        "plt.plot(x, f(x))\n",
        "plt.plot(x,np.zeros(len(x)))\n",
        "plt.show()"
      ]
    },
    {
      "cell_type": "markdown",
      "metadata": {
        "id": "HltuRsHU09o9"
      },
      "source": [
        "We need to find the roots of the above equation."
      ]
    },
    {
      "cell_type": "markdown",
      "metadata": {
        "id": "HTXChhHpG4Hf"
      },
      "source": [
        "## Newtons Method\n",
        "_____"
      ]
    },
    {
      "cell_type": "markdown",
      "metadata": {
        "id": "TM7sYSuNjLL5"
      },
      "source": [
        "Taylor Series\n",
        "$$\n",
        "f(x) = f(x_o) + f'(x_o)⋅(x-x_o) + 1/2!⋅f''(x_o)(x-x_o)^2 + ...\n",
        "$$"
      ]
    },
    {
      "cell_type": "markdown",
      "metadata": {
        "id": "Qbs3FW6QzeMa"
      },
      "source": [
        "With just the first two terms, we want to find x where f(x) = 0:\n",
        "$$\n",
        "0 = f(x_0) + f'(x_o)⋅(x-x_0)\n",
        "$$\n"
      ]
    },
    {
      "cell_type": "markdown",
      "metadata": {
        "id": "zVZvy95H0bBV"
      },
      "source": [
        "Rearranging:\n",
        "$$\n",
        "x = x_0 -f(x_0)/f'(x_0)\n",
        "$$"
      ]
    },
    {
      "cell_type": "markdown",
      "metadata": {},
      "source": [
        "By doing so, in theory we should get closer to the actual point where f(x) = 0. We can repeat this process until we get close enough to the actual root."
      ]
    },
    {
      "cell_type": "code",
      "execution_count": 5,
      "metadata": {
        "id": "iBTafa5TGyor"
      },
      "outputs": [],
      "source": [
        "def newton(x):\n",
        "   fprime = 2*x\n",
        "   return x - f(x)/fprime"
      ]
    },
    {
      "cell_type": "code",
      "execution_count": 6,
      "metadata": {
        "colab": {
          "base_uri": "https://localhost:8080/",
          "height": 0
        },
        "id": "gs4Sun-O5_ti",
        "outputId": "1350425e-6472-40b2-a163-02416449e142"
      },
      "outputs": [
        {
          "data": {
            "text/plain": [
              "-5.25"
            ]
          },
          "execution_count": 6,
          "metadata": {},
          "output_type": "execute_result"
        }
      ],
      "source": [
        "newton(-10)"
      ]
    },
    {
      "cell_type": "code",
      "execution_count": 7,
      "metadata": {
        "colab": {
          "base_uri": "https://localhost:8080/",
          "height": 0
        },
        "id": "ZhUltH9SRhM5",
        "outputId": "43844dbc-2ad9-40ad-e97c-fe6e129a7a4c"
      },
      "outputs": [
        {
          "data": {
            "text/plain": [
              "-3.1011904761904763"
            ]
          },
          "execution_count": 7,
          "metadata": {},
          "output_type": "execute_result"
        }
      ],
      "source": [
        "newton(-5.25)"
      ]
    },
    {
      "cell_type": "code",
      "execution_count": 8,
      "metadata": {
        "colab": {
          "base_uri": "https://localhost:8080/",
          "height": 0
        },
        "id": "-RyVGvqM6D8I",
        "outputId": "bbc3e7f6-dfcf-42c8-9d80-e92fe3256cae"
      },
      "outputs": [
        {
          "data": {
            "text/plain": [
              "-2.356691551112544"
            ]
          },
          "execution_count": 8,
          "metadata": {},
          "output_type": "execute_result"
        }
      ],
      "source": [
        "newton(-3.101)"
      ]
    },
    {
      "cell_type": "code",
      "execution_count": 9,
      "metadata": {
        "colab": {
          "base_uri": "https://localhost:8080/",
          "height": 0
        },
        "id": "GXI3q09F6Hvd",
        "outputId": "cd94ebef-01ce-4340-9399-ca2ca45ac689"
      },
      "outputs": [
        {
          "data": {
            "text/plain": [
              "-2.2391703436571913"
            ]
          },
          "execution_count": 9,
          "metadata": {},
          "output_type": "execute_result"
        }
      ],
      "source": [
        "newton(-2.357)"
      ]
    },
    {
      "cell_type": "code",
      "execution_count": 10,
      "metadata": {
        "colab": {
          "base_uri": "https://localhost:8080/",
          "height": 0
        },
        "id": "pqhRxmA76TvL",
        "outputId": "48ff1258-f93c-4c65-b421-cf9bf45642d4"
      },
      "outputs": [
        {
          "data": {
            "text/plain": [
              "-2.2360698972755695"
            ]
          },
          "execution_count": 10,
          "metadata": {},
          "output_type": "execute_result"
        }
      ],
      "source": [
        "newton(-2.239)"
      ]
    },
    {
      "cell_type": "code",
      "execution_count": 11,
      "metadata": {
        "colab": {
          "base_uri": "https://localhost:8080/",
          "height": 0
        },
        "id": "pw6o3AzF6VwB",
        "outputId": "58f70ace-7afa-4b9b-c6b8-ab3903f70517"
      },
      "outputs": [
        {
          "data": {
            "text/plain": [
              "-2.236067978533095"
            ]
          },
          "execution_count": 11,
          "metadata": {},
          "output_type": "execute_result"
        }
      ],
      "source": [
        "newton(-2.236)"
      ]
    },
    {
      "cell_type": "code",
      "execution_count": 12,
      "metadata": {
        "colab": {
          "base_uri": "https://localhost:8080/",
          "height": 0
        },
        "id": "OoP63Cq_6YjG",
        "outputId": "6cc268f9-a00b-4112-a060-c64fba88abdb"
      },
      "outputs": [
        {
          "data": {
            "text/plain": [
              "2.23606797749979"
            ]
          },
          "execution_count": 12,
          "metadata": {},
          "output_type": "execute_result"
        }
      ],
      "source": [
        "np.sqrt(5)"
      ]
    },
    {
      "cell_type": "markdown",
      "metadata": {
        "id": "h9ZM1NgO6gpi"
      },
      "source": [
        "Lets plot our progression from our initial guess of $x_0=-10$"
      ]
    },
    {
      "cell_type": "code",
      "execution_count": 13,
      "metadata": {
        "id": "UjIjUJXl6bT9"
      },
      "outputs": [],
      "source": [
        "#first make an array of our point progression\n",
        "xvals = np.array([-10,-5.25,-3.101,-2.357,-2.239,-2.236]) #convert list to array\n",
        "yvals = f(xvals)"
      ]
    },
    {
      "cell_type": "code",
      "execution_count": 14,
      "metadata": {
        "colab": {
          "base_uri": "https://localhost:8080/",
          "height": 430
        },
        "id": "yVZ_hlHF7NHl",
        "outputId": "2a328404-bb6b-4a02-9e4b-7a5d995d0002"
      },
      "outputs": [
        {
          "data": {
            "image/png": "[encoded data removed]",
            "text/plain": [
              "<Figure size 640x480 with 1 Axes>"
            ]
          },
          "metadata": {},
          "output_type": "display_data"
        }
      ],
      "source": [
        "plt.plot(x, f(x))\n",
        "plt.plot(x,np.zeros(len(x)))\n",
        "plt.scatter(xvals,yvals)\n",
        "plt.show()"
      ]
    },
    {
      "cell_type": "markdown",
      "metadata": {
        "id": "Eo5geKn28u65"
      },
      "source": [
        "Now lets try a more complex equation (still everywhere differentiable)"
      ]
    },
    {
      "cell_type": "code",
      "execution_count": 15,
      "metadata": {
        "id": "BPUvNMcg8fv2"
      },
      "outputs": [],
      "source": [
        "f2 = lambda x: x**5 - 5*x**4 + x**3 + x**2 + x + 190"
      ]
    },
    {
      "cell_type": "code",
      "execution_count": 16,
      "metadata": {
        "colab": {
          "base_uri": "https://localhost:8080/",
          "height": 453
        },
        "id": "gUNufi_j8UG0",
        "outputId": "f4d1009e-4b9c-4e3e-d989-06fe690c40c1"
      },
      "outputs": [
        {
          "data": {
            "text/plain": [
              "(-100.0, 300.0)"
            ]
          },
          "execution_count": 16,
          "metadata": {},
          "output_type": "execute_result"
        },
        {
          "data": {
            "image/png": "[encoded data removed]",
            "text/plain": [
              "<Figure size 640x480 with 1 Axes>"
            ]
          },
          "metadata": {},
          "output_type": "display_data"
        }
      ],
      "source": [
        "plt.plot(x,f2(x))\n",
        "plt.plot(x,np.zeros(len(x)))\n",
        "plt.ylim(-100,300)"
      ]
    },
    {
      "cell_type": "code",
      "execution_count": 17,
      "metadata": {
        "id": "co37ZOs48_J1"
      },
      "outputs": [],
      "source": [
        "#define our new newton's method with the derivative\n",
        "def newton2(x):\n",
        "  fprime = 5*x**4 - 20*x**3 + 3*x**2 + 2*x + 1\n",
        "  return x - f2(x)/fprime"
      ]
    },
    {
      "cell_type": "code",
      "execution_count": 18,
      "metadata": {
        "colab": {
          "base_uri": "https://localhost:8080/",
          "height": 0
        },
        "id": "BcxcYhLm-Pse",
        "outputId": "18735e2b-efb1-451c-c5b5-2577322aa800"
      },
      "outputs": [
        {
          "data": {
            "text/plain": [
              "4.870887130362349"
            ]
          },
          "execution_count": 18,
          "metadata": {},
          "output_type": "execute_result"
        }
      ],
      "source": [
        "#Our initial guess\n",
        "newton2(5.5)"
      ]
    },
    {
      "cell_type": "code",
      "execution_count": 19,
      "metadata": {
        "colab": {
          "base_uri": "https://localhost:8080/",
          "height": 0
        },
        "id": "Su5Jdr5F-ZmE",
        "outputId": "5618e2b1-2c17-4f1b-8009-6aa57deeeb0f"
      },
      "outputs": [
        {
          "data": {
            "text/plain": [
              "4.424011563368115"
            ]
          },
          "execution_count": 19,
          "metadata": {},
          "output_type": "execute_result"
        }
      ],
      "source": [
        "newton2(4.870887)"
      ]
    },
    {
      "cell_type": "code",
      "execution_count": 20,
      "metadata": {
        "colab": {
          "base_uri": "https://localhost:8080/",
          "height": 0
        },
        "id": "ArY5ku7H-c1Q",
        "outputId": "7d3c7086-1e4a-4bba-9aaf-25faba4b67e3"
      },
      "outputs": [
        {
          "data": {
            "text/plain": [
              "4.106934926714884"
            ]
          },
          "execution_count": 20,
          "metadata": {},
          "output_type": "execute_result"
        }
      ],
      "source": [
        "newton2(4.424011)"
      ]
    },
    {
      "cell_type": "code",
      "execution_count": 21,
      "metadata": {
        "colab": {
          "base_uri": "https://localhost:8080/",
          "height": 0
        },
        "id": "dVIiCxt1-jIB",
        "outputId": "59491948-ace9-48bc-8b21-a0c026b2e3a2"
      },
      "outputs": [
        {
          "data": {
            "text/plain": [
              "3.836682141049953"
            ]
          },
          "execution_count": 21,
          "metadata": {},
          "output_type": "execute_result"
        }
      ],
      "source": [
        "newton2(4.1069349)"
      ]
    },
    {
      "cell_type": "code",
      "execution_count": 22,
      "metadata": {
        "colab": {
          "base_uri": "https://localhost:8080/",
          "height": 0
        },
        "id": "cdoplLrS-lQE",
        "outputId": "611b95b0-ba46-464a-f1b5-eb224046bc4b"
      },
      "outputs": [
        {
          "data": {
            "text/plain": [
              "1.9062611179657791"
            ]
          },
          "execution_count": 22,
          "metadata": {},
          "output_type": "execute_result"
        }
      ],
      "source": [
        "newton2(3.83668)"
      ]
    },
    {
      "cell_type": "markdown",
      "metadata": {
        "id": "g-WQB3up_izz"
      },
      "source": [
        "Let's plot our points again:"
      ]
    },
    {
      "cell_type": "code",
      "execution_count": 23,
      "metadata": {
        "id": "8Fwpfm21_lBD"
      },
      "outputs": [],
      "source": [
        "xvals = np.array([5.5,4.87,4.42,4.106,3.83,1.906])\n",
        "yvals = f2(xvals)"
      ]
    },
    {
      "cell_type": "code",
      "execution_count": 24,
      "metadata": {
        "colab": {
          "base_uri": "https://localhost:8080/",
          "height": 453
        },
        "id": "-b8DDVJH_tF_",
        "outputId": "5ec33a9b-f154-48d7-d605-5f997e82b24e"
      },
      "outputs": [
        {
          "data": {
            "text/plain": [
              "(-100.0, 300.0)"
            ]
          },
          "execution_count": 24,
          "metadata": {},
          "output_type": "execute_result"
        },
        {
          "data": {
            "image/png": "[encoded data removed]",
            "text/plain": [
              "<Figure size 640x480 with 1 Axes>"
            ]
          },
          "metadata": {},
          "output_type": "display_data"
        }
      ],
      "source": [
        "plt.plot(x,f2(x))\n",
        "plt.plot(x,np.zeros(len(x)))\n",
        "plt.scatter(xvals,yvals)\n",
        "plt.ylim(-100,300)"
      ]
    },
    {
      "cell_type": "markdown",
      "metadata": {
        "id": "iGVWAqz5BgEt"
      },
      "source": [
        "You can see that a proper guess value is important in finding the root with derivative based root finding methods."
      ]
    },
    {
      "cell_type": "markdown",
      "metadata": {
        "id": "kVIoep9iB592"
      },
      "source": [
        "Instead of x's and y's, lets us an application example: the Colbrook equation."
      ]
    },
    {
      "cell_type": "code",
      "execution_count": 25,
      "metadata": {
        "id": "3xKLbjxX_0sW"
      },
      "outputs": [],
      "source": [
        "Re = 5000\n",
        "epsil = 0.0004\n",
        "D = 0.001\n",
        "def Colbrook(f):\n",
        "    return 1/np.sqrt(f) + 2*np.log10(2.51/(Re*np.sqrt(f))+epsil/(3.71*D))"
      ]
    },
    {
      "cell_type": "code",
      "execution_count": 26,
      "metadata": {
        "colab": {
          "base_uri": "https://localhost:8080/",
          "height": 453
        },
        "id": "uq8Dgk2iCdUb",
        "outputId": "21b39e81-fa9a-49ae-d7c3-283add5da5e7"
      },
      "outputs": [
        {
          "data": {
            "text/plain": [
              "(-10.0, 10.0)"
            ]
          },
          "execution_count": 26,
          "metadata": {},
          "output_type": "execute_result"
        },
        {
          "data": {
            "image/png": "[encoded data removed]",
            "text/plain": [
              "<Figure size 640x480 with 1 Axes>"
            ]
          },
          "metadata": {},
          "output_type": "display_data"
        }
      ],
      "source": [
        "#now lets plot the function\n",
        "xs = np.linspace(0.01,10,1000)\n",
        "plt.plot(xs,Colbrook(xs))\n",
        "plt.plot(xs,np.zeros(len(xs)))\n",
        "plt.ylim(-10,10)"
      ]
    },
    {
      "cell_type": "markdown",
      "metadata": {
        "id": "PZl5PpIzDvOH"
      },
      "source": [
        "Now lets setup our Newton's method to find the friction factor at those conditions."
      ]
    },
    {
      "cell_type": "code",
      "execution_count": 27,
      "metadata": {
        "id": "azCOqmTHKy73"
      },
      "outputs": [],
      "source": [
        "def Colbrook_prime(f):\n",
        "    return -1/(2*f**(3/2)) - 2.51/(np.log(10)*Re*f**(3/2)*(0.2695*epsil/D+2.51/(Re*np.sqrt(f))))"
      ]
    },
    {
      "cell_type": "code",
      "execution_count": 29,
      "metadata": {
        "colab": {
          "base_uri": "https://localhost:8080/",
          "height": 0
        },
        "id": "aNH_l2tlETQg",
        "outputId": "0ba55e72-5879-43fe-a03b-e25f0f3a25af"
      },
      "outputs": [
        {
          "data": {
            "text/plain": [
              "4.906781692574499"
            ]
          },
          "execution_count": 29,
          "metadata": {},
          "output_type": "execute_result"
        }
      ],
      "source": [
        "newt(10)"
      ]
    },
    {
      "cell_type": "code",
      "execution_count": 30,
      "metadata": {
        "colab": {
          "base_uri": "https://localhost:8080/",
          "height": 0
        },
        "id": "nW0N-bVbEe5F",
        "outputId": "2c5760d1-1375-4945-fc27-d6797292aee2"
      },
      "outputs": [
        {
          "data": {
            "text/plain": [
              "3.3027818875374457"
            ]
          },
          "execution_count": 30,
          "metadata": {},
          "output_type": "execute_result"
        }
      ],
      "source": [
        "newt(4.906)"
      ]
    },
    {
      "cell_type": "code",
      "execution_count": 31,
      "metadata": {
        "colab": {
          "base_uri": "https://localhost:8080/",
          "height": 0
        },
        "id": "YoZnGi0vEg1T",
        "outputId": "aa035962-45cc-47af-d5c5-6e38f38bb386"
      },
      "outputs": [
        {
          "data": {
            "text/plain": [
              "2.4749011423861025"
            ]
          },
          "execution_count": 31,
          "metadata": {},
          "output_type": "execute_result"
        }
      ],
      "source": [
        "newt(3.30)"
      ]
    },
    {
      "cell_type": "code",
      "execution_count": 32,
      "metadata": {
        "colab": {
          "base_uri": "https://localhost:8080/",
          "height": 0
        },
        "id": "3RYo6kf5F7YV",
        "outputId": "c0d0442a-3514-4cb0-9868-fbfb4a35c197"
      },
      "outputs": [
        {
          "data": {
            "text/plain": [
              "1.969012797369205"
            ]
          },
          "execution_count": 32,
          "metadata": {},
          "output_type": "execute_result"
        }
      ],
      "source": [
        "newt(2.47)"
      ]
    },
    {
      "cell_type": "code",
      "execution_count": 33,
      "metadata": {
        "colab": {
          "base_uri": "https://localhost:8080/",
          "height": 0
        },
        "id": "uG2Xt0A4F8jb",
        "outputId": "bc591745-2650-4796-a7d3-73ad253b60be"
      },
      "outputs": [
        {
          "data": {
            "text/plain": [
              "1.627270836441956"
            ]
          },
          "execution_count": 33,
          "metadata": {},
          "output_type": "execute_result"
        }
      ],
      "source": [
        "newt(1.96)"
      ]
    },
    {
      "cell_type": "code",
      "execution_count": 34,
      "metadata": {
        "colab": {
          "base_uri": "https://localhost:8080/",
          "height": 0
        },
        "id": "lnv5z_GyF-lm",
        "outputId": "0e25ff03-1a25-4081-e8e9-87392fb7be93"
      },
      "outputs": [
        {
          "data": {
            "text/plain": [
              "1.3846968179858952"
            ]
          },
          "execution_count": 34,
          "metadata": {},
          "output_type": "execute_result"
        }
      ],
      "source": [
        "newt(1.62)"
      ]
    },
    {
      "cell_type": "code",
      "execution_count": 35,
      "metadata": {
        "colab": {
          "base_uri": "https://localhost:8080/",
          "height": 0
        },
        "id": "E4PheuAyGAIF",
        "outputId": "a98a2a0e-9746-4c86-e381-0d7e4da11070"
      },
      "outputs": [
        {
          "data": {
            "text/plain": [
              "1.2056306129913872"
            ]
          },
          "execution_count": 35,
          "metadata": {},
          "output_type": "execute_result"
        }
      ],
      "source": [
        "newt(1.38)"
      ]
    },
    {
      "cell_type": "code",
      "execution_count": 36,
      "metadata": {
        "colab": {
          "base_uri": "https://localhost:8080/",
          "height": 0
        },
        "id": "xgk__pHQGBYz",
        "outputId": "37e2bc3a-ce0d-4319-90d3-47d5ca7018e4"
      },
      "outputs": [
        {
          "data": {
            "text/plain": [
              "1.0667077024540468"
            ]
          },
          "execution_count": 36,
          "metadata": {},
          "output_type": "execute_result"
        }
      ],
      "source": [
        "newt(1.20)"
      ]
    },
    {
      "cell_type": "markdown",
      "metadata": {
        "id": "qBO8c0n-GIX9"
      },
      "source": [
        "Isn't there a better way of doing this than having to type this in over and over. Let's modify the Newton function to do the interation for us."
      ]
    },
    {
      "cell_type": "code",
      "execution_count": 37,
      "metadata": {
        "id": "dU_OraoLGCzi"
      },
      "outputs": [],
      "source": [
        "def Newton(x):\n",
        "  for i in range(0,300):\n",
        "    fprime = Colbrook_prime(x)\n",
        "    xnew = x - Colbrook(x)/fprime*0.05\n",
        "    x = xnew\n",
        "    print(x)\n",
        "  return xnew"
      ]
    },
    {
      "cell_type": "code",
      "execution_count": 38,
      "metadata": {
        "colab": {
          "base_uri": "https://localhost:8080/",
          "height": 0
        },
        "id": "l4cUaGq1HjwL",
        "outputId": "ec956ecb-da89-4580-d186-a114217b22ea"
      },
      "outputs": [
        {
          "name": "stdout",
          "output_type": "stream",
          "text": [
            "0.9877000746858369\n",
            "0.8973280130671422\n",
            "0.8232745276173374\n",
            "0.7616664915245736\n",
            "0.7097481334254546\n",
            "0.6655083384581282\n",
            "0.6274471654780056\n",
            "0.5944246062189653\n",
            "0.5655597564278563\n",
            "0.5401618885977597\n",
            "0.51768228188706\n",
            "0.4976798930065428\n",
            "0.4797964594496145\n",
            "0.4637381571405189\n",
            "0.44926189328784516\n",
            "0.4361649297062868\n",
            "0.4242769339980847\n",
            "0.41345382417017645\n",
            "0.40357295422901684\n",
            "0.39452931372622924\n",
            "0.38623250195450304\n",
            "0.37860429967689824\n",
            "0.37157670590170827\n",
            "0.365090339616655\n",
            "0.3590931301746058\n",
            "0.3535392376491302\n",
            "0.3483881576671783\n",
            "0.34360397518232494\n",
            "0.3391547392303269\n",
            "0.33501193652229105\n",
            "0.33115004622348415\n",
            "0.3275461617620675\n",
            "0.32417966825083316\n",
            "0.32103196626390434\n",
            "0.3180862344222667\n",
            "0.31532722460714513\n",
            "0.3127410847147391\n",
            "0.3103152047478407\n",
            "0.3080380827541228\n",
            "0.3058992077020092\n",
            "0.3038889568599593\n",
            "0.3019985056347888\n",
            "0.300219748145879\n",
            "0.2985452270779009\n",
            "0.2969680715754017\n",
            "0.29548194212657153\n",
            "0.2940809815373829\n",
            "0.29275977122642904\n",
            "0.29151329217950767\n",
            "0.2903368899948145\n",
            "0.28922624352739057\n",
            "0.2881773367075394\n",
            "0.2871864331642192\n",
            "0.28625005333249554\n",
            "0.2853649537653174\n",
            "0.2845281084052324\n",
            "0.28373669160208437\n",
            "0.28298806268898535\n",
            "0.2822797519515508\n",
            "0.28160944784505376\n",
            "0.2809749853312343\n",
            "0.2803743352213626\n",
            "0.2798055944251162\n",
            "0.27926697701615155\n",
            "0.27875680603516545\n",
            "0.2782735059599301\n",
            "0.27781559577942355\n",
            "0.27738168261589613\n",
            "0.276970455844638\n",
            "0.27658068166644295\n",
            "0.27621119809239164\n",
            "0.2758609103046726\n",
            "0.27552878636079825\n",
            "0.2752138532118013\n",
            "0.274915193007872\n",
            "0.27463193966745797\n",
            "0.2743632756881348\n",
            "0.27410842917959544\n",
            "0.27386667110093704\n",
            "0.27363731268605807\n",
            "0.27341970304244945\n",
            "0.27321322690998145\n",
            "0.2730173025674753\n",
            "0.2728313798759162\n",
            "0.272654938448129\n",
            "0.2724874859356053\n",
            "0.2723285564239586\n",
            "0.2721777089291936\n",
            "0.27203452598762007\n",
            "0.2718986123328259\n",
            "0.2717695936536536\n",
            "0.2716471154276068\n",
            "0.2715308418245508\n",
            "0.27142045467597153\n",
            "0.27131565250542\n",
            "0.27121614961610224\n",
            "0.2711216752318783\n",
            "0.2710319726882111\n",
            "0.27094679866985993\n",
            "0.2708659224923467\n",
            "0.27078912542443645\n",
            "0.27071620004906954\n",
            "0.27064694966036357\n",
            "0.27058118769446887\n",
            "0.27051873719221364\n",
            "0.27045943029161656\n",
            "0.2704031077484732\n",
            "0.2703496184833437\n",
            "0.2702988191533793\n",
            "0.27025057374752787\n",
            "0.27020475320375376\n",
            "0.27016123504699446\n",
            "0.27011990304665934\n",
            "0.27008064689254996\n",
            "0.2700433618881527\n",
            "0.2700079486603194\n",
            "0.2699743128844123\n",
            "0.26994236502404656\n",
            "0.2699120200846158\n",
            "0.2698831973798355\n",
            "0.26985582031058525\n",
            "0.26982981615537244\n",
            "0.2698051158717815\n",
            "0.269781653908309\n",
            "0.2697593680260199\n",
            "0.269738199129494\n",
            "0.2697180911065604\n",
            "0.26969899067634884\n",
            "0.2696808472452108\n",
            "0.26966361277009143\n",
            "0.2696472416289546\n",
            "0.26963169049788716\n",
            "0.26961691823452877\n",
            "0.2696028857674927\n",
            "0.26958955599146295\n",
            "0.2695768936676689\n",
            "0.2695648653294557\n",
            "0.26955343919268426\n",
            "0.26954258507070783\n",
            "0.2695322742936884\n",
            "0.26952247963202575\n",
            "0.26951317522368656\n",
            "0.26950433650523176\n",
            "0.2694959401463503\n",
            "0.26948796398771885\n",
            "0.2694803869820156\n",
            "0.2694731891379264\n",
            "0.2694663514669886\n",
            "0.2694598559331278\n",
            "0.2694536854047491\n",
            "0.2694478236092517\n",
            "0.26944225508984365\n",
            "0.26943696516453874\n",
            "0.2694319398872243\n",
            "0.26942716601069433\n",
            "0.26942263095154795\n",
            "0.2694183227568581\n",
            "0.26941423007252074\n",
            "0.2694103421131987\n",
            "0.26940664863377983\n",
            "0.26940313990227227\n",
            "0.26939980667406394\n",
            "0.2693966401674776\n",
            "0.26939363204055533\n",
            "0.26939077436901043\n",
            "0.2693880596252881\n",
            "0.2693854806586783\n",
            "0.2693830306764278\n",
            "0.2693807032258015\n",
            "0.2693784921770441\n",
            "0.26937639170719796\n",
            "0.2693743962847327\n",
            "0.2693725006549467\n",
            "0.2693706998261012\n",
            "0.2693689890562495\n",
            "0.2693673638407279\n",
            "0.26936581990027303\n",
            "0.2693643531697357\n",
            "0.2693629597873604\n",
            "0.2693616360846024\n",
            "0.269360378576455\n",
            "0.2693591839522621\n",
            "0.26935804906699073\n",
            "0.26935697093294114\n",
            "0.2693559467118721\n",
            "0.26935497370752076\n",
            "0.26935404935849755\n",
            "0.2693531712315363\n",
            "0.26935233701508293\n",
            "0.2693515445132052\n",
            "0.2693507916398072\n",
            "0.26935007641313363\n",
            "0.2693493969505493\n",
            "0.2693487514635801\n",
            "0.26934813825320186\n",
            "0.26934755570536545\n",
            "0.26934700228674563\n",
            "0.26934647654070276\n",
            "0.26934597708344676\n",
            "0.26934550260039275\n",
            "0.2693450518426993\n",
            "0.26934462362397993\n",
            "0.26934421681717907\n",
            "0.26934383035160436\n",
            "0.2693434632101075\n",
            "0.26934311442640607\n",
            "0.26934278308253956\n",
            "0.26934246830645237\n",
            "0.2693421692696979\n",
            "0.26934188518525753\n",
            "0.2693416153054687\n",
            "0.26934135892005645\n",
            "0.2693411153542639\n",
            "0.2693408839670757\n",
            "0.26934066414953045\n",
            "0.2693404553231181\n",
            "0.2693402569382568\n",
            "0.26934006847284614\n",
            "0.2693398894308931\n",
            "0.26933971934120626\n",
            "0.26933955775615565\n",
            "0.2693394042504944\n",
            "0.2693392584202395\n",
            "0.26933911988160825\n",
            "0.2693389882700086\n",
            "0.2693388632390789\n",
            "0.26933874445977674\n",
            "0.26933863161951266\n",
            "0.26933852442132744\n",
            "0.26933842258311064\n",
            "0.26933832583685785\n",
            "0.2693382339279656\n",
            "0.26933814661456096\n",
            "0.2693380636668653\n",
            "0.2693379848665892\n",
            "0.26933791000635826\n",
            "0.26933783888916696\n",
            "0.2693377713278605\n",
            "0.2693377071446421\n",
            "0.269337646170605\n",
            "0.2693375882452881\n",
            "0.2693375332162535\n",
            "0.2693374809386853\n",
            "0.2693374312750088\n",
            "0.269337384094528\n",
            "0.2693373392730819\n",
            "0.2693372966927176\n",
            "0.26933725624138005\n",
            "0.26933721781261705\n",
            "0.26933718130529904\n",
            "0.26933714662335306\n",
            "0.26933711367550983\n",
            "0.26933708237506365\n",
            "0.26933705263964414\n",
            "0.2693370243909995\n",
            "0.2693369975547905\n",
            "0.2693369720603951\n",
            "0.26933694784072215\n",
            "0.2693369248320353\n",
            "0.269336902973785\n",
            "0.26933688220844915\n",
            "0.2693368624813818\n",
            "0.2693368437406693\n",
            "0.26933682593699376\n",
            "0.26933680902350315\n",
            "0.26933679295568813\n",
            "0.2693367776912648\n",
            "0.2693367631900634\n",
            "0.26933674941392277\n",
            "0.2693367363265898\n",
            "0.26933672389362395\n",
            "0.2693367120823069\n",
            "0.2693367008615561\n",
            "0.26933669020184314\n",
            "0.26933668007511613\n",
            "0.26933667045472576\n",
            "0.26933666131535505\n",
            "0.2693366526329531\n",
            "0.26933664438467136\n",
            "0.26933663654880385\n",
            "0.2693366291047298\n",
            "0.2693366220328595\n",
            "0.2693366153145828\n",
            "0.26933660893221995\n",
            "0.26933660286897526\n",
            "0.26933659710889285\n",
            "0.26933659163681456\n",
            "0.2693365864383402\n",
            "0.2693365814997895\n",
            "0.26933657680816636\n",
            "0.26933657235112435\n",
            "0.2693365681169344\n",
            "0.2693365640944539\n",
            "0.2693365602730974\n",
            "0.26933655664280864\n",
            "0.2693365531940343\n",
            "0.2693365499176987\n",
            "0.26933654680517977\n",
            "0.26933654384828676\n",
            "0.2693365410392384\n"
          ]
        },
        {
          "data": {
            "text/plain": [
              "0.2693365410392384"
            ]
          },
          "execution_count": 38,
          "metadata": {},
          "output_type": "execute_result"
        }
      ],
      "source": [
        "Newton(1.1)"
      ]
    },
    {
      "cell_type": "code",
      "execution_count": 39,
      "metadata": {
        "colab": {
          "base_uri": "https://localhost:8080/",
          "height": 0
        },
        "id": "Ixc8FEzkHo09",
        "outputId": "8b073ae7-70df-4cde-af3c-40b452950aaa"
      },
      "outputs": [
        {
          "data": {
            "text/plain": [
              "-1.9168028964067219e-07"
            ]
          },
          "execution_count": 39,
          "metadata": {},
          "output_type": "execute_result"
        }
      ],
      "source": [
        "#check if near zero\n",
        "Colbrook(0.2693365410392384)"
      ]
    },
    {
      "cell_type": "code",
      "execution_count": 49,
      "metadata": {
        "id": "ZSXhG9L6Pdv_"
      },
      "outputs": [],
      "source": [
        "def Newton(x):\n",
        "  fprime = Colbrook_prime(x)\n",
        "  xnew = x - Colbrook(x)/fprime*0.05\n",
        "  while abs(xnew - x)>1e-6:\n",
        "    x = xnew\n",
        "    fprime = Colbrook_prime(x)\n",
        "    xnew = x - Colbrook(x)/fprime*0.05\n",
        "  return xnew"
      ]
    },
    {
      "cell_type": "code",
      "execution_count": 50,
      "metadata": {
        "colab": {
          "base_uri": "https://localhost:8080/",
          "height": 0
        },
        "id": "ucgcsus2PtII",
        "outputId": "c22b1646-139c-487e-f477-03fd94d94d31"
      },
      "outputs": [
        {
          "data": {
            "text/plain": [
              "0.26935482904957475"
            ]
          },
          "execution_count": 50,
          "metadata": {},
          "output_type": "execute_result"
        }
      ],
      "source": [
        "Newton(10)"
      ]
    },
    {
      "cell_type": "markdown",
      "metadata": {
        "id": "nXilypbkMJHi"
      },
      "source": [
        "Check answer against fsolve"
      ]
    },
    {
      "cell_type": "code",
      "execution_count": 40,
      "metadata": {
        "id": "wfDadw-ZMISj"
      },
      "outputs": [],
      "source": [
        "from scipy.optimize import fsolve"
      ]
    },
    {
      "cell_type": "code",
      "execution_count": 41,
      "metadata": {
        "colab": {
          "base_uri": "https://localhost:8080/",
          "height": 0
        },
        "id": "m5XS4LBnINI7",
        "outputId": "a4fa0194-5839-49a5-b1e3-722dd729a668"
      },
      "outputs": [
        {
          "data": {
            "text/plain": [
              "array([0.26933649])"
            ]
          },
          "execution_count": 41,
          "metadata": {},
          "output_type": "execute_result"
        }
      ],
      "source": [
        "fsolve(Colbrook,0.3)"
      ]
    },
    {
      "cell_type": "code",
      "execution_count": 41,
      "metadata": {
        "id": "iwUVX2cLMWpm"
      },
      "outputs": [],
      "source": []
    }
  ],
  "metadata": {
    "colab": {
      "provenance": []
    },
    "kernelspec": {
      "display_name": "Python 3",
      "name": "python3"
    },
    "language_info": {
      "name": "python"
    }
  },
  "nbformat": 4,
  "nbformat_minor": 0
}
