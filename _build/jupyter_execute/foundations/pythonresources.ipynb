{
 "cells": [
  {
   "attachments": {},
   "cell_type": "markdown",
   "metadata": {},
   "source": [
    "# Python Resources"
   ]
  },
  {
   "attachments": {},
   "cell_type": "markdown",
   "metadata": {},
   "source": [
    "Here are a few resources for learning Python:"
   ]
  },
  {
   "attachments": {},
   "cell_type": "markdown",
   "metadata": {},
   "source": [
    "## Assignment operator vs. equality operator\n",
    "The assignment operator is `=`.  The equality operator is `==`.  So setting a value of 5 to a variable `x` is done with `x = 5`.  Checking if `x` is equal to 5 is done with `x == 5`. Below is example code:"
   ]
  },
  {
   "cell_type": "code",
   "execution_count": 1,
   "metadata": {},
   "outputs": [
    {
     "name": "stdout",
     "output_type": "stream",
     "text": [
      "The value of x is 5 and the result of x==5 is True\n"
     ]
    }
   ],
   "source": [
    "x=5 #set x equal to 5, variable to be assigned is on the left.\n",
    "print(f'The value of x is {x} and the result of x==5 is {x==5}')"
   ]
  },
  {
   "attachments": {},
   "cell_type": "markdown",
   "metadata": {},
   "source": [
    "## Data Types\n",
    "There are several data types in Python.  The most common are `int`, `float`, `str`, `bool`, and `NoneType`. `int` is an integer, `float` is a decimal number potentially, `str` is a string like 'a' or 'hello', `bool` is True or False, and `NoneType` is an empty value. The `type` function can be used to determine the type of a variable.  Below is example code:"
   ]
  },
  {
   "cell_type": "code",
   "execution_count": 2,
   "metadata": {},
   "outputs": [
    {
     "name": "stdout",
     "output_type": "stream",
     "text": [
      "a is 7, b is 7.97, c is Hello World, d is True, e is None\n"
     ]
    }
   ],
   "source": [
    "a = int(7.5); b = 7.97; c = 'Hello World'; d = True; e = None\n",
    "print(f'a is {a}, b is {b}, c is {c}, d is {d}, e is {e}')"
   ]
  },
  {
   "attachments": {},
   "cell_type": "markdown",
   "metadata": {},
   "source": [
    "Other common data types are given below"
   ]
  },
  {
   "attachments": {},
   "cell_type": "markdown",
   "metadata": {},
   "source": [
    "## Tuple\n",
    "What's a tuple? How is it different from a list?\n",
    "A tuple is a sequence of immutable Python objects. Tuples are sequences, just like lists. The differences between tuples and lists are, the tuples cannot be changed (immutable) unlike lists and tuples use parenthesis (althouth not required), whereas lists use square brackets. "
   ]
  },
  {
   "cell_type": "code",
   "execution_count": 3,
   "metadata": {},
   "outputs": [
    {
     "name": "stdout",
     "output_type": "stream",
     "text": [
      "The value of tup is (4, 5, 6) and tup[0] is 4\n",
      "The value of anothertup is (7, 8) and the type of anothertup is <class 'tuple'>\n",
      "(3, 4)\n"
     ]
    }
   ],
   "source": [
    "tup = (4,5) #set a variable name tup to a tuple\n",
    "tup = tup + (6,) # add another value to the tuple\n",
    "anothertup = 7,8 #create a tuple without parentheses\n",
    "print(f'The value of tup is {tup} and tup[0] is {tup[0]}')\n",
    "print(f'The value of anothertup is {anothertup} and the type of anothertup is {type(anothertup)}')\n",
    "#now we'll try and change the value of tup[0]\n",
    "tup = (3,4) #reassign the variable to a different tuple\n",
    "print(tup)"
   ]
  },
  {
   "attachments": {},
   "cell_type": "markdown",
   "metadata": {},
   "source": [
    "Note that the variable 'tup' can be reassigned to a different tuple but that once a tuple has been set, it cannot be changed.  This is different from a list which can be changed (as it's immutable). For example:"
   ]
  },
  {
   "cell_type": "code",
   "execution_count": 4,
   "metadata": {},
   "outputs": [
    {
     "ename": "TypeError",
     "evalue": "'tuple' object does not support item assignment",
     "output_type": "error",
     "traceback": [
      "\u001b[0;31m---------------------------------------------------------------------------\u001b[0m",
      "\u001b[0;31mTypeError\u001b[0m                                 Traceback (most recent call last)",
      "Cell \u001b[0;32mIn[4], line 1\u001b[0m\n\u001b[0;32m----> 1\u001b[0m \u001b[43mtup\u001b[49m\u001b[43m[\u001b[49m\u001b[38;5;241;43m0\u001b[39;49m\u001b[43m]\u001b[49m \u001b[38;5;241m=\u001b[39m \u001b[38;5;241m4\u001b[39m \u001b[38;5;66;03m#try and reassign the first element of the tuple to 4\u001b[39;00m\n",
      "\u001b[0;31mTypeError\u001b[0m: 'tuple' object does not support item assignment"
     ]
    }
   ],
   "source": [
    "tup[0] = 4 #try and reassign the first element of the tuple to 4"
   ]
  },
  {
   "attachments": {},
   "cell_type": "markdown",
   "metadata": {},
   "source": [
    "Tuples can be useful as in this example where we want to pass multiple values to a function. "
   ]
  },
  {
   "cell_type": "code",
   "execution_count": 12,
   "metadata": {},
   "outputs": [
    {
     "name": "stdout",
     "output_type": "stream",
     "text": [
      "The solution is 57.14 for L and 42.86 for V\n",
      "<class 'tuple'> <class 'tuple'>\n"
     ]
    }
   ],
   "source": [
    "from scipy.optimize import fsolve\n",
    "def equations(p):\n",
    "    L,V = p\n",
    "    return (100 - (L+V), 0.4*100-0.1*L-0.8*V) #each equation is set so that it is equal to zero, also the returned value is also a tuple\n",
    "\n",
    "L,V =  fsolve(equations, (1,1))\n",
    "print(f'The solution is {L:0.2f} for L and {V:0.2f} for V')\n",
    "print(type((L,V)),type((1,1)))"
   ]
  },
  {
   "attachments": {},
   "cell_type": "markdown",
   "metadata": {},
   "source": [
    "## Lists and Arrays\n",
    "Lists and arrays are similar in that they are both a series of values.  However, lists can contain different types of values.  Arrays are typically all the same type of value.  Arrays are also more efficient to use for calculations. "
   ]
  },
  {
   "cell_type": "code",
   "execution_count": 13,
   "metadata": {},
   "outputs": [
    {
     "name": "stdout",
     "output_type": "stream",
     "text": [
      "The numbers are [1, 2, 3, 4, 5, 6, 7, 8, 9, 10] and the type is <class 'list'>\n"
     ]
    }
   ],
   "source": [
    "#Here's a list of numbers\n",
    "numbers = [1,2,3,4,5,6,7,8,9,10]\n",
    "print(f'The numbers are {numbers} and the type is {type(numbers)}')"
   ]
  },
  {
   "cell_type": "code",
   "execution_count": 19,
   "metadata": {},
   "outputs": [
    {
     "name": "stdout",
     "output_type": "stream",
     "text": [
      "['hello', 3, 5, [1, 2, 3, 4, 5, 6, 7, 8, 9, 10], 3.14]\n"
     ]
    }
   ],
   "source": [
    "#Here is a list that has different items in it\n",
    "blist = ['hello',3,5,numbers,3.14]\n",
    "print(blist)"
   ]
  },
  {
   "cell_type": "code",
   "execution_count": 20,
   "metadata": {},
   "outputs": [
    {
     "name": "stdout",
     "output_type": "stream",
     "text": [
      "5\n"
     ]
    }
   ],
   "source": [
    "#Heres how to access the third item in the list\n",
    "print(blist[2]) #remember that python is zero indexed"
   ]
  },
  {
   "cell_type": "code",
   "execution_count": 21,
   "metadata": {},
   "outputs": [
    {
     "name": "stdout",
     "output_type": "stream",
     "text": [
      "3.14\n",
      "3.14\n"
     ]
    }
   ],
   "source": [
    "#Here are two ways to access the last item in the list\n",
    "print(blist[-1]) #index -1 is the last item in the list\n",
    "print(blist[len(blist)-1]) #len(blist) is the length of the list"
   ]
  },
  {
   "cell_type": "code",
   "execution_count": 22,
   "metadata": {},
   "outputs": [
    {
     "name": "stdout",
     "output_type": "stream",
     "text": [
      "The array is [ 1  2  3  4  5  6  7  8  9 10] and the type is <class 'numpy.ndarray'>\n"
     ]
    }
   ],
   "source": [
    "#an array is useful and different than a list as it is considered a vector\n",
    "#a list can easily be converted to an array\n",
    "import numpy as np\n",
    "arr = np.array(numbers)\n",
    "print(f'The array is {arr} and the type is {type(arr)}')"
   ]
  },
  {
   "attachments": {},
   "cell_type": "markdown",
   "metadata": {},
   "source": [
    "Some python operations can be done on a list but other operations cannot and are better done with an array. For example:"
   ]
  },
  {
   "cell_type": "code",
   "execution_count": 23,
   "metadata": {},
   "outputs": [
    {
     "name": "stdout",
     "output_type": "stream",
     "text": [
      "[1, 2, 3, 4, 5, 6]\n",
      "[5 7 9]\n"
     ]
    }
   ],
   "source": [
    "import numpy as np\n",
    "x = [1,2,3]\n",
    "y = [4,5,6]\n",
    "print(x + y)\n",
    "#versus\n",
    "print(np.array(x) + np.array(y))"
   ]
  },
  {
   "attachments": {},
   "cell_type": "markdown",
   "metadata": {},
   "source": [
    "## Dictionaries\n",
    "Dictionary is a collection of key:value pairs.  It is similar to a list, but you can access the values by the key instead of the index.  Here is an example:"
   ]
  },
  {
   "cell_type": "code",
   "execution_count": 24,
   "metadata": {},
   "outputs": [
    {
     "name": "stdout",
     "output_type": "stream",
     "text": [
      "1\n",
      "1\n"
     ]
    }
   ],
   "source": [
    "adictionary = {'a':1,'b':2,'c':3} #create a dictionary\n",
    "print(adictionary['a']) #access the value associated with the key 'a'\n",
    "#or \n",
    "print(adictionary.get('a')) #access the value associated with the key 'a'"
   ]
  },
  {
   "attachments": {},
   "cell_type": "markdown",
   "metadata": {},
   "source": [
    "Dictionaries can be very helpful when you have data and you want to access it by a key.  For example, if you have a list of students and you want to access their grades, you can use a dictionary with the student name as the key and the grade as the value. A dictionary can also be thought of as a database. They can easily be converted to a pandas dataframe."
   ]
  },
  {
   "attachments": {},
   "cell_type": "markdown",
   "metadata": {},
   "source": [
    "## Loops\n",
    "For and while loops are powerful to complete repetitive tasks.  Here are some examples:\n"
   ]
  },
  {
   "cell_type": "code",
   "execution_count": 25,
   "metadata": {},
   "outputs": [
    {
     "name": "stdout",
     "output_type": "stream",
     "text": [
      "[0, 1, 4, 9, 16]\n"
     ]
    }
   ],
   "source": [
    "a = [] #create an empty list\n",
    "for i in range(5): #a simple loop\n",
    "    a.append(i**2) #append the square of i to the list\n",
    "print(a)"
   ]
  },
  {
   "cell_type": "code",
   "execution_count": 26,
   "metadata": {},
   "outputs": [
    {
     "name": "stdout",
     "output_type": "stream",
     "text": [
      "[0, 1, 4, 9, 16, 0, 0, 0, 0, 0]\n"
     ]
    }
   ],
   "source": [
    "# a simple while loop\n",
    "while len(a) < 10:\n",
    "    a.append(0) #append 0 to the list until the length of the list is 10\n",
    "print(a)"
   ]
  },
  {
   "attachments": {},
   "cell_type": "markdown",
   "metadata": {},
   "source": [
    "### Inline loop to generate a list"
   ]
  },
  {
   "cell_type": "code",
   "execution_count": 27,
   "metadata": {},
   "outputs": [
    {
     "name": "stdout",
     "output_type": "stream",
     "text": [
      "[0, 2, 8, 18, 32, 0, 0, 0, 0, 0]\n"
     ]
    }
   ],
   "source": [
    "anotherlist = [each*2 for each in a] #an inline for loop\n",
    "print(anotherlist)"
   ]
  },
  {
   "attachments": {},
   "cell_type": "markdown",
   "metadata": {},
   "source": [
    "## Objects\n",
    "What's an object? An object is similar to a variable in that it holds a value or series of values called properties.  It can also have functions associated with it.  For example, a list is an object and it has functions associated with it like `append` and `sort`.  You will use objects all the time when you're using Python. Objects are defined by a class operator."
   ]
  },
  {
   "cell_type": "code",
   "execution_count": null,
   "metadata": {},
   "outputs": [
    {
     "name": "stdout",
     "output_type": "stream",
     "text": [
      "<class 'list'>\n",
      "6\n"
     ]
    }
   ],
   "source": [
    "#a list is an object (or instance) of its class\n",
    "print(type(alist))\n",
    "alist.append(6) #the append method is a function in the list class to append an element to the list\n",
    "print(alist[-1]) #access the last element of the list"
   ]
  },
  {
   "attachments": {},
   "cell_type": "markdown",
   "metadata": {},
   "source": [
    "I can also make my own objects by defining a class.  For example, I can make a class called `Person` and give it properties like `name` and `age`.  I can also give it functions like `birthday` and `greet`.  Here is an example:"
   ]
  },
  {
   "cell_type": "code",
   "execution_count": 32,
   "metadata": {},
   "outputs": [],
   "source": [
    "class person():\n",
    "    def __init__(self,name,age): #the __init__ method is called when the class is instantiated\n",
    "        self.name = name #self refers to the instance of the class\n",
    "        self.age = age"
   ]
  },
  {
   "cell_type": "code",
   "execution_count": 36,
   "metadata": {},
   "outputs": [
    {
     "name": "stdout",
     "output_type": "stream",
     "text": [
      "Hello, my name is Joe Bai and I'm 25.\n"
     ]
    }
   ],
   "source": [
    "joe = person('Joe Bai',25) #create an object (an instance)  of the person class\n",
    "print(f'Hello, my name is {joe.name} and I\\'m {joe.age}.') #access the name attribute of the joe object"
   ]
  },
  {
   "attachments": {},
   "cell_type": "markdown",
   "metadata": {},
   "source": [
    "I recommend using the [param](https://param.holoviz.org/index.html) package to define objects.  It's has many benefits."
   ]
  },
  {
   "cell_type": "code",
   "execution_count": 37,
   "metadata": {},
   "outputs": [
    {
     "name": "stdout",
     "output_type": "stream",
     "text": [
      "The density of air at 300 K and 101325 Pa is 1176.88 kg/m^3\n"
     ]
    }
   ],
   "source": [
    "import param\n",
    "class gas(param.Parameterized):\n",
    "    Mw = param.Number(0.02897, bounds=(0,None), doc='Molecular weight of the gas, kg/mol')\n",
    "    Rg = param.Number(8.314, bounds=(0,None), doc='Gas constant, J/mol/K',constant=True)\n",
    "    T = param.Number(300, bounds=(0,None), doc='Temperature of the gas, K')\n",
    "    P = param.Number(101325, bounds=(0,None), doc='Pressure of the gas, Pa')\n",
    "    def density(self):\n",
    "        return self.Mw*self.P/(self.Rg*self.T) #density in kg/m^3\n",
    "\n",
    "air = gas(Mw=28.97,T=300)\n",
    "print(f'The density of air at {air.T} K and {air.P} Pa is {air.density():0.2f} kg/m^3')"
   ]
  },
  {
   "cell_type": "code",
   "execution_count": 43,
   "metadata": {},
   "outputs": [
    {
     "name": "stdout",
     "output_type": "stream",
     "text": [
      "Molecular weight of the gas, kg/mol\n",
      "Help on Number in module param:\n",
      "\n",
      "    Molecular weight of the gas, kg/mol\n",
      "\n"
     ]
    }
   ],
   "source": [
    "#Here's a benefit of the param library, I can get the doc's on each parameter\n",
    "print(air.param.Mw.doc)\n",
    "help(air.param.Mw)"
   ]
  },
  {
   "attachments": {},
   "cell_type": "markdown",
   "metadata": {},
   "source": [
    "## Bits\n",
    "Bits are collections of 1s and 0s (or on versus off in a transistor).  They are the basis of all computer operations.  "
   ]
  },
  {
   "cell_type": "code",
   "execution_count": 47,
   "metadata": {},
   "outputs": [
    {
     "name": "stdout",
     "output_type": "stream",
     "text": [
      "001 is 2^2*1 + 2^1*0 + 2^0*1 = 5\n",
      "5\n"
     ]
    }
   ],
   "source": [
    "# '101' is \n",
    "print(f'001 is 2^2*1 + 2^1*0 + 2^0*1 = {2**2*1 + 2**1*0 + 2**0*1}')\n",
    "#or\n",
    "print(int('101',2))"
   ]
  },
  {
   "attachments": {},
   "cell_type": "markdown",
   "metadata": {},
   "source": [
    "Below is a code snippet to calculate the number of bits required to represent a number."
   ]
  },
  {
   "cell_type": "code",
   "execution_count": 51,
   "metadata": {},
   "outputs": [
    {
     "name": "stdout",
     "output_type": "stream",
     "text": [
      "8\n"
     ]
    }
   ],
   "source": [
    "# This calculates the number of bits a variable holds\n",
    "def bits(n):\n",
    "    return len(bin(n))-2 #bin(n) returns the binary representation of n as a string\n",
    "print(bits(255))"
   ]
  },
  {
   "cell_type": "code",
   "execution_count": null,
   "metadata": {},
   "outputs": [],
   "source": []
  }
 ],
 "metadata": {
  "kernelspec": {
   "display_name": "Python 3",
   "language": "python",
   "name": "python3"
  },
  "language_info": {
   "codemirror_mode": {
    "name": "ipython",
    "version": 3
   },
   "file_extension": ".py",
   "mimetype": "text/x-python",
   "name": "python",
   "nbconvert_exporter": "python",
   "pygments_lexer": "ipython3",
   "version": "3.9.16"
  }
 },
 "nbformat": 4,
 "nbformat_minor": 2
}