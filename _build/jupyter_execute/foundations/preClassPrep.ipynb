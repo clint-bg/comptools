{
 "cells": [
  {
   "attachments": {},
   "cell_type": "markdown",
   "metadata": {},
   "source": [
    "# Pre-course Preparation\n",
    "You have already largely been prepared for this course. I'm excited to work with you. Below are some additional items."
   ]
  },
  {
   "attachments": {},
   "cell_type": "markdown",
   "metadata": {},
   "source": [
    "## Pre-requisites\n",
    "Pre-requisites for this course are CH EN 170 and MATH 112, and 113. We'll use some of those principles you practiced previously including integration, differentiation, mass balances, and energy balances."
   ]
  },
  {
   "attachments": {},
   "cell_type": "markdown",
   "metadata": {},
   "source": [
    "## Basic Computer Skills\n",
    "This class will require the following basic understanding of computers and software. If you are not familiar with these topics, please review short videos or documentation on the internet to prepare.\n",
    "* How to open and use Microsoft Excel for basic arithmetic on your laptop or desktop computer.\n",
    "* What a file system is and how to navigatge to files you download or create. For example, if you save a copy of the Excel file with the basic calculations, you should be able to find it on your file system.\n",
    "* How to create and access folders on your file system. For example, you should be able to create a folder called `preclassprep` and save the Excel file in that folder. You should be able to find the folder and file on your file system viewer.\n",
    "* How to download and install software on your computer.\n",
    "* How to use the J:Drive on the CAEDM machines. You're J:Drive follows you as you login to different computers. The local drive does not."
   ]
  },
  {
   "attachments": {},
   "cell_type": "markdown",
   "metadata": {},
   "source": [
    "## Install the Below Recommended Software\n",
    "Please ensure you have access to Microsoft Excel and Python through the Anaconda distribution.\n",
    "### Microsoft Excel\n",
    "We will be using Microsoft Excel in this course. To use Excel, you'll need access to Microsoft Office. BYU provides access to Microsoft Office for free. You can download it [here](https://software.byu.edu/software/microsoft-office-365-proplus). You'll need to login with your BYU credentials.\n",
    "### Anaconda (Python)\n",
    "Python is a programming language and although you can download it without an IDE (Integrated Development Environment), I recommend you download and install [Anaconda](https://www.anaconda.com/products/individual). Anaconda is a distribution of Python that also includes an IDE called Jupyter Notebook (or Jupyter Lab). We'll use Jupyter Notebook/Lab to write and run Python code. It's also already on the CAEDM computers. \n",
    "\n",
    "You'll also need to install the following packages in Anaconda. You can do this by opening the Anaconda Prompt/terminal (under the Anaconda Navigator, click the play button on one of the environments and choose terminal) and typing the following commands:\n",
    "- pip install **numpy**\n",
    "- pip install **scipy**\n",
    "- pip install **matplotlib**\n",
    "- pip install **pandas**\n",
    "- pip install **sympy**\n",
    "- pip install **param**\n",
    "- pip install **cantera**\n",
    "- pip install **statsmodels**"
   ]
  },
  {
   "attachments": {},
   "cell_type": "markdown",
   "metadata": {},
   "source": [
    "## Engineering Help Resource\n",
    "Please also download the NCEES FE Reference Handbook. After registering on NCEES (same organization that administers the FE and PE exams), it is a free download [here](https://help.ncees.org/article/87-ncees-exam-reference-handbooks/). You'll use this handbook if you take the FE exam to complete your BS degree in Chemical Engineering.\n",
    "\n",
    "**CAEDM J:Drive**\n",
    "\n",
    "Everyone in the College of Engineering should have access to the CAEDM labs and a computer (you should already have a CAEDM login). As part of that login, you're given some hard drive space the stays with your account and can be used across the different CAEDM computers called your J: drive."
   ]
  },
  {
   "attachments": {},
   "cell_type": "markdown",
   "metadata": {},
   "source": [
    "## Other Computational Software \n",
    "The following software packages we'll use during the course of the class. All of them except for Cantara requires a paid license. The CAEDM computers are setup to distribute liceses to you as needed.\n",
    "\n",
    "Prior to class, please review the purposes of each of these software packages."
   ]
  },
  {
   "attachments": {},
   "cell_type": "markdown",
   "metadata": {},
   "source": [
    "### Cantera\n",
    "Cantera is a thermodynamics calculator that we'll use. It can be easily coupled with python.  I will give you more detailed instructions on how to use it later in the course."
   ]
  },
  {
   "attachments": {},
   "cell_type": "markdown",
   "metadata": {},
   "source": [
    "### Ansys Workbench\n",
    "Ansys Workebench is a finite element analysis software. It is available on the CAEDM machines. We'll use it to solve example heat transfer problems."
   ]
  },
  {
   "attachments": {},
   "cell_type": "markdown",
   "metadata": {},
   "source": [
    "### Aspen HYSYS\n",
    "Aspen HYSYS is a chemical process simulator. It is also available on the CAEDM machines. We'll complete an assignment using it to evaluate the effectiveness of basic chemical processes."
   ]
  },
  {
   "attachments": {},
   "cell_type": "markdown",
   "metadata": {},
   "source": [
    "### Solidworks\n",
    "Solidworks is widely used in industry to design and model parts. As a chemical engineer, you'll benefit immensely by being somewhat familiar wiht it. You'll use it to design a simple part and print it on a 3D printer. The software is available on the CAEDM machines."
   ]
  }
 ],
 "metadata": {
  "language_info": {
   "codemirror_mode": {
    "name": "ipython",
    "version": 3
   },
   "file_extension": ".py",
   "mimetype": "text/x-python",
   "name": "python",
   "nbconvert_exporter": "python",
   "pygments_lexer": "ipython3",
   "version": "3.9.16"
  }
 },
 "nbformat": 4,
 "nbformat_minor": 2
}