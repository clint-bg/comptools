{
 "cells": [
  {
   "attachments": {},
   "cell_type": "markdown",
   "metadata": {},
   "source": [
    "# Heat Transfer\n",
    "In this case-study, you'll evaluate multiple techniques to determine the rate of heat transfer down the length of a rod heated at one end. You'll be determining the temperature distribution in that rod as a function of time and distance using multiple techniques (assumed to be one-dimensional):\n",
    "- Experimental solution\n",
    "- Analytical solution\n",
    "- Two numerical solutions\n",
    "\n",
    "You'll need a few tools:\n",
    "- A basic understanding of the heat equation and an example solution,\n",
    "- Two numerical techniques to estimate the solution of the heat equation:\n",
    "    - finite element (manual)\n",
    "    - finite element (with software)\n",
    "- A safe, basic experimental setup available to you in your apartment with purchase of an item that's less than $10.\n",
    "    - With an ESP32 and one MAX6675 thermocouple amplifier with a thermocouple to collect temperature data from the experiment.\n",
    "    - A small diameter brass or steel rod (available from the TA or Instructor)"
   ]
  },
  {
   "attachments": {},
   "cell_type": "markdown",
   "metadata": {},
   "source": [
    "## 1-D Heat Equation\n",
    "The heat equation is a well-known partial differential equation that describes the distribution of heat in a given region over time subject to boundary conditions. We'll solve for the temperature as a function of position and time given a constant heat flux at one end of the rod. "
   ]
  },
  {
   "attachments": {},
   "cell_type": "markdown",
   "metadata": {},
   "source": [
    "### Analytical Solution"
   ]
  },
  {
   "attachments": {},
   "cell_type": "markdown",
   "metadata": {},
   "source": [
    "For a rod of length $L$ with a constant cross-sectional area $A$ and a constant thermal conductivity $k$, the heat equation is given by:\n",
    "\n",
    "$$\n",
    "\\begin{equation}\n",
    "\\frac{\\partial T}{\\partial t} = \\alpha \\frac{\\partial^2 T}{\\partial x^2}\n",
    "\\end{equation}\n",
    "$$\n",
    "\n",
    "where $\\alpha$ is the thermal diffusivity equal to $k/\\rho C_p$ where $k$ is the thermal conductivity, $\\rho$ is the density, and $C_p$ is the specific heat capacity. "
   ]
  },
  {
   "attachments": {},
   "cell_type": "markdown",
   "metadata": {},
   "source": [
    "The solution to that specific one-deminensional semi-infinite scenario for a constant heat flux is:\n",
    "\n",
    "$$\n",
    "\\begin{equation}\n",
    "T(x,t) = T_0 + \\frac{2q^{''}_o(\\alpha t/\\pi)^{0.5}}{k} \\exp \\left( \\frac{-x^2}{4 \\alpha t} \\right) - \\frac{q^{''}_o x}{k} erfc \\left( \\frac{x}{2 \\sqrt{\\alpha t}} \\right) \\tag{2}\n",
    "\\end{equation}\n",
    "$$\n",
    "\n",
    "where $T_0$ is the initial temperature of the rod, $q^{''}_o$ is the constant heat flux at the end of the rod, and $erfc$ is the complementary error function.\n",
    "\n",
    "The solution for a constant surface temperature is:\n",
    "\n",
    "$$\n",
    "\\begin{align}\n",
    "T(x,t) - T_i = (T_s - T_i)\\cdot \\left[1 - erf \\left( \\frac{x}{2\\sqrt{\\alpha t}} \\right) \\right] \\tag{3a}\\\\\n",
    "q^{''}_s(t) = \\frac{k(T_s - T_i)}{\\sqrt{\\pi \\alpha t}} \\tag{3b}\n",
    "\\end{align}\n",
    "$$\n",
    "    \n",
    "where $T_s$ is the surface temperature, $T_i$ is the initial temperature, and $q^{''}_s$ is the heat flux at the surface."
   ]
  },
  {
   "attachments": {},
   "cell_type": "markdown",
   "metadata": {},
   "source": [
    "**Task 1 Description**:\n",
    "Define two functions such that you can evaluate the temperature distribution in a rod as a function of time and distance using the above equations. The first function should be for a constant heat flux and the second function should be for a constant surface temperature. The material properties are not inputs to the function but are constants defined for tool steel or brass. Those two functions are then used to evaluate the temperature distribution in a rod as a function of time and distance for the two cases.\n",
    "\n",
    "There should be two plots with each plot having multiple curves for the temperature as a function of distance for at least 3 but no more than 8 different times up to 10 seconds. The two plots should have a title, axis labels, and a legend."
   ]
  },
  {
   "attachments": {},
   "cell_type": "markdown",
   "metadata": {},
   "source": [
    "### Numerical Solution - Manual"
   ]
  },
  {
   "attachments": {},
   "cell_type": "markdown",
   "metadata": {},
   "source": [
    "The numerical solution treats a finite section of the rod to have a constant temperature and properties. Discretization of Equation 1 for a similar 1-D scenario results in the following equations where 4b is for the last node furthest from the heat source and 4a is for all other nodes: \n",
    "\n",
    "$$\n",
    "\\begin{align}\n",
    "T[i+1,j] = T[i,j] + \\alpha\\cdot\\delta t/\\delta x^2\\cdot(T[i,j+1]-2\\cdot T[i,j]+T[i,j-1]) \\tag{4a} \\\\\n",
    "T[i+1,j] = T[i,j] + \\alpha\\cdot\\delta t/\\delta x^2\\cdot(T[i,j-1]-2\\cdot T[i,j]+T[i,j-1]) \\tag{4b}\n",
    "\\end{align}\n",
    "$$\n",
    "\n",
    "where $i$ is the time index and $j$ is the spatial index. The initial condition is $T[0,j] = T_0$ for all $j$ and the boundary condition is $T[i,0] = T_0$ for all $i$."
   ]
  },
  {
   "attachments": {},
   "cell_type": "markdown",
   "metadata": {},
   "source": [
    "**Task 2 Description**: Plot the temperature distribution in a rod as a function of time and distance using the above 1-D numerical equations. Use the same properties as in Task 1. The plots should have a title, axis labels, and a legend. Compare the numberical result to the analytical solution as a function of time for a given position."
   ]
  },
  {
   "attachments": {},
   "cell_type": "markdown",
   "metadata": {},
   "source": [
    "Note that the above analytical solution is assuming an infinitely long rod. Therefore, make sure the numerical solution has a sufficiently long rod (typically twice as long as the distance where the temperature changers are occuring). "
   ]
  },
  {
   "attachments": {},
   "cell_type": "markdown",
   "metadata": {},
   "source": [
    "### Comparison between the above two methods"
   ]
  },
  {
   "attachments": {},
   "cell_type": "markdown",
   "metadata": {},
   "source": [
    "**Task 3 Description**: Compare the analytical and numerical result as a function of time for a given position along the rod. The plots should have a title, axis labels, and a legend. Also include an estimate of some measure of accuracy comparison whether that's an r-squared value or other (like a mean absolute percent error)."
   ]
  },
  {
   "attachments": {},
   "cell_type": "markdown",
   "metadata": {},
   "source": [
    "### Use of Software to Solve the Heat Equation: Ansys Workbench\n",
    "**Task 4** Use Ansys Workbench to obtain a plot of the temperature in the rod for one of the two above boundary conditions."
   ]
  },
  {
   "attachments": {},
   "cell_type": "markdown",
   "metadata": {},
   "source": [
    "### Experimental results"
   ]
  },
  {
   "attachments": {},
   "cell_type": "markdown",
   "metadata": {},
   "source": [
    "**Task 5** Obtain experimental results with the ESP32, MAX6675, thermocouple, small diameter rod, and lighter. A rod is fitted with one thermocouple at 5-10 cm away from the flame. The rod is safely heated with the lighter at one end. The rod can be supported on a stand. The temperature is recorded with an ESP32 and the data is sent to a phone via bluetooth and then saved and plotted. Results are compared to the analytical and numerical solutions.\n",
    "\n",
    "Example results are below."
   ]
  },
  {
   "cell_type": "code",
   "execution_count": 1,
   "metadata": {},
   "outputs": [
    {
     "data": {
      "text/html": [
       "<div>\n",
       "<style scoped>\n",
       "    .dataframe tbody tr th:only-of-type {\n",
       "        vertical-align: middle;\n",
       "    }\n",
       "\n",
       "    .dataframe tbody tr th {\n",
       "        vertical-align: top;\n",
       "    }\n",
       "\n",
       "    .dataframe thead th {\n",
       "        text-align: right;\n",
       "    }\n",
       "</style>\n",
       "<table border=\"1\" class=\"dataframe\">\n",
       "  <thead>\n",
       "    <tr style=\"text-align: right;\">\n",
       "      <th></th>\n",
       "      <th>Small Thermocouple (C)</th>\n",
       "      <th>Timestamp (seconds)</th>\n",
       "    </tr>\n",
       "  </thead>\n",
       "  <tbody>\n",
       "    <tr>\n",
       "      <th>827</th>\n",
       "      <td>51.46</td>\n",
       "      <td>447.12</td>\n",
       "    </tr>\n",
       "    <tr>\n",
       "      <th>828</th>\n",
       "      <td>51.46</td>\n",
       "      <td>447.32</td>\n",
       "    </tr>\n",
       "    <tr>\n",
       "      <th>829</th>\n",
       "      <td>51.20</td>\n",
       "      <td>447.52</td>\n",
       "    </tr>\n",
       "    <tr>\n",
       "      <th>830</th>\n",
       "      <td>51.20</td>\n",
       "      <td>447.72</td>\n",
       "    </tr>\n",
       "    <tr>\n",
       "      <th>831</th>\n",
       "      <td>50.95</td>\n",
       "      <td>447.92</td>\n",
       "    </tr>\n",
       "  </tbody>\n",
       "</table>\n",
       "</div>"
      ],
      "text/plain": [
       "     Small Thermocouple (C)    Timestamp (seconds)\n",
       "827                    51.46                447.12\n",
       "828                    51.46                447.32\n",
       "829                    51.20                447.52\n",
       "830                    51.20                447.72\n",
       "831                    50.95                447.92"
      ]
     },
     "execution_count": 1,
     "metadata": {},
     "output_type": "execute_result"
    }
   ],
   "source": [
    "#import file from folder\n",
    "import matplotlib.pyplot as plt\n",
    "import pandas as pd\n",
    "exdata = pd.read_csv('/Users/clintguymon/Downloads/brassheatingrod.txt', header=3)[:-1].astype(float)\n",
    "exdata.tail()"
   ]
  },
  {
   "cell_type": "code",
   "execution_count": 2,
   "metadata": {},
   "outputs": [
    {
     "data": {
      "image/png": "[encoded data removed]",
      "text/plain": [
       "<Figure size 640x480 with 1 Axes>"
      ]
     },
     "metadata": {},
     "output_type": "display_data"
    }
   ],
   "source": [
    "plt.plot(exdata[exdata.columns[1]]-276,exdata[exdata.columns[0]])\n",
    "plt.plot()\n",
    "plt.xlabel('Time (s)')\n",
    "plt.ylabel('Temperature (C)')\n",
    "plt.show()\n",
    "#title='Brass Heating Rod', grid=True, legend=False)"
   ]
  },
  {
   "cell_type": "markdown",
   "metadata": {},
   "source": [
    "### Task 5: Document your Experience\n",
    "Document your experience with the above tasks in a write-up."
   ]
  },
  {
   "attachments": {},
   "cell_type": "markdown",
   "metadata": {},
   "source": []
  }
 ],
 "metadata": {
  "kernelspec": {
   "display_name": "gekko",
   "language": "python",
   "name": "python3"
  },
  "language_info": {
   "codemirror_mode": {
    "name": "ipython",
    "version": 3
   },
   "file_extension": ".py",
   "mimetype": "text/x-python",
   "name": "python",
   "nbconvert_exporter": "python",
   "pygments_lexer": "ipython3",
   "version": "3.9.16"
  }
 },
 "nbformat": 4,
 "nbformat_minor": 2
}