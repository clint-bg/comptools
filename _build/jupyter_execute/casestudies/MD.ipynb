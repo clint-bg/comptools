{
 "cells": [
  {
   "attachments": {},
   "cell_type": "markdown",
   "metadata": {},
   "source": [
    "# Molecular Dynamics\n",
    "In this case study, you'll simulate and measure the experimental response of confined water beads. You'll simulate a small group of interacting particles or beads in a fluid and then you'll measure a similar experimental scenario."
   ]
  },
  {
   "cell_type": "markdown",
   "metadata": {},
   "source": [
    "This exercise has application to batteries and other packing scenarios. Some chemicals or pieces can swell in their packaging. Understanding that swelling and it's effects are often necessary or otherwise helpful."
   ]
  },
  {
   "cell_type": "markdown",
   "metadata": {},
   "source": [
    "## Task 1: Computer Modeling of Interacting Particles"
   ]
  },
  {
   "cell_type": "markdown",
   "metadata": {},
   "source": [
    "You will modify the code found here:\n",
    "[Link to 2D Simulation](https://colab.research.google.com/drive/1Mdcx_t0x8_VoIJI7bov4fF3ijv67NZcj?usp=sharing).\n",
    "\n",
    "The intent is to program a 3-D version of the 2-D code found at the link above. Instead of a square, the confining area would be a cylinder. You'll have to figure out the forces from the walls (instead of left and right, it will be one wall which would be simpler). The forces from the floor and the top will be the same. "
   ]
  },
  {
   "cell_type": "markdown",
   "metadata": {},
   "source": [
    "## Task 2: Experimental\n",
    "You'll measure with calipers, the diameter of 3-4 water beads as a function of time as they are immersed. You'll also measure the volume inside a graduated cylinder with a given force on a plunger that the beads occupy."
   ]
  },
  {
   "cell_type": "markdown",
   "metadata": {},
   "source": [
    "## Task 3: Complete the Documentation\n",
    "Document your experience with the above two tasks in a writeup according to the case study documentation."
   ]
  },
  {
   "cell_type": "code",
   "execution_count": null,
   "metadata": {},
   "outputs": [],
   "source": []
  }
 ],
 "metadata": {
  "language_info": {
   "codemirror_mode": {
    "name": "ipython",
    "version": 3
   },
   "file_extension": ".py",
   "mimetype": "text/x-python",
   "name": "python",
   "nbconvert_exporter": "python",
   "pygments_lexer": "ipython3",
   "version": "3.9.16"
  }
 },
 "nbformat": 4,
 "nbformat_minor": 2
}