{
 "cells": [
  {
   "attachments": {},
   "cell_type": "markdown",
   "metadata": {},
   "source": [
    "# Molecular Dynamics\n",
    "In this case study, you'll simulate and measure the experimental response of confined water beads. You'll simulate a small group of interacting particles or beads in a fluid and then you'll measure a similar experimental scenario."
   ]
  },
  {
   "cell_type": "markdown",
   "metadata": {},
   "source": [
    "This exercise has application to batteries and other packing scenarios. Some chemicals or pieces can swell in their packaging. Understanding that swelling and it's effects are often necessary or otherwise helpful."
   ]
  },
  {
   "cell_type": "markdown",
   "metadata": {},
   "source": [
    "## Task 1: Computer Modeling of Interacting Particles"
   ]
  },
  {
   "cell_type": "markdown",
   "metadata": {},
   "source": [
    "You will modify the code found here:\n",
    "[Link to 2D Simulation](https://colab.research.google.com/drive/1Mdcx_t0x8_VoIJI7bov4fF3ijv67NZcj?usp=sharing).\n",
    "\n",
    "The intent is to program a 3-D version of the 2-D code found at the link above. Instead of a square, the confining area would be a cylinder. You'll have to figure out the forces from the walls (instead of left and right, it will be one wall which would be simpler). The forces from the floor and the top will be the same. "
   ]
  },
  {
   "cell_type": "markdown",
   "metadata": {},
   "source": [
    "## Task 2: Experimental\n",
    "You'll measure with calipers, the diameter of 3-4 water beads as a function of time as they are immersed. You'll also measure the volume inside a graduated cylinder with a given force on a plunger that the beads occupy. You'll have to design the plunger with SolidWorks and then 3D print the plunger."
   ]
  },
  {
   "cell_type": "markdown",
   "metadata": {},
   "source": [
    "## Task 3: Complete the Documentation\n",
    "Document your experience with the above two tasks in a writeup according to the case study documentation."
   ]
  },
  {
   "cell_type": "markdown",
   "metadata": {},
   "source": [
    "## MD Project Rubric\n",
    "| Task | Points | Some criteria |\n",
    "| --- | --- | --- |\n",
    "| Code Development | 15 | Existing code is used and further developed to estimate the relationship or effect of changing diameter on the volume of the confined scenario in a 3D geometry. |\n",
    "| Experimental Data | 10 | Experimental data is collected where the diameter of the spheres are measured at different times after exposure to water. Also, data is collected and at those same corresponding times of the volume of the swelling spheres inside a confined scenario in a graduated cylinder. |\n",
    "| 3D Print | 5 | A 3D print of the plunger to confine the spheres is generated in SolidWorks and then printed and used.|\n",
    "| Comparison | 5 | A plot showing the experimental and modeling result for the normalized cube of the radius (or diameter) is plotted against the normalized volume. In other words, the cubed radius divided by the cubed initial radius is plotted versus the volume divided by the initial volume. |\n",
    "| Writeup | 25 | Documentation is complete according to the [Case Study Documentation](https://clint-bg.github.io/comptools/casestudies/casestudydocs.html). It's important to show evidence (plot or plots) of the modeling and experimental results and discuss the implications. |\n",
    "| Total | 60 |   |\n",
    "\n",
    "Note the intent is to gain experience with the modeling and experimental process and to compare those results. The modeling and experimental results may not be perfect. The modeling results may not be fully completed and you could still get full credit. "
   ]
  },
  {
   "cell_type": "code",
   "execution_count": null,
   "metadata": {},
   "outputs": [],
   "source": []
  }
 ],
 "metadata": {
  "language_info": {
   "codemirror_mode": {
    "name": "ipython",
    "version": 3
   },
   "file_extension": ".py",
   "mimetype": "text/x-python",
   "name": "python",
   "nbconvert_exporter": "python",
   "pygments_lexer": "ipython3",
   "version": "3.9.16"
  }
 },
 "nbformat": 4,
 "nbformat_minor": 2
}