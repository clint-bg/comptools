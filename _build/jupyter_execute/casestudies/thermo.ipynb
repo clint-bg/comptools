{
 "cells": [
  {
   "cell_type": "markdown",
   "metadata": {},
   "source": [
    "# Thermodynamics\n",
    "You'll measure and model the behavior of the temperature and mass (using a scale) of a venting canned air duster. Below are the equations you'll need to solve to estimate the temperature as a function of time and the mass loss as a function of time. You'll then compare your model to the data you collect by tying a rubber band around the trigger and measuring the temperature and mass loss as a function of time with the temperature probe and scale."
   ]
  },
  {
   "cell_type": "markdown",
   "metadata": {
    "id": "PmVBrJP0qSky"
   },
   "source": [
    "![CleanDr.jpg](data:image/jpeg;base64,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)"
   ]
  },
  {
   "cell_type": "markdown",
   "metadata": {},
   "source": [
    "## Task 1: Review the below code"
   ]
  },
  {
   "cell_type": "markdown",
   "metadata": {
    "id": "O_s1-h99p1z5"
   },
   "source": [
    "### First define model parameters\n",
    "Found online by searching for property data for difluoroethane plus the parameters of the can. Estimated the heat and mass transfer coefficients."
   ]
  },
  {
   "cell_type": "code",
   "execution_count": 1,
   "metadata": {
    "id": "gPctOEAehV_l"
   },
   "outputs": [],
   "source": [
    "#import needed packages\n",
    "import numpy as np\n",
    "from tqdm import tqdm\n",
    "import matplotlib.pyplot as plt  \n",
    "import pandas as pd"
   ]
  },
  {
   "cell_type": "code",
   "execution_count": 2,
   "metadata": {
    "id": "icCbRG-hIv8i"
   },
   "outputs": [],
   "source": [
    "#model parameters for the venting of difluoroethane from a compressed container (all SI units)\n",
    "lcan = 0.15 #150mm tall canister\n",
    "dcan = 0.065 #diameter of can\n",
    "harea = np.pi*lcan*dcan #150mm tall canister 65 mm diameter\n",
    "marea = np.pi/4*dcan**2\n",
    "Tsurr = 295 #surrounding temperature, K\n",
    "Tref = 273 #reference temperature, K\n",
    "factor = 0.9 #vent factor\n",
    "gasConstant = 8.314 #J/mol/K\n",
    "downstreamPressure = 12.2/14.5*1e5 #Pa, atmospheric pressure at test elevation approximately\n",
    "gamma = 1.14 #ratio of specific heats of the gas\n",
    "molecularWeight = 0.06605 #kg/mol\n",
    "density = 2700 #kg/m3\n",
    "CvVap = 59.58/gamma #J/mol/K, constant volume heat capacity\n",
    "origmass = 10*0.0283495 #kg, amount initially present in the canister\n",
    "Vol = lcan*np.pi/4*dcan**2#volume of the canister\n",
    "#tuneable parameters\n",
    "area = np.pi/4*0.0015**2 #orifice area for escaping gas,m2"
   ]
  },
  {
   "cell_type": "code",
   "execution_count": 3,
   "metadata": {
    "colab": {
     "base_uri": "https://localhost:8080/"
    },
    "id": "BbsqC1UagJKj",
    "outputId": "861923da-268c-4d60-f7e0-0843c5ec65d9"
   },
   "outputs": [
    {
     "data": {
      "text/plain": [
       "0.283495"
      ]
     },
     "execution_count": 3,
     "metadata": {},
     "output_type": "execute_result"
    }
   ],
   "source": [
    "origmass"
   ]
  },
  {
   "cell_type": "markdown",
   "metadata": {
    "id": "AzmO80RCs-5J"
   },
   "source": [
    "### Now specify the functions needed: \n",
    "- Venting through an orifice (mach number needed), \n",
    "- Saturated vapor pressure, \n",
    "- Equation of State,\n",
    "- Derivatives of moles and temperature (based on energy and mole balances)"
   ]
  },
  {
   "cell_type": "code",
   "execution_count": 4,
   "metadata": {
    "id": "mfuC-v7CQaKk"
   },
   "outputs": [],
   "source": [
    "#specify mach number function\n",
    "def mach(upstreamPressure):\n",
    "  tau = 500\n",
    "  transition = np.tanh((upstreamPressure-downstreamPressure)/tau)/2+0.5\n",
    "  ratio = transition*upstreamPressure/downstreamPressure + (1-transition)*downstreamPressure/upstreamPressure\n",
    "  multiplier = 1*transition-1*(1-transition)\n",
    "  mach_abs=np.sqrt(2/(gamma-1)*(ratio**((gamma-1)/gamma)-1))\n",
    "  return min(1.,mach_abs)*multiplier\n",
    "\n",
    "def dndtvent(pressure,temperature): #rate of change of moles from a pressurized scenario\n",
    "  #calculate the mach number\n",
    "  machno = mach(pressure)\n",
    "  if downstreamPressure>pressure:\n",
    "    drivingPressure = downstreamPressure\n",
    "  else:\n",
    "    drivingPressure = pressure\n",
    "  dndt = drivingPressure*area*factor*np.sqrt(gamma/(gasConstant*temperature*molecularWeight))*machno*(1+(gamma-1)/2*machno**2)**((gamma+1)/(2-2*gamma))\n",
    "  return dndt\n",
    "\n",
    "def psat(temperature): #saturated vapor pressure using Antione's equation\n",
    "  constants = [4.23406,896.171,-34.714]\n",
    "  return (10**(constants[0]-(constants[1]/(temperature+constants[2]))))*1e5\n",
    "  \n",
    "def pressure(molesLiq,molesVap,tempVap): #gas pressure from eos, assumed ideal\n",
    "  return molesVap*gasConstant*tempVap/(Vol-molesLiq*molecularWeight/density) "
   ]
  },
  {
   "cell_type": "markdown",
   "metadata": {
    "id": "Eg1I4eLrJcHL"
   },
   "source": [
    "### Include in the model the two phases with heat transfer\n",
    "- Additional parameters\n",
    "- Heat transfer\n",
    "- Psat and mass transfer functions\n",
    "- Derivatives of the moles and temperature are evaluated for each phase"
   ]
  },
  {
   "cell_type": "code",
   "execution_count": 5,
   "metadata": {
    "id": "sVTWitsLXF7M"
   },
   "outputs": [],
   "source": [
    "hvap = 22000 #heat of vaporation, J/mol\n",
    "CvLiq = 118.4 #Cp,J/mol/K, assuming the constant volume heat capcity is very close to this\n",
    "#tuneable parameters\n",
    "hcv = 40 #convective heat transfer coefficient, J/m2/K\n",
    "km = 0.05 #mass transfer coefficient, m/s"
   ]
  },
  {
   "cell_type": "code",
   "execution_count": 6,
   "metadata": {
    "id": "kLsTRCk5WlUo"
   },
   "outputs": [],
   "source": [
    "#include heat transfer\n",
    "def heatIn(temperature): #heat into the volume\n",
    "  return harea/2*hcv*(Tsurr-temperature) #1/2 factor for half the area for each of liq or vap\n",
    "\n",
    "#include mass transfer between the liquid and the gas\n",
    "def noutLiq(molesLiq,molesVap,tempLiq,tempVap): #mass transfer from the liquid surface\n",
    "  return km*marea*(psat(tempLiq)/(gasConstant*tempLiq)-pressure(molesLiq,molesVap,tempVap)/(gasConstant*tempVap))"
   ]
  },
  {
   "cell_type": "code",
   "execution_count": 7,
   "metadata": {
    "id": "7cKD3ty8KvNb"
   },
   "outputs": [],
   "source": [
    "def derivatives(molesLiq,molesVap,tempLiq,tempVap):\n",
    "  noutL = noutLiq(molesLiq,molesVap,tempLiq,tempVap); noutV = dndtvent(pressure(molesLiq,molesVap,tempVap),tempVap)\n",
    "  dndtLiq = -noutL\n",
    "  dndtVap = noutL-noutV\n",
    "  dTdtLiq = (heatIn(tempLiq)-noutL*hvap+noutL*CvLiq*(tempLiq-Tref))/(molesLiq*CvLiq)\n",
    "  dTdtVap = ((noutV-noutL)*CvVap*(tempVap-Tref)+noutL*CvVap*gamma*(tempLiq-Tref)-noutV*CvVap*gamma*(tempVap-Tref)+heatIn(tempVap))/(molesVap*CvVap)\n",
    "  return [dndtLiq,dndtVap,dTdtLiq,dTdtVap]"
   ]
  },
  {
   "cell_type": "markdown",
   "metadata": {},
   "source": [
    "## Task 2: Complete the simulation with the above functions \n",
    "You'll obtain the simulated temperature and mass of the liquid in the can as a function of time. You'll add an integration step to obtain the variables from their derivatives."
   ]
  },
  {
   "cell_type": "markdown",
   "metadata": {},
   "source": [
    "## Task 3: Obtain Experimental Data \n",
    "Use the ESP32 and K-type Thermocouple and a scale to measure the temperature and mass as the difluoroethane vents.\n",
    "\n",
    "You can review the safety of such a procedure by reviewing this document: [Safety calculations](https://github.com/clint-bg/demos/blob/main/ventingVapor/difluoroethane_concentration.ipynb)"
   ]
  },
  {
   "cell_type": "markdown",
   "metadata": {},
   "source": [
    "## Task 4: Aspen Plus Simulation\n",
    "Simulate with Aspen Plus a separator with difluoroethane (CAS 75-37-6) where the inlet pressure is 85 kPa and the vapor fraction is 0. Estimate the heat transferred to the can (separator) such that the mass loss mimics the mass loss rate from the experiment. "
   ]
  },
  {
   "cell_type": "markdown",
   "metadata": {},
   "source": [
    "## Task 5: Complete the Documentation\n",
    "Document your experience with the above tasks in a writeup according to the case study documentation."
   ]
  },
  {
   "cell_type": "code",
   "execution_count": null,
   "metadata": {
    "id": "_c3ebcOicw3y"
   },
   "outputs": [],
   "source": []
  }
 ],
 "metadata": {
  "colab": {
   "collapsed_sections": [],
   "name": "difluoroethane pressurized venting RK4.ipynb",
   "provenance": []
  },
  "kernelspec": {
   "display_name": "Python 3",
   "name": "python3"
  },
  "language_info": {
   "codemirror_mode": {
    "name": "ipython",
    "version": 3
   },
   "file_extension": ".py",
   "mimetype": "text/x-python",
   "name": "python",
   "nbconvert_exporter": "python",
   "pygments_lexer": "ipython3",
   "version": "3.9.16"
  }
 },
 "nbformat": 4,
 "nbformat_minor": 0
}