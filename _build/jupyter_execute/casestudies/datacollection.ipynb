{
 "cells": [
  {
   "cell_type": "markdown",
   "id": "a5649df8",
   "metadata": {},
   "source": [
    "# Data Collection"
   ]
  },
  {
   "cell_type": "markdown",
   "id": "e77af70c",
   "metadata": {},
   "source": [
    "For the case studies, specifically the thermo and heat transfer case studies, you will need to collect temperature data. There are a number of ways to do that. Using an ESP32 microcontroller with a MAX6675 thermocouple amplifier is one way that is very affordable and effective. Below is a short, and hopefully effective, tutorial on how to use the ESP32 and MAX6675 to collect temperature data."
   ]
  },
  {
   "cell_type": "markdown",
   "id": "2fe0da74",
   "metadata": {},
   "source": [
    "## Data Collection Steps\n",
    "- Obtain a microcontroller that you can connect to your computer\n",
    "    - Obtain an ESP32 (we have used the wroom version)\n",
    "    - Obtain a MAX6675 thermocouple amplifier\n",
    "    - Obtain a K-type thermocouple\n",
    "- Connect the Hardware\n",
    "    - EXP32 to the MAX6675 (see the pinout details below)\n",
    "        - 3.3V to VCC\n",
    "        - GND to GND\n",
    "        - G5 to SCK\n",
    "        - G23 to CS\n",
    "        - G19 to SO\n",
    "    - Connect the MAX6675 to the thermocouple\n",
    "        - Yellow to + (positive)\n",
    "        - Red to - (negative)\n",
    "        - Remove the plastic coating from the thermocouple wires and twist the wires together for your bead\n",
    "- Setup the Arduino IDE to work with the ESP32\n",
    "    - Follow the video instructions outlined here: https://www.youtube.com/watch?v=3n8BkPTYzhU \n",
    "        - Download and install the Arduino IDE, etc... as described below\n",
    "        - See also the Random Nerd Tutorial: https://randomnerdtutorials.com/esp32-k-type-thermocouple-max6675/\n",
    "        - Copy the code snippet from the Random Nerd Tutorial into the Arduino IDE\n",
    "        - Make any modifications to the code as needed\n",
    "        - Example code for bluetooth can be found here: https://github.com/clint-bg/comptools/blob/main/casestudies/support/Final_ESP32_2Temp_Pressure_c1.ino \n",
    "- Collect Data\n",
    "    - Upload the code to the ESP32\n",
    "    - Open the Serial Monitor in the Arduino IDE\n",
    "    - Observe the temperature readings\n",
    "    - Use puTTY to get data into a file: \n",
    "        - These videos may prove helpful: https://www.youtube.com/watch?v=p6S41Bt8-Pc and https://www.youtube.com/shorts/w0Z8k4Y83n4 \n",
    "    - Or Microsoft's Data Streamer: https://support.microsoft.com/en-us/office/enable-the-data-streamer-add-in-70052b28-3b00-41e7-8ab6-8a9f142dffeb \n"
   ]
  },
  {
   "cell_type": "markdown",
   "id": "82281a20",
   "metadata": {},
   "source": [
    "## Trouble Shooting (Windows)\n",
    "If you're having trouble getting the ESP32 to work with the Arduino IDE, you may need a Windows driver. The driver can be found here: https://www.silabs.com/developers/usb-to-uart-bridge-vcp-drivers?tab=downloads:\n",
    "- Choose the CP210x Universal Windows Driver and it should download for you\n",
    "- Extract all of the downloaded folder\n",
    "- Install the driver by double clicking the Update Parameters file (or equivalent)\n",
    "- Plug in your ESP32 to your computers USB port\n",
    "- Open your device manager and find the USB COM ports and you will likely see the CP210x device listed, right click on that and choose update driver and then browse to the downloads folder (choose the downloads folder) and then click next and it should install the driver for you\n",
    "- You may need to restart your computer after this is done\n",
    "- Now you should be able to see the COM port in the Arduino IDE and upload code to the ESP32"
   ]
  },
  {
   "cell_type": "code",
   "execution_count": null,
   "id": "b52a43a8",
   "metadata": {},
   "outputs": [],
   "source": []
  }
 ],
 "metadata": {
  "kernelspec": {
   "display_name": "Python 3 (ipykernel)",
   "language": "python",
   "name": "python3"
  },
  "language_info": {
   "codemirror_mode": {
    "name": "ipython",
    "version": 3
   },
   "file_extension": ".py",
   "mimetype": "text/x-python",
   "name": "python",
   "nbconvert_exporter": "python",
   "pygments_lexer": "ipython3",
   "version": "3.9.16"
  }
 },
 "nbformat": 4,
 "nbformat_minor": 5
}