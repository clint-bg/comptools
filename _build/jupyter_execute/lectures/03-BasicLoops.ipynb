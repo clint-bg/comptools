{
 "cells": [
  {
   "cell_type": "markdown",
   "id": "406c2102",
   "metadata": {},
   "source": [
    "# 03 - Basic Loop \n",
    "We love loops because they go round and round. Seriously, loops help us complete repetitive tasks. "
   ]
  },
  {
   "cell_type": "markdown",
   "id": "c2c63d79",
   "metadata": {},
   "source": [
    "<img src=\"https://github.com/clint-bg/comptools/blob/main/lectures/supportfiles/LoopsImage.png?raw=trueg\" width=\"400\">"
   ]
  },
  {
   "cell_type": "markdown",
   "id": "67c1ec2d",
   "metadata": {},
   "source": [
    "## For Loop\n",
    "Sum all integers between 1 and 100"
   ]
  },
  {
   "cell_type": "code",
   "execution_count": 1,
   "id": "8d8b65cb",
   "metadata": {},
   "outputs": [
    {
     "name": "stdout",
     "output_type": "stream",
     "text": [
      "4950\n"
     ]
    }
   ],
   "source": [
    "mysum = 0\n",
    "for i in range(100):\n",
    "    #mysum = mysum + i\n",
    "    mysum += i\n",
    "print(mysum)"
   ]
  },
  {
   "cell_type": "markdown",
   "id": "dce49261",
   "metadata": {},
   "source": [
    "Is that correct?"
   ]
  },
  {
   "cell_type": "markdown",
   "id": "729bf0d5",
   "metadata": {},
   "source": [
    "### Using Arrays"
   ]
  },
  {
   "cell_type": "code",
   "execution_count": 2,
   "id": "b29822cb",
   "metadata": {},
   "outputs": [
    {
     "name": "stdout",
     "output_type": "stream",
     "text": [
      "[0, 1, 2, 3, 4, 5, 6, 7, 8, 9, 10, 11, 12, 13, 14, 15, 16, 17, 18, 19, 20, 21, 22, 23, 24, 25, 26, 27, 28, 29, 30, 31, 32, 33, 34, 35, 36, 37, 38, 39, 40, 41, 42, 43, 44, 45, 46, 47, 48, 49, 50, 51, 52, 53, 54, 55, 56, 57, 58, 59, 60, 61, 62, 63, 64, 65, 66, 67, 68, 69, 70, 71, 72, 73, 74, 75, 76, 77, 78, 79, 80, 81, 82, 83, 84, 85, 86, 87, 88, 89, 90, 91, 92, 93, 94, 95, 96, 97, 98, 99]\n"
     ]
    }
   ],
   "source": [
    "import numpy as np\n",
    "#first make empty array\n",
    "numbers = []\n",
    "for i in range(0,100):\n",
    "    numbers.append(i)\n",
    "print(numbers)"
   ]
  },
  {
   "cell_type": "code",
   "execution_count": 3,
   "id": "485379eb",
   "metadata": {},
   "outputs": [
    {
     "name": "stdout",
     "output_type": "stream",
     "text": [
      "4950\n"
     ]
    }
   ],
   "source": [
    "summation = 0\n",
    "for number in numbers:\n",
    "    summation += number #this is the same as summation = summation + number\n",
    "print(summation)"
   ]
  },
  {
   "cell_type": "code",
   "execution_count": 4,
   "id": "e0f1c4d8",
   "metadata": {},
   "outputs": [
    {
     "data": {
      "text/plain": [
       "4950"
      ]
     },
     "execution_count": 4,
     "metadata": {},
     "output_type": "execute_result"
    }
   ],
   "source": [
    "sum(numbers)"
   ]
  },
  {
   "cell_type": "code",
   "execution_count": 5,
   "id": "fe747e91",
   "metadata": {},
   "outputs": [
    {
     "data": {
      "text/plain": [
       "28.86607004772212"
      ]
     },
     "execution_count": 5,
     "metadata": {},
     "output_type": "execute_result"
    }
   ],
   "source": [
    "np.array(numbers).std()"
   ]
  },
  {
   "cell_type": "code",
   "execution_count": 6,
   "id": "4a2e031d",
   "metadata": {},
   "outputs": [
    {
     "data": {
      "text/plain": [
       "29.154759474226502"
      ]
     },
     "execution_count": 6,
     "metadata": {},
     "output_type": "execute_result"
    }
   ],
   "source": [
    "np.arange(0,101,1).std()"
   ]
  },
  {
   "cell_type": "markdown",
   "id": "74bf507a",
   "metadata": {},
   "source": [
    "## While Loop"
   ]
  },
  {
   "cell_type": "markdown",
   "id": "e9587924",
   "metadata": {},
   "source": [
    "Sum integers until the index is 100"
   ]
  },
  {
   "cell_type": "code",
   "execution_count": 7,
   "id": "7d26e2c5",
   "metadata": {},
   "outputs": [
    {
     "name": "stdout",
     "output_type": "stream",
     "text": [
      "5050\n"
     ]
    }
   ],
   "source": [
    "i = 0; mysum =0\n",
    "while i <= 100: #any condition could be used; loop is executed as long as the condition is true\n",
    "    mysum += i\n",
    "    i += 1\n",
    "print(mysum)"
   ]
  },
  {
   "cell_type": "markdown",
   "id": "a5c14d84",
   "metadata": {},
   "source": [
    "## Nested Loops\n",
    "There are times that you'll have a loop inside another loop. For example, to cycle through a two-dimensional array. "
   ]
  },
  {
   "cell_type": "code",
   "execution_count": 8,
   "id": "9f019fa0",
   "metadata": {},
   "outputs": [
    {
     "name": "stdout",
     "output_type": "stream",
     "text": [
      "[[0, 0, 0, 0], [0, 1, 2, 3], [0, 2, 4, 6], [0, 3, 6, 9], [0, 4, 8, 12]]\n"
     ]
    }
   ],
   "source": [
    "alist = []\n",
    "for i in range(5):\n",
    "    btemp = []\n",
    "    for j in range(4): #also could just write while center:\n",
    "        btemp.append(j*i)\n",
    "    alist.append(btemp)\n",
    "print(alist)\n"
   ]
  },
  {
   "cell_type": "markdown",
   "id": "2f4ebed6",
   "metadata": {},
   "source": [
    "## Inline Loop\n",
    "An inline loop is shorthand for a loop. It is written in a single line using a list notation."
   ]
  },
  {
   "cell_type": "code",
   "execution_count": 9,
   "id": "9fb36164",
   "metadata": {},
   "outputs": [
    {
     "data": {
      "text/plain": [
       "4950"
      ]
     },
     "execution_count": 9,
     "metadata": {},
     "output_type": "execute_result"
    }
   ],
   "source": [
    "listofnumbers = [each for each in range(0,100)]\n",
    "np.sum(listofnumbers)"
   ]
  },
  {
   "cell_type": "markdown",
   "id": "c392719b",
   "metadata": {},
   "source": [
    "## Infinite Loop"
   ]
  },
  {
   "cell_type": "code",
   "execution_count": 10,
   "id": "4da3bf47",
   "metadata": {},
   "outputs": [],
   "source": [
    "#This would yield an infinite loop, why?\n",
    "#i = 0; mysum =0\n",
    "#while i <= 100: #any condition could be used; loop is executed as long as the condition is true\n",
    "#    mysum += i\n",
    "\n",
    "#print(mysum)"
   ]
  },
  {
   "cell_type": "markdown",
   "id": "b85de7fd",
   "metadata": {},
   "source": [
    "You don't want this to happen. It usually will crash your computer."
   ]
  },
  {
   "cell_type": "markdown",
   "id": "b3e46d71",
   "metadata": {},
   "source": []
  }
 ],
 "metadata": {
  "kernelspec": {
   "display_name": "Python 3 (ipykernel)",
   "language": "python",
   "name": "python3"
  },
  "language_info": {
   "codemirror_mode": {
    "name": "ipython",
    "version": 3
   },
   "file_extension": ".py",
   "mimetype": "text/x-python",
   "name": "python",
   "nbconvert_exporter": "python",
   "pygments_lexer": "ipython3",
   "version": "3.9.16"
  }
 },
 "nbformat": 4,
 "nbformat_minor": 5
}