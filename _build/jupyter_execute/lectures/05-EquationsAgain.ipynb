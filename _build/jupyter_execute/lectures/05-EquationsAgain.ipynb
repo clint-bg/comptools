{
 "cells": [
  {
   "attachments": {},
   "cell_type": "markdown",
   "metadata": {},
   "source": [
    "# 05-More Equation Solving\n",
    "Systems of equations, whether linear or non-linear, coupled or non-coupled come up in many different chemical engineering applications.  In this notebook, we will practice more solving systems of equations using Python and SymPy."
   ]
  },
  {
   "attachments": {},
   "cell_type": "markdown",
   "metadata": {},
   "source": [
    "## Definitions\n",
    "\n",
    "### Non-linear Equations\n",
    "Non-linear equations have terms with exponents other than 1 or functions of variables like $\\sin(x)$ or $\\exp(x)$. $y = 2x^2 + 3$ or $y=sin(x)$ are both non-linear equations. Most of the equations you'll encounter in chemical engineering are non-linear.\n",
    "\n",
    "#### Linear Equations\n",
    "Linear equations have variables that are not raised to a power and are not functions of variables.  For example, $y = 2x + 3$ is a linear equation.  \n",
    "\n",
    "### Coupled Equations\n",
    "Couple equations are equations that have variables in common.  For example, $y = 2x + 3$ and $y = 3x + 2$ are coupled equations because they both have $x$ and $y$ in common.\n",
    "\n",
    "### Non-coupled Equations\n",
    "Non-coupled equations do not have variables in common.  For example, $y = 2x + 3$ and $z = 3p + 2$ are non-coupled equations because they do not have any variables in common."
   ]
  },
  {
   "attachments": {},
   "cell_type": "markdown",
   "metadata": {},
   "source": [
    "## Another example of non-linear coupled systems of equations\n",
    "Consider the following system of equations treating predators (R) and prey(P):\n",
    "\n"
   ]
  },
  {
   "cell_type": "code",
   "execution_count": null,
   "metadata": {},
   "outputs": [],
   "source": []
  },
  {
   "attachments": {},
   "cell_type": "markdown",
   "metadata": {},
   "source": []
  },
  {
   "cell_type": "code",
   "execution_count": null,
   "metadata": {},
   "outputs": [],
   "source": []
  }
 ],
 "metadata": {
  "kernelspec": {
   "display_name": "Python 3",
   "language": "python",
   "name": "python3"
  },
  "language_info": {
   "codemirror_mode": {
    "name": "ipython",
    "version": 3
   },
   "file_extension": ".py",
   "mimetype": "text/x-python",
   "name": "python",
   "nbconvert_exporter": "python",
   "pygments_lexer": "ipython3",
   "version": "3.9.16"
  }
 },
 "nbformat": 4,
 "nbformat_minor": 2
}