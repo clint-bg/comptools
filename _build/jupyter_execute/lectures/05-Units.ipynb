{
 "cells": [
  {
   "attachments": {},
   "cell_type": "markdown",
   "metadata": {},
   "source": [
    "# 05-Units\n",
    "Units must be annotated in your code. You can use the standard SI units, or you can use the [pint](https://pint.readthedocs.io/en/stable/) package to annotate your units. The pint package is more flexible, but it is also more complicated. I recommend you annotate your units at each step and define unit conversions at the end of your code. This will make it easier to debug your code."
   ]
  },
  {
   "attachments": {},
   "cell_type": "markdown",
   "metadata": {},
   "source": [
    "Topics we'll review:\n",
    "- Dimensional Analysis/Consistency\n",
    "- SI Units\n",
    "- CGS Units\n",
    "- English Units"
   ]
  },
  {
   "attachments": {},
   "cell_type": "markdown",
   "metadata": {},
   "source": [
    "## Annotating Units\n",
    "When working with units in your technical code, you should work in either SI or English units to avoid confusion.  For example, if I'm working in SI units, I could write the following code and know that the final answer is also in SI units.  The SI units are m, kg, s, K, mol. When working with those units, your pressure and energy will be in Joules and your pressure in Pascals."
   ]
  },
  {
   "attachments": {},
   "cell_type": "markdown",
   "metadata": {},
   "source": [
    "### SI Units\n",
    "**meter, second, kilogram, Kelvin, and mole (base units)** <br>\n",
    "Newton, Joule, Pascal, Watt (derived units) <br>\n",
    "kiloJoules, millimeter, etc (prefixes)"
   ]
  },
  {
   "attachments": {},
   "cell_type": "markdown",
   "metadata": {},
   "source": [
    "A Joule is a Newton-meter, a Newton is kg-m/s^2, a Pascal is a Newton/m^2, and a Watt is a Joule/s. <br>\n",
    "The gas constant, R, is 8.314 J/mol-K in those consistent units."
   ]
  },
  {
   "attachments": {},
   "cell_type": "markdown",
   "metadata": {},
   "source": [
    "Example calculation below of the kinetic energy of a 2 kilogram mass moving at 20 miles per hour."
   ]
  },
  {
   "cell_type": "code",
   "execution_count": 1,
   "metadata": {},
   "outputs": [
    {
     "name": "stdout",
     "output_type": "stream",
     "text": [
      "kinetic energy = 79.94 J\n"
     ]
    }
   ],
   "source": [
    "# example calculation of kinetic energy\n",
    "conv = 0.44704 # miles per hour to m/s\n",
    "velocity = 20*conv # 20 miles per hour to m/s\n",
    "mass = 2 # kg\n",
    "kinetic_energy = 0.5 * mass * velocity**2 # J or kg m^2/s^2\n",
    "print(f'kinetic energy = {kinetic_energy:.2f} J') # I know this is Joules as I used the SI units"
   ]
  },
  {
   "attachments": {},
   "cell_type": "markdown",
   "metadata": {},
   "source": [
    "Note that each line has a comment with the units. If perhaps the units are not SI, for instance the velocity is given in miles per hour, then you'd convert miles per hour to the SI unit of m/s as shown on the first and second lines above."
   ]
  },
  {
   "attachments": {},
   "cell_type": "markdown",
   "metadata": {},
   "source": [
    "**Dimensional Analysis** like the conversion of the velocity from miles per hour to meters per second is needed when completing engineering calculations. For example:\n",
    "\n",
    "$$\n",
    "\\begin{align}\n",
    "8.9408\\frac{m}{s} &= 20 \\, \\sout{miles/hr} \\times 0.44704 \\frac{m/s}{\\sout{miles/hr}} \\\\\n",
    "8.9408\\frac{m}{s} &= 20 \\, \\sout{miles}/\\sout{hr} \\times \\frac{5280\\,\\sout{ft}}{\\sout{mile}} \\times \\frac{12\\,\\sout{in}}{\\sout{ft}} \\times \\frac{2.54\\,\\sout{cm}}{\\sout{in}} \\times \\frac{1\\,m}{100\\,\\sout{cm}} \\times \\frac{1\\,\\sout{hr}}{3600\\,s} \\\\\n",
    "\\end{align}\n",
    "$$"
   ]
  },
  {
   "cell_type": "code",
   "execution_count": 2,
   "metadata": {},
   "outputs": [
    {
     "name": "stdout",
     "output_type": "stream",
     "text": [
      "Pressure = 2494.20 Pa\n"
     ]
    }
   ],
   "source": [
    "# Ideal gas calculation\n",
    "#PV = nRT\n",
    "# What's the pressure of 1 mole of an ideal gas at 300 K in a 1 m^3 container?\n",
    "Pres = 1*8.314 * 300 / 1 # Pa\n",
    "print(f'Pressure = {Pres:.2f} Pa') # I know this is Pascals as I used the SI units\n"
   ]
  },
  {
   "attachments": {},
   "cell_type": "markdown",
   "metadata": {},
   "source": [
    "### English Units\n",
    "**foot, second, pound-mass, Rankine, and mole (base units)** <br>\n",
    "pound-force, foot-pound-force, pound-force/square foot, and pound-force foot per second (derived units)  <br>\n",
    "BTU, psi, and horsepower (other derived units)\n",
    "\n",
    "Thus if you work in feet, seconds, pound-mass, and Rankine, you'll need conversion factors to report energy, work, pressure, and power to commonly used english units such as BTU, psi, and horsepower. Plus you'll need to make sure you correctly use gc in your calculations."
   ]
  },
  {
   "attachments": {},
   "cell_type": "markdown",
   "metadata": {},
   "source": [
    "$$ g_c = 32.174 \\frac{lb_m \\cdot ft}{lbf \\cdot s^2} $$"
   ]
  },
  {
   "attachments": {},
   "cell_type": "markdown",
   "metadata": {},
   "source": [
    "A pound-force is a pound-mass times the acceleration of gravity divided by $g_c$ (numerically 1 lb-m yields 1 lb-f). <br>\n",
    "The gas constant, R, is 3.4088 foot-lb/mol-R in those consistent units."
   ]
  },
  {
   "attachments": {},
   "cell_type": "markdown",
   "metadata": {},
   "source": [
    "Example calculation below of the kinetic energy of a 2 kilogram mass moving at 20 miles per hour."
   ]
  },
  {
   "cell_type": "code",
   "execution_count": 3,
   "metadata": {},
   "outputs": [
    {
     "name": "stdout",
     "output_type": "stream",
     "text": [
      "kinetic energy = 59.00 foot-pounds\n"
     ]
    }
   ],
   "source": [
    "# example calculation of kinetic energy\n",
    "gc = 32.174 # ft/s^2*lbm/lbf\n",
    "conv = 1.467 # miles per hour to ft/s\n",
    "velocity = 20*conv # 20 miles per hour to ft/s\n",
    "convm = 2.205 # kg to lbm\n",
    "mass = 2*convm # kg to lbm\n",
    "kinetic_energy_e = 0.5 * mass * velocity**2 /gc # lbm*ft^2/s^2 *lbf*s^2/lbm/ft or foot pounds (ft*lbf)\n",
    "print(f'kinetic energy = {kinetic_energy_e:.2f} foot-pounds') # I know this is foot pounds as I used the english units with gc"
   ]
  },
  {
   "attachments": {},
   "cell_type": "markdown",
   "metadata": {},
   "source": [
    "Converting 59 foot pounds to Joules yields 80 Joules with is the same as the answer above. Note the necessary use of gc in the conversion from lbm to lbf in the above calculation (if left out, you get the wrong answer). Keeping track of units when working in English units is more difficult than working in SI units."
   ]
  },
  {
   "attachments": {},
   "cell_type": "markdown",
   "metadata": {},
   "source": [
    "One option is to use pint, a python package that allows you to annotate your units.  You can then convert to other units as needed.  For example, if you want to convert 20 miles per hour to feet per second, you can do the following:"
   ]
  },
  {
   "cell_type": "code",
   "execution_count": 4,
   "metadata": {},
   "outputs": [
    {
     "name": "stdout",
     "output_type": "stream",
     "text": [
      "kinetic energy = 79.94 joule\n",
      "kinetic energy = 58.96 foot_pound\n"
     ]
    }
   ],
   "source": [
    "import pint\n",
    "ureg = pint.UnitRegistry()\n",
    "Q_ = ureg.Quantity\n",
    "# example calculation of kinetic energy\n",
    "velocity = Q_(20,'miles/hour')\n",
    "mass = Q_(2,'kg')\n",
    "kinetic_energy_p = 0.5 * mass * velocity**2\n",
    "print(f'kinetic energy = {kinetic_energy_p.to(\"J\"):.2f}') \n",
    "print(f'kinetic energy = {kinetic_energy_p.to(\"footpound\"):.2f}') \n",
    "#Documentation is lacking on what units are already defined and how to reference them"
   ]
  },
  {
   "cell_type": "code",
   "execution_count": 5,
   "metadata": {},
   "outputs": [
    {
     "ename": "DimensionalityError",
     "evalue": "Cannot convert from 'kilogram * mile ** 2 / hour ** 2' to 'dimensionless'",
     "output_type": "error",
     "traceback": [
      "\u001b[0;31m---------------------------------------------------------------------------\u001b[0m",
      "\u001b[0;31mDimensionalityError\u001b[0m                       Traceback (most recent call last)",
      "Cell \u001b[0;32mIn[5], line 1\u001b[0m\n\u001b[0;32m----> 1\u001b[0m \u001b[38;5;241;43m2\u001b[39;49m\u001b[38;5;241;43m*\u001b[39;49m\u001b[38;5;241;43m*\u001b[39;49m\u001b[43mkinetic_energy_p\u001b[49m\n",
      "File \u001b[0;32m~/opt/anaconda3/envs/jupiterbook/lib/python3.9/site-packages/pint/facets/plain/quantity.py:100\u001b[0m, in \u001b[0;36mcheck_implemented.<locals>.wrapped\u001b[0;34m(self, *args, **kwargs)\u001b[0m\n\u001b[1;32m     98\u001b[0m \u001b[38;5;28;01melif\u001b[39;00m \u001b[38;5;28misinstance\u001b[39m(other, \u001b[38;5;28mlist\u001b[39m) \u001b[38;5;129;01mand\u001b[39;00m other \u001b[38;5;129;01mand\u001b[39;00m \u001b[38;5;28misinstance\u001b[39m(other[\u001b[38;5;241m0\u001b[39m], \u001b[38;5;28mtype\u001b[39m(\u001b[38;5;28mself\u001b[39m)):\n\u001b[1;32m     99\u001b[0m     \u001b[38;5;28;01mreturn\u001b[39;00m \u001b[38;5;28mNotImplemented\u001b[39m\n\u001b[0;32m--> 100\u001b[0m \u001b[38;5;28;01mreturn\u001b[39;00m \u001b[43mf\u001b[49m\u001b[43m(\u001b[49m\u001b[38;5;28;43mself\u001b[39;49m\u001b[43m,\u001b[49m\u001b[43m \u001b[49m\u001b[38;5;241;43m*\u001b[39;49m\u001b[43margs\u001b[49m\u001b[43m,\u001b[49m\u001b[43m \u001b[49m\u001b[38;5;241;43m*\u001b[39;49m\u001b[38;5;241;43m*\u001b[39;49m\u001b[43mkwargs\u001b[49m\u001b[43m)\u001b[49m\n",
      "File \u001b[0;32m~/opt/anaconda3/envs/jupiterbook/lib/python3.9/site-packages/pint/facets/plain/quantity.py:1264\u001b[0m, in \u001b[0;36mPlainQuantity.__rpow__\u001b[0;34m(self, other)\u001b[0m\n\u001b[1;32m   1262\u001b[0m \u001b[38;5;28;01melse\u001b[39;00m:\n\u001b[1;32m   1263\u001b[0m     \u001b[38;5;28;01mif\u001b[39;00m \u001b[38;5;129;01mnot\u001b[39;00m \u001b[38;5;28mself\u001b[39m\u001b[38;5;241m.\u001b[39mdimensionless:\n\u001b[0;32m-> 1264\u001b[0m         \u001b[38;5;28;01mraise\u001b[39;00m DimensionalityError(\u001b[38;5;28mself\u001b[39m\u001b[38;5;241m.\u001b[39m_units, \u001b[38;5;124m\"\u001b[39m\u001b[38;5;124mdimensionless\u001b[39m\u001b[38;5;124m\"\u001b[39m)\n\u001b[1;32m   1265\u001b[0m     new_self \u001b[38;5;241m=\u001b[39m \u001b[38;5;28mself\u001b[39m\u001b[38;5;241m.\u001b[39mto_root_units()\n\u001b[1;32m   1266\u001b[0m     \u001b[38;5;28;01mreturn\u001b[39;00m other\u001b[38;5;241m*\u001b[39m\u001b[38;5;241m*\u001b[39mnew_self\u001b[38;5;241m.\u001b[39m_magnitude\n",
      "\u001b[0;31mDimensionalityError\u001b[0m: Cannot convert from 'kilogram * mile ** 2 / hour ** 2' to 'dimensionless'"
     ]
    }
   ],
   "source": [
    "2**kinetic_energy_p"
   ]
  },
  {
   "attachments": {},
   "cell_type": "markdown",
   "metadata": {},
   "source": [
    "```{note}\n",
    "I don't recommend you use pint. I recommend you switch you're english input units to SI units (as above) and then convert back to english units at the end of your code when required.\n",
    "```"
   ]
  },
  {
   "attachments": {},
   "cell_type": "markdown",
   "metadata": {},
   "source": [
    "## Round-off Error\n",
    "Round-off error occurs when you truncate a decimal number before completing the calculation. Using a calculation program with variables helps to avoid round-off error. Of course, with any finite decimal number, there is some round-off error, although small as there are 15 decimal places that are stored in a float.  For example, the following code shows that the round-off error is small, but it is still there."
   ]
  },
  {
   "cell_type": "code",
   "execution_count": 50,
   "metadata": {},
   "outputs": [
    {
     "name": "stdout",
     "output_type": "stream",
     "text": [
      "1.6331895677277015\n"
     ]
    }
   ],
   "source": [
    "#Significant digits:\n",
    "import numpy as np\n",
    "number = np.pi * np.log(2)*3/4\n",
    "print(number)"
   ]
  },
  {
   "cell_type": "code",
   "execution_count": 52,
   "metadata": {},
   "outputs": [
    {
     "name": "stdout",
     "output_type": "stream",
     "text": [
      "1633189567727701.5\n"
     ]
    }
   ],
   "source": [
    "numberBig = number * 1e15\n",
    "print(numberBig)"
   ]
  },
  {
   "cell_type": "code",
   "execution_count": 53,
   "metadata": {},
   "outputs": [
    {
     "name": "stdout",
     "output_type": "stream",
     "text": [
      "1.6331895677277015e+20\n"
     ]
    }
   ],
   "source": [
    "numberRBig = numberBig*1e5\n",
    "print(numberRBig)"
   ]
  },
  {
   "attachments": {},
   "cell_type": "markdown",
   "metadata": {},
   "source": [
    "Floating point numbers are tracked to 16 decimal places. "
   ]
  },
  {
   "cell_type": "code",
   "execution_count": 22,
   "metadata": {},
   "outputs": [
    {
     "name": "stdout",
     "output_type": "stream",
     "text": [
      "Error when truncated after 2nd digit 0.15%\n"
     ]
    }
   ],
   "source": [
    "#code to show accumulation of round off error\n",
    "cutnumb = float(int(np.pi*100))*float(int(np.pi*100))*float(int(np.pi*100))/1000000\n",
    "percenterror = (np.pi**3 - cutnumb)/(np.pi**3)*100\n",
    "print(f'Error when truncated after 2nd digit {percenterror:0.2f}%')"
   ]
  },
  {
   "cell_type": "code",
   "execution_count": 29,
   "metadata": {},
   "outputs": [
    {
     "name": "stdout",
     "output_type": "stream",
     "text": [
      "Error when truncated after 1 decimal place when multiplied 1 times together: 1.32%\n",
      "Error when truncated after 1 decimal place when multiplied 2 times together: 2.63%\n",
      "Error when truncated after 1 decimal place when multiplied 3 times together: 3.92%\n",
      "Error when truncated after 1 decimal place when multiplied 4 times together: 5.19%\n",
      "Error when truncated after 1 decimal place when multiplied 5 times together: 6.45%\n"
     ]
    }
   ],
   "source": [
    "#code to show accumulation of round off error\n",
    "for n in range(5):\n",
    "    cutnumb = float(int(np.pi*10))**(n+1)/10**(n+1)\n",
    "    percenterror = (np.pi**(n+1) - cutnumb)/(np.pi**(n+1))*100\n",
    "    print(f'Error when truncated after 1 decimal place when multiplied {(n+1)} times together: {percenterror:0.2f}%')"
   ]
  },
  {
   "cell_type": "code",
   "execution_count": null,
   "metadata": {},
   "outputs": [],
   "source": []
  }
 ],
 "metadata": {
  "kernelspec": {
   "display_name": "Python 3",
   "language": "python",
   "name": "python3"
  },
  "language_info": {
   "codemirror_mode": {
    "name": "ipython",
    "version": 3
   },
   "file_extension": ".py",
   "mimetype": "text/x-python",
   "name": "python",
   "nbconvert_exporter": "python",
   "pygments_lexer": "ipython3",
   "version": "3.9.16"
  }
 },
 "nbformat": 4,
 "nbformat_minor": 2
}