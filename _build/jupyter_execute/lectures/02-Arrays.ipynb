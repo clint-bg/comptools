{
 "cells": [
  {
   "attachments": {},
   "cell_type": "markdown",
   "metadata": {},
   "source": [
    "# 02 - Arrays"
   ]
  },
  {
   "attachments": {},
   "cell_type": "markdown",
   "metadata": {},
   "source": [
    "## Tuple\n",
    "What's a tuple? How is it different from a list?\n",
    "A tuple is a sequence of immutable (once created, cant be changed) Python objects. Tuples are sequences, just like lists. The differences between tuples and lists are, the tuples cannot be changed (immutable) unlike lists and tuples use parenthesis, whereas lists use square brackets. "
   ]
  },
  {
   "cell_type": "code",
   "execution_count": 1,
   "metadata": {},
   "outputs": [
    {
     "name": "stdout",
     "output_type": "stream",
     "text": [
      "The value of tup is (4, 5, 6) and tup[0] is 4\n",
      "The value of anothertup is (7, 8) and the type of anothertup is <class 'tuple'>\n",
      "(3, 4)\n"
     ]
    }
   ],
   "source": [
    "tup = (4,5) #set a variable name tup to a tuple\n",
    "tup = tup + (6,) # add another value to the tuple\n",
    "anothertup = 7,8 #create a tuple without parentheses\n",
    "print(f'The value of tup is {tup} and tup[0] is {tup[0]}')\n",
    "print(f'The value of anothertup is {anothertup} and the type of anothertup is {type(anothertup)}')\n",
    "#now we'll try and change the value of tup[0]\n",
    "tup = (3,4) #reassign the variable to a different tuple\n",
    "print(tup)"
   ]
  },
  {
   "attachments": {},
   "cell_type": "markdown",
   "metadata": {},
   "source": [
    "Note that the variable 'tup' can be reassigned to a different tuple but that once a tuple has been set, it cannot be changed.  This is different from a list which can be changed (as it's immutable). For example:"
   ]
  },
  {
   "cell_type": "code",
   "execution_count": 2,
   "metadata": {},
   "outputs": [
    {
     "ename": "TypeError",
     "evalue": "'tuple' object does not support item assignment",
     "output_type": "error",
     "traceback": [
      "\u001b[0;31m---------------------------------------------------------------------------\u001b[0m",
      "\u001b[0;31mTypeError\u001b[0m                                 Traceback (most recent call last)",
      "Cell \u001b[0;32mIn[2], line 1\u001b[0m\n\u001b[0;32m----> 1\u001b[0m \u001b[43mtup\u001b[49m\u001b[43m[\u001b[49m\u001b[38;5;241;43m0\u001b[39;49m\u001b[43m]\u001b[49m \u001b[38;5;241m=\u001b[39m \u001b[38;5;241m4\u001b[39m \u001b[38;5;66;03m#try and reassign the first element of the tuple to 4\u001b[39;00m\n",
      "\u001b[0;31mTypeError\u001b[0m: 'tuple' object does not support item assignment"
     ]
    }
   ],
   "source": [
    "tup[0] = 4 #try and reassign the first element of the tuple to 4"
   ]
  },
  {
   "attachments": {},
   "cell_type": "markdown",
   "metadata": {},
   "source": [
    "Tuples can be useful as in this example where we want to pass multiple values to a function. "
   ]
  },
  {
   "cell_type": "code",
   "execution_count": 12,
   "metadata": {},
   "outputs": [
    {
     "name": "stdout",
     "output_type": "stream",
     "text": [
      "The solution is 57.14 for L and 42.86 for V\n",
      "<class 'tuple'> <class 'tuple'>\n"
     ]
    }
   ],
   "source": [
    "from scipy.optimize import fsolve\n",
    "def equations(p):\n",
    "    L,V = p\n",
    "    return (100 - (L+V), 0.4*100-0.1*L-0.8*V) #each equation is set so that it is equal to zero, also the returned value is also a tuple\n",
    "\n",
    "L,V =  fsolve(equations, (1,1))\n",
    "print(f'The solution is {L:0.2f} for L and {V:0.2f} for V')\n",
    "print(type((L,V)),type((1,1)))"
   ]
  },
  {
   "attachments": {},
   "cell_type": "markdown",
   "metadata": {},
   "source": [
    "## Lists and Arrays\n",
    "Lists and arrays are similar in that they are both a series of values.  However, lists can contain different types of values.  Arrays are typically all the same type of value.  Arrays are also more efficient to use for calculations. "
   ]
  },
  {
   "cell_type": "code",
   "execution_count": 13,
   "metadata": {},
   "outputs": [
    {
     "name": "stdout",
     "output_type": "stream",
     "text": [
      "The numbers are [1, 2, 3, 4, 5, 6, 7, 8, 9, 10] and the type is <class 'list'>\n"
     ]
    }
   ],
   "source": [
    "#Here's a list of numbers\n",
    "numbers = [1,2,3,4,5,6,7,8,9,10]\n",
    "print(f'The numbers are {numbers} and the type is {type(numbers)}')"
   ]
  },
  {
   "cell_type": "code",
   "execution_count": 19,
   "metadata": {},
   "outputs": [
    {
     "name": "stdout",
     "output_type": "stream",
     "text": [
      "['hello', 3, 5, [1, 2, 3, 4, 5, 6, 7, 8, 9, 10], 3.14]\n"
     ]
    }
   ],
   "source": [
    "#Here is a list that has different items in it\n",
    "blist = ['hello',3,5,numbers,3.14]\n",
    "print(blist)"
   ]
  },
  {
   "cell_type": "code",
   "execution_count": 20,
   "metadata": {},
   "outputs": [
    {
     "name": "stdout",
     "output_type": "stream",
     "text": [
      "5\n"
     ]
    }
   ],
   "source": [
    "#Heres how to access the third item in the list\n",
    "print(blist[2]) #remember that python is zero indexed"
   ]
  },
  {
   "cell_type": "code",
   "execution_count": 21,
   "metadata": {},
   "outputs": [
    {
     "name": "stdout",
     "output_type": "stream",
     "text": [
      "3.14\n",
      "3.14\n"
     ]
    }
   ],
   "source": [
    "#Here are two ways to access the last item in the list\n",
    "print(blist[-1]) #index -1 is the last item in the list\n",
    "print(blist[len(blist)-1]) #len(blist) is the length of the list"
   ]
  },
  {
   "cell_type": "code",
   "execution_count": 22,
   "metadata": {},
   "outputs": [
    {
     "name": "stdout",
     "output_type": "stream",
     "text": [
      "The array is [ 1  2  3  4  5  6  7  8  9 10] and the type is <class 'numpy.ndarray'>\n"
     ]
    }
   ],
   "source": [
    "#an array is useful and different than a list as it is considered a vector\n",
    "#a list can easily be converted to an array\n",
    "import numpy as np\n",
    "arr = np.array(numbers)\n",
    "print(f'The array is {arr} and the type is {type(arr)}')"
   ]
  },
  {
   "attachments": {},
   "cell_type": "markdown",
   "metadata": {},
   "source": [
    "Some python operations can be done on a list but other operations cannot and are better done with an array. For example:"
   ]
  },
  {
   "cell_type": "code",
   "execution_count": 23,
   "metadata": {},
   "outputs": [
    {
     "name": "stdout",
     "output_type": "stream",
     "text": [
      "[1, 2, 3, 4, 5, 6]\n",
      "[5 7 9]\n"
     ]
    }
   ],
   "source": [
    "import numpy as np\n",
    "x = [1,2,3]\n",
    "y = [4,5,6]\n",
    "print(x + y)\n",
    "#versus\n",
    "print(np.array(x) + np.array(y))"
   ]
  },
  {
   "attachments": {},
   "cell_type": "markdown",
   "metadata": {},
   "source": [
    "## Dictionaries\n",
    "Dictionary is a collection of key:value pairs.  It is similar to a list, but you can access the values by the key instead of the index.  Here is an example:"
   ]
  },
  {
   "cell_type": "code",
   "execution_count": 24,
   "metadata": {},
   "outputs": [
    {
     "name": "stdout",
     "output_type": "stream",
     "text": [
      "1\n",
      "1\n"
     ]
    }
   ],
   "source": [
    "adictionary = {'a':1,'b':2,'c':3} #create a dictionary\n",
    "print(adictionary['a']) #access the value associated with the key 'a'\n",
    "#or \n",
    "print(adictionary.get('a')) #access the value associated with the key 'a'"
   ]
  },
  {
   "attachments": {},
   "cell_type": "markdown",
   "metadata": {},
   "source": [
    "Dictionaries can be very helpful when you have data and you want to access it by a key.  For example, if you have a list of students and you want to access their grades, you can use a dictionary with the student name as the key and the grade as the value. A dictionary can also be thought of as a database. They can easily be converted to a pandas dataframe."
   ]
  },
  {
   "cell_type": "code",
   "execution_count": null,
   "metadata": {},
   "outputs": [],
   "source": []
  }
 ],
 "metadata": {
  "kernelspec": {
   "display_name": "Python 3",
   "language": "python",
   "name": "python3"
  },
  "language_info": {
   "codemirror_mode": {
    "name": "ipython",
    "version": 3
   },
   "file_extension": ".py",
   "mimetype": "text/x-python",
   "name": "python",
   "nbconvert_exporter": "python",
   "pygments_lexer": "ipython3",
   "version": "3.9.16"
  }
 },
 "nbformat": 4,
 "nbformat_minor": 2
}