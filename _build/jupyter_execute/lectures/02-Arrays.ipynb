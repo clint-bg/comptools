{
 "cells": [
  {
   "attachments": {},
   "cell_type": "markdown",
   "metadata": {},
   "source": [
    "# 02 - Arrays, Lists, Dictionaries"
   ]
  },
  {
   "cell_type": "markdown",
   "metadata": {},
   "source": [
    "Arrays are very helpful in data processing and numerical computations. In this notebook, we will learn how to create arrays, access elements, and perform operations on them."
   ]
  },
  {
   "cell_type": "markdown",
   "metadata": {},
   "source": [
    "##  Creating Arrays"
   ]
  },
  {
   "cell_type": "markdown",
   "metadata": {},
   "source": [
    "There are many different different ways to create arrays in Python. Using lists is one common way. The most useful way is with arange or linspace functions from the numpy library."
   ]
  },
  {
   "cell_type": "markdown",
   "metadata": {},
   "source": [
    "### Array from a List"
   ]
  },
  {
   "cell_type": "code",
   "execution_count": 1,
   "metadata": {},
   "outputs": [
    {
     "name": "stdout",
     "output_type": "stream",
     "text": [
      "My array is [   1    4    8   16   32   64  128  256  512 1024] and the type is <class 'numpy.ndarray'>\n"
     ]
    }
   ],
   "source": [
    "import numpy as np\n",
    "#First create a list\n",
    "alist = [1,4,8,16,32,64,128,256,512,1024]\n",
    "aarray = np.array(alist)\n",
    "print(f'My array is {aarray} and the type is {type(aarray)}')"
   ]
  },
  {
   "cell_type": "markdown",
   "metadata": {},
   "source": [
    "### Array from Numpy (linspace and arange)"
   ]
  },
  {
   "cell_type": "markdown",
   "metadata": {},
   "source": [
    "You will use these properties often as you program in python. Particularly when plotting data, you will often want to create an array of x-values to plot against. np.linspace generates an array of evenly spaced values between two endpoints and a given number of points, while np.arange generates an array of values between two endpoints with a specified step size."
   ]
  },
  {
   "cell_type": "code",
   "execution_count": 2,
   "metadata": {},
   "outputs": [],
   "source": [
    "#Using linspace\n",
    "barray = np.linspace(0,10.3,5) #5 numbers between 0 and 10 with the first number at 0 and the last number at 10.3\n",
    "carray = np.arange(0,10.3,2) #2 is the step size between 0 and 10 with the first number at 0 and the last number at 10"
   ]
  },
  {
   "cell_type": "code",
   "execution_count": 3,
   "metadata": {},
   "outputs": [
    {
     "name": "stdout",
     "output_type": "stream",
     "text": [
      "The np.linspace array is [ 0.     2.575  5.15   7.725 10.3  ]\n",
      "The np.arange array is [ 0.  2.  4.  6.  8. 10.]\n"
     ]
    }
   ],
   "source": [
    "print(f'The np.linspace array is {barray}')\n",
    "print(f'The np.arange array is {carray}')"
   ]
  },
  {
   "cell_type": "markdown",
   "metadata": {},
   "source": [
    "Note the differences between the outcome of the two above methods. You'll have opportunities to use both."
   ]
  },
  {
   "cell_type": "markdown",
   "metadata": {},
   "source": [
    "## Array Properties"
   ]
  },
  {
   "cell_type": "code",
   "execution_count": 4,
   "metadata": {},
   "outputs": [
    {
     "name": "stdout",
     "output_type": "stream",
     "text": [
      "The shape of the aarray is (10,)\n",
      "The two-dimensional darray is (3, 3)\n"
     ]
    }
   ],
   "source": [
    "#find the shape of the array, the number of elements in the array, and its dimension (1D, 2D, 3D, etc.)\n",
    "print(f'The shape of the aarray is {aarray.shape}')\n",
    "#generate a two-dimensional array\n",
    "darray = np.array([[1,2,3],[4,5,6],[7,8,9]])\n",
    "print(f'The two-dimensional darray is {darray.shape}')"
   ]
  },
  {
   "cell_type": "code",
   "execution_count": 5,
   "metadata": {},
   "outputs": [
    {
     "name": "stdout",
     "output_type": "stream",
     "text": [
      "The size of the aarray is 10\n",
      "The size of the darray is 9\n"
     ]
    }
   ],
   "source": [
    "#the size of the array\n",
    "print(f'The size of the aarray is {aarray.size}') #basically the number of elements in the array\n",
    "print(f'The size of the darray is {darray.size}')"
   ]
  },
  {
   "cell_type": "code",
   "execution_count": 6,
   "metadata": {},
   "outputs": [
    {
     "name": "stdout",
     "output_type": "stream",
     "text": [
      "The original aarray is [   1    4    8   16   32   64  128  256  512 1024]\n",
      "The resized aarray is [[   1    4    8   16   32]\n",
      " [  64  128  256  512 1024]]\n"
     ]
    }
   ],
   "source": [
    "#resize the array\n",
    "print(f'The original aarray is {aarray}')\n",
    "aarray.resize(2,5)\n",
    "print(f'The resized aarray is {aarray}')"
   ]
  },
  {
   "cell_type": "markdown",
   "metadata": {},
   "source": [
    "## Array Indexing"
   ]
  },
  {
   "cell_type": "code",
   "execution_count": 7,
   "metadata": {},
   "outputs": [
    {
     "name": "stdout",
     "output_type": "stream",
     "text": [
      "The array is [ 0.     1.111  2.222  3.333  4.444  5.556  6.667  7.778  8.889 10.   ] and has 10 items\n",
      "The 1st item in the array is 0.0\n",
      "The 4th item in the array is 3.3333333333333335\n"
     ]
    }
   ],
   "source": [
    "aarray = np.linspace(0,10,10) #how many items does this array have?\n",
    "print(f'The array is {np.round(aarray,3)} and has {aarray.size} items')\n",
    "print(f'The 1st item in the array is {aarray[0]}')\n",
    "print(f'The 4th item in the array is {aarray[3]}')"
   ]
  },
  {
   "cell_type": "code",
   "execution_count": 8,
   "metadata": {},
   "outputs": [
    {
     "name": "stdout",
     "output_type": "stream",
     "text": [
      "The first four items in the array are [0.   1.11 2.22 3.33]\n"
     ]
    }
   ],
   "source": [
    "#print the first four items in the array\n",
    "print(f'The first four items in the array are {np.round(aarray[0:4],2)}')"
   ]
  },
  {
   "cell_type": "code",
   "execution_count": 9,
   "metadata": {},
   "outputs": [
    {
     "name": "stdout",
     "output_type": "stream",
     "text": [
      "The resized aarray is np.round([[ 0.          1.11111111  2.22222222  3.33333333  4.44444444]\n",
      " [ 5.55555556  6.66666667  7.77777778  8.88888889 10.        ]],2)\n",
      "The second column in the array is [1.11111111 6.66666667]\n"
     ]
    }
   ],
   "source": [
    "#first resize the array and then print just the second column\n",
    "aarray.resize(2,5)\n",
    "print(f'The resized aarray is np.round({aarray},2)')\n",
    "print(f'The second column in the array is {aarray[:,1]}')"
   ]
  },
  {
   "cell_type": "markdown",
   "metadata": {},
   "source": [
    "## Array Concatenation"
   ]
  },
  {
   "cell_type": "code",
   "execution_count": 10,
   "metadata": {},
   "outputs": [
    {
     "name": "stdout",
     "output_type": "stream",
     "text": [
      "The concatenated array is [1 2 3 4 5 6]\n"
     ]
    }
   ],
   "source": [
    "#join two arrays\n",
    "aarray = np.array([1,2,3])\n",
    "barray = np.array([4,5,6])\n",
    "carray = np.concatenate((aarray,barray))\n",
    "print(f'The concatenated array is {carray}')"
   ]
  },
  {
   "cell_type": "markdown",
   "metadata": {},
   "source": [
    "## Element-wise Operations"
   ]
  },
  {
   "cell_type": "markdown",
   "metadata": {},
   "source": [
    "### Addition"
   ]
  },
  {
   "cell_type": "code",
   "execution_count": 11,
   "metadata": {},
   "outputs": [
    {
     "data": {
      "text/plain": [
       "array([5, 7, 9])"
      ]
     },
     "execution_count": 11,
     "metadata": {},
     "output_type": "execute_result"
    }
   ],
   "source": [
    "#add elements of two arrays\n",
    "aarray + barray"
   ]
  },
  {
   "cell_type": "code",
   "execution_count": 12,
   "metadata": {},
   "outputs": [
    {
     "ename": "ValueError",
     "evalue": "operands could not be broadcast together with shapes (3,) (6,) ",
     "output_type": "error",
     "traceback": [
      "\u001b[0;31m---------------------------------------------------------------------------\u001b[0m",
      "\u001b[0;31mValueError\u001b[0m                                Traceback (most recent call last)",
      "Cell \u001b[0;32mIn[12], line 1\u001b[0m\n\u001b[0;32m----> 1\u001b[0m \u001b[43maarray\u001b[49m\u001b[43m \u001b[49m\u001b[38;5;241;43m+\u001b[39;49m\u001b[43m \u001b[49m\u001b[43mcarray\u001b[49m\n",
      "\u001b[0;31mValueError\u001b[0m: operands could not be broadcast together with shapes (3,) (6,) "
     ]
    }
   ],
   "source": [
    "aarray + carray"
   ]
  },
  {
   "cell_type": "markdown",
   "metadata": {},
   "source": [
    "### Multiplication and Division"
   ]
  },
  {
   "cell_type": "code",
   "execution_count": null,
   "metadata": {},
   "outputs": [
    {
     "data": {
      "text/plain": [
       "array([0.25, 0.4 , 0.5 ])"
      ]
     },
     "execution_count": 45,
     "metadata": {},
     "output_type": "execute_result"
    }
   ],
   "source": [
    "aarray/barray"
   ]
  },
  {
   "cell_type": "code",
   "execution_count": null,
   "metadata": {},
   "outputs": [
    {
     "data": {
      "text/plain": [
       "array([ 4, 10, 18])"
      ]
     },
     "execution_count": 47,
     "metadata": {},
     "output_type": "execute_result"
    }
   ],
   "source": [
    "aarray*barray"
   ]
  },
  {
   "cell_type": "markdown",
   "metadata": {},
   "source": [
    "## Aggregation Functions"
   ]
  },
  {
   "cell_type": "code",
   "execution_count": null,
   "metadata": {},
   "outputs": [
    {
     "name": "stdout",
     "output_type": "stream",
     "text": [
      "aarray is [1 2 3], barray is [4 5 6], and carray is [1 2 3 4 5 6]\n"
     ]
    }
   ],
   "source": [
    "print(f'aarray is {aarray}, barray is {barray}, and carray is {carray}')"
   ]
  },
  {
   "cell_type": "code",
   "execution_count": null,
   "metadata": {},
   "outputs": [
    {
     "data": {
      "text/plain": [
       "(6, 15, 21)"
      ]
     },
     "execution_count": 56,
     "metadata": {},
     "output_type": "execute_result"
    }
   ],
   "source": [
    "np.sum(aarray), np.sum(barray), np.sum(carray)"
   ]
  },
  {
   "cell_type": "code",
   "execution_count": null,
   "metadata": {},
   "outputs": [
    {
     "data": {
      "text/plain": [
       "(2.0, 5.0, 3.5)"
      ]
     },
     "execution_count": 57,
     "metadata": {},
     "output_type": "execute_result"
    }
   ],
   "source": [
    "np.median(aarray), np.median(barray), np.median(carray)"
   ]
  },
  {
   "cell_type": "code",
   "execution_count": null,
   "metadata": {},
   "outputs": [
    {
     "data": {
      "text/plain": [
       "(1, 4, 1)"
      ]
     },
     "execution_count": 58,
     "metadata": {},
     "output_type": "execute_result"
    }
   ],
   "source": [
    "np.min(aarray), np.min(barray), np.min(carray)"
   ]
  },
  {
   "cell_type": "markdown",
   "metadata": {},
   "source": [
    "## Linear Algebra"
   ]
  },
  {
   "cell_type": "markdown",
   "metadata": {},
   "source": [
    "### Dot Product"
   ]
  },
  {
   "cell_type": "code",
   "execution_count": null,
   "metadata": {},
   "outputs": [
    {
     "data": {
      "text/plain": [
       "32"
      ]
     },
     "execution_count": 53,
     "metadata": {},
     "output_type": "execute_result"
    }
   ],
   "source": [
    "#dot product of two arrays\n",
    "np.dot(aarray,barray)"
   ]
  },
  {
   "cell_type": "markdown",
   "metadata": {},
   "source": [
    "### Matrix Inverse"
   ]
  },
  {
   "cell_type": "markdown",
   "metadata": {},
   "source": [
    "$$ y = 2\\cdot x_1 + 3\\cdot x_2 + 4 \\\\ \n",
    " y = 5\\cdot x_1 + 6\\cdot x_2 + 7 \\\\\n",
    " y = 2\\cdot x_1 + 2\\cdot x_2 + 1 $$\n",
    "\n",
    "or \n",
    "\n",
    "$$ 4 = y - 2\\cdot x_1 - 3\\cdot x_2 \\\\ \n",
    "7 = y - 5\\cdot x_1 - 6\\cdot x_2 \\\\\n",
    "1 = y - 2\\cdot x_1 - 2\\cdot x_2 $$\n",
    "\n",
    "\n",
    "rewriten in matrix form:\n",
    "A = $\\begin{bmatrix} 1 & -2 & -3 \\\\ 1 & -5 & -6 \\\\ 1 & -2 & -2 \\end{bmatrix}$\n",
    "x = $\\begin{bmatrix} y \\\\ x_1 \\\\ x_2 \\end{bmatrix}$\n",
    "B = $\\begin{bmatrix} 4 \\\\ 7 \\\\ 1 \\end{bmatrix}$\n",
    "$$ A \\cdot x = B $$\n",
    "$$ x = A^{-1} \\cdot B $$"
   ]
  },
  {
   "cell_type": "code",
   "execution_count": null,
   "metadata": {},
   "outputs": [
    {
     "data": {
      "text/plain": [
       "array([-1.,  2., -3.])"
      ]
     },
     "execution_count": 64,
     "metadata": {},
     "output_type": "execute_result"
    }
   ],
   "source": [
    "matrix = np.array([[1,-2,-3], [1,-5,-6], [1,-2,-2]])\n",
    "np.dot(np.linalg.inv(matrix),np.array([4,7,1]))"
   ]
  },
  {
   "cell_type": "markdown",
   "metadata": {},
   "source": [
    "### Determinant"
   ]
  },
  {
   "cell_type": "markdown",
   "metadata": {},
   "source": [
    "Helpful for calculating the inverse of a matrix. Non-zero determinant means the matrix is invertible."
   ]
  },
  {
   "cell_type": "code",
   "execution_count": null,
   "metadata": {},
   "outputs": [
    {
     "name": "stdout",
     "output_type": "stream",
     "text": [
      "The determinant is -3.00\n"
     ]
    }
   ],
   "source": [
    "\n",
    "print(f'The determinant is {np.linalg.det(matrix):.2f}')"
   ]
  },
  {
   "cell_type": "markdown",
   "metadata": {},
   "source": [
    "## Sorting"
   ]
  },
  {
   "cell_type": "code",
   "execution_count": 19,
   "metadata": {},
   "outputs": [
    {
     "data": {
      "text/plain": [
       "array(['apple', 'banana', 'cherry', 'guava', 'orange'], dtype='<U6')"
      ]
     },
     "execution_count": 19,
     "metadata": {},
     "output_type": "execute_result"
    }
   ],
   "source": [
    "tlist = ['guava','banana','cherry','apple','orange']\n",
    "np.sort(tlist)"
   ]
  },
  {
   "cell_type": "code",
   "execution_count": 20,
   "metadata": {},
   "outputs": [],
   "source": [
    "narray = np.array([3.2,2,1,4.9,3.9,4.5,3.8,9.2,8.1,7.3])"
   ]
  },
  {
   "cell_type": "code",
   "execution_count": 21,
   "metadata": {},
   "outputs": [
    {
     "data": {
      "text/plain": [
       "array([1. , 2. , 3.2, 3.8, 3.9, 4.5, 4.9, 7.3, 8.1, 9.2])"
      ]
     },
     "execution_count": 21,
     "metadata": {},
     "output_type": "execute_result"
    }
   ],
   "source": [
    "np.sort(narray)"
   ]
  },
  {
   "cell_type": "markdown",
   "metadata": {},
   "source": [
    "## Searching"
   ]
  },
  {
   "cell_type": "code",
   "execution_count": 23,
   "metadata": {},
   "outputs": [
    {
     "data": {
      "text/plain": [
       "(array([0, 1, 2, 4, 6]),)"
      ]
     },
     "execution_count": 23,
     "metadata": {},
     "output_type": "execute_result"
    }
   ],
   "source": [
    "np.where(narray < 4)"
   ]
  },
  {
   "cell_type": "code",
   "execution_count": 26,
   "metadata": {},
   "outputs": [
    {
     "data": {
      "text/plain": [
       "7"
      ]
     },
     "execution_count": 26,
     "metadata": {},
     "output_type": "execute_result"
    }
   ],
   "source": [
    "np.argmax(narray)"
   ]
  },
  {
   "cell_type": "markdown",
   "metadata": {},
   "source": [
    "## Random Numbers"
   ]
  },
  {
   "cell_type": "code",
   "execution_count": 32,
   "metadata": {},
   "outputs": [
    {
     "data": {
      "text/plain": [
       "array([[0.91521063, 0.48135773, 0.06571234],\n",
       "       [0.41043224, 0.44457302, 0.5196756 ],\n",
       "       [0.92572997, 0.92863534, 0.57064225]])"
      ]
     },
     "execution_count": 32,
     "metadata": {},
     "output_type": "execute_result"
    }
   ],
   "source": [
    "np.random.rand(3,3)"
   ]
  },
  {
   "cell_type": "code",
   "execution_count": 33,
   "metadata": {},
   "outputs": [
    {
     "data": {
      "text/plain": [
       "array([[ 1.72112568,  0.44327839, -1.80440612],\n",
       "       [-1.70505788,  0.95179143,  1.57608789],\n",
       "       [-0.09349699, -0.37732573,  1.16485401]])"
      ]
     },
     "execution_count": 33,
     "metadata": {},
     "output_type": "execute_result"
    }
   ],
   "source": [
    "np.linalg.inv(np.random.rand(3,3))"
   ]
  },
  {
   "cell_type": "code",
   "execution_count": 54,
   "metadata": {},
   "outputs": [
    {
     "data": {
      "text/plain": [
       "array([[1, 8, 3, 9]])"
      ]
     },
     "execution_count": 54,
     "metadata": {},
     "output_type": "execute_result"
    }
   ],
   "source": [
    "np.random.randint(1,10,size=(1,4)) #random integers between 1 and 9 with 1 row and 4 columns"
   ]
  },
  {
   "attachments": {},
   "cell_type": "markdown",
   "metadata": {},
   "source": [
    "## Dictionaries\n",
    "Dictionary is a collection of key:value pairs.  It is similar to a list, but you can access the values by the key instead of the index.  Here is an example:"
   ]
  },
  {
   "cell_type": "code",
   "execution_count": null,
   "metadata": {},
   "outputs": [
    {
     "name": "stdout",
     "output_type": "stream",
     "text": [
      "1\n",
      "1\n"
     ]
    }
   ],
   "source": [
    "adictionary = {'a':1,'b':2,'c':3} #create a dictionary\n",
    "print(adictionary['a']) #access the value associated with the key 'a'\n",
    "#or \n",
    "print(adictionary.get('a')) #access the value associated with the key 'a'"
   ]
  },
  {
   "cell_type": "markdown",
   "metadata": {},
   "source": [
    "Another way of thinking about dictionaries is as a spreadsheet. The keys are the column headers and the values are the data in the columns.  You can access the data by the column header instead of the row and column index."
   ]
  },
  {
   "cell_type": "code",
   "execution_count": 61,
   "metadata": {},
   "outputs": [],
   "source": [
    "spreadsheet = {'time':np.linspace(0,1,100),'temperature':np.random.rand(100)*20+20,'pressure':np.random.rand(100)*10+10}"
   ]
  },
  {
   "cell_type": "code",
   "execution_count": 64,
   "metadata": {},
   "outputs": [
    {
     "data": {
      "text/plain": [
       "{'time': array([0.        , 0.01010101, 0.02020202, 0.03030303, 0.04040404,\n",
       "        0.05050505, 0.06060606, 0.07070707, 0.08080808, 0.09090909,\n",
       "        0.1010101 , 0.11111111, 0.12121212, 0.13131313, 0.14141414,\n",
       "        0.15151515, 0.16161616, 0.17171717, 0.18181818, 0.19191919,\n",
       "        0.2020202 , 0.21212121, 0.22222222, 0.23232323, 0.24242424,\n",
       "        0.25252525, 0.26262626, 0.27272727, 0.28282828, 0.29292929,\n",
       "        0.3030303 , 0.31313131, 0.32323232, 0.33333333, 0.34343434,\n",
       "        0.35353535, 0.36363636, 0.37373737, 0.38383838, 0.39393939,\n",
       "        0.4040404 , 0.41414141, 0.42424242, 0.43434343, 0.44444444,\n",
       "        0.45454545, 0.46464646, 0.47474747, 0.48484848, 0.49494949,\n",
       "        0.50505051, 0.51515152, 0.52525253, 0.53535354, 0.54545455,\n",
       "        0.55555556, 0.56565657, 0.57575758, 0.58585859, 0.5959596 ,\n",
       "        0.60606061, 0.61616162, 0.62626263, 0.63636364, 0.64646465,\n",
       "        0.65656566, 0.66666667, 0.67676768, 0.68686869, 0.6969697 ,\n",
       "        0.70707071, 0.71717172, 0.72727273, 0.73737374, 0.74747475,\n",
       "        0.75757576, 0.76767677, 0.77777778, 0.78787879, 0.7979798 ,\n",
       "        0.80808081, 0.81818182, 0.82828283, 0.83838384, 0.84848485,\n",
       "        0.85858586, 0.86868687, 0.87878788, 0.88888889, 0.8989899 ,\n",
       "        0.90909091, 0.91919192, 0.92929293, 0.93939394, 0.94949495,\n",
       "        0.95959596, 0.96969697, 0.97979798, 0.98989899, 1.        ]),\n",
       " 'temperature': array([28.95848948, 38.69748229, 37.90422984, 30.32264826, 31.05849856,\n",
       "        22.35124123, 28.97251272, 30.09882827, 20.66076318, 35.99523492,\n",
       "        31.69085565, 21.80772223, 26.00800843, 31.41871614, 23.56019535,\n",
       "        28.23723434, 24.28152814, 29.00428179, 33.57300128, 22.86331582,\n",
       "        32.64917997, 28.26434395, 31.60418788, 25.6647239 , 28.65849265,\n",
       "        26.85161462, 38.37828212, 33.55877719, 25.9662997 , 32.39210286,\n",
       "        21.10898214, 38.22325847, 34.56722762, 23.64170702, 23.89687995,\n",
       "        30.43989649, 30.3286403 , 25.56597993, 20.04759147, 27.34166648,\n",
       "        30.80463953, 22.83812348, 25.40891609, 34.11583838, 20.72889745,\n",
       "        22.42224334, 32.80653773, 37.14079325, 32.46997585, 32.09020707,\n",
       "        21.36615118, 31.23128996, 33.76409621, 23.14673018, 24.76196186,\n",
       "        22.85239978, 29.74053766, 24.89203634, 25.81766602, 36.51919182,\n",
       "        27.10220992, 28.5347821 , 23.53440492, 21.98462149, 26.39083302,\n",
       "        31.13955428, 23.18708924, 21.16010461, 26.74358188, 21.67986682,\n",
       "        27.42692584, 22.30079418, 21.2812363 , 36.98568634, 31.88154306,\n",
       "        25.19976625, 38.1342961 , 24.9038835 , 34.98665435, 22.3311538 ,\n",
       "        39.0598547 , 23.05220078, 21.22746562, 34.54825509, 36.86203998,\n",
       "        24.62064266, 35.12833015, 38.87363632, 36.54428982, 20.88804169,\n",
       "        39.01041402, 25.86396561, 31.36332727, 20.92752007, 38.59398917,\n",
       "        20.30996   , 35.71774852, 21.4994731 , 20.03950239, 33.42768086]),\n",
       " 'pressure': array([13.32462738, 12.47882126, 12.82568274, 19.48626995, 19.64323792,\n",
       "        10.7154736 , 13.12284751, 15.19280285, 17.12225957, 10.96413956,\n",
       "        18.20256182, 15.85072125, 18.04907623, 15.66582544, 15.00135823,\n",
       "        14.99095191, 15.69589688, 16.81014155, 18.09604666, 13.46830142,\n",
       "        17.18987006, 19.82559687, 19.42271032, 11.8653222 , 13.33229984,\n",
       "        16.70736967, 14.75403444, 15.54044361, 13.05464635, 10.38134909,\n",
       "        17.05067929, 18.83890461, 13.76903047, 11.36807352, 17.90873382,\n",
       "        16.08213094, 16.33718612, 17.17691405, 10.69942646, 18.95491242,\n",
       "        16.55087525, 18.35690804, 19.00778379, 10.1427753 , 19.22578239,\n",
       "        16.0467838 , 10.04056061, 17.00017808, 18.1530278 , 17.79973482,\n",
       "        12.50202831, 10.83799385, 11.20113796, 11.6751409 , 18.38583965,\n",
       "        11.7524547 , 15.14060946, 11.61566708, 15.21006578, 19.67829671,\n",
       "        13.18198414, 18.01461846, 19.5368536 , 11.41021421, 11.32777376,\n",
       "        15.50011405, 10.78664733, 11.18334697, 13.5857463 , 12.62509407,\n",
       "        11.25191512, 17.81277548, 17.07834309, 17.39948359, 19.60759118,\n",
       "        13.30864187, 10.67973517, 15.18845077, 10.31506568, 17.0732346 ,\n",
       "        11.88211701, 13.03361402, 11.03586356, 15.98372052, 14.70374746,\n",
       "        13.84592671, 15.37625159, 11.06361796, 16.64905931, 19.57102384,\n",
       "        12.40912803, 12.80455937, 12.58478357, 12.59957538, 13.40651477,\n",
       "        14.64604168, 19.67300838, 15.56063898, 17.19683423, 12.6482983 ])}"
      ]
     },
     "execution_count": 64,
     "metadata": {},
     "output_type": "execute_result"
    }
   ],
   "source": [
    "spreadsheet"
   ]
  },
  {
   "cell_type": "markdown",
   "metadata": {},
   "source": [
    "## Data Science"
   ]
  },
  {
   "cell_type": "markdown",
   "metadata": {},
   "source": [
    "Python is used extensively with data science.  The pandas library is a powerful tool for data manipulation and analysis.  It is built on top of numpy and matplotlib.  "
   ]
  },
  {
   "cell_type": "code",
   "execution_count": 63,
   "metadata": {},
   "outputs": [
    {
     "data": {
      "text/html": [
       "<div>\n",
       "<style scoped>\n",
       "    .dataframe tbody tr th:only-of-type {\n",
       "        vertical-align: middle;\n",
       "    }\n",
       "\n",
       "    .dataframe tbody tr th {\n",
       "        vertical-align: top;\n",
       "    }\n",
       "\n",
       "    .dataframe thead th {\n",
       "        text-align: right;\n",
       "    }\n",
       "</style>\n",
       "<table border=\"1\" class=\"dataframe\">\n",
       "  <thead>\n",
       "    <tr style=\"text-align: right;\">\n",
       "      <th></th>\n",
       "      <th>time</th>\n",
       "      <th>temperature</th>\n",
       "      <th>pressure</th>\n",
       "    </tr>\n",
       "  </thead>\n",
       "  <tbody>\n",
       "    <tr>\n",
       "      <th>0</th>\n",
       "      <td>0.000000</td>\n",
       "      <td>28.958489</td>\n",
       "      <td>13.324627</td>\n",
       "    </tr>\n",
       "    <tr>\n",
       "      <th>1</th>\n",
       "      <td>0.010101</td>\n",
       "      <td>38.697482</td>\n",
       "      <td>12.478821</td>\n",
       "    </tr>\n",
       "    <tr>\n",
       "      <th>2</th>\n",
       "      <td>0.020202</td>\n",
       "      <td>37.904230</td>\n",
       "      <td>12.825683</td>\n",
       "    </tr>\n",
       "    <tr>\n",
       "      <th>3</th>\n",
       "      <td>0.030303</td>\n",
       "      <td>30.322648</td>\n",
       "      <td>19.486270</td>\n",
       "    </tr>\n",
       "    <tr>\n",
       "      <th>4</th>\n",
       "      <td>0.040404</td>\n",
       "      <td>31.058499</td>\n",
       "      <td>19.643238</td>\n",
       "    </tr>\n",
       "  </tbody>\n",
       "</table>\n",
       "</div>"
      ],
      "text/plain": [
       "       time  temperature   pressure\n",
       "0  0.000000    28.958489  13.324627\n",
       "1  0.010101    38.697482  12.478821\n",
       "2  0.020202    37.904230  12.825683\n",
       "3  0.030303    30.322648  19.486270\n",
       "4  0.040404    31.058499  19.643238"
      ]
     },
     "execution_count": 63,
     "metadata": {},
     "output_type": "execute_result"
    }
   ],
   "source": [
    "import pandas as pd\n",
    "df = pd.DataFrame(spreadsheet)\n",
    "df.head()"
   ]
  },
  {
   "cell_type": "code",
   "execution_count": 68,
   "metadata": {},
   "outputs": [],
   "source": [
    "#generate a third column based on the values in the first two columns\n",
    "df['density'] = df['pressure']*1e4/(df['temperature']+273)*0.04"
   ]
  },
  {
   "cell_type": "code",
   "execution_count": 69,
   "metadata": {},
   "outputs": [
    {
     "data": {
      "text/html": [
       "<div>\n",
       "<style scoped>\n",
       "    .dataframe tbody tr th:only-of-type {\n",
       "        vertical-align: middle;\n",
       "    }\n",
       "\n",
       "    .dataframe tbody tr th {\n",
       "        vertical-align: top;\n",
       "    }\n",
       "\n",
       "    .dataframe thead th {\n",
       "        text-align: right;\n",
       "    }\n",
       "</style>\n",
       "<table border=\"1\" class=\"dataframe\">\n",
       "  <thead>\n",
       "    <tr style=\"text-align: right;\">\n",
       "      <th></th>\n",
       "      <th>time</th>\n",
       "      <th>temperature</th>\n",
       "      <th>pressure</th>\n",
       "      <th>density</th>\n",
       "    </tr>\n",
       "  </thead>\n",
       "  <tbody>\n",
       "    <tr>\n",
       "      <th>0</th>\n",
       "      <td>0.000000</td>\n",
       "      <td>28.958489</td>\n",
       "      <td>13.324627</td>\n",
       "      <td>17.650939</td>\n",
       "    </tr>\n",
       "    <tr>\n",
       "      <th>1</th>\n",
       "      <td>0.010101</td>\n",
       "      <td>38.697482</td>\n",
       "      <td>12.478821</td>\n",
       "      <td>16.014016</td>\n",
       "    </tr>\n",
       "    <tr>\n",
       "      <th>2</th>\n",
       "      <td>0.020202</td>\n",
       "      <td>37.904230</td>\n",
       "      <td>12.825683</td>\n",
       "      <td>16.501136</td>\n",
       "    </tr>\n",
       "    <tr>\n",
       "      <th>3</th>\n",
       "      <td>0.030303</td>\n",
       "      <td>30.322648</td>\n",
       "      <td>19.486270</td>\n",
       "      <td>25.697085</td>\n",
       "    </tr>\n",
       "    <tr>\n",
       "      <th>4</th>\n",
       "      <td>0.040404</td>\n",
       "      <td>31.058499</td>\n",
       "      <td>19.643238</td>\n",
       "      <td>25.841393</td>\n",
       "    </tr>\n",
       "  </tbody>\n",
       "</table>\n",
       "</div>"
      ],
      "text/plain": [
       "       time  temperature   pressure    density\n",
       "0  0.000000    28.958489  13.324627  17.650939\n",
       "1  0.010101    38.697482  12.478821  16.014016\n",
       "2  0.020202    37.904230  12.825683  16.501136\n",
       "3  0.030303    30.322648  19.486270  25.697085\n",
       "4  0.040404    31.058499  19.643238  25.841393"
      ]
     },
     "execution_count": 69,
     "metadata": {},
     "output_type": "execute_result"
    }
   ],
   "source": [
    "df.head()"
   ]
  },
  {
   "cell_type": "code",
   "execution_count": 76,
   "metadata": {},
   "outputs": [
    {
     "data": {
      "text/plain": [
       "Text(0.5, 0, 'Time')"
      ]
     },
     "execution_count": 76,
     "metadata": {},
     "output_type": "execute_result"
    },
    {
     "data": {
      "image/png": "[encoded data removed]",
      "text/plain": [
       "<Figure size 640x480 with 1 Axes>"
      ]
     },
     "metadata": {},
     "output_type": "display_data"
    }
   ],
   "source": [
    "#plot the data\n",
    "plt = df.plot(x='time',y=['temperature','pressure','density'])\n",
    "plt.set_ylabel('Temperature, Pressure, Density')\n",
    "plt.set_xlabel('Time')"
   ]
  },
  {
   "cell_type": "code",
   "execution_count": null,
   "metadata": {},
   "outputs": [],
   "source": []
  }
 ],
 "metadata": {
  "kernelspec": {
   "display_name": "Python 3",
   "language": "python",
   "name": "python3"
  },
  "language_info": {
   "codemirror_mode": {
    "name": "ipython",
    "version": 3
   },
   "file_extension": ".py",
   "mimetype": "text/x-python",
   "name": "python",
   "nbconvert_exporter": "python",
   "pygments_lexer": "ipython3",
   "version": "3.9.16"
  }
 },
 "nbformat": 4,
 "nbformat_minor": 2
}