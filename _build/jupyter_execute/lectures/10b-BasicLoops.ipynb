{
 "cells": [
  {
   "cell_type": "markdown",
   "id": "406c2102",
   "metadata": {},
   "source": [
    "# We love loops because they go round and round"
   ]
  },
  {
   "cell_type": "code",
   "execution_count": 1,
   "id": "8d8b65cb",
   "metadata": {},
   "outputs": [
    {
     "name": "stdout",
     "output_type": "stream",
     "text": [
      "5050\n"
     ]
    }
   ],
   "source": [
    "mysum = 0\n",
    "for i in range(0,101):\n",
    "    #mysum = mysum + i\n",
    "    mysum += i\n",
    "print(mysum)"
   ]
  },
  {
   "cell_type": "code",
   "execution_count": 2,
   "id": "ef1b44a5",
   "metadata": {},
   "outputs": [],
   "source": [
    "import numpy as np"
   ]
  },
  {
   "cell_type": "code",
   "execution_count": 3,
   "id": "b29822cb",
   "metadata": {},
   "outputs": [
    {
     "name": "stdout",
     "output_type": "stream",
     "text": [
      "[0, 1, 2, 3, 4, 5, 6, 7, 8, 9, 10, 11, 12, 13, 14, 15, 16, 17, 18, 19, 20, 21, 22, 23, 24, 25, 26, 27, 28, 29, 30, 31, 32, 33, 34, 35, 36, 37, 38, 39, 40, 41, 42, 43, 44, 45, 46, 47, 48, 49, 50, 51, 52, 53, 54, 55, 56, 57, 58, 59, 60, 61, 62, 63, 64, 65, 66, 67, 68, 69, 70, 71, 72, 73, 74, 75, 76, 77, 78, 79, 80, 81, 82, 83, 84, 85, 86, 87, 88, 89, 90, 91, 92, 93, 94, 95, 96, 97, 98, 99, 100]\n"
     ]
    }
   ],
   "source": [
    "#first make empty array\n",
    "numbers = []\n",
    "for i in range(0,101):\n",
    "    numbers.append(i)\n",
    "print(numbers)"
   ]
  },
  {
   "cell_type": "code",
   "execution_count": 4,
   "id": "485379eb",
   "metadata": {},
   "outputs": [
    {
     "name": "stdout",
     "output_type": "stream",
     "text": [
      "5050\n"
     ]
    }
   ],
   "source": [
    "summation = 0\n",
    "for number in numbers:\n",
    "    summation += \\\n",
    "    number #this is the same as summation = summation + number\n",
    "print(summation)"
   ]
  },
  {
   "cell_type": "code",
   "execution_count": 5,
   "id": "e0f1c4d8",
   "metadata": {},
   "outputs": [
    {
     "data": {
      "text/plain": [
       "5050"
      ]
     },
     "execution_count": 5,
     "metadata": {},
     "output_type": "execute_result"
    }
   ],
   "source": [
    "sum(numbers)"
   ]
  },
  {
   "cell_type": "code",
   "execution_count": 6,
   "id": "fe747e91",
   "metadata": {},
   "outputs": [
    {
     "data": {
      "text/plain": [
       "29.154759474226502"
      ]
     },
     "execution_count": 6,
     "metadata": {},
     "output_type": "execute_result"
    }
   ],
   "source": [
    "np.array(numbers).std()"
   ]
  },
  {
   "cell_type": "code",
   "execution_count": 7,
   "id": "4a2e031d",
   "metadata": {},
   "outputs": [
    {
     "data": {
      "text/plain": [
       "29.154759474226502"
      ]
     },
     "execution_count": 7,
     "metadata": {},
     "output_type": "execute_result"
    }
   ],
   "source": [
    "np.arange(0,101,1).std()"
   ]
  },
  {
   "cell_type": "code",
   "execution_count": 8,
   "id": "4a22395c",
   "metadata": {},
   "outputs": [
    {
     "ename": "NameError",
     "evalue": "name 'summ' is not defined",
     "output_type": "error",
     "traceback": [
      "\u001b[0;31m---------------------------------------------------------------------------\u001b[0m",
      "\u001b[0;31mNameError\u001b[0m                                 Traceback (most recent call last)",
      "Cell \u001b[0;32mIn[8], line 1\u001b[0m\n\u001b[0;32m----> 1\u001b[0m \u001b[38;5;28mprint\u001b[39m(\u001b[43msumm\u001b[49m)\n",
      "\u001b[0;31mNameError\u001b[0m: name 'summ' is not defined"
     ]
    }
   ],
   "source": [
    "\n",
    "print(summ)"
   ]
  },
  {
   "cell_type": "code",
   "execution_count": 47,
   "id": "c966b02b",
   "metadata": {},
   "outputs": [],
   "source": [
    "#define function to sum number from 0 to 100\n",
    "def summ0_100():\n",
    "    n = 0; summ = 0; summ_previous = 0\n",
    "    while n < 100:\n",
    "        n = n + 1\n",
    "        summ += n\n",
    "        if summ <= summ_previous:\n",
    "            break\n",
    "        summ_previous = summ\n",
    "    print(summ)"
   ]
  },
  {
   "cell_type": "code",
   "execution_count": 48,
   "id": "3b6b9307",
   "metadata": {},
   "outputs": [
    {
     "name": "stdout",
     "output_type": "stream",
     "text": [
      "5050\n"
     ]
    }
   ],
   "source": [
    "summ0_100()"
   ]
  },
  {
   "cell_type": "code",
   "execution_count": 50,
   "id": "9c72c09b",
   "metadata": {},
   "outputs": [
    {
     "name": "stdout",
     "output_type": "stream",
     "text": [
      "5050\n",
      "5050\n",
      "5050\n",
      "5050\n",
      "5050\n",
      "5050\n",
      "5050\n",
      "5050\n",
      "5050\n",
      "5050\n"
     ]
    }
   ],
   "source": [
    "for i in range(10):\n",
    "    summ0_100()"
   ]
  },
  {
   "cell_type": "code",
   "execution_count": null,
   "id": "4da3bf47",
   "metadata": {},
   "outputs": [],
   "source": []
  }
 ],
 "metadata": {
  "kernelspec": {
   "display_name": "Python 3 (ipykernel)",
   "language": "python",
   "name": "python3"
  },
  "language_info": {
   "codemirror_mode": {
    "name": "ipython",
    "version": 3
   },
   "file_extension": ".py",
   "mimetype": "text/x-python",
   "name": "python",
   "nbconvert_exporter": "python",
   "pygments_lexer": "ipython3",
   "version": "3.9.16"
  }
 },
 "nbformat": 4,
 "nbformat_minor": 5
}