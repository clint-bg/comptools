{
 "cells": [
  {
   "cell_type": "markdown",
   "metadata": {},
   "source": [
    "# HW19: Ansys Workbench Practice\n"
   ]
  },
  {
   "cell_type": "markdown",
   "metadata": {},
   "source": [
    "## Problem 1: \n",
    "\n",
    "Follow the example calculation for the transient conduction problem (using odeint) as outlined in the lecture (https://clint-bg.github.io/comptools/lectures/20-Ansys.htmlLinks) to complete a similar 1D heat conduction problem but instead of a given temperature at both ends, set the left most element to a heat transfer rate of 10 W and the other end to a temperature of 25C. Plot contours of the temperature every 5 seconds up to 20 seconds. Assume the 20 cm length and 1cm diameter rod is made of plastic with a thermal diffusivity (alpha) of 0.1 mm^2/sec. The initial temperature of the entire rod is 25C. Submit a pdf of your executed python code. Roughly how long before the heated end starts to melt? (>200C). \n",
    "\n",
    "Hints: \n",
    "\n",
    "- Your left most dT/dt will be equal to 10 W (and divided by the  product of the plastic density (1.1 g/cc), the heat capacity (1.8 J/g/K), and the volume of one element) + alpha*2*(T1-T0)/Dx^2:\n",
    "\n",
    "$$\n",
    "10/(1.1*1.8*dx*area/1e3) + alpha*2*(T[1]-T[0])/(dx**2)\n",
    "$$\n",
    "\n",
    "- You'll want to setup an array of temperatures for the end element that correspond to the different times\n",
    "- You can use CubicSpline or another interpolation function to estimate the time at which the temperature of the end element reaches 200\n",
    "\n",
    "## Problem 2:\n",
    "\n",
    "Simulate a heat flux of 100 watts to the bottom surface of your Erlenmeyer flash model you made in Solidworks. Model the rest of the surfaces with a convection heat transfer boundary condition with a 125 W/m2/K heat transfer coefficient. Complete the simulation as a stead state thermal solution and output a picture of the result showing the steady state temperatures. Submit an image of your results.\n",
    "\n",
    "## Problem 3:\n",
    "\n",
    "Describe how you could use your python code or Ansys Workbench simulation to estimate the heat flux from a flame using a small insulated copper rod."
   ]
  },
  {
   "cell_type": "markdown",
   "metadata": {},
   "source": []
  }
 ],
 "metadata": {
  "language_info": {
   "codemirror_mode": {
    "name": "ipython",
    "version": 3
   },
   "file_extension": ".py",
   "mimetype": "text/x-python",
   "name": "python",
   "nbconvert_exporter": "python",
   "pygments_lexer": "ipython3",
   "version": "3.9.16"
  }
 },
 "nbformat": 4,
 "nbformat_minor": 2
}