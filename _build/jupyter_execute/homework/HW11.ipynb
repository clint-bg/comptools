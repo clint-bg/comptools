{
 "cells": [
  {
   "cell_type": "markdown",
   "metadata": {},
   "source": [
    "# HW11: Regression and Interpolation\n",
    "Regression is an important skill to use data to create a relationship that could be used to describe that data."
   ]
  },
  {
   "cell_type": "markdown",
   "metadata": {},
   "source": [
    "## Problem 1: Rate Equation and Fitting\n",
    "The Arrhenius Equation relates the rate equation of a reaction to the temperature of the reaction. The equation is given by:\n",
    "\n",
    "$$\n",
    "k = A e^{-E_a/RT}\n",
    "$$\n",
    "\n",
    "where $k$ is the rate constant, $A$ is the pre-exponential factor, $E_a$ is the activation energy, $R$ is the gas constant, and $T$ is the temperature in Kelvin.\n"
   ]
  },
  {
   "cell_type": "markdown",
   "metadata": {},
   "source": [
    "For a first order reaction, the rate equation is given by:\n",
    "\n",
    "$$\n",
    "r = -\\frac{dC_A}{dt} = k C_A\n",
    "$$\n",
    "\n",
    "where $C_A$ is the concentration of species $A$."
   ]
  },
  {
   "cell_type": "code",
   "execution_count": 1,
   "metadata": {},
   "outputs": [],
   "source": [
    "import numpy as np\n",
    "import matplotlib.pyplot as plt"
   ]
  },
  {
   "cell_type": "code",
   "execution_count": 2,
   "metadata": {},
   "outputs": [],
   "source": [
    "#Data from research team\n",
    "Temp = np.array([100, 110, 120, 130, 140, 150, 160, 170, 180])\n",
    "k = np.array([8031385.90210512,  9172549.4982323 , 15836234.10003797, \\\n",
    "       18528434.62455682, 29494725.27289638, 28167947.98802359, \\\n",
    "       33220622.03710192, 49115522.07065894, 51245134.59894557])"
   ]
  },
  {
   "cell_type": "code",
   "execution_count": 3,
   "metadata": {},
   "outputs": [
    {
     "ename": "NameError",
     "evalue": "name 'kA' is not defined",
     "output_type": "error",
     "traceback": [
      "\u001b[0;31m---------------------------------------------------------------------------\u001b[0m",
      "\u001b[0;31mNameError\u001b[0m                                 Traceback (most recent call last)",
      "Cell \u001b[0;32mIn[3], line 1\u001b[0m\n\u001b[0;32m----> 1\u001b[0m \u001b[38;5;28mlen\u001b[39m(\u001b[43mkA\u001b[49m), \u001b[38;5;28mlen\u001b[39m(Temp)\n",
      "\u001b[0;31mNameError\u001b[0m: name 'kA' is not defined"
     ]
    }
   ],
   "source": [
    "len(kA), len(Temp)"
   ]
  },
  {
   "cell_type": "code",
   "execution_count": 12,
   "metadata": {},
   "outputs": [
    {
     "data": {
      "image/png": "[encoded data removed]",
      "text/plain": [
       "<Figure size 640x480 with 1 Axes>"
      ]
     },
     "metadata": {},
     "output_type": "display_data"
    }
   ],
   "source": [
    "plt.plot(Temp, k, 'o')\n",
    "plt.xlabel('Temperature (K)'); plt.ylabel('kA (1/s)')\n",
    "plt.show()"
   ]
  },
  {
   "cell_type": "markdown",
   "metadata": {},
   "source": [
    "**Action**, fit the above data to the Arrhenius equation and determine the pre-exponential factor and activation energy using the exponential function as written above, and the linearized version of the equation.  Determine the $E_a$ and $A$ values for each approach. The linearized version is: \n",
    "\n",
    "$$\n",
    "\\ln(k) = -\\frac{E_a}{R} \\frac{1}{T} + \\ln(A)\n",
    "$$\n",
    "\n",
    "where $\\ln$ is the natural log function. You'll fit the data by generating new variables where the x is 1/T and the y is ln(k). The slope is then $-E_a/R$ and the intercept is $\\ln(A)$.\n",
    "\n",
    "\n",
    "Hints:\n",
    "- Use the minimize or curve_fit functions to fit the original data to the Arrhenius equation after defining an Arrhenius function.\n",
    "- Use the polyfit function (order 1) to fit the linearized data to a linear equation.\n",
    "- Remember to convert the temperature to Kelvin before using it in the equations (Temp given in C. Temp in C + 273.15 = Temp in K)."
   ]
  },
  {
   "cell_type": "markdown",
   "metadata": {},
   "source": [
    "**Action**, plot the data and the two fits on the same graph.  Include a legend and label the axes."
   ]
  },
  {
   "cell_type": "markdown",
   "metadata": {},
   "source": [
    "**Action** Compare your answers by comparing the R2 and MAPE values for both approaches. \n",
    "\n",
    "Hint:\n",
    "- Make sure to make your comparisons on the original data, not the transformed data."
   ]
  },
  {
   "cell_type": "code",
   "execution_count": null,
   "metadata": {},
   "outputs": [],
   "source": []
  },
  {
   "cell_type": "code",
   "execution_count": null,
   "metadata": {},
   "outputs": [],
   "source": []
  },
  {
   "cell_type": "code",
   "execution_count": null,
   "metadata": {},
   "outputs": [],
   "source": []
  },
  {
   "cell_type": "markdown",
   "metadata": {},
   "source": [
    "## Problem 2: \n"
   ]
  },
  {
   "cell_type": "markdown",
   "metadata": {},
   "source": [
    "The data in HW10 P2 Data.csv contains data for the response of a \"first-order system with time delay\". Such data is used to create control devices to keep operations running correctly. (You will learn about this in ChEn 436, Process Control and Dynamics.) The model for a first-order system with time delay is given by:"
   ]
  },
  {
   "cell_type": "markdown",
   "metadata": {},
   "source": [
    "$$\n",
    "y(t) = 5 \\left(1 - e^{- (t-\\theta)/\\tau}\\right)S(t-\\theta)\n",
    "$$\n",
    "\n",
    "where $y(t)$ is the response, $t$ is the time, $\\theta$ is the time delay, $\\tau$ is the time constant, and $S(t)$ is the step function. The step function is defined as:\n",
    "\n",
    "$$\n",
    "S(t) = \\left\\{\n",
    "        \\begin{array}{ll}\n",
    "            0 & \\quad t < 0 \\\\\n",
    "            1 & \\quad t \\geq 0\n",
    "        \\end{array}\n",
    "    \\right.\n",
    "$$\n",
    "\n",
    "Note that in this case, the data is for t>0, so the step function is always 1."
   ]
  },
  {
   "cell_type": "markdown",
   "metadata": {},
   "source": [
    "Using Pandas, read in the data in the file `HW11_P2_Data.csv` found here: https://github.com/clint-bg/comptools/blob/main/homework/supportfiles/HW11_P2_Data.csv. The data is y as a function of time. "
   ]
  },
  {
   "cell_type": "markdown",
   "metadata": {},
   "source": [
    "**Action** Find the time constant and the time delay for the data.  Use the `curve_fit` function to fit the data to the model.  "
   ]
  },
  {
   "cell_type": "code",
   "execution_count": null,
   "metadata": {},
   "outputs": [],
   "source": []
  },
  {
   "cell_type": "markdown",
   "metadata": {},
   "source": [
    "**Action**\n",
    "Plot the data and the fit on the same graph.  Include a legend and label the axes."
   ]
  },
  {
   "cell_type": "code",
   "execution_count": null,
   "metadata": {},
   "outputs": [],
   "source": []
  },
  {
   "cell_type": "markdown",
   "metadata": {},
   "source": [
    "**Action**\n",
    "Determine the R2 and MAPE values for the fit."
   ]
  },
  {
   "cell_type": "code",
   "execution_count": null,
   "metadata": {},
   "outputs": [],
   "source": []
  },
  {
   "cell_type": "markdown",
   "metadata": {},
   "source": [
    "## Problem 3: "
   ]
  },
  {
   "cell_type": "markdown",
   "metadata": {},
   "source": [
    "Interpolation is used to estimate values between known data points.  In this problem, you will use interpolation to estimate the value of a function at a point between two known data points.  \n",
    "\n",
    "The steam tables list the values of multiple properties at various temperatures at intervals of 10C. For example, the below table lists the enthalpy of water at various temperatures (made up data).\n",
    "\n",
    "| Temperature (C) | Enthalpy (kJ/kg) |\n",
    "|-----------------|------------------|\n",
    "| 0               | 2500.9           |\n",
    "| 10              | 2510.4           |\n",
    "| 20              | 2520.0           |\n",
    "| 30              | 2529.7           |\n",
    "| 40              | 2539.5           |\n",
    "| 50              | 2549.4           |\n",
    "| 60              | 2559.4           |\n",
    "| 70              | 2569.5           |"
   ]
  },
  {
   "cell_type": "markdown",
   "metadata": {},
   "source": [
    "**Action** Use interp1D and cubic spline methods to estimate the enthalpy at 25C.  The interp1D method was discussed in class. The cubic spline method can be found online here: https://docs.scipy.org/doc/scipy/reference/generated/scipy.interpolate.CubicSpline.html. "
   ]
  },
  {
   "cell_type": "markdown",
   "metadata": {},
   "source": [
    "**Action** Compare and comment on the results of the two methods."
   ]
  },
  {
   "cell_type": "markdown",
   "metadata": {},
   "source": []
  }
 ],
 "metadata": {
  "kernelspec": {
   "display_name": "Python 3",
   "language": "python",
   "name": "python3"
  },
  "language_info": {
   "codemirror_mode": {
    "name": "ipython",
    "version": 3
   },
   "file_extension": ".py",
   "mimetype": "text/x-python",
   "name": "python",
   "nbconvert_exporter": "python",
   "pygments_lexer": "ipython3",
   "version": "3.9.16"
  }
 },
 "nbformat": 4,
 "nbformat_minor": 2
}