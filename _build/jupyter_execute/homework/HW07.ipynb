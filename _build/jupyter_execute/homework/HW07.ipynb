{
 "cells": [
  {
   "attachments": {},
   "cell_type": "markdown",
   "metadata": {},
   "source": [
    "# HW07: Additional Practice"
   ]
  },
  {
   "attachments": {},
   "cell_type": "markdown",
   "metadata": {},
   "source": [
    "## Problem 1\n",
    "This problem reviews the use of non-linear solvers. You can use any numerical non-linear solver. Below is an image of a portion of a pipe network with pipes label P1, P2, and P3. Fluid enters the left and then exits at the right through both P2 and P3. Each of those pipes have different properties (lengths, diameters, and roughness).\n",
    "\n",
    "<img src=\"https://github.com/clint-bg/comptools/blob/main/homework/supportfiles/basicpipenetwork.png?raw=true\" width=\"300\">"
   ]
  },
  {
   "attachments": {},
   "cell_type": "markdown",
   "metadata": {},
   "source": [
    "Create a class called `pipeClass` using param.Parameterized that has the following properties:\n",
    "- length (m)\n",
    "- diameter (m)\n",
    "- roughness (m)\n",
    "- velocity (m/s)\n",
    "- a function called `frictionFactor` that returns the friction factor for the pipe using the Colebrook-White equation\n",
    "- a function called `reynoldsNumber` that returns the Reynolds number for the pipe\n"
   ]
  },
  {
   "attachments": {},
   "cell_type": "markdown",
   "metadata": {},
   "source": [
    "Now create three pipe objects with the following properties:\n",
    "| Pipe | Length (m) | Diameter (m) | Roughness (m) |\n",
    "|------|------------|--------------|---------------|\n",
    "| P1   | 100        | 0.5          | 0.0001        |\n",
    "| P2   | 200        | 0.25         | 0.00001       |\n",
    "| P3   | 50         | 0.75         | 0.0001        |\n",
    "\n",
    "Other System Properties:\n",
    "- The total flow rate through the system is 0.1 m^3/s\n",
    "- The fluid is water at 20 C\n",
    "- The fluid is turbulent (Re > 4000)\n",
    "\n",
    "\n",
    "Then setup your function to solve for the velocity in each pipe. The velocity in each pipe will be different such that the total pressure drop through P1 and P3 is equal to P1 and P2.\n",
    "\n",
    "Report the flow velocity in each pipe and verify that the flow is indeed turbulent(Re > 4000). Also report the total pressure drop through the system (P1 + P3) and verify that it is equal to the pressure drop through P1 and P2. There are examples in the [Equations to Solve Problem Lecture](lectures/03-Equations.ipynb)."
   ]
  },
  {
   "cell_type": "code",
   "execution_count": null,
   "metadata": {},
   "outputs": [],
   "source": []
  },
  {
   "attachments": {},
   "cell_type": "markdown",
   "metadata": {},
   "source": [
    "## Problem 2\n",
    "Solve this same problem in Microsoft Excel."
   ]
  },
  {
   "attachments": {},
   "cell_type": "markdown",
   "metadata": {},
   "source": []
  }
 ],
 "metadata": {
  "language_info": {
   "codemirror_mode": {
    "name": "ipython",
    "version": 3
   },
   "file_extension": ".py",
   "mimetype": "text/x-python",
   "name": "python",
   "nbconvert_exporter": "python",
   "pygments_lexer": "ipython3",
   "version": "3.9.16"
  }
 },
 "nbformat": 4,
 "nbformat_minor": 2
}