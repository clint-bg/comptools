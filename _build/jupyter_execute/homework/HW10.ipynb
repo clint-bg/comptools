{
 "cells": [
  {
   "cell_type": "markdown",
   "metadata": {},
   "source": [
    "# HW10: More Practice Programming Loops and Functions\n",
    "You have seen For Loops in class and have written For Loops in some of the homework. This homework will give you more practice. You'll also gain more practice with functions as these problems will ask you to write functions that use For Loops."
   ]
  },
  {
   "cell_type": "markdown",
   "metadata": {},
   "source": [
    "## Problem 1 (2 points): \n",
    "Write a function called `factorial` that calculates the factorial of an integer number `n`.  Remember that factorial 10  = 10*9*8*7*6*5*4*3*2*1. You're function should return the factorial of the number `n` passed to it.  You can assume that `n` will be a positive integer. \n",
    "\n",
    "Once you have written your function with your loop inside (HA! Don't just call math.factorial inside the function, you have to write the loop yourself), test it out by calling it with the values 5, 10, and 20. Print out the results with the comparison to the math.factorial function such that the printout looks similar to:\n",
    "\n",
    "print(f'The factorial of 5 is {factorial(5)}.  The math.factorial function returns {math.factorial(5)}. Are they the same? {factorial(5) == math.factorial(5)}') and similar for 10 and 20.\n",
    "\n",
    "The code should return a statement that says \"Please enter a positive integer\" if the user enters a negative number or zero.  You can do this with an if statement.\n",
    "\n",
    "Include a default value for the parameter `n` in your function definition so that if the user does not pass a value to the function, the function will return the factorial of 3.  Test this out by calling the function with no value passed to it."
   ]
  },
  {
   "cell_type": "code",
   "execution_count": null,
   "metadata": {},
   "outputs": [],
   "source": []
  },
  {
   "cell_type": "markdown",
   "metadata": {},
   "source": [
    "## Problem 2: While Loop (3 points)\n",
    "In the lecture we used a while loop to estimate the probability of a random walk ending at the 10th location of a 1 dimensional random walk given the starting location and that the random walk ends if it reaches the 0th or 10th location.\n",
    "\n",
    "Here, write a function called `random_walk` that takes two parameters: `start` and `end`.  The function should return the number of steps it takes to reach the `end` location starting from the `start` location. The moves are either +1 or -1 on a one dimensional \"track\". For example, if you start at 6, a random move would move you either to 5 or 7. The random walk ends if it reaches the `end`. The random_walk function should return the number of steps taken. \n",
    "\n",
    "Run your function 100 times and calculate the average and standard deviation of the number of steps it takes to reach the `end` location starting from the `start` location, given a start location of 12 and an end location of 18.  Print out that average and standard deviation. (Hint: It's easier if you use arrays to store the number of steps it takes to reach the end location for each of the 100 random walks.  Then you can use the np.mean and np.std functions to calculate the average and standard deviation.)\n",
    "\n",
    "Make sure you use a while loop in your function and you can use the np.random.choice([-1,1]) function to randomly choose a step of -1 or 1. Also add in a catch to stop the loop if the number of steps exceeds 100,000 using `break` in your loop.  "
   ]
  },
  {
   "cell_type": "code",
   "execution_count": null,
   "metadata": {},
   "outputs": [],
   "source": []
  },
  {
   "cell_type": "markdown",
   "metadata": {},
   "source": [
    "## Problem 3: Nested Loops (4 points)\n",
    "In class, we wrote a nested loop to calculate the diffusion coefficient of a particle undergoing a random walk.  The inner loop was for a given 'walk' with a certain number of steps. The outer loop was to loop over the total number of random walks.\n",
    "\n",
    "In this problem, modify the code given in class to include a third dimension z. Instead of only being able to move in x or y each step, now the particle can move in x,y,or z. Set the number of walks to 100 (instead of the 1000 as done in the lecture notes). Follow the lecture notes and calculate the diffusion coefficient. You don't need to plot the random walk, but you will plot the average squared distance versus the number of steps just like in the lecture. You'll then calculate the diffusion coefficient given the values used in the lecture. Print out the resulting diffusion coefficient.\n",
    "\n",
    "After finishing your calculation. Describe what this line is doing:\n",
    "`avesqdists = np.mean(sqdists,axis=0)`\n",
    "\n",
    "Hints: \n",
    "- Start with the 2D code from the lecture notes and modify it to include the third dimension.\n",
    "- To make a choice on which direction to move in, you can use the np.random.choice function with the options being [-1,0,1] for each of the x,y, and z directions. Then use if statements to move in the given direction.\n",
    "- You can remove the code that you don't need, i.e. the _loc variables.\n",
    "- Use the slopefit function to find the slope of the average squared distance versus the number of steps. (We'll talk about regression next class.)  The slope is related to the diffusion coefficient."
   ]
  },
  {
   "cell_type": "code",
   "execution_count": null,
   "metadata": {},
   "outputs": [],
   "source": []
  }
 ],
 "metadata": {
  "kernelspec": {
   "display_name": "Python 3",
   "language": "python",
   "name": "python3"
  },
  "language_info": {
   "codemirror_mode": {
    "name": "ipython",
    "version": 3
   },
   "file_extension": ".py",
   "mimetype": "text/x-python",
   "name": "python",
   "nbconvert_exporter": "python",
   "pygments_lexer": "ipython3",
   "version": "3.9.16"
  }
 },
 "nbformat": 4,
 "nbformat_minor": 2
}