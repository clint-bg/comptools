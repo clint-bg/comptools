{
 "cells": [
  {
   "cell_type": "markdown",
   "metadata": {},
   "source": [
    "# HW04: Debugging and Documentation"
   ]
  },
  {
   "cell_type": "markdown",
   "metadata": {},
   "source": [
    "Purposes of this assignment is to get more practice with the following:\n",
    "- If statements\n",
    "- For loops\n",
    "- Debugging\n",
    "- Function Calls\n",
    "- Using objects (class instance) and make a calculation using the objects attributes"
   ]
  },
  {
   "cell_type": "markdown",
   "metadata": {},
   "source": [
    "## Problem 1\n",
    "Write a Python function to calculate the Fibonacci sequence up to a given number n. The Fibonacci sequence is a series of numbers where each number is the sum of the two previous numbers. The first two numbers in the sequence are 0 and 1. So, the Fibonacci sequence for a given number n would be:"
   ]
  },
  {
   "cell_type": "code",
   "execution_count": 1,
   "metadata": {},
   "outputs": [],
   "source": [
    "def fibonacci(n):\n",
    "    if n < 0:\n",
    "        raise ValueError(\"n must be greater than 0\") \n",
    "    if n == 0:\n",
    "        return 0\n",
    "    elif n == 1:\n",
    "        return 1\n",
    "    else:\n",
    "        sum = 0\n",
    "        while n > 1:\n",
    "            sum += 1\n",
    "            n -= 1\n",
    "            return sum\n"
   ]
  },
  {
   "cell_type": "markdown",
   "metadata": {},
   "source": [
    "Can you fix the logical error in the above code?"
   ]
  },
  {
   "cell_type": "markdown",
   "metadata": {},
   "source": [
    "## Problem 2\n",
    "Explain how the below code is working. What is the purpose of the `if` statement? What is the purpose of the `for` loop? What is the purpose of the `return` statements?"
   ]
  },
  {
   "cell_type": "code",
   "execution_count": 2,
   "metadata": {},
   "outputs": [],
   "source": [
    "def is_prime(n):\n",
    "    if n <= 1:\n",
    "        return False\n",
    "    for i in range(2, n):\n",
    "        if n % i == 0:\n",
    "            return False\n",
    "    return True"
   ]
  },
  {
   "cell_type": "code",
   "execution_count": 3,
   "metadata": {},
   "outputs": [
    {
     "data": {
      "text/plain": [
       "True"
      ]
     },
     "execution_count": 3,
     "metadata": {},
     "output_type": "execute_result"
    }
   ],
   "source": [
    "is_prime(7)"
   ]
  },
  {
   "cell_type": "markdown",
   "metadata": {},
   "source": [
    "## Problem 3\n",
    "Please correct the logical error in the below code."
   ]
  },
  {
   "cell_type": "code",
   "execution_count": 4,
   "metadata": {},
   "outputs": [],
   "source": [
    "def max_of_list(list):\n",
    "    max_value = list[0]\n",
    "    for i in range(1, len(list)):\n",
    "        if list[i] > list[i-1]:\n",
    "            max_value = list[i]\n",
    "    return max_value"
   ]
  },
  {
   "cell_type": "code",
   "execution_count": 5,
   "metadata": {},
   "outputs": [
    {
     "data": {
      "text/plain": [
       "10"
      ]
     },
     "execution_count": 5,
     "metadata": {},
     "output_type": "execute_result"
    }
   ],
   "source": [
    "arrayexample = [3, 4, 5, 6, 7, 8, 9, 10] #this is an example test, you may want to run others\n",
    "max_of_list(arrayexample)"
   ]
  },
  {
   "cell_type": "code",
   "execution_count": 6,
   "metadata": {},
   "outputs": [
    {
     "name": "stdout",
     "output_type": "stream",
     "text": [
      "--- 4.1961669921875e-05 seconds ---\n",
      "--- 3.504753112792969e-05 seconds ---\n"
     ]
    }
   ],
   "source": [
    "#this returns how much CPU time the function took to run as compared to the internal max function\n",
    "import time\n",
    "start_time = time.time()\n",
    "max_of_list(arrayexample)\n",
    "print(\"--- %s seconds ---\" % (time.time() - start_time))\n",
    "start_time = time.time()\n",
    "max(arrayexample)\n",
    "print(\"--- %s seconds ---\" % (time.time() - start_time))\n"
   ]
  },
  {
   "cell_type": "markdown",
   "metadata": {},
   "source": [
    "It's good to discover the documentation of available packages so you don't reinvent the wheel less efficiently. There already is an internal max function that is faster. (At least when done right it is.)"
   ]
  },
  {
   "cell_type": "markdown",
   "metadata": {},
   "source": [
    "## Problem 4\n",
    "Fix the below code to reverse the order of the string "
   ]
  },
  {
   "cell_type": "code",
   "execution_count": 7,
   "metadata": {},
   "outputs": [],
   "source": [
    "def reverse_string(str):\n",
    "    reversed_str = \"\"\n",
    "    for i in range(len(str) - 1, 1, -1):\n",
    "        reversed_str += str[i]\n",
    "    return reversed_str"
   ]
  },
  {
   "cell_type": "code",
   "execution_count": 8,
   "metadata": {},
   "outputs": [
    {
     "data": {
      "text/plain": [
       "'god yzal eht revo spmuj xof nworb kciuq e'"
      ]
     },
     "execution_count": 8,
     "metadata": {},
     "output_type": "execute_result"
    }
   ],
   "source": [
    "reverse_string(\"The quick brown fox jumps over the lazy dog\")"
   ]
  },
  {
   "cell_type": "markdown",
   "metadata": {},
   "source": [
    "## Problem 5\n",
    "\n",
    "Define arrays for the following equations\n",
    "\n",
    "$$\n",
    "\\begin{align}\n",
    "y1 &= 2x−3 + 2x−1 \\\\\n",
    "y2 &= 2x−3 \\\\\n",
    "y3 &= 2x−1 \\\\\n",
    "\\end{align}\n",
    "$$\n",
    "\n",
    "where x ∈ [1E−2, 1E2] with at least 100 points in each array. Hint: Use the numpy function logspace.\n",
    "Plot t versus y1, y2, and y3 with the following formatting specifications, and save the plot as power law.pdf.\n",
    "- Make the plot a log-log plot.\n",
    "- Make the default font size 16.\n",
    "- Plot y1 as a black solid line of width 2, y2 as a blue dashed line of default width and y3 as a red dotted line of default width.\n",
    "- Label the x-axis with a symbol, σ.\n",
    "- Label the y-axis with the word “Energy”\n",
    "- Title the figure “Power-Law Crossover”\n",
    "- Change the x-axis limits to span from 1E−2 to 1E2 and the y-axis from 1E−5 to 1E5\n",
    "- Add a legend where y1 is labeled as “exact”, y2 is labeled as “large σ” and y3 is labeled as “small σ”.\n",
    "Hint. You are going to have to read the online documentation to learn how to do some of this formatting. I did this on purpose, so you can get comfortable doing this because it is an important skill.\n"
   ]
  },
  {
   "cell_type": "code",
   "execution_count": null,
   "metadata": {},
   "outputs": [],
   "source": []
  }
 ],
 "metadata": {
  "kernelspec": {
   "display_name": "Python 3",
   "language": "python",
   "name": "python3"
  },
  "language_info": {
   "codemirror_mode": {
    "name": "ipython",
    "version": 3
   },
   "file_extension": ".py",
   "mimetype": "text/x-python",
   "name": "python",
   "nbconvert_exporter": "python",
   "pygments_lexer": "ipython3",
   "version": "3.9.16"
  }
 },
 "nbformat": 4,
 "nbformat_minor": 2
}