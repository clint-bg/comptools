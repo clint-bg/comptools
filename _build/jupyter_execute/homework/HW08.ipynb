{
 "cells": [
  {
   "attachments": {},
   "cell_type": "markdown",
   "metadata": {
    "id": "LHdNQZox7398"
   },
   "source": [
    "# HW08: Solve Equations\n",
    "\n",
    "Systems of equations are solved by finding variable values that satisfy all of the equations. With linear systems of equations, there is typically a unique solution that is easy to solve, even for large-scale systems. Nonlinear equations can be more challenging to solve and may have multiple solutions. Variable bounds and a good initial guess are sometimes required for nonlinear systems of equations. This section is to solve systems of:\n",
    "\n",
    "* Linear systems of equations\n",
    "* Nonlinear systems of equations"
   ]
  },
  {
   "attachments": {},
   "cell_type": "markdown",
   "metadata": {
    "id": "0yqJXbBT739_"
   },
   "source": [
    "## Problem #1\n",
    "\n",
    "Solve the following systems of linear algebraic equations $\\left(A\\,x = b\\right)$ using matrix calculations such as:\n",
    "\n",
    "$\\left[ {\\begin{array}{cc} 1 & 2 \\\\ 1.5 & -1 \\\\ \\end{array} } \\right] \\left[ {\\begin{array}{c} x_0 \\\\ x_1 \\end{array} } \\right] = \\left[ {\\begin{array}{c} 0 \\\\ 0.5 \\end{array} } \\right]$\n",
    "\n",
    "An array is defined with square brackets as a list or numpy array.\n",
    "\n",
    "***Vector:*** A vector (1D array) is:\n",
    "\n",
    "$b = \\left[ {\\begin{array}{c} 0 \\\\ 0.5 \\end{array} } \\right]$\n",
    "\n",
    "and is defined as a list:\n",
    "\n",
    "```python\n",
    "b = [0,0.5]\n",
    "```\n",
    "\n",
    "or as a numpy array:\n",
    "\n",
    "```python\n",
    "b = np.array([0,0.5])\n",
    "```\n",
    "\n",
    "***Matrix:*** A matrix (2D array) is:\n",
    "\n",
    "$A = \\left[ {\\begin{array}{cc} 1 & 2 \\\\ 1.5 & -1 \\\\ \\end{array} } \\right]$\n",
    "\n",
    "and is defined as a list:\n",
    "\n",
    "```python\n",
    "A = [[1.0, 2.0],[1.5,-1.0]]\n",
    "```\n",
    "\n",
    "or as a numpy array:\n",
    "\n",
    "```python\n",
    "A = np.array([[1.0, 2.0],[1.5,-1.0]])\n",
    "```"
   ]
  },
  {
   "attachments": {},
   "cell_type": "markdown",
   "metadata": {
    "id": "d3pACSpX739_"
   },
   "source": [
    "***Solution Method #1:*** The solution to this set of equations can be found by inverting the matrix $A$ and multiplying by $b$ as $x=A^{-1}\\,b$.\n",
    "\n",
    "$\\left[ {\\begin{array}{c} x_0 \\\\ x_1 \\end{array} } \\right] = \\left[ {\\begin{array}{cc} 1 & 2 \\\\ 1.5 & -1 \\\\ \\end{array} } \\right]^{-1} \\left[ {\\begin{array}{c} 0 \\\\ 0.5 \\end{array} } \\right]$\n",
    "\n",
    "The inverse of a matrix can be found with the function ```np.linalg.inv```. Two matrices are multiplied together with the dot product with function ```np.dot```."
   ]
  },
  {
   "cell_type": "code",
   "execution_count": 1,
   "metadata": {
    "id": "Z0sxaPfa73-A",
    "outputId": "f2a381b5-752b-4bbb-840d-9454af3aa468"
   },
   "outputs": [
    {
     "name": "stdout",
     "output_type": "stream",
     "text": [
      "[ 0.25  -0.125]\n"
     ]
    }
   ],
   "source": [
    "# practice problem\n",
    "import numpy as np\n",
    "A = [[1.0, 2.0],[1.5,-1.0]]\n",
    "b = [0,0.5]\n",
    "invA = np.linalg.inv(A)\n",
    "x = np.dot(invA,b)\n",
    "print(x)"
   ]
  },
  {
   "attachments": {},
   "cell_type": "markdown",
   "metadata": {
    "id": "UVJYd9gT73-B"
   },
   "source": [
    "***Solution Method #2:*** The function ```np.linalg.solve``` can also be used to find ```x``` for linear systems of equations."
   ]
  },
  {
   "cell_type": "code",
   "execution_count": 2,
   "metadata": {
    "id": "b26sSllV73-B",
    "outputId": "68c15872-6515-4bd8-a3ff-df1c21f748b4"
   },
   "outputs": [
    {
     "name": "stdout",
     "output_type": "stream",
     "text": [
      "[ 0.25  -0.125]\n"
     ]
    }
   ],
   "source": [
    "x = np.linalg.solve(A,b)\n",
    "print(x)"
   ]
  },
  {
   "attachments": {},
   "cell_type": "markdown",
   "metadata": {
    "id": "NV4MOqfp73-B"
   },
   "source": [
    "***Parse Solution:*** Individual values can be accessed by referencing the specific location in the array. An array index starts with 0."
   ]
  },
  {
   "cell_type": "code",
   "execution_count": 3,
   "metadata": {
    "id": "su7cwIrJ73-B",
    "outputId": "f72ec562-52ed-4c92-9cee-c9ce4f199947"
   },
   "outputs": [
    {
     "name": "stdout",
     "output_type": "stream",
     "text": [
      "0.25\n"
     ]
    }
   ],
   "source": [
    "print(x[0])"
   ]
  },
  {
   "attachments": {},
   "cell_type": "markdown",
   "metadata": {
    "id": "AcF8_nG173-C"
   },
   "source": [
    "***Last Value in Array:*** The last value of this array can be accessed with ```x[1]``` or with ```x[-1]```."
   ]
  },
  {
   "cell_type": "code",
   "execution_count": 4,
   "metadata": {
    "id": "6ByxcYRO73-C",
    "outputId": "3a7d5cca-591a-43dc-d060-9c080e9ce1d4"
   },
   "outputs": [
    {
     "name": "stdout",
     "output_type": "stream",
     "text": [
      "-0.125\n",
      "-0.125\n"
     ]
    }
   ],
   "source": [
    "print(x[1])\n",
    "print(x[-1])"
   ]
  },
  {
   "attachments": {},
   "cell_type": "markdown",
   "metadata": {
    "id": "o1DoHqT573-C"
   },
   "source": [
    "***Array References:*** The second to last value of any array can be accessed with ```x[-2]```."
   ]
  },
  {
   "cell_type": "code",
   "execution_count": 5,
   "metadata": {
    "id": "-o_KMEp573-C",
    "outputId": "1322ca70-8bd3-4044-f9b1-f92005b2248e"
   },
   "outputs": [
    {
     "name": "stdout",
     "output_type": "stream",
     "text": [
      "0.25\n"
     ]
    }
   ],
   "source": [
    "print(x[-2])"
   ]
  },
  {
   "attachments": {},
   "cell_type": "markdown",
   "metadata": {
    "id": "Y-nrg4qD73-D"
   },
   "source": [
    "***Action:*** Find the values of ```x``` that satisfy the following system of linear equations ($A \\, x = b$):\n",
    "\n",
    "$\\left[ {\\begin{array}{ccccc} 11 & 7 & 0 & 1 & 2 \\\\ 0 & 5 & 2 & 0 & 1 \\\\ 3 & 2 & 7 & 1 & 0 \\\\ 4 & 0 & 4 & 10 & 1 \\\\ 2 & 5& 1 & 3 & 14 \\end{array} } \\right] \\left[ {\\begin{array}{c} x_0 \\\\ x_1 \\\\ x_2 \\\\ x_3 \\\\ x_4 \\end{array} } \\right] = \\left[ {\\begin{array}{c} 45 \\\\ 30 \\\\ 15 \\\\ 20 \\\\ 92 \\end{array} } \\right]$"
   ]
  },
  {
   "cell_type": "code",
   "execution_count": 6,
   "metadata": {
    "id": "-n5jjHKM73-D"
   },
   "outputs": [],
   "source": [
    "A = [[11.0, 7.0, 0.0,  1.0,  2.0],\\\n",
    "     [ 0.0, 5.0, 2.0,  0.0,  1.0],\\\n",
    "     [ 3.0, 2.0, 7.0,  1.0,  0.0],\\\n",
    "     [ 4.0, 0.0, 4.0, 10.0,  1.0],\\\n",
    "     [ 2.0, 5.0, 1.0,  3.0, 14.0]]\n",
    "b = [45.0, 30.0, 15.0, 20.0, 92.0]"
   ]
  },
  {
   "attachments": {},
   "cell_type": "markdown",
   "metadata": {
    "id": "U7oiybpk73-D"
   },
   "source": [
    "***Action:*** Solve the equations with a different method and compare the solution to the one above."
   ]
  },
  {
   "cell_type": "code",
   "execution_count": null,
   "metadata": {
    "id": "ToOCIU6573-D"
   },
   "outputs": [],
   "source": []
  },
  {
   "attachments": {},
   "cell_type": "markdown",
   "metadata": {
    "id": "NECCyoP973-D"
   },
   "source": [
    "***Action:*** Print the last value of ```x```."
   ]
  },
  {
   "cell_type": "code",
   "execution_count": null,
   "metadata": {
    "id": "jWy9hukx73-D"
   },
   "outputs": [],
   "source": []
  },
  {
   "attachments": {},
   "cell_type": "markdown",
   "metadata": {
    "id": "7D3puAAO73-D"
   },
   "source": [
    "## Problem #2\n",
    "\n",
    "A nonlinear equation solver such as ```scipy.optimize.fsolve``` can also solve linear equations. Returning to the introductory example:\n",
    "\n",
    "$\\left[ {\\begin{array}{cc} 1 & 2 \\\\ 1.5 & -1 \\\\ \\end{array} } \\right] \\left[ {\\begin{array}{c} x_0 \\\\ x_1 \\end{array} } \\right] = \\left[ {\\begin{array}{c} 0 \\\\ 0.5 \\end{array} } \\right]$\n",
    "\n",
    "This is solved with ```fsolve``` by placing all of the equations to one side as:\n",
    "\n",
    "$\\left[ {\\begin{array}{cc} 1 & 2 \\\\ 1.5 & -1 \\\\ \\end{array} } \\right] \\left[ {\\begin{array}{c} x_0 \\\\ x_1 \\end{array} } \\right] - \\left[ {\\begin{array}{c} 0 \\\\ 0.5 \\end{array} } \\right] = \\left[ {\\begin{array}{c} f_0 \\\\ f_1 \\end{array} } \\right]$\n",
    "\n",
    "The equation is solved when $f_0$ and $f_1$ are equal to zero. The ```fsolve``` function requires a function that returns the residuals ($f_1$ and $f_2$)."
   ]
  },
  {
   "cell_type": "code",
   "execution_count": 7,
   "metadata": {
    "id": "9BITQPXo73-D"
   },
   "outputs": [],
   "source": [
    "#notice the use of the array or list to specify x0 and x1 (other variables may be specified like x and y in the equations as\n",
    "#variables and you'd still use the array of x[:] or you could use a tuple)\n",
    "def f(x):\n",
    "    f1 = x[0]+2*x[1]\n",
    "    f2 = 1.5*x[0]-x[1]-0.5\n",
    "    return [f1,f2]"
   ]
  },
  {
   "attachments": {},
   "cell_type": "markdown",
   "metadata": {
    "id": "iTGSbYil73-D"
   },
   "source": [
    "The function solver ```fsolve``` also needs an initial guess. A few guess values are evaluated below."
   ]
  },
  {
   "cell_type": "code",
   "execution_count": 8,
   "metadata": {
    "id": "w9mV4mFG73-D",
    "outputId": "73d11a36-9c56-4dd3-821d-5834dcab91bc"
   },
   "outputs": [
    {
     "name": "stdout",
     "output_type": "stream",
     "text": [
      "[0.0, -0.5]\n",
      "[1.5, -0.25]\n",
      "[1.0, 1.0]\n"
     ]
    }
   ],
   "source": [
    "# values of the function at a few points (guesses)\n",
    "print(f([0.0,0.0]))\n",
    "print(f([0.5,0.5]))\n",
    "print(f([1.0,0.0]))"
   ]
  },
  {
   "attachments": {},
   "cell_type": "markdown",
   "metadata": {
    "id": "81D0c16b73-D"
   },
   "source": [
    "Guess values for $x_0$ and $x_1$ are selected as ```[1,1]``` and ```fsolve``` finds the solution."
   ]
  },
  {
   "cell_type": "code",
   "execution_count": 9,
   "metadata": {
    "id": "VJ7nFUL573-E",
    "outputId": "adee1fca-2277-4c17-d9ae-757cf417ac03"
   },
   "outputs": [
    {
     "name": "stdout",
     "output_type": "stream",
     "text": [
      "[ 0.25  -0.125]\n"
     ]
    }
   ],
   "source": [
    "from scipy.optimize import fsolve\n",
    "x = fsolve(f,[1,1])\n",
    "print(x)"
   ]
  },
  {
   "cell_type": "code",
   "execution_count": 10,
   "metadata": {},
   "outputs": [
    {
     "name": "stdout",
     "output_type": "stream",
     "text": [
      "[ 0.25  -0.125]\n"
     ]
    }
   ],
   "source": [
    "#solving the same thing above using a tuple instead of an array\n",
    "def ftuple(p):\n",
    "    x,y = p #unpack the tuple\n",
    "    f1 = x+2*y\n",
    "    f2 = 1.5*x-y-0.5\n",
    "    return (f1,f2)\n",
    "xt = fsolve(ftuple,(1,1)) #pack the tuple for the guess value\n",
    "print(xt)"
   ]
  },
  {
   "attachments": {},
   "cell_type": "markdown",
   "metadata": {
    "id": "QUCpSo9u73-E"
   },
   "source": [
    "***Action:*** Determine one solution for $x$ and $y$ to the following equations (there are 4 possible solutions).\n",
    "\n",
    "$2 x^2 + y^2 = 1$\n",
    "\n",
    "$(0.5x-0.5)^2+2(y-0.25)^2=1$\n",
    "\n",
    "The initial guess can be adjusted to find a different solution."
   ]
  },
  {
   "cell_type": "code",
   "execution_count": null,
   "metadata": {
    "id": "mIZTd0dg73-E"
   },
   "outputs": [],
   "source": []
  },
  {
   "attachments": {},
   "cell_type": "markdown",
   "metadata": {
    "id": "bMleY0i673-E"
   },
   "source": [
    "## Problem #3\n",
    "\n",
    "The Redlich/Kwong Equation of State is\n",
    "\n",
    "$P = \\frac{R_g \\, T}{V-b} - \\frac{a}{T^{1/2} \\, V \\, \\left(V+b\\right)}$\n",
    "\n",
    "where $T$ is the temperature, $V$ is the molar volume, $R_g$ is the universal gas constant, and $a$ and $b$ are compound-specific constants.  \n",
    "\n",
    "A plot of the pressure as a function of the molar volume at a temperature of -87 C is shown below. Notice there are three roots at that temperature (three molar volumes where the curve yields 1 bar). The left most is the liquid phase and the right most is the vapor phase."
   ]
  },
  {
   "cell_type": "markdown",
   "metadata": {},
   "source": [
    "<img src=\"https://github.com/clint-bg/comptools/blob/main/homework/supportfiles/HW6RKplot.png?raw=true\" width=\"600\">"
   ]
  },
  {
   "cell_type": "markdown",
   "metadata": {},
   "source": [
    "Find the molar volume of ethane for each phase (liquid and gas) that is present at $T = -87 \\, °C$ and $P = 1 \\, bar$.  For ethane, $a = 2.877×10^8 \\, \\frac{cm^6 bar K^{0.5}}{mol^2}$ and $b = 60.211 \\, \\frac{cm^3}{mol}$.\n",
    "\n",
    "* Pay attention to units.\n",
    "* Use the ideal gas law to obtain the guess of the vapor volume.\n",
    "* Use a guess value of 1.01*b for the liquid volume.\n",
    "* You should obtain something around 16000 $cm^3/mol$ for the vapor volume and 55 $cm^3/mol$ for the liquid volume.  The middle root (not required but for your information) is around 60 $cm^3/mol$ (as shown in the above plot). \n",
    "* Compare your answer for the vapor volume (actual) to the ideal gas law (estimate) by calculating a percent error: (actual-estiate)/actual*100).\n",
    "* Also compare your answer for the liquid volume you solved for to the liquid volume of ethane at -87 °C (look up on the web or dippr). Also calculate a percent error."
   ]
  },
  {
   "cell_type": "code",
   "execution_count": 11,
   "metadata": {
    "id": "wU9tLODM73-E"
   },
   "outputs": [],
   "source": [
    "import numpy as np\n",
    "from scipy.optimize import fsolve\n",
    "\n",
    "# constants\n",
    "TC = -87 # degC\n",
    "P = 1e5 # Pa\n",
    "a = 2.877e8 # cm^6 bar K^0.5 / mol^2\n",
    "b = 60.211  # cm^3 / mol\n",
    "Rg = 83.144598 # cm^3 bar / K-mol\n",
    "# derived quantities\n",
    "TK = TC+273.15 # K\n",
    "\n",
    "# define function for fsolve\n",
    "def fRKP(V):\n",
    "    return # fill-in"
   ]
  },
  {
   "attachments": {},
   "cell_type": "markdown",
   "metadata": {
    "id": "Kh3Ll4g173-E"
   },
   "source": [
    "## Problem #4\n",
    "\n",
    "Imagine mixing liquid benzene (species 1) and toluene (species 2) together in an initially empty container. At equilibrium, some of the liquid from both species evaporates into the vapor phase and some is left liquid phase for certain temperatures and pressures. In thermodynamics, you learn that Raoult’s law may be used to describe the distribution of species in each phase. For the specific example mentioned above, Raoult’s law gives the following two expressions describing the equilibrium state\n",
    "\n",
    "$$\n",
    "\\begin{align}\n",
    "y_1 P = x_1 P_1^{sat}(T) \\\\\n",
    "y_2 P = x_2 P_2^{sat}(T)\n",
    "\\end{align}\n",
    "$$\n",
    "\n",
    "where $y_i$ is the mole fraction of species $i$ (either 1 or 2) in the vapor phase, $x_i$ is the mole fraction of species $i$ in the liquid phase, $P_i^{sat}(T)$ is the vapor pressure of species $i$ at the system temperature $T$, and $P$ is the system pressure.\n",
    "\n",
    "The vapor pressures of benzene and toluene can be found using the Antione Equation given below:\n",
    "\n",
    "$$\n",
    "\\begin{equation}\n",
    "\\ln{\\left(P_i^{sat}(T) \\right)} = A_i - \\frac{B_i}{T+ C_i}\n",
    "\\end{equation}\n",
    "$$\n",
    "\n",
    "Note that $P_i^{sat}(T)$ is not $P_i^{sat}$ times $T$, but is simply showing that $P_i^{sat}$ is a function of $T$ in kPa.  The constants, $A$, $B$, and $C$, are compound specific and are found in the table below. $T$ is in $°C$ in the above equation.\n",
    "\n",
    "***Antoine Constants for Benzene and Toluene:***\n",
    "\n",
    "| Compound | A | B | C |\n",
    "| --- | --- | --- | --- |\n",
    "| Benzene | 13.7819 | 2726.81 | 217.572 |\n",
    "| Toluene | 13.9320 | 3056.96 | 217.625 |\n",
    "\n",
    "**Setup Equations**\n",
    "\n",
    "Since the liquid (x's) and vapor (y's) mole fractions must sum to 1, we can write the following equations:\n",
    "\n",
    "$$\n",
    "\\begin{align}\n",
    "y_1 P = x_1 P_1^{sat}(T) \\\\\n",
    "(1-y_1) P = (1-x_1) P_2^{sat}(T)\n",
    "\\end{align}\n",
    "$$\n",
    "\n",
    "If a mixture of benzene (species 1) and toluene (species 2) has $y_1 = 0.33$ and $P = 120 \\, kPa$, find $x_1$ and $T$. \n",
    "\n",
    "* For full credit, you must use an object-oriented approach to solve this problem; meaning you need to define a class and have a Psat function as part of that class. That Psat function should be written such that all the parameters except for the temperature are defined by self. That is, def Psat(self,T): and then the function should return the vapor pressure referring to the self.antione coefficients in the function.\n",
    "* Use a guess value of 0.5 for $x_1$ and 100 °C for $T$.\n",
    "* You should get about 0.15 for $x_1$ and 110 °C for $T$.\n",
    "* Report the solved for $x_1$ and $T$ values."
   ]
  },
  {
   "cell_type": "code",
   "execution_count": null,
   "metadata": {
    "id": "rDq_5jPz73-E"
   },
   "outputs": [],
   "source": []
  },
  {
   "attachments": {},
   "cell_type": "markdown",
   "metadata": {},
   "source": [
    "Credit to Dr. John Hedengren for some of these problems."
   ]
  },
  {
   "attachments": {},
   "cell_type": "markdown",
   "metadata": {},
   "source": []
  }
 ],
 "metadata": {
  "colab": {
   "provenance": []
  },
  "kernelspec": {
   "display_name": "Python 3",
   "language": "python",
   "name": "python3"
  },
  "language_info": {
   "codemirror_mode": {
    "name": "ipython",
    "version": 3
   },
   "file_extension": ".py",
   "mimetype": "text/x-python",
   "name": "python",
   "nbconvert_exporter": "python",
   "pygments_lexer": "ipython3",
   "version": "3.9.16"
  }
 },
 "nbformat": 4,
 "nbformat_minor": 0
}