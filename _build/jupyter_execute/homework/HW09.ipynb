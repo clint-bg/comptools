{
 "cells": [
  {
   "cell_type": "markdown",
   "metadata": {},
   "source": [
    "# HW09: Additional Equation Solving Practice"
   ]
  },
  {
   "cell_type": "markdown",
   "metadata": {},
   "source": [
    "## Problem 1\n",
    "This problem reviews the use of non-linear solvers. You can use any numerical non-linear solver. Below is an image of a portion of a **horizonal** pipe network with pipes label P1, P2, and P3. Fluid enters the left and then exits at the right through both P2 and P3. Each of those pipes have different properties (lengths, diameters, and roughness). Your task is to solve for the flow in P2 and P3 given a flow in P1.\n",
    "\n",
    "<img src=\"https://github.com/clint-bg/comptools/blob/main/homework/supportfiles/basicpipenetwork.png?raw=true\" width=\"300\">"
   ]
  },
  {
   "cell_type": "markdown",
   "metadata": {},
   "source": [
    "**Action 1:** Create a class called `fluid` using param.Parameterized that has the following properties:\n",
    "- density (default of 1000 kg/m3)\n",
    "- mu (default of 1E-3 Pa-sec for viscosity)"
   ]
  },
  {
   "cell_type": "code",
   "execution_count": 1,
   "metadata": {},
   "outputs": [],
   "source": [
    "#Your code here"
   ]
  },
  {
   "cell_type": "markdown",
   "metadata": {},
   "source": [
    "**Action 2:** Create a class called `pipeClass` using param.Parameterized that has the following properties:\n",
    "- length (m)\n",
    "- diameter (m)\n",
    "- roughness (m)\n",
    "- flow (m3/s)\n",
    "- fluidinside (a fluid object with the default being the fluid default): specify with `fluidinside = param.Parameter(fluid())`. You can refer to the fluidinside density or mu with `self.fluidinside.density` or `self.fluidinside.mu`, respectively.\n",
    "- a function called `velocity` that returns the velocity of the fluid given `self.flow` and `self.diameter`: i.e. `velocity = self.flow/(np.pi/4*self.diameter**2)`\n",
    "- a function called `reynoldsNumber` that returns the Reynolds number for the pipe flow: i.e. `Re = self.velocity()*self.diameter*self.fluidinside.density/self.fluidinside.mu`\n",
    "    - for the Reynolds number, assume a density of 1000 kg/m3 and a viscosity of 1E-3 Pa*sec (the default fluid() parameters)\n",
    "- a function called `frictionFactor` that returns the friction factor for the pipe using the the Haaland Equation\n",
    "- a function to determine the `pressuredrop` in the horizontal pipe = $\\rho fLv^2/(2D)$. $\\rho$ is density, f the friction factor, L the length, v the velocity, D the diameter.\n",
    "\n",
    "All of the functions in the class need only be functions of self"
   ]
  },
  {
   "cell_type": "code",
   "execution_count": 2,
   "metadata": {},
   "outputs": [],
   "source": [
    "#Your code here"
   ]
  },
  {
   "cell_type": "markdown",
   "metadata": {},
   "source": [
    "**Action 3:** Now create three pipe objects with the following properties:\n",
    "| Pipe | Length (m) | Diameter (m) | Roughness (m) |\n",
    "|------|------------|--------------|---------------|\n",
    "| P1   | 100        | 0.5          | 0.0001        |\n",
    "| P2   | 200        | 0.25         | 0.00001       |\n",
    "| P3   | 50         | 0.75         | 0.0002        |\n",
    "\n",
    "Other System Properties:\n",
    "- The total flow rate through the system is 0.1 m^3/s\n",
    "- The fluid is water with the properties above referenced.\n",
    "- The fluid is turbulent (Re > 4000)"
   ]
  },
  {
   "cell_type": "code",
   "execution_count": 3,
   "metadata": {},
   "outputs": [],
   "source": [
    "#Your code here"
   ]
  },
  {
   "cell_type": "markdown",
   "metadata": {},
   "source": [
    "**Action 4:** Setup a function to calculate the pressure drop through P1 and a second pipe object with a given flow rate in the second pipe object using the above objects and their class functions, e.g. `def routepressuredrop(objectj,flowj):`. You can do this step with three lines of object based code."
   ]
  },
  {
   "cell_type": "code",
   "execution_count": 4,
   "metadata": {},
   "outputs": [],
   "source": [
    "#Your code here"
   ]
  },
  {
   "cell_type": "markdown",
   "metadata": {},
   "source": [
    "**Action 5:** Then setup a function to solve for the flow in each pipe. The flow in each pipe will be different such that the total pressure drop through P1 and P3 is equal to P1 and P2, e.g. `routepressuredrop(P2,flow2) = routepressuredrop(P3,flow3)`"
   ]
  },
  {
   "cell_type": "code",
   "execution_count": 5,
   "metadata": {},
   "outputs": [],
   "source": [
    "#Your code here"
   ]
  },
  {
   "cell_type": "markdown",
   "metadata": {},
   "source": [
    "**Action 6:** Report the flow rate in each pipe and verify that the flow is indeed turbulent(Re > 4000). Also report the total pressure drop through the system (P1 + P3) and verify that it is equal to the pressure drop through P1 and P2. "
   ]
  },
  {
   "cell_type": "code",
   "execution_count": 6,
   "metadata": {},
   "outputs": [],
   "source": [
    "#Results here"
   ]
  },
  {
   "cell_type": "markdown",
   "metadata": {},
   "source": [
    "Hopefully, this example shows you how using objects helps you keep track of the variables in your code. And that it helps reduce the errors made."
   ]
  },
  {
   "cell_type": "markdown",
   "metadata": {},
   "source": [
    "## Problem 2\n"
   ]
  },
  {
   "cell_type": "markdown",
   "metadata": {},
   "source": [
    "Program the same problem above without using objects. I started to do this for the key and I thought it would be rude of me to ask you to actually do this so this problem is a free-bee. I'm giving you the result for free below. It doesn't look as nice and organized as the code is above (especially if I don't name my variables nicely)."
   ]
  },
  {
   "cell_type": "code",
   "execution_count": 7,
   "metadata": {},
   "outputs": [],
   "source": [
    "from scipy.optimize import fsolve\n",
    "import numpy as np\n",
    "rho = 1000\n",
    "mu = 1e-3\n",
    "pipe1_length = 100\n",
    "pipe2_length = 200\n",
    "pipe3_length = 50\n",
    "pipe1_dia = 0.5\n",
    "pipe2_dia = 0.25\n",
    "pipe3_dia = 0.75\n",
    "pipe1_r = 0.0001\n",
    "pipe2_r = 0.00001\n",
    "pipe3_r = 0.0002\n",
    "pipe1_flow = 0.1"
   ]
  },
  {
   "cell_type": "code",
   "execution_count": 8,
   "metadata": {},
   "outputs": [],
   "source": [
    "def velocity(flow,D):\n",
    "    return flow/(np.pi/4*D**2)\n",
    "\n",
    "def Reynolds(D,v):\n",
    "    return rho * D * v/mu\n",
    "\n",
    "def frictionFactor(D,v,rough): #from Haaland equation\n",
    "    return (1/(-1.8*np.log10(6.9/Reynolds(D,v)+(rough/(3.7*D))**(10/9))))**2\n",
    "\n",
    "def pressuredrop(f,L,D,v):\n",
    "    return rho*f*L/D/2*v**2"
   ]
  },
  {
   "cell_type": "code",
   "execution_count": 9,
   "metadata": {},
   "outputs": [],
   "source": [
    "def legpressuredrop12(flow2):\n",
    "    p1drop = pressuredrop(frictionFactor(pipe1_dia,velocity(pipe1_flow,pipe1_dia),pipe1_r),pipe1_length,pipe1_dia,velocity(pipe1_flow,pipe1_dia))\n",
    "    p2drop = pressuredrop(frictionFactor(pipe2_dia,velocity(flow2,pipe2_dia),pipe2_r),pipe2_length,pipe2_dia,velocity(flow2,pipe2_dia))\n",
    "    return p1drop + p2drop"
   ]
  },
  {
   "cell_type": "code",
   "execution_count": 10,
   "metadata": {},
   "outputs": [],
   "source": [
    "def legpressuredrop13(flow3):\n",
    "    p1drop = pressuredrop(frictionFactor(pipe1_dia,velocity(pipe1_flow,pipe1_dia),pipe1_r),pipe1_length,pipe1_dia,velocity(pipe1_flow,pipe1_dia))\n",
    "    p3drop = pressuredrop(frictionFactor(pipe3_dia,velocity(flow3,pipe3_dia),pipe3_r),pipe3_length,pipe3_dia,velocity(flow3,pipe3_dia))\n",
    "    return p1drop + p3drop"
   ]
  },
  {
   "cell_type": "code",
   "execution_count": 11,
   "metadata": {},
   "outputs": [],
   "source": [
    "def eqh(flow2):\n",
    "    flow3 = pipe1_flow - flow2\n",
    "    return legpressuredrop12(flow2) - legpressuredrop13(flow3)"
   ]
  },
  {
   "cell_type": "code",
   "execution_count": 12,
   "metadata": {},
   "outputs": [],
   "source": [
    "pipe2_flow = fsolve(eqh,0.03)[0]"
   ]
  },
  {
   "cell_type": "code",
   "execution_count": 13,
   "metadata": {},
   "outputs": [
    {
     "data": {
      "text/plain": [
       "0.0024372371378035057"
      ]
     },
     "execution_count": 13,
     "metadata": {},
     "output_type": "execute_result"
    }
   ],
   "source": [
    "pipe2_flow"
   ]
  },
  {
   "cell_type": "markdown",
   "metadata": {},
   "source": [
    "By my count 32 lines of code without objects. 28 lines of code with objects. Which way do you like better? Why?\n",
    "\n",
    "`Your response here`"
   ]
  },
  {
   "cell_type": "markdown",
   "metadata": {},
   "source": [
    "## Problem 3\n",
    "In class we used lambda for an inline function: `f = lambda x: x**2 -5`. I can use a lambda function to define the arguments to use in a multivariable function as follows: "
   ]
  },
  {
   "cell_type": "markdown",
   "metadata": {},
   "source": [
    "**Example:** Solve this equation for y given: $x^2+y^2+c =56.3$ where $x = 3$ and $c = -4.2$"
   ]
  },
  {
   "cell_type": "code",
   "execution_count": 14,
   "metadata": {},
   "outputs": [],
   "source": [
    "#solve this equation:\n",
    "def func(y,x,c):\n",
    "    return x**2 + y**2 + c - 56.3"
   ]
  },
  {
   "cell_type": "markdown",
   "metadata": {},
   "source": [
    "Now solve this equation with x = 3 and c = -4.2 with a guess of 3. Remembering that **Call like this: fsolve(function,guess)**."
   ]
  },
  {
   "cell_type": "code",
   "execution_count": 15,
   "metadata": {},
   "outputs": [
    {
     "data": {
      "text/plain": [
       "7.176350047203662"
      ]
     },
     "execution_count": 15,
     "metadata": {},
     "output_type": "execute_result"
    }
   ],
   "source": [
    "x = 3; c = -4.2\n",
    "fsolve(lambda var: func(var,x,c),3)[0]"
   ]
  },
  {
   "cell_type": "markdown",
   "metadata": {},
   "source": [
    "Notice that I used the inline function definition with lambda to reduce my variable count to 1. Another way is with arguments: "
   ]
  },
  {
   "cell_type": "code",
   "execution_count": 16,
   "metadata": {},
   "outputs": [
    {
     "data": {
      "text/plain": [
       "7.176350047203662"
      ]
     },
     "execution_count": 16,
     "metadata": {},
     "output_type": "execute_result"
    }
   ],
   "source": [
    "x = 3; c = -4.2\n",
    "fsolve(func,3,args=(x,c,))[0] #notice the variable I'm solving for is listed first in the function func"
   ]
  },
  {
   "cell_type": "markdown",
   "metadata": {},
   "source": [
    "**Action**\n",
    "Solve the below set of equations given b = 3 and c = 6. You must keep b and c as parameters in the function call."
   ]
  },
  {
   "cell_type": "markdown",
   "metadata": {},
   "source": [
    "$$\n",
    "2\\cdot x^2 + y^2 = 25 \\\\\n",
    "x + y + z = c \\\\\n",
    "y + 4.3\\cdot z = b\n",
    "$$"
   ]
  },
  {
   "cell_type": "code",
   "execution_count": 17,
   "metadata": {},
   "outputs": [],
   "source": [
    "#Your code here#"
   ]
  },
  {
   "cell_type": "code",
   "execution_count": null,
   "metadata": {},
   "outputs": [],
   "source": []
  }
 ],
 "metadata": {
  "kernelspec": {
   "display_name": "Python 3 (ipykernel)",
   "language": "python",
   "name": "python3"
  },
  "language_info": {
   "codemirror_mode": {
    "name": "ipython",
    "version": 3
   },
   "file_extension": ".py",
   "mimetype": "text/x-python",
   "name": "python",
   "nbconvert_exporter": "python",
   "pygments_lexer": "ipython3",
   "version": "3.9.16"
  }
 },
 "nbformat": 4,
 "nbformat_minor": 2
}