{
 "cells": [
  {
   "cell_type": "markdown",
   "metadata": {},
   "source": [
    "# Climate Model Homework\n",
    "The earth's climate is very complex. \"A butterfly flaps its wings in China and it rains in New York\" is a popular saying that illustrates the complexity of the climate system. In this homework, we will use a simple climate model to explore the effect of the greenhouse effect on the earth's temperature. "
   ]
  },
  {
   "cell_type": "markdown",
   "metadata": {},
   "source": [
    "We'll simulate a layer of dry air on top of a layer of humid air in the troposphere (the air within the first 12km of Earth's surface). Our model will be significantly smaller than the Earth. Oxygen and nitrogen are transparent to both visible and infrared light, but water vapor and carbon dioxide are not. The greenhouse effect is the process by which the atmosphere traps infrared radiation and warms the earth. We need this effect to survive otherwise the earth would be too cold to support life. "
   ]
  },
  {
   "cell_type": "markdown",
   "metadata": {},
   "source": [
    "Incoming solar radiation ($I_0$) is absorbed by the different layers, heating them, and some of that energy strikes the Earth's surface. The surface then radiates infrared radiation (I1) back into the atmosphere. Some of this radiation is absorbed by the atmosphere, and some escapes into space. "
   ]
  },
  {
   "cell_type": "markdown",
   "metadata": {},
   "source": [
    "Table of Parameters \n",
    "|Number|Label|$C_p$, J/mol/K|Reflectivity|Temp, K|Absorption coef., m-1|Emissivity|Thickness, m|Heat transfer coef., kW/m2/K|\n",
    "|------|-----|-----|----------|----|----------|--------|---------|-------------------|\n",
    "|1|Dry Air|29|0.02|317|<mark>0.01</mark>|0.3|90|100|\n",
    "|2|Humid Air|36|0.2|309|<mark>0.7</mark>|0.8|30|100|\n",
    "|3|Iron|25|0|292|100|0.95|1|1|\n",
    "\n",
    "The highlighted values are the parameters that will be changing depending on the composition of the dry and humid air."
   ]
  },
  {
   "cell_type": "markdown",
   "metadata": {},
   "source": [
    "Energy balance equations that define the behavior and interactions between the layers:\n",
    "\n",
    "$$\n",
    "\\begin{align}\n",
    "acc &= in - out \\\\\n",
    "\\frac{dE_i}{dt} &= n_iC_p^i\\frac{dT_i}{dt}= I_{i-1}A_i[(1-r_i)-(1-r_i)^2 e^{-\\kappa_i d_i}] -\\sigma \\epsilon_i A_i(T_i^4-T_{surr}^4) -\\sum h_{ij}E_{ij}(T_i-T_j)\n",
    "\\end{align}\n",
    "$$\n",
    "\n",
    "where $E$ is the energy stored in each layer, $n$ is the number of moles of each layer, $C_p$ is the heat capacity of each layer, $T$ is the temperature of each layer, $I_0$ is the incoming solar radiation, $A$ is the surface area of the earth, $r$ is the reflectivity of each layer, $\\kappa$ is the absorption coefficient of each layer, $d$ is the thickness of each layer, $\\sigma$ is the Stefan-Boltzmann constant, $\\epsilon$ is the emissivity of each layer, $E$ is the interfacial area, and $h$ is the heat transfer coefficient of each layer."
   ]
  },
  {
   "cell_type": "markdown",
   "metadata": {},
   "source": [
    "For example, for the second layer, the above derivative equation is\n",
    "\n",
    "$$\n",
    "\\frac{dE_2}{dt} = n_2C_p^2\\frac{dT_2}{dt}= I_1A_2[(1-r_2)-(1-r_2)^2 e^{-\\kappa_2 d_2}] - \\sigma \\epsilon_2 A_2(T_2^4 - T_{surr}^4) - h_{23}E_{23}(T_2-T_3) - h_{21}E_{21}(T_2-T_1)\n",
    "$$"
   ]
  },
  {
   "cell_type": "markdown",
   "metadata": {},
   "source": [
    "The outlet radiation after it passes through a layer is:\n",
    "\n",
    "$$\n",
    "I_i = I_{i-1}(1-r_i)^2 e^{-\\kappa_i d_i}\n",
    "$$"
   ]
  },
  {
   "cell_type": "markdown",
   "metadata": {},
   "source": [
    "An image of the different layers for this model is shown below with the different layers labeled and the incoming radiation through Layer 1. Now we can set up our model in Python."
   ]
  },
  {
   "cell_type": "markdown",
   "metadata": {},
   "source": [
    "%<img src=\"https://github.com/clint-bg/comptools/blob/main/homework/supportfiles/sphere-climate.png?raw=true\" width='350'>\n",
    "<img src=\"supportfiles/sphere-climate.png\" width='350'>"
   ]
  },
  {
   "cell_type": "code",
   "execution_count": 1,
   "metadata": {},
   "outputs": [],
   "source": [
    "#import dependencies\n",
    "import param\n",
    "import numpy as np\n",
    "from scipy.integrate import odeint\n",
    "from matplotlib import pyplot as plt"
   ]
  },
  {
   "cell_type": "code",
   "execution_count": 2,
   "metadata": {},
   "outputs": [],
   "source": [
    "class layer(param.Parameterized):\n",
    "    th = param.Number(default=1000, doc=\"Thickness of the layer, m\")\n",
    "    k = param.Number(default=0, doc=\"absorbtion coefficient of the layer, m^-1\")\n",
    "    T = param.Number(default=288, doc=\"Temperature of the layer, K\")\n",
    "    Cp = param.Number(default=1, doc=\"Heat capacity of the layer, J/(mol K)\")\n",
    "    em = param.Number(default=0.9, doc=\"Emissivity of the layer\")\n",
    "    sigma = param.Number(default=5.67e-8, doc=\"Stefan-Boltzmann constant, W/(m^2 K^4)\")\n",
    "    ref = param.Number(default=0.5, doc=\"Reflectivity of the layer\")\n",
    "    rad = param.Number(default=1, doc=\"Radius to edge of layer closest to center, m\")\n",
    "    Rg = param.Number(default=8.314, doc=\"Ideal gas constant, J/(mol K)\", constant = True)\n",
    "    hconv = param.Number(default=10, doc=\"Convection coefficient, W/(m^2 K)\")\n",
    "    solid = param.Boolean(default=False, doc=\"Is the layer solid?\")\n",
    "    solidensity  = param.Number(default=1500, doc=\"Density of the solid, kg/m^3\")\n",
    "    MW = param.Number(default=0.0558, doc=\"Molecular weight of the component, kg/mol\")\n",
    "\n",
    "    def area(self): #area for the emission to the surroundings taken to be the outside surface area\n",
    "        return 4*np.pi*(self.rad+self.th)**2\n",
    "\n",
    "    def moles(self,pressure):\n",
    "        volume = 4/3*np.pi*((self.rad+self.th)**3 - (self.rad)**3)\n",
    "        if self.solid:\n",
    "            return self.solidensity*volume/self.MW\n",
    "        else:\n",
    "            return pressure*volume/(self.Rg*self.T)\n",
    "    \n",
    "    def adsorbed(self,Ii): # energy adsorbed by the layer\n",
    "        return Ii*((1-self.ref)-(1-self.ref)**2*np.exp(-self.k*self.th))*self.area() #Ii is the intensity of the incoming radiation\n",
    "    \n",
    "    def emitted(self,Tsurr): # energy radiated by the layer to the surroundings\n",
    "        return self.em*self.sigma*self.area()*(self.T**4 - Tsurr**4)\n",
    "    \n",
    "    def convection(self,upperlayer, lowerlayer): # energy convected by the layer to the other layers\n",
    "        hc_u = (self.hconv + upperlayer.hconv)/2\n",
    "        hc_l = (self.hconv + lowerlayer.hconv)/2\n",
    "        area_u = self.area(); area_l = 4*np.pi*(self.rad)**2\n",
    "        heat_u = hc_u*(self.T - upperlayer.T)*area_u\n",
    "        heat_l = hc_l*(self.T - lowerlayer.T)*area_l\n",
    "        return heat_u + heat_l\n",
    "    \n",
    "    def dTdt(self,Ii,Tsurr,pressure,upperlayer,lowerlayer): # change in temperature with time of the layer\n",
    "        conv = self.convection(upperlayer, lowerlayer)\n",
    "        return (self.adsorbed(Ii) - self.emitted(Tsurr) - conv)/(self.moles(pressure)*self.Cp)    "
   ]
  },
  {
   "cell_type": "markdown",
   "metadata": {},
   "source": [
    "Task 1: Please describe what the above code is doing. Also please explain what is meant by upperlayer and lowerlayer.\n",
    "\n",
    "\n"
   ]
  },
  {
   "cell_type": "code",
   "execution_count": 3,
   "metadata": {},
   "outputs": [],
   "source": [
    "#Now simulate the layers with a given intensity of incoming radiation and \n",
    "# a given temperature of the surroundings\n",
    "years = 5\n",
    "time = np.linspace(0,365*years,3650*years) #days \n",
    "Tsurr = 0 #K\n",
    "pressure = 1e5 #Pa\n",
    "hc = 100 #W/(m^2 K) #convection coefficient for all layers\n",
    "radius = 100 #m, radius of the planet\n",
    "dryair = layer(th=90, k = 0.01, T = 317, Cp = 29, em = 0.3, ref = 0.02, rad = radius+30+1, hconv = hc)\n",
    "wetair = layer(th=30, k = 0.7, T = 309, Cp = 36, em = 0.8, ref = 0.2, rad = radius+1, hconv = hc)\n",
    "iron = layer(th=1, k = 100, T = 292, Cp = 25, em = 0.95, ref = 0, rad = radius, hconv = 1, solid=True)"
   ]
  },
  {
   "cell_type": "code",
   "execution_count": 4,
   "metadata": {},
   "outputs": [],
   "source": [
    "#set radiation intensity\n",
    "Io = 1.5e3 #W/m^2\n",
    "def Ii(day):\n",
    "    return (np.sin(2*np.pi*day)+1)*Io/2 #W/m^2  \n",
    "\n",
    "#set absorption coefficient of dryair mimicking increase in CO2 concentration\n",
    "def ad(day):\n",
    "    dryair.k += 0.001*0"
   ]
  },
  {
   "cell_type": "code",
   "execution_count": 5,
   "metadata": {},
   "outputs": [],
   "source": [
    "#Integrate the differential equations using ODEINT\n",
    "def derivs(T,t,Ii,ad):\n",
    "    [dryair.T,wetair.T,iron.T] = T #set the temperatures of the layers from the odeint results\n",
    "    ad(t) #change the absorption coefficient of dryair\n",
    "    I0 = Ii(t)\n",
    "    I1 = Ii(t)*(1-dryair.ref)**2*np.exp(-dryair.k*dryair.th)\n",
    "    I2 = I1*(1-wetair.ref)**2*np.exp(-wetair.k*wetair.th)\n",
    "    return [dryair.dTdt(I0,Tsurr,pressure,dryair,wetair), \\\n",
    "        wetair.dTdt(I1,Tsurr,pressure,dryair,iron), \\\n",
    "            iron.dTdt(I2,Tsurr,pressure,wetair,iron)]\n",
    "T0 = [dryair.T,wetair.T,iron.T]\n",
    "args = (Ii,ad)\n",
    "results = odeint(derivs,T0,time,args)\n",
    "first = [each[0] for each in results]\n",
    "second = [each[1] for each in results]\n",
    "third = [each[2] for each in results]"
   ]
  },
  {
   "cell_type": "code",
   "execution_count": 6,
   "metadata": {},
   "outputs": [
    {
     "data": {
      "image/png": "[encoded data removed]",
      "text/plain": [
       "<Figure size 640x480 with 1 Axes>"
      ]
     },
     "metadata": {},
     "output_type": "display_data"
    }
   ],
   "source": [
    "#Plot the results\n",
    "plt.plot(time,first,label = \"Dry air\")\n",
    "plt.plot(time,second,label = \"Wet air\")\n",
    "plt.plot(time,third,label = \"Iron\")\n",
    "plt.xlabel(\"Time (days)\")\n",
    "plt.ylabel(\"Temperature (K)\")\n",
    "plt.legend()\n",
    "plt.show()"
   ]
  },
  {
   "cell_type": "markdown",
   "metadata": {},
   "source": [
    "Task 2: Is the above plot reasonable? Why or why not?\n",
    "\n",
    "\n",
    "If not, what's wrong? If yes, how do you know it's reasonable?\n",
    "\n",
    "\n",
    "\n",
    "\n"
   ]
  },
  {
   "cell_type": "code",
   "execution_count": 7,
   "metadata": {},
   "outputs": [
    {
     "data": {
      "text/plain": [
       "(317.4246435687174, 310.3253407542281, 293.3056373538501)"
      ]
     },
     "execution_count": 7,
     "metadata": {},
     "output_type": "execute_result"
    }
   ],
   "source": [
    "dryair.T,wetair.T,iron.T\n",
    "#(317.4246435687174, 310.3253407542281, 293.3056373538501)"
   ]
  },
  {
   "cell_type": "markdown",
   "metadata": {},
   "source": [
    "Task 3: What is the effect of increasing the absorption coefficient of the humid air layer? Document the effect by comparing the ending temperatures when the absorption coefficient increases linearly as per the above code. Please do so by plotting the temperature vs. the absorption coefficient. Please also explain why this effect occurs.\n",
    "\n",
    "\n"
   ]
  },
  {
   "cell_type": "markdown",
   "metadata": {},
   "source": [
    "## Earth's Climate and CO2\n",
    "Discuss how much money is being spent on carbon capture and other carbon dioxide initiatives. Discuss why and how students need to be able to think critically and make conclusions and estimates for themselves."
   ]
  },
  {
   "cell_type": "markdown",
   "metadata": {},
   "source": [
    "Gasonline and diesel consumption for US vehicles\n",
    "https://www.statista.com/statistics/189410/us-gasoline-and-diesel-consumption-for-highway-vehicles-since-1992/"
   ]
  },
  {
   "cell_type": "markdown",
   "metadata": {},
   "source": [
    "Greenhouse Gas Index\n",
    "https://www.climate.gov/news-features/understanding-climate/climate-change-annual-greenhouse-gas-index"
   ]
  },
  {
   "cell_type": "markdown",
   "metadata": {},
   "source": [
    "Atmospheric CO2 Concentration\n",
    "https://www.climate.gov/news-features/understanding-climate/climate-change-atmospheric-carbon-dioxide"
   ]
  },
  {
   "cell_type": "markdown",
   "metadata": {},
   "source": [
    "Global Surface Temperatures\n",
    "https://www.climate.gov/news-features/understanding-climate/climate-change-global-temperature"
   ]
  },
  {
   "cell_type": "markdown",
   "metadata": {},
   "source": [
    "What other data would you like to see to corroborate the above data? For example, CxHy + O2 -> CO2 + H2O. Would you expect the concentration of oxygen to increase or decrease?  If the CO2 concentration is increasing, would you expect the density of the atmosphere to increase or decrease?\n",
    "\n",
    "It's been put forward that the CO2 concentration increase is not only correlated to the apparent rise in the atmospheric temperature but that it is the cause. This cause and effect relationship is not necessarily true, but it may be. How would you go about proving or disproving this?\n",
    "\n",
    "It has also been put forward that water content in the atmosphere shouldn't be a part of the discussion even though the greenhouse effect of water vapor is much more significant that other gases. What are your thoughts on this?\n",
    "\n"
   ]
  },
  {
   "cell_type": "code",
   "execution_count": null,
   "metadata": {},
   "outputs": [],
   "source": []
  }
 ],
 "metadata": {
  "kernelspec": {
   "display_name": "Python 3",
   "language": "python",
   "name": "python3"
  },
  "language_info": {
   "codemirror_mode": {
    "name": "ipython",
    "version": 3
   },
   "file_extension": ".py",
   "mimetype": "text/x-python",
   "name": "python",
   "nbconvert_exporter": "python",
   "pygments_lexer": "ipython3",
   "version": "3.9.16"
  }
 },
 "nbformat": 4,
 "nbformat_minor": 2
}