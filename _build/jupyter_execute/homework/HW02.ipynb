{
 "cells": [
  {
   "cell_type": "markdown",
   "metadata": {
    "id": "9lK3FKJw7w24"
   },
   "source": [
    "## Homework 2: Data Analysis and Functions\n",
    "\n",
    "This assignment covers topics in data import, analysis, and visualization.\n",
    "\n",
    "* Import and Analyze Data\n",
    "* Visualize Data with Plots\n",
    "\n",
    "It also covers how to use packages with built-in functions or create a custom function.\n",
    "\n",
    "* Built-in functions\n",
    "* Custom functions"
   ]
  },
  {
   "cell_type": "markdown",
   "metadata": {
    "id": "CwakDk4U7w26"
   },
   "source": [
    "### Problem #1 Tutorial\n",
    "\n",
    "Pandas is a package for data analysis. This problem demonstrates how to use Pandas to perform an analysis on Apple stock. The assignment is then to perform a similar analysis to compare the performance of multiple stocks. The following is Historical Data for the Apple stock from 2018:\n",
    "\n",
    "* <a href='https://apmonitor.com/che263/uploads/Main/AAPL.csv' target='_blank'>AAPL (Apple), URL: https://apmonitor.com/che263/uploads/Main/AAPL.csv</a>\n",
    "\n",
    "***Step 1a:*** The data is imported into a Pandas dataframe. A dataframe is a structured data form, similar to an Excel sheet. It is read with the ```pd.read_csv``` function that reads a Comma Separated Value (CSV) file that contains the data. The function can either read a file on the local computer or from a URL."
   ]
  },
  {
   "cell_type": "code",
   "execution_count": 1,
   "metadata": {
    "id": "ijhoEa8M7w27"
   },
   "outputs": [],
   "source": [
    "import pandas as pd\n",
    "appl = pd.read_csv('https://apmonitor.com/che263/uploads/Main/AAPL.csv')"
   ]
  },
  {
   "cell_type": "markdown",
   "metadata": {
    "id": "4g1qip_17w27"
   },
   "source": [
    "***Step 1b:*** The leading 5 rows are shown with ```pd.head()```."
   ]
  },
  {
   "cell_type": "code",
   "execution_count": 2,
   "metadata": {
    "id": "3FCO6uBK7w28",
    "outputId": "32418755-a1be-440b-a0b8-a30ac27438e2"
   },
   "outputs": [
    {
     "data": {
      "text/html": [
       "<div>\n",
       "<style scoped>\n",
       "    .dataframe tbody tr th:only-of-type {\n",
       "        vertical-align: middle;\n",
       "    }\n",
       "\n",
       "    .dataframe tbody tr th {\n",
       "        vertical-align: top;\n",
       "    }\n",
       "\n",
       "    .dataframe thead th {\n",
       "        text-align: right;\n",
       "    }\n",
       "</style>\n",
       "<table border=\"1\" class=\"dataframe\">\n",
       "  <thead>\n",
       "    <tr style=\"text-align: right;\">\n",
       "      <th></th>\n",
       "      <th>Date</th>\n",
       "      <th>Open</th>\n",
       "      <th>High</th>\n",
       "      <th>Low</th>\n",
       "      <th>Close</th>\n",
       "      <th>Adj Close</th>\n",
       "      <th>Volume</th>\n",
       "    </tr>\n",
       "  </thead>\n",
       "  <tbody>\n",
       "    <tr>\n",
       "      <th>0</th>\n",
       "      <td>2018-04-04</td>\n",
       "      <td>164.880005</td>\n",
       "      <td>172.009995</td>\n",
       "      <td>164.770004</td>\n",
       "      <td>171.610001</td>\n",
       "      <td>171.610001</td>\n",
       "      <td>34605500</td>\n",
       "    </tr>\n",
       "    <tr>\n",
       "      <th>1</th>\n",
       "      <td>2018-04-05</td>\n",
       "      <td>172.580002</td>\n",
       "      <td>174.229996</td>\n",
       "      <td>172.080002</td>\n",
       "      <td>172.800003</td>\n",
       "      <td>172.800003</td>\n",
       "      <td>26933200</td>\n",
       "    </tr>\n",
       "    <tr>\n",
       "      <th>2</th>\n",
       "      <td>2018-04-06</td>\n",
       "      <td>170.970001</td>\n",
       "      <td>172.479996</td>\n",
       "      <td>168.199997</td>\n",
       "      <td>168.380005</td>\n",
       "      <td>168.380005</td>\n",
       "      <td>35005300</td>\n",
       "    </tr>\n",
       "    <tr>\n",
       "      <th>3</th>\n",
       "      <td>2018-04-09</td>\n",
       "      <td>169.880005</td>\n",
       "      <td>173.089996</td>\n",
       "      <td>169.850006</td>\n",
       "      <td>170.050003</td>\n",
       "      <td>170.050003</td>\n",
       "      <td>29017700</td>\n",
       "    </tr>\n",
       "    <tr>\n",
       "      <th>4</th>\n",
       "      <td>2018-04-10</td>\n",
       "      <td>173.000000</td>\n",
       "      <td>174.000000</td>\n",
       "      <td>171.529999</td>\n",
       "      <td>173.250000</td>\n",
       "      <td>173.250000</td>\n",
       "      <td>28408600</td>\n",
       "    </tr>\n",
       "  </tbody>\n",
       "</table>\n",
       "</div>"
      ],
      "text/plain": [
       "         Date        Open        High         Low       Close   Adj Close  \\\n",
       "0  2018-04-04  164.880005  172.009995  164.770004  171.610001  171.610001   \n",
       "1  2018-04-05  172.580002  174.229996  172.080002  172.800003  172.800003   \n",
       "2  2018-04-06  170.970001  172.479996  168.199997  168.380005  168.380005   \n",
       "3  2018-04-09  169.880005  173.089996  169.850006  170.050003  170.050003   \n",
       "4  2018-04-10  173.000000  174.000000  171.529999  173.250000  173.250000   \n",
       "\n",
       "     Volume  \n",
       "0  34605500  \n",
       "1  26933200  \n",
       "2  35005300  \n",
       "3  29017700  \n",
       "4  28408600  "
      ]
     },
     "execution_count": 2,
     "metadata": {},
     "output_type": "execute_result"
    }
   ],
   "source": [
    "appl.head()"
   ]
  },
  {
   "cell_type": "markdown",
   "metadata": {
    "id": "Pf2dkdoD7w28"
   },
   "source": [
    "***Step 1c:***  The last 5 rows are shown with ```pd.tail()```. That number of rows can be adjusted by adding an integer number as an argument of the function."
   ]
  },
  {
   "cell_type": "code",
   "execution_count": 3,
   "metadata": {
    "id": "g0vc7IBe7w29",
    "outputId": "d032b657-1a54-4212-e5a7-111acd40f991"
   },
   "outputs": [
    {
     "data": {
      "text/html": [
       "<div>\n",
       "<style scoped>\n",
       "    .dataframe tbody tr th:only-of-type {\n",
       "        vertical-align: middle;\n",
       "    }\n",
       "\n",
       "    .dataframe tbody tr th {\n",
       "        vertical-align: top;\n",
       "    }\n",
       "\n",
       "    .dataframe thead th {\n",
       "        text-align: right;\n",
       "    }\n",
       "</style>\n",
       "<table border=\"1\" class=\"dataframe\">\n",
       "  <thead>\n",
       "    <tr style=\"text-align: right;\">\n",
       "      <th></th>\n",
       "      <th>Date</th>\n",
       "      <th>Open</th>\n",
       "      <th>High</th>\n",
       "      <th>Low</th>\n",
       "      <th>Close</th>\n",
       "      <th>Adj Close</th>\n",
       "      <th>Volume</th>\n",
       "    </tr>\n",
       "  </thead>\n",
       "  <tbody>\n",
       "    <tr>\n",
       "      <th>20</th>\n",
       "      <td>2018-05-02</td>\n",
       "      <td>175.229996</td>\n",
       "      <td>177.750000</td>\n",
       "      <td>173.800003</td>\n",
       "      <td>176.570007</td>\n",
       "      <td>176.570007</td>\n",
       "      <td>66539400</td>\n",
       "    </tr>\n",
       "    <tr>\n",
       "      <th>21</th>\n",
       "      <td>2018-05-03</td>\n",
       "      <td>175.880005</td>\n",
       "      <td>177.500000</td>\n",
       "      <td>174.440002</td>\n",
       "      <td>176.889999</td>\n",
       "      <td>176.889999</td>\n",
       "      <td>33855800</td>\n",
       "    </tr>\n",
       "    <tr>\n",
       "      <th>22</th>\n",
       "      <td>2018-05-04</td>\n",
       "      <td>178.250000</td>\n",
       "      <td>183.649994</td>\n",
       "      <td>178.169998</td>\n",
       "      <td>182.929794</td>\n",
       "      <td>182.929794</td>\n",
       "      <td>27037277</td>\n",
       "    </tr>\n",
       "  </tbody>\n",
       "</table>\n",
       "</div>"
      ],
      "text/plain": [
       "          Date        Open        High         Low       Close   Adj Close  \\\n",
       "20  2018-05-02  175.229996  177.750000  173.800003  176.570007  176.570007   \n",
       "21  2018-05-03  175.880005  177.500000  174.440002  176.889999  176.889999   \n",
       "22  2018-05-04  178.250000  183.649994  178.169998  182.929794  182.929794   \n",
       "\n",
       "      Volume  \n",
       "20  66539400  \n",
       "21  33855800  \n",
       "22  27037277  "
      ]
     },
     "execution_count": 3,
     "metadata": {},
     "output_type": "execute_result"
    }
   ],
   "source": [
    "appl.tail(3)"
   ]
  },
  {
   "cell_type": "markdown",
   "metadata": {
    "id": "cpYLFwKy7w29"
   },
   "source": [
    "***Step 1d:*** Basic statistics are shown with the ```appl.describe()``` function. This includes the number of data points (count), average (mean), standard deviation (std), minimum (min), percentiles (25%, 50%, 75%), and maximum (max) for each data column."
   ]
  },
  {
   "cell_type": "code",
   "execution_count": 4,
   "metadata": {
    "id": "N98IaXCj7w29",
    "outputId": "5cc6943b-1832-469f-b850-483ab82a470a"
   },
   "outputs": [
    {
     "data": {
      "text/html": [
       "<div>\n",
       "<style scoped>\n",
       "    .dataframe tbody tr th:only-of-type {\n",
       "        vertical-align: middle;\n",
       "    }\n",
       "\n",
       "    .dataframe tbody tr th {\n",
       "        vertical-align: top;\n",
       "    }\n",
       "\n",
       "    .dataframe thead th {\n",
       "        text-align: right;\n",
       "    }\n",
       "</style>\n",
       "<table border=\"1\" class=\"dataframe\">\n",
       "  <thead>\n",
       "    <tr style=\"text-align: right;\">\n",
       "      <th></th>\n",
       "      <th>Open</th>\n",
       "      <th>High</th>\n",
       "      <th>Low</th>\n",
       "      <th>Close</th>\n",
       "      <th>Adj Close</th>\n",
       "      <th>Volume</th>\n",
       "    </tr>\n",
       "  </thead>\n",
       "  <tbody>\n",
       "    <tr>\n",
       "      <th>count</th>\n",
       "      <td>23.000000</td>\n",
       "      <td>23.000000</td>\n",
       "      <td>23.000000</td>\n",
       "      <td>23.000000</td>\n",
       "      <td>23.000000</td>\n",
       "      <td>2.300000e+01</td>\n",
       "    </tr>\n",
       "    <tr>\n",
       "      <th>mean</th>\n",
       "      <td>170.720001</td>\n",
       "      <td>172.835651</td>\n",
       "      <td>169.411740</td>\n",
       "      <td>171.171297</td>\n",
       "      <td>171.171297</td>\n",
       "      <td>3.388223e+07</td>\n",
       "    </tr>\n",
       "    <tr>\n",
       "      <th>std</th>\n",
       "      <td>5.098656</td>\n",
       "      <td>5.111622</td>\n",
       "      <td>5.589069</td>\n",
       "      <td>5.693840</td>\n",
       "      <td>5.693840</td>\n",
       "      <td>1.253788e+07</td>\n",
       "    </tr>\n",
       "    <tr>\n",
       "      <th>min</th>\n",
       "      <td>162.130005</td>\n",
       "      <td>164.330002</td>\n",
       "      <td>160.630005</td>\n",
       "      <td>162.320007</td>\n",
       "      <td>162.320007</td>\n",
       "      <td>2.075450e+07</td>\n",
       "    </tr>\n",
       "    <tr>\n",
       "      <th>25%</th>\n",
       "      <td>166.040001</td>\n",
       "      <td>168.229996</td>\n",
       "      <td>164.430000</td>\n",
       "      <td>165.489998</td>\n",
       "      <td>165.489998</td>\n",
       "      <td>2.676930e+07</td>\n",
       "    </tr>\n",
       "    <tr>\n",
       "      <th>50%</th>\n",
       "      <td>172.229996</td>\n",
       "      <td>173.919998</td>\n",
       "      <td>171.529999</td>\n",
       "      <td>172.440002</td>\n",
       "      <td>172.440002</td>\n",
       "      <td>2.901770e+07</td>\n",
       "    </tr>\n",
       "    <tr>\n",
       "      <th>75%</th>\n",
       "      <td>174.904999</td>\n",
       "      <td>176.014999</td>\n",
       "      <td>173.825005</td>\n",
       "      <td>175.275002</td>\n",
       "      <td>175.275002</td>\n",
       "      <td>3.533055e+07</td>\n",
       "    </tr>\n",
       "    <tr>\n",
       "      <th>max</th>\n",
       "      <td>178.250000</td>\n",
       "      <td>183.649994</td>\n",
       "      <td>178.169998</td>\n",
       "      <td>182.929794</td>\n",
       "      <td>182.929794</td>\n",
       "      <td>6.653940e+07</td>\n",
       "    </tr>\n",
       "  </tbody>\n",
       "</table>\n",
       "</div>"
      ],
      "text/plain": [
       "             Open        High         Low       Close   Adj Close  \\\n",
       "count   23.000000   23.000000   23.000000   23.000000   23.000000   \n",
       "mean   170.720001  172.835651  169.411740  171.171297  171.171297   \n",
       "std      5.098656    5.111622    5.589069    5.693840    5.693840   \n",
       "min    162.130005  164.330002  160.630005  162.320007  162.320007   \n",
       "25%    166.040001  168.229996  164.430000  165.489998  165.489998   \n",
       "50%    172.229996  173.919998  171.529999  172.440002  172.440002   \n",
       "75%    174.904999  176.014999  173.825005  175.275002  175.275002   \n",
       "max    178.250000  183.649994  178.169998  182.929794  182.929794   \n",
       "\n",
       "             Volume  \n",
       "count  2.300000e+01  \n",
       "mean   3.388223e+07  \n",
       "std    1.253788e+07  \n",
       "min    2.075450e+07  \n",
       "25%    2.676930e+07  \n",
       "50%    2.901770e+07  \n",
       "75%    3.533055e+07  \n",
       "max    6.653940e+07  "
      ]
     },
     "execution_count": 4,
     "metadata": {},
     "output_type": "execute_result"
    }
   ],
   "source": [
    "appl.describe()"
   ]
  },
  {
   "cell_type": "markdown",
   "metadata": {
    "id": "xqEwoSUD7w2-"
   },
   "source": [
    "***Step 1d:*** Alternatively, the ```max```, ```min```, ```np.stdev```, ```np.mean```, and ```np.median``` functions can be used to report specific descriptive statistics."
   ]
  },
  {
   "cell_type": "code",
   "execution_count": 5,
   "metadata": {
    "id": "Dk5CyVTD7w2-",
    "outputId": "3658574a-2ca3-4d64-ff9c-9fe9204ad6a7"
   },
   "outputs": [
    {
     "name": "stdout",
     "output_type": "stream",
     "text": [
      " max   : 178.25\n",
      " min   : 162.130005\n",
      " stdev : 4.986583644140892\n",
      " avg   : 170.72000065217392\n",
      " median: 172.229996\n"
     ]
    }
   ],
   "source": [
    "import numpy as np\n",
    "ac = appl['Open']\n",
    "print(' max   : ' + str(max(ac)))\n",
    "print(' min   : ' + str(min(ac)))\n",
    "print(' stdev : ' + str(np.std(ac)))\n",
    "print(' avg   : ' + str(np.mean(ac)))\n",
    "print(' median: ' + str(np.median(ac)))"
   ]
  },
  {
   "cell_type": "markdown",
   "metadata": {
    "id": "6EGmsK5k7w2-"
   },
   "source": [
    "***Step 1e:*** Create a time-series plot of the stock *High*, *Low*, and *Open* price for each day."
   ]
  },
  {
   "cell_type": "code",
   "execution_count": 6,
   "metadata": {
    "id": "8NbtIJYu7w2-",
    "outputId": "186d7c73-7dd9-499e-93c3-813d1ccc58c4"
   },
   "outputs": [
    {
     "name": "stderr",
     "output_type": "stream",
     "text": [
      "No artists with labels found to put in legend.  Note that artists whose label start with an underscore are ignored when legend() is called with no argument.\n"
     ]
    },
    {
     "data": {
      "image/png": "[encoded data removed]",
      "text/plain": [
       "<Figure size 1000x500 with 1 Axes>"
      ]
     },
     "metadata": {},
     "output_type": "display_data"
    }
   ],
   "source": [
    "%matplotlib inline\n",
    "import matplotlib.pyplot as plt\n",
    "plt.figure(figsize=(10,5))\n",
    "plt.plot(appl['Date'],appl['Open'],'k-',linewidth=3)\n",
    "plt.plot(appl['Date'],appl['High'],'r--',linewidth=1)\n",
    "plt.plot(appl['Date'],appl['Low'],'b:',linewidth=1)\n",
    "plt.xticks(rotation=90)\n",
    "plt.legend(loc='best')\n",
    "plt.show()"
   ]
  },
  {
   "cell_type": "markdown",
   "metadata": {
    "id": "bRJe41uL7w2-"
   },
   "source": [
    "### Problem #1 Exercise\n",
    "\n",
    "***Action 1a:*** Visit <a href='https://finance.yahoo.com' target='_blank'>Yahoo Finance</a> and select a stock by searching for a company name (e.g. Google). Download the Historical Data and import the data for two additional company stocks, each with the appropriate stock ticker symbol. Alternatively, use the following data from 2018:\n",
    "\n",
    "* <a href='https://apmonitor.com/che263/uploads/Main/GOOG.csv' target='_blank'>GOOG (Google), URL: https://apmonitor.com/che263/uploads/Main/GOOG.csv</a>\n",
    "* <a href='https://apmonitor.com/che263/uploads/Main/XOM.csv' target='_blank'>XOM (ExxonMobil), URL: https://apmonitor.com/che263/uploads/Main/XOM.csv</a>\n",
    "\n",
    "Import the data into two separate dataframes with names of the stock ticker."
   ]
  },
  {
   "cell_type": "code",
   "execution_count": null,
   "metadata": {
    "id": "WPSutT_H7w2-"
   },
   "outputs": [],
   "source": []
  },
  {
   "cell_type": "markdown",
   "metadata": {
    "id": "yIOg3zCR7w2-"
   },
   "source": [
    "***Action 1b:*** Show the first 7 rows of each stock."
   ]
  },
  {
   "cell_type": "code",
   "execution_count": null,
   "metadata": {
    "id": "ZuMSN-ij7w2-"
   },
   "outputs": [],
   "source": []
  },
  {
   "cell_type": "markdown",
   "metadata": {
    "id": "I8y0A1VO7w2_"
   },
   "source": [
    "***Action 1c:*** Calculate the MAX, MIN, STDEV, and AVERAGE for each stock “Close” data."
   ]
  },
  {
   "cell_type": "code",
   "execution_count": null,
   "metadata": {
    "id": "qU2EYfZt7w2_"
   },
   "outputs": [],
   "source": []
  },
  {
   "cell_type": "markdown",
   "metadata": {
    "id": "oKtco8nx7w2_"
   },
   "source": [
    "***Action 1d:*** Divide the *Close* price by the maximum *Close* price over the past month so that all values are divided by the maximum value for that particular stock. Repeat this for both stocks so that the stock prices can be more easily compared on the same plot."
   ]
  },
  {
   "cell_type": "code",
   "execution_count": null,
   "metadata": {
    "id": "CHYTyS3a7w2_"
   },
   "outputs": [],
   "source": []
  },
  {
   "cell_type": "markdown",
   "metadata": {
    "id": "dyJ7guCf7w2_"
   },
   "source": [
    "***Action 1e***: Generate a plot that includes the two stock “Close” data and daily “High” and “Low” values. The final plot should be both descriptive with a legend and axis labels."
   ]
  },
  {
   "cell_type": "code",
   "execution_count": null,
   "metadata": {
    "id": "oZSRY-cE7w2_"
   },
   "outputs": [],
   "source": []
  },
  {
   "cell_type": "markdown",
   "metadata": {
    "id": "qUwUc3ue7w2_"
   },
   "source": [
    "***Action 1f:*** Save the figure as a **PNG** file with ```plt.savefig('myPlot.png')``` or change the file name to ```myPlot.jpg``` for a **JPEG** format. Locate the file ```myPlot.png``` or ```myPlot.jpg```."
   ]
  },
  {
   "cell_type": "code",
   "execution_count": null,
   "metadata": {
    "id": "P6xe6yqA7w2_"
   },
   "outputs": [],
   "source": []
  },
  {
   "cell_type": "markdown",
   "metadata": {
    "id": "QWPzFgJh7w2_"
   },
   "source": [
    "### Problem #2\n",
    "\n",
    "***Action:*** Import and display the first 5 rows of data from an <a href='https://apmonitor.com/heat.htm' target='_blank'>Arduino temperature control device</a> with Pandas.\n",
    "\n",
    "* <a href='http://apmonitor.com/che263/uploads/Main/tclab.txt' target='_blank'>TCLab Data, URL: http://apmonitor.com/che263/uploads/Main/tclab.txt</a>"
   ]
  },
  {
   "cell_type": "code",
   "execution_count": null,
   "metadata": {
    "id": "tU5St0p97w2_"
   },
   "outputs": [],
   "source": []
  },
  {
   "cell_type": "markdown",
   "metadata": {
    "id": "ikEilt--7w2_"
   },
   "source": [
    "This TCLab device is used later for the <a href='http://apmonitor.com/che263/index.php/Main/CourseProjects' target='_blank'>Course Project</a> and in the <a href='https://apmonitor.com/heat.htm' target='_blank'>Process Dynamics and Control Course</a>.\n",
    "\n",
    "***Action:*** Display summary statistics of the data with DataFrame ```df.describe()``` function."
   ]
  },
  {
   "cell_type": "code",
   "execution_count": null,
   "metadata": {
    "id": "_z3Rfo1f7w2_"
   },
   "outputs": [],
   "source": []
  },
  {
   "cell_type": "markdown",
   "metadata": {
    "id": "khqdm_GG7w3A"
   },
   "source": [
    "Below is an animation of adjustments to the heater to drive the temperature to a target set point, similar to how a thermostat works in a home.\n",
    "\n",
    "<img src='https://apmonitor.com/pdc/uploads/Main/pid_control.gif'>\n",
    "\n",
    "***Subplots:*** A subplot is generated with the ```plt.subplot``` command with three arguments (# rows, # columns, current plot). A subplot with 2 rows (vertical) and 1 column (horizontal) is created with ```plt.subplot(2,1,1)```. The first two numbers don't change when plotting in the lower window with ```plt.subplot(2,1,2)```."
   ]
  },
  {
   "cell_type": "code",
   "execution_count": 7,
   "metadata": {
    "id": "B9YDbEaX7w3A",
    "outputId": "833d2f48-20b6-4408-a9b5-bbf60de462cb"
   },
   "outputs": [
    {
     "data": {
      "text/plain": [
       "[<matplotlib.lines.Line2D at 0x12fb766a0>]"
      ]
     },
     "execution_count": 7,
     "metadata": {},
     "output_type": "execute_result"
    },
    {
     "data": {
      "image/png": "[encoded data removed]",
      "text/plain": [
       "<Figure size 640x480 with 2 Axes>"
      ]
     },
     "metadata": {},
     "output_type": "display_data"
    }
   ],
   "source": [
    "x = np.linspace(0,10)\n",
    "plt.subplot(2,1,1)\n",
    "plt.plot(x,np.sin(x),'b-')\n",
    "plt.subplot(2,1,2)\n",
    "plt.plot(x,np.cos(x),'r-')"
   ]
  },
  {
   "cell_type": "markdown",
   "metadata": {
    "id": "m6pHOw8c7w3A"
   },
   "source": [
    "***Action:*** Generate a plot that shows the measured TCLab temperature values on one subplot and the heater values on another subplot. Add appropriate labels to the plots such as x-label, y-label, title, and legend."
   ]
  },
  {
   "cell_type": "code",
   "execution_count": null,
   "metadata": {
    "id": "sqaNOJif7w3A"
   },
   "outputs": [],
   "source": []
  },
  {
   "cell_type": "markdown",
   "metadata": {
    "id": "ECAr14xR7w3A"
   },
   "source": [
    "### Problem #3\n",
    "\n",
    "Python has built-in functions or allows the user to create new functions.\n",
    "\n",
    "***Action:*** For each input value, evaluate the output function for ID 3a-3d.\n",
    "\n",
    "| ID | Input Value (x) | Output Function f(x) |\n",
    "| --- | --- | --- |\n",
    "| 3a | 0.5 radians | cos(x) |\n",
    "| 3b | 30 degrees | sin(x) |\n",
    "| 3c | 25 | x! (x factorial) |\n",
    "| 3d | 4.999 | largest integer less than or equal to x |\n",
    "\n",
    "For each function, evaluate it at the specified input value."
   ]
  },
  {
   "cell_type": "code",
   "execution_count": null,
   "metadata": {
    "id": "MkQVKfUl7w3A"
   },
   "outputs": [],
   "source": []
  },
  {
   "cell_type": "markdown",
   "metadata": {
    "id": "3oVsnhTZ7w3A"
   },
   "source": [
    "***Custom Functions:*** A custom function is defined with ```def``` such as:\n",
    "\n",
    "```python\n",
    "def myFcn(x):\n",
    "    return x**2\n",
    "\n",
    "print(myFcn(2))\n",
    "print(myFcn(4))\n",
    "```\n",
    "\n",
    "This gives an output of 4 and 16 as the function is evaluated with input arguments of 2 and 4, respectively.\n",
    "\n",
    "***Action:*** Create a custom function for ID 3e-3g that can be used to evaluate the input values.\n",
    "\n",
    "| ID | Input Values (x) | Output Function f(x) |\n",
    "| --- | --- | --- |\n",
    "| 3e |np.linspace(2,5) | $tan(\\pi/x)$ with $\\pi$/x in radians |\n",
    "| 3f |np.linspace(0,10) | maximum of $2 \\sqrt{x}$, $x^2/2$, $x^3/3$, and $(x^2+x^3)/5$ |\n",
    "| 3g |np.linspace(0,2) | x^2 when x<1; $\\sin{\\left(\\pi x/2\\right)}$ when x≥1 |"
   ]
  },
  {
   "cell_type": "code",
   "execution_count": null,
   "metadata": {
    "id": "nuxmaiC17w3A"
   },
   "outputs": [],
   "source": []
  },
  {
   "cell_type": "markdown",
   "metadata": {
    "id": "u7_6fIog7w3A"
   },
   "source": [
    "***Action:*** Create plot of each function versus the specified input values."
   ]
  },
  {
   "cell_type": "code",
   "execution_count": null,
   "metadata": {
    "id": "QcJQjK0M7w3A"
   },
   "outputs": [],
   "source": []
  }
 ],
 "metadata": {
  "colab": {
   "provenance": []
  },
  "kernelspec": {
   "display_name": "Python 3",
   "language": "python",
   "name": "python3"
  },
  "language_info": {
   "codemirror_mode": {
    "name": "ipython",
    "version": 3
   },
   "file_extension": ".py",
   "mimetype": "text/x-python",
   "name": "python",
   "nbconvert_exporter": "python",
   "pygments_lexer": "ipython3",
   "version": "3.9.16"
  }
 },
 "nbformat": 4,
 "nbformat_minor": 0
}