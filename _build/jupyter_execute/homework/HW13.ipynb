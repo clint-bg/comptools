{
 "cells": [
  {
   "cell_type": "markdown",
   "metadata": {},
   "source": [
    "# HW13: Interpolation and Models"
   ]
  },
  {
   "cell_type": "code",
   "execution_count": 1,
   "metadata": {},
   "outputs": [],
   "source": [
    "import numpy as np\n",
    "import matplotlib.pyplot as plt\n",
    "from scipy.interpolate import interp1d, CubicSpline\n",
    "from scipy.optimize import curve_fit\n",
    "import pandas as pd"
   ]
  },
  {
   "cell_type": "markdown",
   "metadata": {},
   "source": [
    "## Problem 1: Interpolation\n",
    "Given the data ```xg``` and ```yg``` below. Find the linear interpolate yw corresponding to ```xw=0.54```. Also find the cubic spline (read the notes) value of y at the same point. The ```xg``` and ```yg``` values are computed from $y=f(x)=\\exp(4x)$. Find the relative error between your interpolants and the exact value. The relative error is given by $\\epsilon = |(y-y_{exact})/y_{exact}|$."
   ]
  },
  {
   "cell_type": "code",
   "execution_count": 2,
   "metadata": {},
   "outputs": [],
   "source": [
    "xg = np.array([0,0.2,0.4,0.8,1.0])\n",
    "yg = np.exp(4.0*xg)\n",
    "\n",
    "xw     = 0.54\n",
    "yexact = np.exp(4.0*xw)"
   ]
  },
  {
   "cell_type": "code",
   "execution_count": null,
   "metadata": {},
   "outputs": [],
   "source": []
  },
  {
   "cell_type": "markdown",
   "metadata": {},
   "source": []
  },
  {
   "cell_type": "markdown",
   "metadata": {
    "collapsed": true
   },
   "source": [
    "## Problem 2: Multivariate Regression\n",
    "\n",
    "You'd like to relate the tree data discussed in class in a non-linear way (rather than the linear way shown in class). Follow the class example and fit a model using curve_fit assuming a model of the form `height = a*water**2 + b*fertilizer + c`. Report your values for a, b, and c. Also report the $R^2$ value for this model as well as the MAPE value. Add your predicted heights to the pandas dataframe. Please also write your dataframe that has the predicted heights to a csv file and submit that csv file with your prf of this homework sheet.\n",
    "\n",
    "Hints:\n",
    "- Create a function that takes in the independent variables and the parameters and returns the model prediction according to the above equation. Your function should take in an array of independent variables (x[0] could be the water and x[1] could be the fertilizer; x would be the independent variable (an array or tuple) fed to the function). x is the first entry of the function with a,b,c the other items needed to return a predicted value.\n",
    "- Use curve_fit to fit the model to the data according to curve_fit(your_function, (tree[water], tree[fertilizer]), tree[height]) which will return a,b, and c. Then use those parameters to add another column in the pandas dataframe called 'predicted_height' and fill it with your model predictions.\n"
   ]
  },
  {
   "cell_type": "code",
   "execution_count": 3,
   "metadata": {},
   "outputs": [
    {
     "data": {
      "text/html": [
       "<div>\n",
       "<style scoped>\n",
       "    .dataframe tbody tr th:only-of-type {\n",
       "        vertical-align: middle;\n",
       "    }\n",
       "\n",
       "    .dataframe tbody tr th {\n",
       "        vertical-align: top;\n",
       "    }\n",
       "\n",
       "    .dataframe thead th {\n",
       "        text-align: right;\n",
       "    }\n",
       "</style>\n",
       "<table border=\"1\" class=\"dataframe\">\n",
       "  <thead>\n",
       "    <tr style=\"text-align: right;\">\n",
       "      <th></th>\n",
       "      <th>water</th>\n",
       "      <th>fertilizer</th>\n",
       "      <th>height</th>\n",
       "    </tr>\n",
       "  </thead>\n",
       "  <tbody>\n",
       "    <tr>\n",
       "      <th>0</th>\n",
       "      <td>0.000000</td>\n",
       "      <td>0.000000</td>\n",
       "      <td>5.064635</td>\n",
       "    </tr>\n",
       "    <tr>\n",
       "      <th>1</th>\n",
       "      <td>0.020408</td>\n",
       "      <td>0.010204</td>\n",
       "      <td>5.112859</td>\n",
       "    </tr>\n",
       "    <tr>\n",
       "      <th>2</th>\n",
       "      <td>0.040816</td>\n",
       "      <td>0.020408</td>\n",
       "      <td>5.180648</td>\n",
       "    </tr>\n",
       "    <tr>\n",
       "      <th>3</th>\n",
       "      <td>0.061224</td>\n",
       "      <td>0.030612</td>\n",
       "      <td>5.347527</td>\n",
       "    </tr>\n",
       "    <tr>\n",
       "      <th>4</th>\n",
       "      <td>0.081633</td>\n",
       "      <td>0.040816</td>\n",
       "      <td>5.398975</td>\n",
       "    </tr>\n",
       "  </tbody>\n",
       "</table>\n",
       "</div>"
      ],
      "text/plain": [
       "      water  fertilizer    height\n",
       "0  0.000000    0.000000  5.064635\n",
       "1  0.020408    0.010204  5.112859\n",
       "2  0.040816    0.020408  5.180648\n",
       "3  0.061224    0.030612  5.347527\n",
       "4  0.081633    0.040816  5.398975"
      ]
     },
     "execution_count": 3,
     "metadata": {},
     "output_type": "execute_result"
    }
   ],
   "source": [
    "#generate data (pretend you don't see how the tree height is related to water and fertilizer)\n",
    "def tree_height(w,f):\n",
    "    return 5*w**2 + (8*f) + np.random.rand(50)*0.1+5\n",
    "tree = dict(water=np.linspace(0,1,50),fertilizer=np.linspace(0,0.5,50))\n",
    "tree['height'] = tree_height(tree['water'], tree['fertilizer'])\n",
    "tree = pd.DataFrame(tree)\n",
    "tree.head()"
   ]
  },
  {
   "cell_type": "code",
   "execution_count": null,
   "metadata": {},
   "outputs": [],
   "source": []
  }
 ],
 "metadata": {
  "hide_input": false,
  "kernelspec": {
   "display_name": "Python 3",
   "language": "python",
   "name": "python3"
  },
  "language_info": {
   "codemirror_mode": {
    "name": "ipython",
    "version": 3
   },
   "file_extension": ".py",
   "mimetype": "text/x-python",
   "name": "python",
   "nbconvert_exporter": "python",
   "pygments_lexer": "ipython3",
   "version": "3.9.16"
  },
  "varInspector": {
   "cols": {
    "lenName": 16,
    "lenType": 16,
    "lenVar": 40
   },
   "kernels_config": {
    "python": {
     "delete_cmd_postfix": "",
     "delete_cmd_prefix": "del ",
     "library": "var_list.py",
     "varRefreshCmd": "print(var_dic_list())"
    },
    "r": {
     "delete_cmd_postfix": ") ",
     "delete_cmd_prefix": "rm(",
     "library": "var_list.r",
     "varRefreshCmd": "cat(var_dic_list()) "
    }
   },
   "types_to_exclude": [
    "module",
    "function",
    "builtin_function_or_method",
    "instance",
    "_Feature"
   ],
   "window_display": false
  }
 },
 "nbformat": 4,
 "nbformat_minor": 1
}