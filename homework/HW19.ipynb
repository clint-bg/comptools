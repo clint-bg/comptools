{
 "cells": [
  {
   "cell_type": "markdown",
   "metadata": {},
   "source": [
    "# HW19: Ansys Workbench Practice\n"
   ]
  },
  {
   "cell_type": "markdown",
   "metadata": {},
   "source": [
    "## Problem 1: \n",
    "\n",
    "Follow the example calculation for the transient conduction problem (using odeint) as outlined in the lecture (https://clint-bg.github.io/comptools/lectures/20-Ansys.html) to complete a similar 1D heat conduction problem but instead of a given temperature at both ends, set the left most element to a heat transfer rate of 10 W and the other end to a temperature of 25C. Plot contours of the temperature every 5 seconds up to 20 seconds. Assume the 20 cm length and 1cm diameter rod is made of plastic with a thermal diffusivity (alpha) of 0.1 mm^2/sec. The initial temperature of the entire rod is 25C. Submit a pdf of your executed python code. Roughly how long before the heated end starts to melt? (>200C). \n",
    "\n",
    "Hints: \n",
    "\n",
    "- Your left most dT/dt will be equal to 10 W (and divided by the  product of the plastic density (1.1 g/cc), the heat capacity (1.8 J/g/K), and the volume of one element) + alpha*2*(T1-T0)/Dx^2:\n",
    "\n",
    "$$\n",
    "10/(1.1*1.8*dx*area/1e3) + alpha*2*(T[1]-T[0])/(dx**2)\n",
    "$$\n",
    "\n",
    "- You'll want to setup an array of temperatures for the end element that correspond to the different times\n",
    "- You can use CubicSpline or another interpolation function to estimate the time at which the temperature of the end element reaches 200\n",
    "\n",
    "## Problem 2:\n",
    "\n",
    "Simulate a heat flux of 100 watts to the bottom surface of your Erlenmeyer flash model you made in Solidworks. Model the rest of the surfaces with a convection heat transfer boundary condition with a 125 W/m2/K heat transfer coefficient. Complete the simulation as a stead state thermal solution and output a picture of the result showing the steady state temperatures. Submit an image of your results.\n",
    "\n",
    "## Problem 3:\n",
    "\n",
    "Describe how you could use your python code or Ansys Workbench simulation to estimate the heat flux from a flame using a small insulated copper rod."
   ]
  },
  {
   "cell_type": "markdown",
   "metadata": {},
   "source": []
  },
  {
   "cell_type": "code",
   "execution_count": 2,
   "metadata": {},
   "outputs": [],
   "source": [
    "import cantera as ct"
   ]
  },
  {
   "cell_type": "code",
   "execution_count": 18,
   "metadata": {},
   "outputs": [],
   "source": [
    "gas = ct.Solution('gri30.yaml')"
   ]
  },
  {
   "cell_type": "code",
   "execution_count": 19,
   "metadata": {},
   "outputs": [],
   "source": [
    "gas.TPX = 700, 271128, \"CH4:1,N2:0\""
   ]
  },
  {
   "cell_type": "code",
   "execution_count": 20,
   "metadata": {},
   "outputs": [],
   "source": [
    "gas.equilibrate('TP')"
   ]
  },
  {
   "cell_type": "code",
   "execution_count": 21,
   "metadata": {},
   "outputs": [
    {
     "name": "stdout",
     "output_type": "stream",
     "text": [
      "\n",
      "  gri30:\n",
      "\n",
      "       temperature   700 K\n",
      "          pressure   2.7113e+05 Pa\n",
      "           density   0.7473 kg/m^3\n",
      "  mean mol. weight   16.042 kg/kmol\n",
      "   phase of matter   gas\n",
      "\n",
      "                          1 kg             1 kmol     \n",
      "                     ---------------   ---------------\n",
      "          enthalpy       -3.4715e+06       -5.5689e+07  J\n",
      "   internal energy       -3.8343e+06       -6.1509e+07  J\n",
      "           entropy             13517        2.1683e+05  J/K\n",
      "    Gibbs function       -1.2933e+07       -2.0747e+08  J\n",
      " heat capacity c_p            3657.4             58671  J/K\n",
      " heat capacity c_v            3139.1             50356  J/K\n",
      "\n",
      "                      mass frac. Y      mole frac. X     chem. pot. / RT\n",
      "                     ---------------   ---------------   ---------------\n",
      "                H2        0.00027411         0.0021811           -21.842\n",
      "               CH3        3.9062e-12        4.1678e-12           -24.729\n",
      "               CH4           0.99582           0.99574            -35.65\n",
      "              C2H2        2.9909e-09        1.8427e-09           -5.7756\n",
      "              C2H4        0.00013945        7.9737e-05           -27.617\n",
      "              C2H5        1.1382e-12        6.2828e-13           -38.538\n",
      "              C2H6         0.0037045         0.0019763           -49.459\n",
      "              C3H8        6.2363e-05        2.2687e-05           -63.267\n",
      "     [  +45 minor]        1.6686e-14        6.9198e-15  \n",
      "\n"
     ]
    }
   ],
   "source": [
    "gas()"
   ]
  },
  {
   "cell_type": "code",
   "execution_count": 12,
   "metadata": {},
   "outputs": [
    {
     "data": {
      "text/plain": [
       "['H2',\n",
       " 'H',\n",
       " 'O',\n",
       " 'O2',\n",
       " 'OH',\n",
       " 'H2O',\n",
       " 'HO2',\n",
       " 'H2O2',\n",
       " 'C',\n",
       " 'CH',\n",
       " 'CH2',\n",
       " 'CH2(S)',\n",
       " 'CH3',\n",
       " 'CH4',\n",
       " 'CO',\n",
       " 'CO2',\n",
       " 'HCO',\n",
       " 'CH2O',\n",
       " 'CH2OH',\n",
       " 'CH3O',\n",
       " 'CH3OH',\n",
       " 'C2H',\n",
       " 'C2H2',\n",
       " 'C2H3',\n",
       " 'C2H4',\n",
       " 'C2H5',\n",
       " 'C2H6',\n",
       " 'HCCO',\n",
       " 'CH2CO',\n",
       " 'HCCOH',\n",
       " 'N',\n",
       " 'NH',\n",
       " 'NH2',\n",
       " 'NH3',\n",
       " 'NNH',\n",
       " 'NO',\n",
       " 'NO2',\n",
       " 'N2O',\n",
       " 'HNO',\n",
       " 'CN',\n",
       " 'HCN',\n",
       " 'H2CN',\n",
       " 'HCNN',\n",
       " 'HCNO',\n",
       " 'HOCN',\n",
       " 'HNCO',\n",
       " 'NCO',\n",
       " 'N2',\n",
       " 'AR',\n",
       " 'C3H7',\n",
       " 'C3H8',\n",
       " 'CH2CHO',\n",
       " 'CH3CHO']"
      ]
     },
     "execution_count": 12,
     "metadata": {},
     "output_type": "execute_result"
    }
   ],
   "source": [
    "gas.species_names"
   ]
  },
  {
   "cell_type": "code",
   "execution_count": null,
   "metadata": {},
   "outputs": [],
   "source": []
  }
 ],
 "metadata": {
  "kernelspec": {
   "display_name": "Python 3",
   "language": "python",
   "name": "python3"
  },
  "language_info": {
   "codemirror_mode": {
    "name": "ipython",
    "version": 3
   },
   "file_extension": ".py",
   "mimetype": "text/x-python",
   "name": "python",
   "nbconvert_exporter": "python",
   "pygments_lexer": "ipython3",
   "version": "3.9.16"
  },
  "orig_nbformat": 4
 },
 "nbformat": 4,
 "nbformat_minor": 2
}
