{
  "cells": [
    {
      "attachments": {},
      "cell_type": "markdown",
      "metadata": {
        "id": "gjtUm43q8Zaf"
      },
      "source": [
        "# HW02: Conditionals and Functions"
      ]
    },
    {
      "attachments": {},
      "cell_type": "markdown",
      "metadata": {
        "collapsed": true,
        "id": "K-5NuOFY8Zah"
      },
      "source": [
        "## Problem 1\n",
        "**(a)** x is given below. Write an if statement that will print whether x is positive, negative, or zero.\n",
        "   \n",
        "x=-10"
      ]
    },
    {
      "cell_type": "code",
      "execution_count": null,
      "metadata": {
        "id": "R7fZ0rPA8Zai"
      },
      "outputs": [],
      "source": []
    },
    {
      "attachments": {},
      "cell_type": "markdown",
      "metadata": {
        "id": "1DDnPglY8Zai"
      },
      "source": [
        "**(b)** x and y are given below. Write an if statement that will print whether x and y are both positive, or both negative, or if one or both are zero.\n",
        "\n",
        "x=-4 y=3.2"
      ]
    },
    {
      "cell_type": "code",
      "execution_count": null,
      "metadata": {
        "id": "vcvacqNO8Zai"
      },
      "outputs": [],
      "source": []
    },
    {
      "attachments": {},
      "cell_type": "markdown",
      "metadata": {
        "id": "FKc7TKli8Zaj"
      },
      "source": [
        "**(c)** Write a single line (condensed) if statement that will evaluate y = 1/x if x is not zero. If x is 0, then y=0. Print y."
      ]
    },
    {
      "cell_type": "code",
      "execution_count": null,
      "metadata": {
        "id": "77vu8MaQ8Zaj"
      },
      "outputs": [],
      "source": []
    },
    {
      "attachments": {},
      "cell_type": "markdown",
      "metadata": {
        "id": "cUPWiLYT8Zaj"
      },
      "source": [
        "**(d)** The ideal gas law is an approximation, but it is only a good approximation under certain circumstances. The general rule of thumb is: when the specifc volume is greater than 5 L/mol for diatomic gases and 20 L/mol for all other gases. (Specific volume: $\\hat{V} = \\frac{V}{n}$ )\n",
        "$$\\hat{V}=\\frac{RT}{P} > 5 L/mol $$\n",
        "$$ .......                >20 L/mol$$\n",
        "Write an if statement that will print the specifc volume of O2, and state whether or not the ideal gas law is a good approximation.\n",
        "\n",
        "T = 600 K\n",
        "\n",
        "P = 15 atm\n",
        "\n",
        "R = .08206 L*Atm/(mol K)"
      ]
    },
    {
      "cell_type": "code",
      "execution_count": null,
      "metadata": {
        "id": "pReIKVOC8Zak"
      },
      "outputs": [],
      "source": []
    },
    {
      "attachments": {},
      "cell_type": "markdown",
      "metadata": {
        "id": "hgcGOxKP8Zak"
      },
      "source": [
        "## Problem 2\n",
        "**(a)** Write a function called \"sum\" that takes two numbers and returns the sum of them.\n",
        "\n",
        "**(b)** Write a function called \"quad\" that takes three numbers $a$, $b$, and $c$ as function arguments that are the coefficients of the quadratic formula $ax^2+bx+c=0$, and returns the two roots. Test your function on $a=1,\\,b=-1,\\, c=-2$. You should get roots of 2 and -1.\n",
        "\n",
        "**(c)** Functions are a convenient way to convert units. Write a function that converts\n",
        "\n",
        "1. Celsius for Farhenheit\n",
        "2. Farheneit to Celsius\n",
        "3. Liters to Gallons\n",
        "4. kg/h to lbm/s\n",
        "5. Joules per hour to hp\n"
      ]
    },
    {
      "cell_type": "code",
      "execution_count": null,
      "metadata": {
        "id": "0Bs17-Eb8Zak"
      },
      "outputs": [],
      "source": []
    },
    {
      "attachments": {},
      "cell_type": "markdown",
      "metadata": {
        "id": "IDlKgTGO8Zak"
      },
      "source": [
        "## Problem 3\n",
        "You are trying to decide which car to buy between a hybrid and non-hybrid. Hybrid cars often have a higher initial cost, but have lower fuel costs.\n",
        "\n",
        "Hybrid Car - \\$25,000 and gets 33 MPG\n",
        "\n",
        "Non-Hybrid Car - \\$15,000 and gets 19 MPG\n",
        "\n",
        "You plan on keeping the car for five years, and after 5 years cars depreciate by 75%. You drive about 200 miles per week. Create a program that will print which car is the smarter economical decision, and the total cost (fuel cost + depreciation of car value). Also print how much money you would be saving for this car compared to the other car.  Assume the cost of gas is \\$2.20/gallon."
      ]
    },
    {
      "cell_type": "code",
      "execution_count": null,
      "metadata": {},
      "outputs": [],
      "source": []
    },
    {
      "attachments": {},
      "cell_type": "markdown",
      "metadata": {},
      "source": [
        "## Problem 4\n",
        "Write a function for the Peng Robinson equation of state. The Peng Robinson equation of state is given by:\n",
        "\\begin{align}\n",
        "P = \\frac{RT}{V_m-b}&-\\frac{a\\alpha}{V_m(V_m+b)+b(V_m-b)} \\tag{1} \\\\ \n",
        "a &= 0.45724\\frac{R^2T_c^2}{P_c} \\tag{2a} \\\\\n",
        "b &= 0.07780\\frac{RT_c}{P_c} \\tag{2b} \\\\\n",
        "\\alpha &= \\left[1+\\kappa\\left(1-\\sqrt{\\frac{T}{T_c}}\\right)\\right]^2 \\tag{2c}\\\\\n",
        "\\kappa &= 0.37464+1.54226\\omega-0.26992\\omega^2 \\tag{2d} \\\\\n",
        "T_r &= \\frac{T}{T_c} \\tag{2e}\\\\\n",
        "\\end{align}\n",
        "where T_c is the critical temperature, P_c is the critical pressure, $\\omega$ is the acentric factor, and $T_r$ is the reduced temperature. The critical properties for carbon dioxide are $T_c = 304.2$ K and $P_c = 73.8$ atm. The acentric factor for carbon dioxide is $\\omega = 0.225$. The gas constant is $R = 0.08206$ L atm/(mol K)."
      ]
    },
    {
      "attachments": {},
      "cell_type": "markdown",
      "metadata": {},
      "source": [
        "Evaluate the function to determine the pressure for the following conditions:\n",
        "- T = 600 K\n",
        "- V = 0.05 m^3/mol\n",
        "- Carbon dioxide (CO2) is the gas"
      ]
    },
    {
      "cell_type": "code",
      "execution_count": null,
      "metadata": {},
      "outputs": [],
      "source": []
    },
    {
      "attachments": {},
      "cell_type": "markdown",
      "metadata": {},
      "source": [
        "## Problem 5\n",
        "Solve for the molar volume of the Peng Robinson equation of state with CO2 that you set up in Problem 4 given a temperature of 200 K and a pressure of 85kPa. Use the fsolve method (with the lambda function) to solve for the molar volume. Use a guess of 0.1 m^3/mol. Refer to the [Functions lecture](lectures/02-Functions.ipynb), [fsolve documentation](https://docs.scipy.org/doc/scipy/reference/generated/scipy.optimize.fsolve.html), internet, TA's or Instructor for help."
      ]
    },
    {
      "cell_type": "code",
      "execution_count": null,
      "metadata": {},
      "outputs": [],
      "source": []
    },
    {
      "attachments": {},
      "cell_type": "markdown",
      "metadata": {},
      "source": [
        "## Problem 6\n",
        "Create a class called gas that has the following attributes:\n",
        "- critical temperature\n",
        "- critical pressure\n",
        "- acentric factor\n",
        "- temperature\n",
        "- molar volume\n",
        "- a function that can return the pressure given the temperatuer and molar volume using the peng robinson equation of state you programmed in Problem 4"
      ]
    },
    {
      "cell_type": "code",
      "execution_count": null,
      "metadata": {},
      "outputs": [],
      "source": []
    },
    {
      "attachments": {},
      "cell_type": "markdown",
      "metadata": {},
      "source": [
        "Credit to Dr. John Hedengren for many of these problems (see also [APMonitor.com](https://apmonitor.com/che263/)))"
      ]
    },
    {
      "attachments": {},
      "cell_type": "markdown",
      "metadata": {},
      "source": []
    }
  ],
  "metadata": {
    "colab": {
      "provenance": []
    },
    "kernelspec": {
      "display_name": "Python 3",
      "language": "python",
      "name": "python3"
    },
    "language_info": {
      "codemirror_mode": {
        "name": "ipython",
        "version": 3
      },
      "file_extension": ".py",
      "mimetype": "text/x-python",
      "name": "python",
      "nbconvert_exporter": "python",
      "pygments_lexer": "ipython3",
      "version": "3.7.0"
    }
  },
  "nbformat": 4,
  "nbformat_minor": 0
}
